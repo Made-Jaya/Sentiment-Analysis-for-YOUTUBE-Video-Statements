{
  "nbformat": 4,
  "nbformat_minor": 0,
  "metadata": {
    "colab": {
      "provenance": [],
      "collapsed_sections": []
    },
    "kernelspec": {
      "name": "python3",
      "display_name": "Python 3"
    },
    "language_info": {
      "name": "python"
    }
  },
  "cells": [
    {
      "cell_type": "code",
      "execution_count": 1,
      "metadata": {
        "id": "19KeuRKz7lnQ",
        "outputId": "34bc225c-658d-4148-ada1-a4c81ebec837",
        "colab": {
          "base_uri": "https://localhost:8080/"
        }
      },
      "outputs": [
        {
          "output_type": "stream",
          "name": "stdout",
          "text": [
            "Looking in indexes: https://pypi.org/simple, https://us-python.pkg.dev/colab-wheels/public/simple/\n",
            "Collecting SpeechRecognition\n",
            "  Downloading SpeechRecognition-3.8.1-py2.py3-none-any.whl (32.8 MB)\n",
            "\u001b[K     |████████████████████████████████| 32.8 MB 1.3 MB/s \n",
            "\u001b[?25hCollecting pydub\n",
            "  Downloading pydub-0.25.1-py2.py3-none-any.whl (32 kB)\n",
            "Installing collected packages: SpeechRecognition, pydub\n",
            "Successfully installed SpeechRecognition-3.8.1 pydub-0.25.1\n"
          ]
        }
      ],
      "source": [
        "!pip install SpeechRecognition pydub"
      ]
    },
    {
      "cell_type": "code",
      "source": [
        "pip install youtube_dl"
      ],
      "metadata": {
        "colab": {
          "base_uri": "https://localhost:8080/"
        },
        "id": "Z0_x9N1i8xfn",
        "outputId": "5d019dc5-4fac-4fa9-cca2-1b4d482e7392"
      },
      "execution_count": 2,
      "outputs": [
        {
          "output_type": "stream",
          "name": "stdout",
          "text": [
            "Looking in indexes: https://pypi.org/simple, https://us-python.pkg.dev/colab-wheels/public/simple/\n",
            "Collecting youtube_dl\n",
            "  Downloading youtube_dl-2021.12.17-py2.py3-none-any.whl (1.9 MB)\n",
            "\u001b[K     |████████████████████████████████| 1.9 MB 6.4 MB/s \n",
            "\u001b[?25hInstalling collected packages: youtube-dl\n",
            "Successfully installed youtube-dl-2021.12.17\n"
          ]
        }
      ]
    },
    {
      "cell_type": "code",
      "source": [
        "import nltk\n",
        "nltk.download()"
      ],
      "metadata": {
        "colab": {
          "base_uri": "https://localhost:8080/"
        },
        "id": "lHpxQsHc2jeF",
        "outputId": "16387383-5443-4fcc-86c5-482358d1f474"
      },
      "execution_count": 3,
      "outputs": [
        {
          "name": "stdout",
          "output_type": "stream",
          "text": [
            "NLTK Downloader\n",
            "---------------------------------------------------------------------------\n",
            "    d) Download   l) List    u) Update   c) Config   h) Help   q) Quit\n",
            "---------------------------------------------------------------------------\n",
            "Downloader> d\n",
            "\n",
            "Download which package (l=list; x=cancel)?\n",
            "  Identifier> all\n"
          ]
        },
        {
          "output_type": "stream",
          "name": "stderr",
          "text": [
            "    Downloading collection 'all'\n",
            "       | \n",
            "       | Downloading package abc to /root/nltk_data...\n",
            "       |   Unzipping corpora/abc.zip.\n",
            "       | Downloading package alpino to /root/nltk_data...\n",
            "       |   Unzipping corpora/alpino.zip.\n",
            "       | Downloading package averaged_perceptron_tagger to\n",
            "       |     /root/nltk_data...\n",
            "       |   Unzipping taggers/averaged_perceptron_tagger.zip.\n",
            "       | Downloading package averaged_perceptron_tagger_ru to\n",
            "       |     /root/nltk_data...\n",
            "       |   Unzipping taggers/averaged_perceptron_tagger_ru.zip.\n",
            "       | Downloading package basque_grammars to /root/nltk_data...\n",
            "       |   Unzipping grammars/basque_grammars.zip.\n",
            "       | Downloading package biocreative_ppi to /root/nltk_data...\n",
            "       |   Unzipping corpora/biocreative_ppi.zip.\n",
            "       | Downloading package bllip_wsj_no_aux to /root/nltk_data...\n",
            "       |   Unzipping models/bllip_wsj_no_aux.zip.\n",
            "       | Downloading package book_grammars to /root/nltk_data...\n",
            "       |   Unzipping grammars/book_grammars.zip.\n",
            "       | Downloading package brown to /root/nltk_data...\n",
            "       |   Unzipping corpora/brown.zip.\n",
            "       | Downloading package brown_tei to /root/nltk_data...\n",
            "       |   Unzipping corpora/brown_tei.zip.\n",
            "       | Downloading package cess_cat to /root/nltk_data...\n",
            "       |   Unzipping corpora/cess_cat.zip.\n",
            "       | Downloading package cess_esp to /root/nltk_data...\n",
            "       |   Unzipping corpora/cess_esp.zip.\n",
            "       | Downloading package chat80 to /root/nltk_data...\n",
            "       |   Unzipping corpora/chat80.zip.\n",
            "       | Downloading package city_database to /root/nltk_data...\n",
            "       |   Unzipping corpora/city_database.zip.\n",
            "       | Downloading package cmudict to /root/nltk_data...\n",
            "       |   Unzipping corpora/cmudict.zip.\n",
            "       | Downloading package comparative_sentences to\n",
            "       |     /root/nltk_data...\n",
            "       |   Unzipping corpora/comparative_sentences.zip.\n",
            "       | Downloading package comtrans to /root/nltk_data...\n",
            "       | Downloading package conll2000 to /root/nltk_data...\n",
            "       |   Unzipping corpora/conll2000.zip.\n",
            "       | Downloading package conll2002 to /root/nltk_data...\n",
            "       |   Unzipping corpora/conll2002.zip.\n",
            "       | Downloading package conll2007 to /root/nltk_data...\n",
            "       | Downloading package crubadan to /root/nltk_data...\n",
            "       |   Unzipping corpora/crubadan.zip.\n",
            "       | Downloading package dependency_treebank to /root/nltk_data...\n",
            "       |   Unzipping corpora/dependency_treebank.zip.\n",
            "       | Downloading package dolch to /root/nltk_data...\n",
            "       |   Unzipping corpora/dolch.zip.\n",
            "       | Downloading package europarl_raw to /root/nltk_data...\n",
            "       |   Unzipping corpora/europarl_raw.zip.\n",
            "       | Downloading package extended_omw to /root/nltk_data...\n",
            "       | Downloading package floresta to /root/nltk_data...\n",
            "       |   Unzipping corpora/floresta.zip.\n",
            "       | Downloading package framenet_v15 to /root/nltk_data...\n",
            "       |   Unzipping corpora/framenet_v15.zip.\n",
            "       | Downloading package framenet_v17 to /root/nltk_data...\n",
            "       |   Unzipping corpora/framenet_v17.zip.\n",
            "       | Downloading package gazetteers to /root/nltk_data...\n",
            "       |   Unzipping corpora/gazetteers.zip.\n",
            "       | Downloading package genesis to /root/nltk_data...\n",
            "       |   Unzipping corpora/genesis.zip.\n",
            "       | Downloading package gutenberg to /root/nltk_data...\n",
            "       |   Unzipping corpora/gutenberg.zip.\n",
            "       | Downloading package ieer to /root/nltk_data...\n",
            "       |   Unzipping corpora/ieer.zip.\n",
            "       | Downloading package inaugural to /root/nltk_data...\n",
            "       |   Unzipping corpora/inaugural.zip.\n",
            "       | Downloading package indian to /root/nltk_data...\n",
            "       |   Unzipping corpora/indian.zip.\n",
            "       | Downloading package jeita to /root/nltk_data...\n",
            "       | Downloading package kimmo to /root/nltk_data...\n",
            "       |   Unzipping corpora/kimmo.zip.\n",
            "       | Downloading package knbc to /root/nltk_data...\n",
            "       | Downloading package large_grammars to /root/nltk_data...\n",
            "       |   Unzipping grammars/large_grammars.zip.\n",
            "       | Downloading package lin_thesaurus to /root/nltk_data...\n",
            "       |   Unzipping corpora/lin_thesaurus.zip.\n",
            "       | Downloading package mac_morpho to /root/nltk_data...\n",
            "       |   Unzipping corpora/mac_morpho.zip.\n",
            "       | Downloading package machado to /root/nltk_data...\n",
            "       | Downloading package masc_tagged to /root/nltk_data...\n",
            "       | Downloading package maxent_ne_chunker to /root/nltk_data...\n",
            "       |   Unzipping chunkers/maxent_ne_chunker.zip.\n",
            "       | Downloading package maxent_treebank_pos_tagger to\n",
            "       |     /root/nltk_data...\n",
            "       |   Unzipping taggers/maxent_treebank_pos_tagger.zip.\n",
            "       | Downloading package moses_sample to /root/nltk_data...\n",
            "       |   Unzipping models/moses_sample.zip.\n",
            "       | Downloading package movie_reviews to /root/nltk_data...\n",
            "       |   Unzipping corpora/movie_reviews.zip.\n",
            "       | Downloading package mte_teip5 to /root/nltk_data...\n",
            "       |   Unzipping corpora/mte_teip5.zip.\n",
            "       | Downloading package mwa_ppdb to /root/nltk_data...\n",
            "       |   Unzipping misc/mwa_ppdb.zip.\n",
            "       | Downloading package names to /root/nltk_data...\n",
            "       |   Unzipping corpora/names.zip.\n",
            "       | Downloading package nombank.1.0 to /root/nltk_data...\n",
            "       | Downloading package nonbreaking_prefixes to\n",
            "       |     /root/nltk_data...\n",
            "       |   Unzipping corpora/nonbreaking_prefixes.zip.\n",
            "       | Downloading package nps_chat to /root/nltk_data...\n",
            "       |   Unzipping corpora/nps_chat.zip.\n",
            "       | Downloading package omw to /root/nltk_data...\n",
            "       | Downloading package omw-1.4 to /root/nltk_data...\n",
            "       | Downloading package opinion_lexicon to /root/nltk_data...\n",
            "       |   Unzipping corpora/opinion_lexicon.zip.\n",
            "       | Downloading package panlex_swadesh to /root/nltk_data...\n",
            "       | Downloading package paradigms to /root/nltk_data...\n",
            "       |   Unzipping corpora/paradigms.zip.\n",
            "       | Downloading package pe08 to /root/nltk_data...\n",
            "       |   Unzipping corpora/pe08.zip.\n",
            "       | Downloading package perluniprops to /root/nltk_data...\n",
            "       |   Unzipping misc/perluniprops.zip.\n",
            "       | Downloading package pil to /root/nltk_data...\n",
            "       |   Unzipping corpora/pil.zip.\n",
            "       | Downloading package pl196x to /root/nltk_data...\n",
            "       |   Unzipping corpora/pl196x.zip.\n",
            "       | Downloading package porter_test to /root/nltk_data...\n",
            "       |   Unzipping stemmers/porter_test.zip.\n",
            "       | Downloading package ppattach to /root/nltk_data...\n",
            "       |   Unzipping corpora/ppattach.zip.\n",
            "       | Downloading package problem_reports to /root/nltk_data...\n",
            "       |   Unzipping corpora/problem_reports.zip.\n",
            "       | Downloading package product_reviews_1 to /root/nltk_data...\n",
            "       |   Unzipping corpora/product_reviews_1.zip.\n",
            "       | Downloading package product_reviews_2 to /root/nltk_data...\n",
            "       |   Unzipping corpora/product_reviews_2.zip.\n",
            "       | Downloading package propbank to /root/nltk_data...\n",
            "       | Downloading package pros_cons to /root/nltk_data...\n",
            "       |   Unzipping corpora/pros_cons.zip.\n",
            "       | Downloading package ptb to /root/nltk_data...\n",
            "       |   Unzipping corpora/ptb.zip.\n",
            "       | Downloading package punkt to /root/nltk_data...\n",
            "       |   Unzipping tokenizers/punkt.zip.\n",
            "       | Downloading package qc to /root/nltk_data...\n",
            "       |   Unzipping corpora/qc.zip.\n",
            "       | Downloading package reuters to /root/nltk_data...\n",
            "       | Downloading package rslp to /root/nltk_data...\n",
            "       |   Unzipping stemmers/rslp.zip.\n",
            "       | Downloading package rte to /root/nltk_data...\n",
            "       |   Unzipping corpora/rte.zip.\n",
            "       | Downloading package sample_grammars to /root/nltk_data...\n",
            "       |   Unzipping grammars/sample_grammars.zip.\n",
            "       | Downloading package semcor to /root/nltk_data...\n",
            "       | Downloading package senseval to /root/nltk_data...\n",
            "       |   Unzipping corpora/senseval.zip.\n",
            "       | Downloading package sentence_polarity to /root/nltk_data...\n",
            "       |   Unzipping corpora/sentence_polarity.zip.\n",
            "       | Downloading package sentiwordnet to /root/nltk_data...\n",
            "       |   Unzipping corpora/sentiwordnet.zip.\n",
            "       | Downloading package shakespeare to /root/nltk_data...\n",
            "       |   Unzipping corpora/shakespeare.zip.\n",
            "       | Downloading package sinica_treebank to /root/nltk_data...\n",
            "       |   Unzipping corpora/sinica_treebank.zip.\n",
            "       | Downloading package smultron to /root/nltk_data...\n",
            "       |   Unzipping corpora/smultron.zip.\n",
            "       | Downloading package snowball_data to /root/nltk_data...\n",
            "       | Downloading package spanish_grammars to /root/nltk_data...\n",
            "       |   Unzipping grammars/spanish_grammars.zip.\n",
            "       | Downloading package state_union to /root/nltk_data...\n",
            "       |   Unzipping corpora/state_union.zip.\n",
            "       | Downloading package stopwords to /root/nltk_data...\n",
            "       |   Unzipping corpora/stopwords.zip.\n",
            "       | Downloading package subjectivity to /root/nltk_data...\n",
            "       |   Unzipping corpora/subjectivity.zip.\n",
            "       | Downloading package swadesh to /root/nltk_data...\n",
            "       |   Unzipping corpora/swadesh.zip.\n",
            "       | Downloading package switchboard to /root/nltk_data...\n",
            "       |   Unzipping corpora/switchboard.zip.\n",
            "       | Downloading package tagsets to /root/nltk_data...\n",
            "       |   Unzipping help/tagsets.zip.\n",
            "       | Downloading package timit to /root/nltk_data...\n",
            "       |   Unzipping corpora/timit.zip.\n",
            "       | Downloading package toolbox to /root/nltk_data...\n",
            "       |   Unzipping corpora/toolbox.zip.\n",
            "       | Downloading package treebank to /root/nltk_data...\n",
            "       |   Unzipping corpora/treebank.zip.\n",
            "       | Downloading package twitter_samples to /root/nltk_data...\n",
            "       |   Unzipping corpora/twitter_samples.zip.\n",
            "       | Downloading package udhr to /root/nltk_data...\n",
            "       |   Unzipping corpora/udhr.zip.\n",
            "       | Downloading package udhr2 to /root/nltk_data...\n",
            "       |   Unzipping corpora/udhr2.zip.\n",
            "       | Downloading package unicode_samples to /root/nltk_data...\n",
            "       |   Unzipping corpora/unicode_samples.zip.\n",
            "       | Downloading package universal_tagset to /root/nltk_data...\n",
            "       |   Unzipping taggers/universal_tagset.zip.\n",
            "       | Downloading package universal_treebanks_v20 to\n",
            "       |     /root/nltk_data...\n",
            "       | Downloading package vader_lexicon to /root/nltk_data...\n",
            "       | Downloading package verbnet to /root/nltk_data...\n",
            "       |   Unzipping corpora/verbnet.zip.\n",
            "       | Downloading package verbnet3 to /root/nltk_data...\n",
            "       |   Unzipping corpora/verbnet3.zip.\n",
            "       | Downloading package webtext to /root/nltk_data...\n",
            "       |   Unzipping corpora/webtext.zip.\n",
            "       | Downloading package wmt15_eval to /root/nltk_data...\n",
            "       |   Unzipping models/wmt15_eval.zip.\n",
            "       | Downloading package word2vec_sample to /root/nltk_data...\n",
            "       |   Unzipping models/word2vec_sample.zip.\n",
            "       | Downloading package wordnet to /root/nltk_data...\n",
            "       | Downloading package wordnet2021 to /root/nltk_data...\n",
            "       | Downloading package wordnet31 to /root/nltk_data...\n",
            "       | Downloading package wordnet_ic to /root/nltk_data...\n",
            "       |   Unzipping corpora/wordnet_ic.zip.\n",
            "       | Downloading package words to /root/nltk_data...\n",
            "       |   Unzipping corpora/words.zip.\n",
            "       | Downloading package ycoe to /root/nltk_data...\n",
            "       |   Unzipping corpora/ycoe.zip.\n",
            "       | \n",
            "     Done downloading collection all\n"
          ]
        },
        {
          "name": "stdout",
          "output_type": "stream",
          "text": [
            "\n",
            "---------------------------------------------------------------------------\n",
            "    d) Download   l) List    u) Update   c) Config   h) Help   q) Quit\n",
            "---------------------------------------------------------------------------\n",
            "Downloader> q\n"
          ]
        },
        {
          "output_type": "execute_result",
          "data": {
            "text/plain": [
              "True"
            ]
          },
          "metadata": {},
          "execution_count": 3
        }
      ]
    },
    {
      "cell_type": "code",
      "source": [
        "from __future__ import unicode_literals\n",
        "import youtube_dl\n",
        "\n",
        "import sys\n",
        "if sys.version_info[0] >= 3:\n",
        "    unicode = str\n",
        "\n",
        "ydl_opts = {\n",
        "                'format': 'bestaudio',\n",
        "                'outtmpl': unicode('/content/%(title)s-%(id)s.'),\n",
        "                'postprocessors': [{\n",
        "                                    'key': 'FFmpegExtractAudio',\n",
        "                                    'preferredcodec': 'wav',\n",
        "                                    'preferredquality': '192'\n",
        "                                }],\n",
        "                'restrictfilenames':True,\n",
        "                'forcefilename':True,\n",
        "            } \n",
        "\n",
        "with youtube_dl.YoutubeDL(ydl_opts) as ydl:\n",
        "                info = ydl.extract_info('https://www.youtube.com/watch?v=qhspIpGMaX4', download=True)\n",
        "                filename = ydl.prepare_filename(info)"
      ],
      "metadata": {
        "colab": {
          "base_uri": "https://localhost:8080/"
        },
        "id": "B3ZoaWA_gIam",
        "outputId": "3b8819e2-8a29-41b2-dd6c-2f3906ade3e4"
      },
      "execution_count": 4,
      "outputs": [
        {
          "output_type": "stream",
          "name": "stdout",
          "text": [
            "[youtube] qhspIpGMaX4: Downloading webpage\n",
            "[youtube] qhspIpGMaX4: Downloading player a97e97de\n",
            "/content/FOMC_Press_Conference_Call_March_15_2020-qhspIpGMaX4.\n",
            "[download] Destination: /content/FOMC_Press_Conference_Call_March_15_2020-qhspIpGMaX4.\n",
            "[download] 100% of 39.15MiB in 08:34\n",
            "[ffmpeg] Correcting container in \"/content/FOMC_Press_Conference_Call_March_15_2020-qhspIpGMaX4.\"\n",
            "[ffmpeg] Destination: /content/FOMC_Press_Conference_Call_March_15_2020-qhspIpGMaX4.wav\n",
            "Deleting original file /content/FOMC_Press_Conference_Call_March_15_2020-qhspIpGMaX4. (pass -k to keep)\n"
          ]
        }
      ]
    },
    {
      "cell_type": "code",
      "source": [
        "filename"
      ],
      "metadata": {
        "colab": {
          "base_uri": "https://localhost:8080/",
          "height": 36
        },
        "id": "x_A5f66QwoIM",
        "outputId": "c0e6c8d0-78ba-4491-ed4d-88a2dca3604f"
      },
      "execution_count": 5,
      "outputs": [
        {
          "output_type": "execute_result",
          "data": {
            "text/plain": [
              "'/content/FOMC_Press_Conference_Call_March_15_2020-qhspIpGMaX4.'"
            ],
            "application/vnd.google.colaboratory.intrinsic+json": {
              "type": "string"
            }
          },
          "metadata": {},
          "execution_count": 5
        }
      ]
    },
    {
      "cell_type": "code",
      "source": [
        "import speech_recognition as sr"
      ],
      "metadata": {
        "id": "JznvoMS37n5d"
      },
      "execution_count": 6,
      "outputs": []
    },
    {
      "cell_type": "code",
      "source": [
        "# importing libraries \n",
        "import speech_recognition as sr \n",
        "import os \n",
        "from pydub import AudioSegment\n",
        "from pydub.silence import split_on_silence\n",
        "from tqdm import tqdm\n",
        "import pandas as pd\n",
        "\n",
        "df_text_input = []\n",
        "\n",
        "\n",
        "# create a speech recognition object\n",
        "r = sr.Recognizer()\n",
        "\n",
        "# a function that splits the audio file into chunks\n",
        "# and applies speech recognition\n",
        "def get_large_audio_transcription(path):\n",
        "    \"\"\"\n",
        "    Splitting the large audio file into chunks\n",
        "    and apply speech recognition on each of these chunks\n",
        "    \"\"\"\n",
        "    # open the audio file using pydub\n",
        "    sound = AudioSegment.from_wav(path)  \n",
        "    # split audio sound where silence is 700 miliseconds or more and get chunks\n",
        "    chunks = split_on_silence(sound,\n",
        "        # experiment with this value for your target audio file\n",
        "        min_silence_len = 500,\n",
        "        # adjust this per requirement\n",
        "        silence_thresh = sound.dBFS-14,\n",
        "        # keep the silence for 1 second, adjustable as well\n",
        "        keep_silence=500,\n",
        "    )\n",
        "    folder_name = \"audio-chunks\"\n",
        "    # create a directory to store the audio chunks\n",
        "    if not os.path.isdir(folder_name):\n",
        "        os.mkdir(folder_name)\n",
        "    whole_text = \"\"\n",
        "    # process each chunk \n",
        "    for i, audio_chunk in tqdm(enumerate(chunks, start=1)):\n",
        "        # export audio chunk and save it in\n",
        "        # the `folder_name` directory.\n",
        "        chunk_filename = os.path.join(folder_name, f\"chunk{i}.wav\")\n",
        "        audio_chunk.export(chunk_filename, format=\"wav\")\n",
        "        # recognize the chunk\n",
        "        with sr.AudioFile(chunk_filename) as source:\n",
        "            audio_listened = r.record(source)\n",
        "            # try converting it to text\n",
        "            try:\n",
        "                text = r.recognize_google(audio_listened)\n",
        "            except sr.UnknownValueError as e:\n",
        "                print(\"Error:\", str(e))\n",
        "            else:\n",
        "                text = f\"{text.capitalize()}. \"\n",
        "                print(chunk_filename, \":\", text)\n",
        "                df_text_input.append(text)\n",
        "                whole_text += text\n",
        "    # return the text for all chunks detected\n",
        "    return whole_text"
      ],
      "metadata": {
        "id": "sP9WPw2z_Pn_"
      },
      "execution_count": 7,
      "outputs": []
    },
    {
      "cell_type": "code",
      "source": [
        "path = filename+\"wav\""
      ],
      "metadata": {
        "id": "98BarnaZ_e2m"
      },
      "execution_count": 8,
      "outputs": []
    },
    {
      "cell_type": "code",
      "source": [
        "kl = get_large_audio_transcription(path)"
      ],
      "metadata": {
        "colab": {
          "base_uri": "https://localhost:8080/"
        },
        "id": "GA9-TIuNCnk_",
        "outputId": "ba1b1ebb-6598-49ed-989e-33b13fa9346c"
      },
      "execution_count": 9,
      "outputs": [
        {
          "output_type": "stream",
          "name": "stderr",
          "text": [
            "1it [00:00,  2.25it/s]"
          ]
        },
        {
          "output_type": "stream",
          "name": "stdout",
          "text": [
            "audio-chunks/chunk1.wav : Evening everyone. \n"
          ]
        },
        {
          "output_type": "stream",
          "name": "stderr",
          "text": [
            "\r2it [00:01,  1.22it/s]"
          ]
        },
        {
          "output_type": "stream",
          "name": "stdout",
          "text": [
            "audio-chunks/chunk2.wav : The federal reserve took a number of actions to support american families and business and the economy overall. \n"
          ]
        },
        {
          "output_type": "stream",
          "name": "stderr",
          "text": [
            "\r3it [00:02,  1.17it/s]"
          ]
        },
        {
          "output_type": "stream",
          "name": "stdout",
          "text": [
            "audio-chunks/chunk3.wav : And promote the flow credit as we weather disruptions caused by the coronavirus. \n"
          ]
        },
        {
          "output_type": "stream",
          "name": "stderr",
          "text": [
            "\r4it [00:03,  1.18it/s]"
          ]
        },
        {
          "output_type": "stream",
          "name": "stdout",
          "text": [
            "audio-chunks/chunk4.wav : Virus is having a profound effect on people across the united states and around the world. \n"
          ]
        },
        {
          "output_type": "stream",
          "name": "stderr",
          "text": [
            "\r5it [00:04,  1.12it/s]"
          ]
        },
        {
          "output_type": "stream",
          "name": "stdout",
          "text": [
            "audio-chunks/chunk5.wav : I'll be half of my colleagues at the federal reserve our first concern is for those who've been harmed. \n"
          ]
        },
        {
          "output_type": "stream",
          "name": "stderr",
          "text": [
            "\r6it [00:05,  1.00it/s]"
          ]
        },
        {
          "output_type": "stream",
          "name": "stdout",
          "text": [
            "audio-chunks/chunk6.wav : Family's businesses schools organizations and governments at all levels are taking steps to protect people's help. \n"
          ]
        },
        {
          "output_type": "stream",
          "name": "stderr",
          "text": [
            "\r7it [00:06,  1.04s/it]"
          ]
        },
        {
          "output_type": "stream",
          "name": "stdout",
          "text": [
            "audio-chunks/chunk7.wav : These measures which are essential for containing the outbreak will nonetheless understandably take a toll on you can annika activity in the near-term. \n"
          ]
        },
        {
          "output_type": "stream",
          "name": "stderr",
          "text": [
            "\r8it [00:07,  1.03s/it]"
          ]
        },
        {
          "output_type": "stream",
          "name": "stdout",
          "text": [
            "audio-chunks/chunk8.wav : Well the primary response to this challenge will come from our healthcare providers and policy experts. \n"
          ]
        },
        {
          "output_type": "stream",
          "name": "stderr",
          "text": [
            "\r9it [00:08,  1.14it/s]"
          ]
        },
        {
          "output_type": "stream",
          "name": "stdout",
          "text": [
            "audio-chunks/chunk9.wav : Economic policymakers must. \n"
          ]
        },
        {
          "output_type": "stream",
          "name": "stderr",
          "text": [
            "\r10it [00:08,  1.14it/s]"
          ]
        },
        {
          "output_type": "stream",
          "name": "stdout",
          "text": [
            "audio-chunks/chunk10.wav : Do what we can to ease hardship caused by the disruptions to the economy. \n"
          ]
        },
        {
          "output_type": "stream",
          "name": "stderr",
          "text": [
            "\r11it [00:09,  1.13it/s]"
          ]
        },
        {
          "output_type": "stream",
          "name": "stdout",
          "text": [
            "audio-chunks/chunk11.wav : And to support us with return to normal once they've passed. \n"
          ]
        },
        {
          "output_type": "stream",
          "name": "stderr",
          "text": [
            "\r12it [00:11,  1.02it/s]"
          ]
        },
        {
          "output_type": "stream",
          "name": "stdout",
          "text": [
            "audio-chunks/chunk12.wav : Is guided by our mandate from congress to promote maximum employment and stable prices for the american people. \n"
          ]
        },
        {
          "output_type": "stream",
          "name": "stderr",
          "text": [
            "\r13it [00:11,  1.10it/s]"
          ]
        },
        {
          "output_type": "stream",
          "name": "stdout",
          "text": [
            "audio-chunks/chunk13.wav : Along with our responsibilities to promote the stability of the financial system. \n"
          ]
        },
        {
          "output_type": "stream",
          "name": "stderr",
          "text": [
            "\r14it [00:12,  1.10it/s]"
          ]
        },
        {
          "output_type": "stream",
          "name": "stdout",
          "text": [
            "audio-chunks/chunk14.wav : Today we reduce the target range for our policy interest rate by one percentage point. \n"
          ]
        },
        {
          "output_type": "stream",
          "name": "stderr",
          "text": [
            "\r15it [00:13,  1.26it/s]"
          ]
        },
        {
          "output_type": "stream",
          "name": "stdout",
          "text": [
            "audio-chunks/chunk15.wav : Bringing it close to zero. \n"
          ]
        },
        {
          "output_type": "stream",
          "name": "stderr",
          "text": [
            "\r16it [00:13,  1.34it/s]"
          ]
        },
        {
          "output_type": "stream",
          "name": "stdout",
          "text": [
            "audio-chunks/chunk16.wav : And said that we expect to maintain the right at this level. \n"
          ]
        },
        {
          "output_type": "stream",
          "name": "stderr",
          "text": [
            "\r17it [00:14,  1.40it/s]"
          ]
        },
        {
          "output_type": "stream",
          "name": "stdout",
          "text": [
            "audio-chunks/chunk17.wav : Until we're confident that the economy has weathered recent events. \n"
          ]
        },
        {
          "output_type": "stream",
          "name": "stderr",
          "text": [
            "\r18it [00:15,  1.38it/s]"
          ]
        },
        {
          "output_type": "stream",
          "name": "stdout",
          "text": [
            "audio-chunks/chunk18.wav : And is on track to achieve our maximum employment and price stability goals. \n"
          ]
        },
        {
          "output_type": "stream",
          "name": "stderr",
          "text": [
            "\r19it [00:16,  1.25it/s]"
          ]
        },
        {
          "output_type": "stream",
          "name": "stdout",
          "text": [
            "audio-chunks/chunk19.wav : Addition we took other actions to support the flow of credit to households and businesses. \n"
          ]
        },
        {
          "output_type": "stream",
          "name": "stderr",
          "text": [
            "\r20it [00:16,  1.49it/s]"
          ]
        },
        {
          "output_type": "stream",
          "name": "stdout",
          "text": [
            "Error: \n"
          ]
        },
        {
          "output_type": "stream",
          "name": "stderr",
          "text": [
            "\r21it [00:16,  1.76it/s]"
          ]
        },
        {
          "output_type": "stream",
          "name": "stdout",
          "text": [
            "Error: \n"
          ]
        },
        {
          "output_type": "stream",
          "name": "stderr",
          "text": [
            "\r22it [00:18,  1.39it/s]"
          ]
        },
        {
          "output_type": "stream",
          "name": "stdout",
          "text": [
            "audio-chunks/chunk22.wav : Before describing our actions more fully i will share how my colleagues and i currently view the economic outlook. \n"
          ]
        },
        {
          "output_type": "stream",
          "name": "stderr",
          "text": [
            "\r23it [00:18,  1.66it/s]"
          ]
        },
        {
          "output_type": "stream",
          "name": "stdout",
          "text": [
            "Error: \n"
          ]
        },
        {
          "output_type": "stream",
          "name": "stderr",
          "text": [
            "\r24it [00:18,  1.92it/s]"
          ]
        },
        {
          "output_type": "stream",
          "name": "stdout",
          "text": [
            "Error: \n"
          ]
        },
        {
          "output_type": "stream",
          "name": "stderr",
          "text": [
            "\r25it [00:20,  1.17it/s]"
          ]
        },
        {
          "output_type": "stream",
          "name": "stdout",
          "text": [
            "audio-chunks/chunk25.wav : Economy came into this challenging. on a strong footing the unemployment rate was 3.5% in february and has been at or near half-century lows for almost 2 years. \n"
          ]
        },
        {
          "output_type": "stream",
          "name": "stderr",
          "text": [
            "\r26it [00:21,  1.04it/s]"
          ]
        },
        {
          "output_type": "stream",
          "name": "stdout",
          "text": [
            "audio-chunks/chunk26.wav : Job gains have been running at a solid pace well above what is needed to provide jobs for new entrants into the labor market. \n"
          ]
        },
        {
          "output_type": "stream",
          "name": "stderr",
          "text": [
            "\r27it [00:22,  1.03s/it]"
          ]
        },
        {
          "output_type": "stream",
          "name": "stdout",
          "text": [
            "audio-chunks/chunk27.wav : Participation in the labor force by people in their prime working years remained near its highest rate in more than a decade. \n"
          ]
        },
        {
          "output_type": "stream",
          "name": "stderr",
          "text": [
            "\r28it [00:23,  1.07it/s]"
          ]
        },
        {
          "output_type": "stream",
          "name": "stdout",
          "text": [
            "audio-chunks/chunk28.wav : And wages have been rising particularly for lower-paying jobs. \n"
          ]
        },
        {
          "output_type": "stream",
          "name": "stderr",
          "text": [
            "\r29it [00:24,  1.17it/s]"
          ]
        },
        {
          "output_type": "stream",
          "name": "stdout",
          "text": [
            "audio-chunks/chunk29.wav : Economic activity has been expanding at a moderate rate. \n"
          ]
        },
        {
          "output_type": "stream",
          "name": "stderr",
          "text": [
            "\r30it [00:25,  1.15it/s]"
          ]
        },
        {
          "output_type": "stream",
          "name": "stdout",
          "text": [
            "audio-chunks/chunk30.wav : Even though weak growth abroad and trade developments have been weighing on some sectors. \n"
          ]
        },
        {
          "output_type": "stream",
          "name": "stderr",
          "text": [
            "\r31it [00:25,  1.32it/s]"
          ]
        },
        {
          "output_type": "stream",
          "name": "stdout",
          "text": [
            "audio-chunks/chunk31.wav : U.s. banks are strong. \n"
          ]
        },
        {
          "output_type": "stream",
          "name": "stderr",
          "text": [
            "\r32it [00:26,  1.25it/s]"
          ]
        },
        {
          "output_type": "stream",
          "name": "stdout",
          "text": [
            "audio-chunks/chunk32.wav : Have high levels of capital and liquidity and are well positioned to provide credit to households and businesses. \n"
          ]
        },
        {
          "output_type": "stream",
          "name": "stderr",
          "text": [
            "\r33it [00:26,  1.41it/s]"
          ]
        },
        {
          "output_type": "stream",
          "name": "stdout",
          "text": [
            "Error: \n"
          ]
        },
        {
          "output_type": "stream",
          "name": "stderr",
          "text": [
            "\r34it [00:27,  1.47it/s]"
          ]
        },
        {
          "output_type": "stream",
          "name": "stdout",
          "text": [
            "audio-chunks/chunk34.wav : Against this favorable backdrop. \n"
          ]
        },
        {
          "output_type": "stream",
          "name": "stderr",
          "text": [
            "\r35it [00:28,  1.46it/s]"
          ]
        },
        {
          "output_type": "stream",
          "name": "stdout",
          "text": [
            "audio-chunks/chunk35.wav : The virus present significant economic challenges. \n"
          ]
        },
        {
          "output_type": "stream",
          "name": "stderr",
          "text": [
            "\r36it [00:29,  1.26it/s]"
          ]
        },
        {
          "output_type": "stream",
          "name": "stdout",
          "text": [
            "audio-chunks/chunk36.wav : Like others we expected the illness and the measures now being put in place to stem it spread. \n"
          ]
        },
        {
          "output_type": "stream",
          "name": "stderr",
          "text": [
            "\r37it [00:30,  1.24it/s]"
          ]
        },
        {
          "output_type": "stream",
          "name": "stdout",
          "text": [
            "audio-chunks/chunk37.wav : Will have a significant effect on economic activity in the near-term. \n"
          ]
        },
        {
          "output_type": "stream",
          "name": "stderr",
          "text": [
            "\r38it [00:30,  1.30it/s]"
          ]
        },
        {
          "output_type": "stream",
          "name": "stdout",
          "text": [
            "audio-chunks/chunk38.wav : Who's in travel tourism and hospitality. \n"
          ]
        },
        {
          "output_type": "stream",
          "name": "stderr",
          "text": [
            "\r39it [00:31,  1.36it/s]"
          ]
        },
        {
          "output_type": "stream",
          "name": "stdout",
          "text": [
            "audio-chunks/chunk39.wav : Are already seeing a sharp drop in business. \n"
          ]
        },
        {
          "output_type": "stream",
          "name": "stderr",
          "text": [
            "\r40it [00:32,  1.20it/s]"
          ]
        },
        {
          "output_type": "stream",
          "name": "stdout",
          "text": [
            "audio-chunks/chunk40.wav : In addition the effects of the outbreak or restraining economic activity in many foreign economies. \n"
          ]
        },
        {
          "output_type": "stream",
          "name": "stderr",
          "text": [
            "\r41it [00:33,  1.18it/s]"
          ]
        },
        {
          "output_type": "stream",
          "name": "stdout",
          "text": [
            "audio-chunks/chunk41.wav : Which is causing difficulties for us industries that rely on global supply chains. \n"
          ]
        },
        {
          "output_type": "stream",
          "name": "stderr",
          "text": [
            "\r42it [00:34,  1.15it/s]"
          ]
        },
        {
          "output_type": "stream",
          "name": "stdout",
          "text": [
            "audio-chunks/chunk42.wav : And we will also weigh on our exports for a time. \n"
          ]
        },
        {
          "output_type": "stream",
          "name": "stderr",
          "text": [
            "\r43it [00:34,  1.26it/s]"
          ]
        },
        {
          "output_type": "stream",
          "name": "stdout",
          "text": [
            "audio-chunks/chunk43.wav : Moreover the energy sector has recently come under stress. \n"
          ]
        },
        {
          "output_type": "stream",
          "name": "stderr",
          "text": [
            "\r44it [00:35,  1.35it/s]"
          ]
        },
        {
          "output_type": "stream",
          "name": "stdout",
          "text": [
            "audio-chunks/chunk44.wav : Because of the large drop in global oil prices. \n"
          ]
        },
        {
          "output_type": "stream",
          "name": "stderr",
          "text": [
            "\r45it [00:36,  1.28it/s]"
          ]
        },
        {
          "output_type": "stream",
          "name": "stdout",
          "text": [
            "audio-chunks/chunk45.wav : Inflation which has continued to run below are symmetric 2% of ejected. \n"
          ]
        },
        {
          "output_type": "stream",
          "name": "stderr",
          "text": [
            "\r46it [00:37,  1.35it/s]"
          ]
        },
        {
          "output_type": "stream",
          "name": "stdout",
          "text": [
            "audio-chunks/chunk46.wav : Will likely be held down this year by the effects of the outbreak. \n"
          ]
        },
        {
          "output_type": "stream",
          "name": "stderr",
          "text": [
            "\r47it [00:37,  1.62it/s]"
          ]
        },
        {
          "output_type": "stream",
          "name": "stdout",
          "text": [
            "Error: \n"
          ]
        },
        {
          "output_type": "stream",
          "name": "stderr",
          "text": [
            "\r48it [00:38,  1.59it/s]"
          ]
        },
        {
          "output_type": "stream",
          "name": "stdout",
          "text": [
            "audio-chunks/chunk48.wav : Conditions have also tightened markedly. \n"
          ]
        },
        {
          "output_type": "stream",
          "name": "stderr",
          "text": [
            "\r49it [00:38,  1.51it/s]"
          ]
        },
        {
          "output_type": "stream",
          "name": "stdout",
          "text": [
            "audio-chunks/chunk49.wav : The cost of credit has risen for all but the strongest borrowers. \n"
          ]
        },
        {
          "output_type": "stream",
          "name": "stderr",
          "text": [
            "\r50it [00:39,  1.54it/s]"
          ]
        },
        {
          "output_type": "stream",
          "name": "stdout",
          "text": [
            "audio-chunks/chunk50.wav : Stock markets around the world are down sharply. \n"
          ]
        },
        {
          "output_type": "stream",
          "name": "stderr",
          "text": [
            "\r51it [00:40,  1.39it/s]"
          ]
        },
        {
          "output_type": "stream",
          "name": "stdout",
          "text": [
            "audio-chunks/chunk51.wav : The rapidly evolving situation has led to high volatility in financial markets. \n"
          ]
        },
        {
          "output_type": "stream",
          "name": "stderr",
          "text": [
            "\r52it [00:40,  1.43it/s]"
          ]
        },
        {
          "output_type": "stream",
          "name": "stdout",
          "text": [
            "audio-chunks/chunk52.wav : As everyone tries to assess the path ahead. \n"
          ]
        },
        {
          "output_type": "stream",
          "name": "stderr",
          "text": [
            "\r53it [00:41,  1.29it/s]"
          ]
        },
        {
          "output_type": "stream",
          "name": "stdout",
          "text": [
            "audio-chunks/chunk53.wav : In the past week several important financial markets including the market for u.s. treasury securities. \n"
          ]
        },
        {
          "output_type": "stream",
          "name": "stderr",
          "text": [
            "\r54it [00:42,  1.28it/s]"
          ]
        },
        {
          "output_type": "stream",
          "name": "stdout",
          "text": [
            "audio-chunks/chunk54.wav : Habit times showing signs of stress and a liquidity. \n"
          ]
        },
        {
          "output_type": "stream",
          "name": "stderr",
          "text": [
            "\r55it [00:43,  1.23it/s]"
          ]
        },
        {
          "output_type": "stream",
          "name": "stdout",
          "text": [
            "audio-chunks/chunk55.wav : The market for treasury securities is a critical part of the foundation of the global financial system. \n"
          ]
        },
        {
          "output_type": "stream",
          "name": "stderr",
          "text": [
            "\r56it [00:44,  1.32it/s]"
          ]
        },
        {
          "output_type": "stream",
          "name": "stdout",
          "text": [
            "audio-chunks/chunk56.wav : It is generally the most liquid of all mark. \n"
          ]
        },
        {
          "output_type": "stream",
          "name": "stderr",
          "text": [
            "\r57it [00:44,  1.36it/s]"
          ]
        },
        {
          "output_type": "stream",
          "name": "stdout",
          "text": [
            "audio-chunks/chunk57.wav : And serves as the benchmark mark. \n"
          ]
        },
        {
          "output_type": "stream",
          "name": "stderr",
          "text": [
            "\r58it [00:45,  1.39it/s]"
          ]
        },
        {
          "output_type": "stream",
          "name": "stdout",
          "text": [
            "audio-chunks/chunk58.wav : By which many other financial assets are valued. \n"
          ]
        },
        {
          "output_type": "stream",
          "name": "stderr",
          "text": [
            "\r59it [00:46,  1.25it/s]"
          ]
        },
        {
          "output_type": "stream",
          "name": "stdout",
          "text": [
            "audio-chunks/chunk59.wav : It plays an important role in allowing households and firms to earn a safe return and manage their risks. \n"
          ]
        },
        {
          "output_type": "stream",
          "name": "stderr",
          "text": [
            "\r60it [00:47,  1.07it/s]"
          ]
        },
        {
          "output_type": "stream",
          "name": "stdout",
          "text": [
            "audio-chunks/chunk60.wav : When stresses arrives in the treasury market they can reverberate through the entire financial system and the economy. \n"
          ]
        },
        {
          "output_type": "stream",
          "name": "stderr",
          "text": [
            "\r61it [00:49,  1.14s/it]"
          ]
        },
        {
          "output_type": "stream",
          "name": "stdout",
          "text": [
            "audio-chunks/chunk61.wav : To prevent this from happening and to support the smooth functioning of the treasury market we announced today that we will purchase at least 500 billion of treasury securities over the coming months. \n"
          ]
        },
        {
          "output_type": "stream",
          "name": "stderr",
          "text": [
            "\r62it [00:50,  1.06s/it]"
          ]
        },
        {
          "output_type": "stream",
          "name": "stdout",
          "text": [
            "audio-chunks/chunk62.wav : Similar stressors have also emerged in the market for agency mortgage-backed securities. \n"
          ]
        },
        {
          "output_type": "stream",
          "name": "stderr",
          "text": [
            "\r63it [00:50,  1.10it/s]"
          ]
        },
        {
          "output_type": "stream",
          "name": "stdout",
          "text": [
            "audio-chunks/chunk63.wav : Which is closely linked to the treasury market. \n"
          ]
        },
        {
          "output_type": "stream",
          "name": "stderr",
          "text": [
            "\r64it [00:51,  1.16it/s]"
          ]
        },
        {
          "output_type": "stream",
          "name": "stdout",
          "text": [
            "audio-chunks/chunk64.wav : And critically supports the ability of people to get a mortgage. \n"
          ]
        },
        {
          "output_type": "stream",
          "name": "stderr",
          "text": [
            "\r65it [00:52,  1.32it/s]"
          ]
        },
        {
          "output_type": "stream",
          "name": "stdout",
          "text": [
            "audio-chunks/chunk65.wav : To buy a house. \n"
          ]
        },
        {
          "output_type": "stream",
          "name": "stderr",
          "text": [
            "\r66it [00:52,  1.45it/s]"
          ]
        },
        {
          "output_type": "stream",
          "name": "stdout",
          "text": [
            "audio-chunks/chunk66.wav : Existing mortgage. \n"
          ]
        },
        {
          "output_type": "stream",
          "name": "stderr",
          "text": [
            "\r67it [00:54,  1.10it/s]"
          ]
        },
        {
          "output_type": "stream",
          "name": "stdout",
          "text": [
            "audio-chunks/chunk67.wav : To improve the functioning of this market in to ensure the effective transmission of monetary policy to borrowers in the economy. \n"
          ]
        },
        {
          "output_type": "stream",
          "name": "stderr",
          "text": [
            "\r68it [00:55,  1.04s/it]"
          ]
        },
        {
          "output_type": "stream",
          "name": "stdout",
          "text": [
            "audio-chunks/chunk68.wav : We will also purchase at least 200 billion dollars of agency mortgage-backed securities over coming months. \n"
          ]
        },
        {
          "output_type": "stream",
          "name": "stderr",
          "text": [
            "\r69it [00:56,  1.01it/s]"
          ]
        },
        {
          "output_type": "stream",
          "name": "stdout",
          "text": [
            "audio-chunks/chunk69.wav : And immediately cease the runoff of these securities in our portfolio. \n"
          ]
        },
        {
          "output_type": "stream",
          "name": "stderr",
          "text": [
            "\r70it [00:57,  1.03s/it]"
          ]
        },
        {
          "output_type": "stream",
          "name": "stdout",
          "text": [
            "audio-chunks/chunk70.wav : Well the primary purpose of these securities purchases is to restore smooth market functioning so that credit can continue to flow. \n"
          ]
        },
        {
          "output_type": "stream",
          "name": "stderr",
          "text": [
            "\r71it [00:58,  1.05s/it]"
          ]
        },
        {
          "output_type": "stream",
          "name": "stdout",
          "text": [
            "audio-chunks/chunk71.wav : The purchases will also foster more accommodative financial conditions. \n"
          ]
        },
        {
          "output_type": "stream",
          "name": "stderr",
          "text": [
            "\r72it [01:00,  1.40s/it]"
          ]
        },
        {
          "output_type": "stream",
          "name": "stdout",
          "text": [
            "audio-chunks/chunk72.wav : The reserve anthony number of other actions today to support support the flow of credit to households and businesses thereby promoting our maximum employment and price stability goals of these i will highlight to. \n"
          ]
        },
        {
          "output_type": "stream",
          "name": "stderr",
          "text": [
            "\r73it [01:01,  1.27s/it]"
          ]
        },
        {
          "output_type": "stream",
          "name": "stdout",
          "text": [
            "audio-chunks/chunk73.wav : First we reduce the interest rate on discount window loans by 1 1/2 percentage points. \n"
          ]
        },
        {
          "output_type": "stream",
          "name": "stderr",
          "text": [
            "\r74it [01:02,  1.14s/it]"
          ]
        },
        {
          "output_type": "stream",
          "name": "stdout",
          "text": [
            "audio-chunks/chunk74.wav : Bring that rate to a quarter of a percent. \n"
          ]
        },
        {
          "output_type": "stream",
          "name": "stderr",
          "text": [
            "\r75it [01:03,  1.14s/it]"
          ]
        },
        {
          "output_type": "stream",
          "name": "stdout",
          "text": [
            "audio-chunks/chunk75.wav : Discount window plays an important role in supporting liquidity and stability in the banking system and we encourage banks to turn to the discount window. \n"
          ]
        },
        {
          "output_type": "stream",
          "name": "stderr",
          "text": [
            "\r76it [01:04,  1.02it/s]"
          ]
        },
        {
          "output_type": "stream",
          "name": "stdout",
          "text": [
            "audio-chunks/chunk76.wav : To help meet demand for credit from households and businesses. \n"
          ]
        },
        {
          "output_type": "stream",
          "name": "stderr",
          "text": [
            "\r77it [01:05,  1.00it/s]"
          ]
        },
        {
          "output_type": "stream",
          "name": "stdout",
          "text": [
            "audio-chunks/chunk77.wav : Make a discount window more effective we will also offer discount window loans for periods up to 90 days. \n"
          ]
        },
        {
          "output_type": "stream",
          "name": "stderr",
          "text": [
            "\r78it [01:06,  1.02s/it]"
          ]
        },
        {
          "output_type": "stream",
          "name": "stdout",
          "text": [
            "audio-chunks/chunk78.wav : Because of the importance of the us dollar in a global economy strains and markets for borrowing and lending dollars overseas. \n"
          ]
        },
        {
          "output_type": "stream",
          "name": "stderr",
          "text": [
            "\r79it [01:07,  1.10it/s]"
          ]
        },
        {
          "output_type": "stream",
          "name": "stdout",
          "text": [
            "audio-chunks/chunk79.wav : Can disrupt financial conditions here in the united states. \n"
          ]
        },
        {
          "output_type": "stream",
          "name": "stderr",
          "text": [
            "\r80it [01:07,  1.36it/s]"
          ]
        },
        {
          "output_type": "stream",
          "name": "stdout",
          "text": [
            "Error: \n"
          ]
        },
        {
          "output_type": "stream",
          "name": "stderr",
          "text": [
            "\r81it [01:08,  1.10it/s]"
          ]
        },
        {
          "output_type": "stream",
          "name": "stdout",
          "text": [
            "audio-chunks/chunk81.wav : The guard against such disruptions the federal reserve maintain swap lines with five major central banks. \n"
          ]
        },
        {
          "output_type": "stream",
          "name": "stderr",
          "text": [
            "\r82it [01:09,  1.23it/s]"
          ]
        },
        {
          "output_type": "stream",
          "name": "stdout",
          "text": [
            "audio-chunks/chunk82.wav : When dollar funding pressures emerge abroad. \n"
          ]
        },
        {
          "output_type": "stream",
          "name": "stderr",
          "text": [
            "\r83it [01:10,  1.24it/s]"
          ]
        },
        {
          "output_type": "stream",
          "name": "stdout",
          "text": [
            "audio-chunks/chunk83.wav : Do central banks can contain the pressures in their jurisdictions. \n"
          ]
        },
        {
          "output_type": "stream",
          "name": "stderr",
          "text": [
            "\r84it [01:10,  1.24it/s]"
          ]
        },
        {
          "output_type": "stream",
          "name": "stdout",
          "text": [
            "audio-chunks/chunk84.wav : And prevent them from impeding the flow of credit here at home. \n"
          ]
        },
        {
          "output_type": "stream",
          "name": "stderr",
          "text": [
            "\r85it [01:12,  1.05s/it]"
          ]
        },
        {
          "output_type": "stream",
          "name": "stdout",
          "text": [
            "audio-chunks/chunk85.wav : To address potential pressures in these markets during the current period of elevated uncertainty. \n"
          ]
        },
        {
          "output_type": "stream",
          "name": "stderr",
          "text": [
            "\r86it [01:13,  1.06s/it]"
          ]
        },
        {
          "output_type": "stream",
          "name": "stdout",
          "text": [
            "audio-chunks/chunk86.wav : We made a coordinated announcements with the bank of canada the bank of england the bank of japan. \n"
          ]
        },
        {
          "output_type": "stream",
          "name": "stderr",
          "text": [
            "\r87it [01:14,  1.06it/s]"
          ]
        },
        {
          "output_type": "stream",
          "name": "stdout",
          "text": [
            "audio-chunks/chunk87.wav : The european central bank and the swiss national bank. \n"
          ]
        },
        {
          "output_type": "stream",
          "name": "stderr",
          "text": [
            "\r88it [01:14,  1.14it/s]"
          ]
        },
        {
          "output_type": "stream",
          "name": "stdout",
          "text": [
            "audio-chunks/chunk88.wav : To reduce the pricing on a dollar swap line. \n"
          ]
        },
        {
          "output_type": "stream",
          "name": "stderr",
          "text": [
            "\r89it [01:16,  1.07it/s]"
          ]
        },
        {
          "output_type": "stream",
          "name": "stdout",
          "text": [
            "audio-chunks/chunk89.wav : Addition or central-bank counterparts will begin offering dollars to institutions in their jurisdictions. \n"
          ]
        },
        {
          "output_type": "stream",
          "name": "stderr",
          "text": [
            "\r90it [01:16,  1.15it/s]"
          ]
        },
        {
          "output_type": "stream",
          "name": "stdout",
          "text": [
            "audio-chunks/chunk90.wav : For termite 84 days. \n"
          ]
        },
        {
          "output_type": "stream",
          "name": "stderr",
          "text": [
            "\r91it [01:17,  1.24it/s]"
          ]
        },
        {
          "output_type": "stream",
          "name": "stdout",
          "text": [
            "audio-chunks/chunk91.wav : In addition to the usual one-week operation. \n"
          ]
        },
        {
          "output_type": "stream",
          "name": "stderr",
          "text": [
            "\r92it [01:18,  1.04it/s]"
          ]
        },
        {
          "output_type": "stream",
          "name": "stdout",
          "text": [
            "audio-chunks/chunk92.wav : These long-standing arrangement arrangements carry no risk to the federal reserve or to the american taxpayer. \n"
          ]
        },
        {
          "output_type": "stream",
          "name": "stderr",
          "text": [
            "\r93it [01:19,  1.04s/it]"
          ]
        },
        {
          "output_type": "stream",
          "name": "stdout",
          "text": [
            "audio-chunks/chunk93.wav : I won't go into detail on the other actions we took today but they involved eliminating reserve requirements for banks and encouraging banks to make you. \n"
          ]
        },
        {
          "output_type": "stream",
          "name": "stderr",
          "text": [
            "\r94it [01:20,  1.03it/s]"
          ]
        },
        {
          "output_type": "stream",
          "name": "stdout",
          "text": [
            "audio-chunks/chunk94.wav : Intraday credit with the federal reserve and to use their capital and liquidity buffers. \n"
          ]
        },
        {
          "output_type": "stream",
          "name": "stderr",
          "text": [
            "\r95it [01:21,  1.09it/s]"
          ]
        },
        {
          "output_type": "stream",
          "name": "stdout",
          "text": [
            "audio-chunks/chunk95.wav : As a support lending to households and businesses. \n"
          ]
        },
        {
          "output_type": "stream",
          "name": "stderr",
          "text": [
            "\r96it [01:21,  1.35it/s]"
          ]
        },
        {
          "output_type": "stream",
          "name": "stdout",
          "text": [
            "Error: \n"
          ]
        },
        {
          "output_type": "stream",
          "name": "stderr",
          "text": [
            "\r97it [01:23,  1.16it/s]"
          ]
        },
        {
          "output_type": "stream",
          "name": "stdout",
          "text": [
            "audio-chunks/chunk97.wav : We have announced today will help american families and businesses and indeed our entire economy whether this difficult.. \n"
          ]
        },
        {
          "output_type": "stream",
          "name": "stderr",
          "text": [
            "\r98it [01:24,  1.08s/it]"
          ]
        },
        {
          "output_type": "stream",
          "name": "stdout",
          "text": [
            "audio-chunks/chunk98.wav : And will foster a more bigger more vigorous return to normal once the disruptions from the coronavirus update. \n"
          ]
        },
        {
          "output_type": "stream",
          "name": "stderr",
          "text": [
            "\r99it [01:25,  1.04s/it]"
          ]
        },
        {
          "output_type": "stream",
          "name": "stdout",
          "text": [
            "audio-chunks/chunk99.wav : We will continue to closely monitor economic and financial developments and their implications for the economic outlook. \n"
          ]
        },
        {
          "output_type": "stream",
          "name": "stderr",
          "text": [
            "\r100it [01:26,  1.01it/s]"
          ]
        },
        {
          "output_type": "stream",
          "name": "stdout",
          "text": [
            "audio-chunks/chunk100.wav : We are prepared to use our full range of tools to support the flow of credit to households and businesses. \n"
          ]
        },
        {
          "output_type": "stream",
          "name": "stderr",
          "text": [
            "\r101it [01:27,  1.14it/s]"
          ]
        },
        {
          "output_type": "stream",
          "name": "stdout",
          "text": [
            "audio-chunks/chunk101.wav : They'll keep the economy strong. \n"
          ]
        },
        {
          "output_type": "stream",
          "name": "stderr",
          "text": [
            "\r102it [01:27,  1.21it/s]"
          ]
        },
        {
          "output_type": "stream",
          "name": "stdout",
          "text": [
            "audio-chunks/chunk102.wav : Enter promote our maximum employment and price stability goals. \n"
          ]
        },
        {
          "output_type": "stream",
          "name": "stderr",
          "text": [
            "\r103it [01:28,  1.12it/s]"
          ]
        },
        {
          "output_type": "stream",
          "name": "stdout",
          "text": [
            "audio-chunks/chunk103.wav : Finally let me know that today's fomc meeting was in lieu of the meeting scheduled for next tuesday and wednesday. \n"
          ]
        },
        {
          "output_type": "stream",
          "name": "stderr",
          "text": [
            "\r104it [01:29,  1.10it/s]"
          ]
        },
        {
          "output_type": "stream",
          "name": "stdout",
          "text": [
            "Error: \n"
          ]
        },
        {
          "output_type": "stream",
          "name": "stderr",
          "text": [
            "\r105it [01:31,  1.12s/it]"
          ]
        },
        {
          "output_type": "stream",
          "name": "stdout",
          "text": [
            "audio-chunks/chunk105.wav : The chair will now take some questions please dial start one on your phone to indicate you want to ask a question you will be unmuted when you're called on. \n"
          ]
        },
        {
          "output_type": "stream",
          "name": "stderr",
          "text": [
            "\r106it [01:31,  1.14it/s]"
          ]
        },
        {
          "output_type": "stream",
          "name": "stdout",
          "text": [
            "Error: \n"
          ]
        },
        {
          "output_type": "stream",
          "name": "stderr",
          "text": [
            "\r107it [01:32,  1.30it/s]"
          ]
        },
        {
          "output_type": "stream",
          "name": "stdout",
          "text": [
            "audio-chunks/chunk107.wav : Okay cnbc. \n"
          ]
        },
        {
          "output_type": "stream",
          "name": "stderr",
          "text": [
            "\r108it [01:32,  1.57it/s]"
          ]
        },
        {
          "output_type": "stream",
          "name": "stdout",
          "text": [
            "Error: \n"
          ]
        },
        {
          "output_type": "stream",
          "name": "stderr",
          "text": [
            "\r109it [01:32,  1.74it/s]"
          ]
        },
        {
          "output_type": "stream",
          "name": "stdout",
          "text": [
            "audio-chunks/chunk109.wav : Thank you. \n"
          ]
        },
        {
          "output_type": "stream",
          "name": "stderr",
          "text": [
            "\r110it [01:34,  1.39it/s]"
          ]
        },
        {
          "output_type": "stream",
          "name": "stdout",
          "text": [
            "audio-chunks/chunk110.wav : German contacted you expect. \n"
          ]
        },
        {
          "output_type": "stream",
          "name": "stderr",
          "text": [
            "\r111it [01:34,  1.48it/s]"
          ]
        },
        {
          "output_type": "stream",
          "name": "stdout",
          "text": [
            "audio-chunks/chunk111.wav : Get some. \n"
          ]
        },
        {
          "output_type": "stream",
          "name": "stderr",
          "text": [
            "\r112it [01:35,  1.68it/s]"
          ]
        },
        {
          "output_type": "stream",
          "name": "stdout",
          "text": [
            "Error: \n"
          ]
        },
        {
          "output_type": "stream",
          "name": "stderr",
          "text": [
            "\r113it [01:36,  1.01it/s]"
          ]
        },
        {
          "output_type": "stream",
          "name": "stdout",
          "text": [
            "audio-chunks/chunk113.wav : Actions to dd do you think a recession is that everybody can be avoided. \n"
          ]
        },
        {
          "output_type": "stream",
          "name": "stderr",
          "text": [
            "\r114it [01:38,  1.02s/it]"
          ]
        },
        {
          "output_type": "stream",
          "name": "stdout",
          "text": [
            "audio-chunks/chunk114.wav : Secondly that was talked about additional. \n"
          ]
        },
        {
          "output_type": "stream",
          "name": "stderr",
          "text": [
            "\r115it [01:40,  1.31s/it]"
          ]
        },
        {
          "output_type": "stream",
          "name": "stdout",
          "text": [
            "audio-chunks/chunk115.wav : Program sexy canal fragancia primary dealer credit facility. \n"
          ]
        },
        {
          "output_type": "stream",
          "name": "stderr",
          "text": [
            "\r116it [01:41,  1.30s/it]"
          ]
        },
        {
          "output_type": "stream",
          "name": "stdout",
          "text": [
            "Error: \n"
          ]
        },
        {
          "output_type": "stream",
          "name": "stderr",
          "text": [
            "\r117it [01:41,  1.12s/it]"
          ]
        },
        {
          "output_type": "stream",
          "name": "stdout",
          "text": [
            "audio-chunks/chunk117.wav : Thank you thank you so much. \n"
          ]
        },
        {
          "output_type": "stream",
          "name": "stderr",
          "text": [
            "\r118it [01:43,  1.13s/it]"
          ]
        },
        {
          "output_type": "stream",
          "name": "stdout",
          "text": [
            "audio-chunks/chunk118.wav : Based on our discussions today and and many conversations with participants. \n"
          ]
        },
        {
          "output_type": "stream",
          "name": "stderr",
          "text": [
            "\r119it [01:44,  1.19s/it]"
          ]
        },
        {
          "output_type": "stream",
          "name": "stdout",
          "text": [
            "audio-chunks/chunk119.wav : It's fair to say that we have a range of views about the path of the economy as it as is always the case with the fed. \n"
          ]
        },
        {
          "output_type": "stream",
          "name": "stderr",
          "text": [
            "\r120it [01:45,  1.19s/it]"
          ]
        },
        {
          "output_type": "stream",
          "name": "stdout",
          "text": [
            "audio-chunks/chunk120.wav : But in general i say that we see the us economy as having been in quite a strong position before the arrival of the virus. \n"
          ]
        },
        {
          "output_type": "stream",
          "name": "stderr",
          "text": [
            "\r121it [01:47,  1.32s/it]"
          ]
        },
        {
          "output_type": "stream",
          "name": "stdout",
          "text": [
            "audio-chunks/chunk121.wav : We see that it is likely that the measures we take to protect ourselves from the virus will involve withdrawing from or reducing certain activities thinking their of travel leisure hospitality. \n"
          ]
        },
        {
          "output_type": "stream",
          "name": "stderr",
          "text": [
            "\r122it [01:48,  1.28s/it]"
          ]
        },
        {
          "output_type": "stream",
          "name": "stdout",
          "text": [
            "audio-chunks/chunk122.wav : Those things these are choices that we make. \n"
          ]
        },
        {
          "output_type": "stream",
          "name": "stderr",
          "text": [
            "\r123it [01:49,  1.15s/it]"
          ]
        },
        {
          "output_type": "stream",
          "name": "stdout",
          "text": [
            "audio-chunks/chunk123.wav : To protect ourselves appropriate choices that we make to protect ourselves from the virus. \n"
          ]
        },
        {
          "output_type": "stream",
          "name": "stderr",
          "text": [
            "\r124it [01:51,  1.31s/it]"
          ]
        },
        {
          "output_type": "stream",
          "name": "stdout",
          "text": [
            "audio-chunks/chunk124.wav : So that means that the second quarter is probably going to be weak infected hug in the view of many output. \n"
          ]
        },
        {
          "output_type": "stream",
          "name": "stderr",
          "text": [
            "\r125it [01:51,  1.06s/it]"
          ]
        },
        {
          "output_type": "stream",
          "name": "stdout",
          "text": [
            "Error: \n"
          ]
        },
        {
          "output_type": "stream",
          "name": "stderr",
          "text": [
            "\r126it [01:53,  1.27s/it]"
          ]
        },
        {
          "output_type": "stream",
          "name": "stdout",
          "text": [
            "audio-chunks/chunk126.wav : Declining a atwood lower in the second quarter that was in the first quarter after that it's very hard to say how big the effects will be or how long they will last. \n"
          ]
        },
        {
          "output_type": "stream",
          "name": "stderr",
          "text": [
            "\r127it [01:53,  1.04s/it]"
          ]
        },
        {
          "output_type": "stream",
          "name": "stdout",
          "text": [
            "audio-chunks/chunk127.wav : And that's going to depend of course. \n"
          ]
        },
        {
          "output_type": "stream",
          "name": "stderr",
          "text": [
            "\r128it [01:54,  1.08s/it]"
          ]
        },
        {
          "output_type": "stream",
          "name": "stdout",
          "text": [
            "audio-chunks/chunk128.wav : On how widely the virus spreads which is something that is highly uncertain and i would say in fact unknowable. \n"
          ]
        },
        {
          "output_type": "stream",
          "name": "stderr",
          "text": [
            "\r129it [01:56,  1.10s/it]"
          ]
        },
        {
          "output_type": "stream",
          "name": "stdout",
          "text": [
            "audio-chunks/chunk129.wav : We do know that the virus will run its course and that the us economy will resume a normal level of activity in the meantime. \n"
          ]
        },
        {
          "output_type": "stream",
          "name": "stderr",
          "text": [
            "\r130it [01:57,  1.06s/it]"
          ]
        },
        {
          "output_type": "stream",
          "name": "stdout",
          "text": [
            "audio-chunks/chunk130.wav : The fed will continue to use our tools to support the flow credit household and businesses. \n"
          ]
        },
        {
          "output_type": "stream",
          "name": "stderr",
          "text": [
            "\r131it [01:58,  1.19s/it]"
          ]
        },
        {
          "output_type": "stream",
          "name": "stdout",
          "text": [
            "audio-chunks/chunk131.wav : It's at work man with monetary policy ultimately to do what we can to see if the recovery just as vigorous as possible. \n"
          ]
        },
        {
          "output_type": "stream",
          "name": "stderr",
          "text": [
            "\r132it [01:59,  1.10s/it]"
          ]
        },
        {
          "output_type": "stream",
          "name": "stdout",
          "text": [
            "audio-chunks/chunk132.wav : You also asked about other facilities i would point out that we have. \n"
          ]
        },
        {
          "output_type": "stream",
          "name": "stderr",
          "text": [
            "\r133it [01:59,  1.10it/s]"
          ]
        },
        {
          "output_type": "stream",
          "name": "stdout",
          "text": [
            "audio-chunks/chunk133.wav : Of course responded. \n"
          ]
        },
        {
          "output_type": "stream",
          "name": "stderr",
          "text": [
            "\r134it [02:00,  1.11it/s]"
          ]
        },
        {
          "output_type": "stream",
          "name": "stdout",
          "text": [
            "audio-chunks/chunk134.wav : Very strongly not just when interest rates but also with liquidity. \n"
          ]
        },
        {
          "output_type": "stream",
          "name": "stderr",
          "text": [
            "\r135it [02:01,  1.01it/s]"
          ]
        },
        {
          "output_type": "stream",
          "name": "stdout",
          "text": [
            "audio-chunks/chunk135.wav : What measures today and we believe that what we did today will be beneficial to financial markets generally. \n"
          ]
        },
        {
          "output_type": "stream",
          "name": "stderr",
          "text": [
            "\r136it [02:03,  1.03s/it]"
          ]
        },
        {
          "output_type": "stream",
          "name": "stdout",
          "text": [
            "audio-chunks/chunk136.wav : And as i said in my statement were prepared to use our full range of tools to support the flow of credit to households and businesses thanks. \n"
          ]
        },
        {
          "output_type": "stream",
          "name": "stderr",
          "text": [
            "\r137it [02:03,  1.10it/s]"
          ]
        },
        {
          "output_type": "stream",
          "name": "stdout",
          "text": [
            "audio-chunks/chunk137.wav : Okay thanks we'll go to marketplace radio. \n"
          ]
        },
        {
          "output_type": "stream",
          "name": "stderr",
          "text": [
            "\r138it [02:04,  1.21it/s]"
          ]
        },
        {
          "output_type": "stream",
          "name": "stdout",
          "text": [
            "audio-chunks/chunk138.wav : Hi nancy marshall-genzer with marketplace. \n"
          ]
        },
        {
          "output_type": "stream",
          "name": "stderr",
          "text": [
            "\r139it [02:05,  1.04s/it]"
          ]
        },
        {
          "output_type": "stream",
          "name": "stdout",
          "text": [
            "audio-chunks/chunk139.wav : Triple i'm wondering are you considering negative interest rates at this point is there a scenario in which you think that would be appropriate. \n"
          ]
        },
        {
          "output_type": "stream",
          "name": "stderr",
          "text": [
            "\r140it [02:06,  1.21it/s]"
          ]
        },
        {
          "output_type": "stream",
          "name": "stdout",
          "text": [
            "Error: \n"
          ]
        },
        {
          "output_type": "stream",
          "name": "stderr",
          "text": [
            "\r141it [02:06,  1.26it/s]"
          ]
        },
        {
          "output_type": "stream",
          "name": "stdout",
          "text": [
            "Error: \n"
          ]
        },
        {
          "output_type": "stream",
          "name": "stderr",
          "text": [
            "\r142it [02:07,  1.22it/s]"
          ]
        },
        {
          "output_type": "stream",
          "name": "stdout",
          "text": [
            "audio-chunks/chunk142.wav : Noted on a number of occasions really the committee. \n"
          ]
        },
        {
          "output_type": "stream",
          "name": "stderr",
          "text": [
            "\r143it [02:08,  1.22it/s]"
          ]
        },
        {
          "output_type": "stream",
          "name": "stdout",
          "text": [
            "audio-chunks/chunk143.wav : We did a year plus long. \n"
          ]
        },
        {
          "output_type": "stream",
          "name": "stderr",
          "text": [
            "\r144it [02:09,  1.23it/s]"
          ]
        },
        {
          "output_type": "stream",
          "name": "stdout",
          "text": [
            "audio-chunks/chunk144.wav : Study of our tools and strategies and communications. \n"
          ]
        },
        {
          "output_type": "stream",
          "name": "stderr",
          "text": [
            "\r145it [02:09,  1.38it/s]"
          ]
        },
        {
          "output_type": "stream",
          "name": "stdout",
          "text": [
            "audio-chunks/chunk145.wav : And. \n"
          ]
        },
        {
          "output_type": "stream",
          "name": "stderr",
          "text": [
            "\r146it [02:11,  1.06it/s]"
          ]
        },
        {
          "output_type": "stream",
          "name": "stdout",
          "text": [
            "audio-chunks/chunk146.wav : We really at the end of that and also when we started that we view forward guidance and asset purchases asset purchases. \n"
          ]
        },
        {
          "output_type": "stream",
          "name": "stderr",
          "text": [
            "\r147it [02:12,  1.13it/s]"
          ]
        },
        {
          "output_type": "stream",
          "name": "stdout",
          "text": [
            "audio-chunks/chunk147.wav : And also different variations and combinations of those tools. \n"
          ]
        },
        {
          "output_type": "stream",
          "name": "stderr",
          "text": [
            "\r148it [02:12,  1.20it/s]"
          ]
        },
        {
          "output_type": "stream",
          "name": "stdout",
          "text": [
            "audio-chunks/chunk148.wav : As the basic elements of our toolkit. \n"
          ]
        },
        {
          "output_type": "stream",
          "name": "stderr",
          "text": [
            "\r149it [02:13,  1.37it/s]"
          ]
        },
        {
          "output_type": "stream",
          "name": "stdout",
          "text": [
            "audio-chunks/chunk149.wav : Once the federal funds rate. \n"
          ]
        },
        {
          "output_type": "stream",
          "name": "stderr",
          "text": [
            "\r150it [02:14,  1.41it/s]"
          ]
        },
        {
          "output_type": "stream",
          "name": "stdout",
          "text": [
            "audio-chunks/chunk150.wav : Redo the effective lower bound so really. \n"
          ]
        },
        {
          "output_type": "stream",
          "name": "stderr",
          "text": [
            "\r151it [02:14,  1.35it/s]"
          ]
        },
        {
          "output_type": "stream",
          "name": "stdout",
          "text": [
            "audio-chunks/chunk151.wav : Forward guidance asset purchases and combinations of those. \n"
          ]
        },
        {
          "output_type": "stream",
          "name": "stderr",
          "text": [
            "\r152it [02:17,  1.18s/it]"
          ]
        },
        {
          "output_type": "stream",
          "name": "stdout",
          "text": [
            "audio-chunks/chunk152.wav : Evening we looked at negative policy rates during the global financial crisis and other jurisdictions we continue to do so. \n"
          ]
        },
        {
          "output_type": "stream",
          "name": "stderr",
          "text": [
            "\r153it [02:18,  1.18s/it]"
          ]
        },
        {
          "output_type": "stream",
          "name": "stdout",
          "text": [
            "audio-chunks/chunk153.wav : But we do not see negative policy rates as likely to be an appropriate policy response here in the united states. \n"
          ]
        },
        {
          "output_type": "stream",
          "name": "stderr",
          "text": [
            "\r154it [02:18,  1.04s/it]"
          ]
        },
        {
          "output_type": "stream",
          "name": "stdout",
          "text": [
            "audio-chunks/chunk154.wav : We're going to the wall street journal. \n"
          ]
        },
        {
          "output_type": "stream",
          "name": "stderr",
          "text": [
            "\r155it [02:19,  1.18it/s]"
          ]
        },
        {
          "output_type": "stream",
          "name": "stdout",
          "text": [
            "Error: \n"
          ]
        },
        {
          "output_type": "stream",
          "name": "stderr",
          "text": [
            "\r156it [02:19,  1.45it/s]"
          ]
        },
        {
          "output_type": "stream",
          "name": "stdout",
          "text": [
            "Error: \n"
          ]
        },
        {
          "output_type": "stream",
          "name": "stderr",
          "text": [
            "\r157it [02:20,  1.14it/s]"
          ]
        },
        {
          "output_type": "stream",
          "name": "stdout",
          "text": [
            "audio-chunks/chunk157.wav : I think thanks tripel mixed emarosa the wall street journal. \n"
          ]
        },
        {
          "output_type": "stream",
          "name": "stderr",
          "text": [
            "\r158it [02:21,  1.22it/s]"
          ]
        },
        {
          "output_type": "stream",
          "name": "stdout",
          "text": [
            "audio-chunks/chunk158.wav : I guess i wanted to understand specifically. \n"
          ]
        },
        {
          "output_type": "stream",
          "name": "stderr",
          "text": [
            "\r159it [02:22,  1.28it/s]"
          ]
        },
        {
          "output_type": "stream",
          "name": "stdout",
          "text": [
            "audio-chunks/chunk159.wav : Howdy actions you've announced this evening. \n"
          ]
        },
        {
          "output_type": "stream",
          "name": "stderr",
          "text": [
            "\r160it [02:23,  1.15it/s]"
          ]
        },
        {
          "output_type": "stream",
          "name": "stdout",
          "text": [
            "audio-chunks/chunk160.wav : Will get credit to households and firms never going to see large drops and income and revenue. \n"
          ]
        },
        {
          "output_type": "stream",
          "name": "stderr",
          "text": [
            "\r161it [02:24,  1.26it/s]"
          ]
        },
        {
          "output_type": "stream",
          "name": "stdout",
          "text": [
            "audio-chunks/chunk161.wav : And also to the extent that. \n"
          ]
        },
        {
          "output_type": "stream",
          "name": "stderr",
          "text": [
            "\r162it [02:25,  1.16it/s]"
          ]
        },
        {
          "output_type": "stream",
          "name": "stdout",
          "text": [
            "audio-chunks/chunk162.wav : They are needed at what steps would you recommend that the fiscal authorities undertake. \n"
          ]
        },
        {
          "output_type": "stream",
          "name": "stderr",
          "text": [
            "\r163it [02:25,  1.25it/s]"
          ]
        },
        {
          "output_type": "stream",
          "name": "stdout",
          "text": [
            "audio-chunks/chunk163.wav : Again to make sure that firms. \n"
          ]
        },
        {
          "output_type": "stream",
          "name": "stderr",
          "text": [
            "\r164it [02:26,  1.27it/s]"
          ]
        },
        {
          "output_type": "stream",
          "name": "stdout",
          "text": [
            "audio-chunks/chunk164.wav : Big large drops and income and revenue. \n"
          ]
        },
        {
          "output_type": "stream",
          "name": "stderr",
          "text": [
            "\r165it [02:26,  1.51it/s]"
          ]
        },
        {
          "output_type": "stream",
          "name": "stdout",
          "text": [
            "Error: \n"
          ]
        },
        {
          "output_type": "stream",
          "name": "stderr",
          "text": [
            "\r166it [02:27,  1.50it/s]"
          ]
        },
        {
          "output_type": "stream",
          "name": "stdout",
          "text": [
            "audio-chunks/chunk166.wav : Don't go bust over the next few weeks or months. \n"
          ]
        },
        {
          "output_type": "stream",
          "name": "stderr",
          "text": [
            "\r167it [02:27,  1.78it/s]"
          ]
        },
        {
          "output_type": "stream",
          "name": "stdout",
          "text": [
            "Error: \n"
          ]
        },
        {
          "output_type": "stream",
          "name": "stderr",
          "text": [
            "\r168it [02:28,  1.48it/s]"
          ]
        },
        {
          "output_type": "stream",
          "name": "stdout",
          "text": [
            "audio-chunks/chunk168.wav : Let me tell you what. \n"
          ]
        },
        {
          "output_type": "stream",
          "name": "stderr",
          "text": [
            "\r169it [02:30,  1.07it/s]"
          ]
        },
        {
          "output_type": "stream",
          "name": "stdout",
          "text": [
            "audio-chunks/chunk169.wav : Microgard to what our tools can accomplish in and it really worth it with they're not designed to accomplish so. \n"
          ]
        },
        {
          "output_type": "stream",
          "name": "stderr",
          "text": [
            "\r170it [02:31,  1.02s/it]"
          ]
        },
        {
          "output_type": "stream",
          "name": "stdout",
          "text": [
            "audio-chunks/chunk170.wav : What our liquidity operations and i'll talk specifically about the treasury and mbs purchases are designed to do is to. \n"
          ]
        },
        {
          "output_type": "stream",
          "name": "stderr",
          "text": [
            "\r171it [02:32,  1.06it/s]"
          ]
        },
        {
          "output_type": "stream",
          "name": "stdout",
          "text": [
            "audio-chunks/chunk171.wav : Ensure the proper functioning of the treasury and mbs markets. \n"
          ]
        },
        {
          "output_type": "stream",
          "name": "stderr",
          "text": [
            "\r172it [02:32,  1.25it/s]"
          ]
        },
        {
          "output_type": "stream",
          "name": "stdout",
          "text": [
            "audio-chunks/chunk172.wav : The treasury market is. \n"
          ]
        },
        {
          "output_type": "stream",
          "name": "stderr",
          "text": [
            "\r173it [02:33,  1.31it/s]"
          ]
        },
        {
          "output_type": "stream",
          "name": "stdout",
          "text": [
            "audio-chunks/chunk173.wav : One of the most important perhaps the most important. \n"
          ]
        },
        {
          "output_type": "stream",
          "name": "stderr",
          "text": [
            "\r174it [02:33,  1.45it/s]"
          ]
        },
        {
          "output_type": "stream",
          "name": "stdout",
          "text": [
            "audio-chunks/chunk174.wav : Market in the world. \n"
          ]
        },
        {
          "output_type": "stream",
          "name": "stderr",
          "text": [
            "\r175it [02:34,  1.70it/s]"
          ]
        },
        {
          "output_type": "stream",
          "name": "stdout",
          "text": [
            "Error: \n"
          ]
        },
        {
          "output_type": "stream",
          "name": "stderr",
          "text": [
            "\r176it [02:34,  1.67it/s]"
          ]
        },
        {
          "output_type": "stream",
          "name": "stdout",
          "text": [
            "audio-chunks/chunk176.wav : Probably the most liquid large market in the world. \n"
          ]
        },
        {
          "output_type": "stream",
          "name": "stderr",
          "text": [
            "\r177it [02:35,  1.42it/s]"
          ]
        },
        {
          "output_type": "stream",
          "name": "stdout",
          "text": [
            "audio-chunks/chunk177.wav : Cmbs market is very important to closely linked to the treasury market. \n"
          ]
        },
        {
          "output_type": "stream",
          "name": "stderr",
          "text": [
            "\r178it [02:36,  1.42it/s]"
          ]
        },
        {
          "output_type": "stream",
          "name": "stdout",
          "text": [
            "audio-chunks/chunk178.wav : And it's the way that our monetary policy decisions. \n"
          ]
        },
        {
          "output_type": "stream",
          "name": "stderr",
          "text": [
            "\r179it [02:37,  1.32it/s]"
          ]
        },
        {
          "output_type": "stream",
          "name": "stdout",
          "text": [
            "audio-chunks/chunk179.wav : Flow through to borrowers in the real economy set to very important. \n"
          ]
        },
        {
          "output_type": "stream",
          "name": "stderr",
          "text": [
            "\r180it [02:38,  1.30it/s]"
          ]
        },
        {
          "output_type": "stream",
          "name": "stdout",
          "text": [
            "audio-chunks/chunk180.wav : Markets and they had reach levels are very high illiquidity. \n"
          ]
        },
        {
          "output_type": "stream",
          "name": "stderr",
          "text": [
            "\r181it [02:39,  1.18it/s]"
          ]
        },
        {
          "output_type": "stream",
          "name": "stdout",
          "text": [
            "audio-chunks/chunk181.wav : And i'm to the point where we at let you know last week we we offered financing. \n"
          ]
        },
        {
          "output_type": "stream",
          "name": "stderr",
          "text": [
            "\r182it [02:40,  1.11s/it]"
          ]
        },
        {
          "output_type": "stream",
          "name": "stdout",
          "text": [
            "audio-chunks/chunk182.wav : Very large amounts of financing and after that we bought a certapro the curve to try to support liquidity and return to normal function. \n"
          ]
        },
        {
          "output_type": "stream",
          "name": "stderr",
          "text": [
            "\r183it [02:42,  1.32s/it]"
          ]
        },
        {
          "output_type": "stream",
          "name": "stdout",
          "text": [
            "audio-chunks/chunk183.wav : And we found it that helped but nonetheless week we felt we had to do more and and we knew what we had to do which was the asset-purchase programs that we did today. \n"
          ]
        },
        {
          "output_type": "stream",
          "name": "stderr",
          "text": [
            "\r184it [02:43,  1.12s/it]"
          ]
        },
        {
          "output_type": "stream",
          "name": "stdout",
          "text": [
            "audio-chunks/chunk184.wav : Those are designed to restore those key. \n"
          ]
        },
        {
          "output_type": "stream",
          "name": "stderr",
          "text": [
            "\r185it [02:44,  1.01s/it]"
          ]
        },
        {
          "output_type": "stream",
          "name": "stdout",
          "text": [
            "audio-chunks/chunk185.wav : Markets to normal function that why is it important to to everyone. \n"
          ]
        },
        {
          "output_type": "stream",
          "name": "stderr",
          "text": [
            "\r186it [02:44,  1.20it/s]"
          ]
        },
        {
          "output_type": "stream",
          "name": "stdout",
          "text": [
            "Error: \n"
          ]
        },
        {
          "output_type": "stream",
          "name": "stderr",
          "text": [
            "\r187it [02:46,  1.04s/it]"
          ]
        },
        {
          "output_type": "stream",
          "name": "stdout",
          "text": [
            "audio-chunks/chunk187.wav : These markets are part of the foundation of the global financial system and of the united states financial system and if they are not functioning well then other markets. \n"
          ]
        },
        {
          "output_type": "stream",
          "name": "stderr",
          "text": [
            "\r188it [02:46,  1.20it/s]"
          ]
        },
        {
          "output_type": "stream",
          "name": "stdout",
          "text": [
            "audio-chunks/chunk188.wav : Depend that will spread to other markets. \n"
          ]
        },
        {
          "output_type": "stream",
          "name": "stderr",
          "text": [
            "\r189it [02:47,  1.00s/it]"
          ]
        },
        {
          "output_type": "stream",
          "name": "stdout",
          "text": [
            "audio-chunks/chunk189.wav : And those are the markets that that amount to b where households and businesses typically get credit we know that this functional financial markets. \n"
          ]
        },
        {
          "output_type": "stream",
          "name": "stderr",
          "text": [
            "\r190it [02:48,  1.04it/s]"
          ]
        },
        {
          "output_type": "stream",
          "name": "stdout",
          "text": [
            "audio-chunks/chunk190.wav : I'm just functional city financial system really. \n"
          ]
        },
        {
          "output_type": "stream",
          "name": "stderr",
          "text": [
            "\r191it [02:50,  1.07s/it]"
          ]
        },
        {
          "output_type": "stream",
          "name": "stdout",
          "text": [
            "audio-chunks/chunk191.wav : Can have very big negative effects on the economy we saw that during the financial crisis this is a very different situation but nonetheless we thought it was quite important for us to. \n"
          ]
        },
        {
          "output_type": "stream",
          "name": "stderr",
          "text": [
            "\r192it [02:50,  1.08it/s]"
          ]
        },
        {
          "output_type": "stream",
          "name": "stdout",
          "text": [
            "audio-chunks/chunk192.wav : Take strong measures to support. \n"
          ]
        },
        {
          "output_type": "stream",
          "name": "stderr",
          "text": [
            "\r193it [02:51,  1.32it/s]"
          ]
        },
        {
          "output_type": "stream",
          "name": "stdout",
          "text": [
            "Error: \n"
          ]
        },
        {
          "output_type": "stream",
          "name": "stderr",
          "text": [
            "\r194it [02:52,  1.22it/s]"
          ]
        },
        {
          "output_type": "stream",
          "name": "stdout",
          "text": [
            "audio-chunks/chunk194.wav : Dodge sport proper market function in these important markets. \n"
          ]
        },
        {
          "output_type": "stream",
          "name": "stderr",
          "text": [
            "\r195it [02:52,  1.31it/s]"
          ]
        },
        {
          "output_type": "stream",
          "name": "stdout",
          "text": [
            "audio-chunks/chunk195.wav : You asked about household. \n"
          ]
        },
        {
          "output_type": "stream",
          "name": "stderr",
          "text": [
            "\r196it [02:53,  1.22it/s]"
          ]
        },
        {
          "output_type": "stream",
          "name": "stdout",
          "text": [
            "audio-chunks/chunk196.wav : It's true we don't have the tools to reach individuals in particular small businesses. \n"
          ]
        },
        {
          "output_type": "stream",
          "name": "stderr",
          "text": [
            "\r197it [02:56,  1.31s/it]"
          ]
        },
        {
          "output_type": "stream",
          "name": "stdout",
          "text": [
            "audio-chunks/chunk197.wav : And at the other businesses and people who may be out of work or whose businesses may not may experience a very little activity we don't have those tools we have the tools that we have and we use them i think we use them quite aggressively. \n"
          ]
        },
        {
          "output_type": "stream",
          "name": "stderr",
          "text": [
            "\r198it [02:56,  1.11s/it]"
          ]
        },
        {
          "output_type": "stream",
          "name": "stdout",
          "text": [
            "audio-chunks/chunk198.wav : For the benefit of the public. \n"
          ]
        },
        {
          "output_type": "stream",
          "name": "stderr",
          "text": [
            "\r199it [02:57,  1.07it/s]"
          ]
        },
        {
          "output_type": "stream",
          "name": "stdout",
          "text": [
            "audio-chunks/chunk199.wav : This is a multifaceted problem. \n"
          ]
        },
        {
          "output_type": "stream",
          "name": "stderr",
          "text": [
            "\r200it [02:58,  1.03s/it]"
          ]
        },
        {
          "output_type": "stream",
          "name": "stdout",
          "text": [
            "audio-chunks/chunk200.wav : And it requires answers from different parts of the government and private society either. \n"
          ]
        },
        {
          "output_type": "stream",
          "name": "stderr",
          "text": [
            "\r201it [02:59,  1.02it/s]"
          ]
        },
        {
          "output_type": "stream",
          "name": "stdout",
          "text": [
            "audio-chunks/chunk201.wav : By far the most important is the response of the healthcare. \n"
          ]
        },
        {
          "output_type": "stream",
          "name": "stderr",
          "text": [
            "\r202it [03:00,  1.12it/s]"
          ]
        },
        {
          "output_type": "stream",
          "name": "stdout",
          "text": [
            "audio-chunks/chunk202.wav : Workers in healthcare healthcare policy makers. \n"
          ]
        },
        {
          "output_type": "stream",
          "name": "stderr",
          "text": [
            "\r203it [03:00,  1.34it/s]"
          ]
        },
        {
          "output_type": "stream",
          "name": "stdout",
          "text": [
            "audio-chunks/chunk203.wav : After that. \n"
          ]
        },
        {
          "output_type": "stream",
          "name": "stderr",
          "text": [
            "\r204it [03:01,  1.06it/s]"
          ]
        },
        {
          "output_type": "stream",
          "name": "stdout",
          "text": [
            "audio-chunks/chunk204.wav : Fiscal policy we've had one round of fiscal policy another coming i think fiscal policy is a way to direct. \n"
          ]
        },
        {
          "output_type": "stream",
          "name": "stderr",
          "text": [
            "\r205it [03:02,  1.09it/s]"
          ]
        },
        {
          "output_type": "stream",
          "name": "stdout",
          "text": [
            "audio-chunks/chunk205.wav : Not really really 22 particular populations and groups. \n"
          ]
        },
        {
          "output_type": "stream",
          "name": "stderr",
          "text": [
            "\r206it [03:03,  1.15it/s]"
          ]
        },
        {
          "output_type": "stream",
          "name": "stdout",
          "text": [
            "audio-chunks/chunk206.wav : Mantra coffee has a role and it really is in. \n"
          ]
        },
        {
          "output_type": "stream",
          "name": "stderr",
          "text": [
            "\r207it [03:04,  1.10it/s]"
          ]
        },
        {
          "output_type": "stream",
          "name": "stdout",
          "text": [
            "audio-chunks/chunk207.wav : You know original role was providing liquidity to. \n"
          ]
        },
        {
          "output_type": "stream",
          "name": "stderr",
          "text": [
            "\r208it [03:05,  1.06s/it]"
          ]
        },
        {
          "output_type": "stream",
          "name": "stdout",
          "text": [
            "audio-chunks/chunk208.wav : Financial systems when they're under stress and that's that's really part of what we did today the other role is to support the man through lower interest rates and we did. \n"
          ]
        },
        {
          "output_type": "stream",
          "name": "stderr",
          "text": [
            "\r209it [03:06,  1.02s/it]"
          ]
        },
        {
          "output_type": "stream",
          "name": "stdout",
          "text": [
            "audio-chunks/chunk209.wav : Fiscal as well i guess i should have covered that. \n"
          ]
        },
        {
          "output_type": "stream",
          "name": "stderr",
          "text": [
            "\r210it [03:07,  1.01it/s]"
          ]
        },
        {
          "output_type": "stream",
          "name": "stdout",
          "text": [
            "audio-chunks/chunk210.wav : We do think physical responses is critical and we're happy to see that the. \n"
          ]
        },
        {
          "output_type": "stream",
          "name": "stderr",
          "text": [
            "\r211it [03:08,  1.07it/s]"
          ]
        },
        {
          "output_type": "stream",
          "name": "stdout",
          "text": [
            "audio-chunks/chunk211.wav : Those measures are being considered and we we we. \n"
          ]
        },
        {
          "output_type": "stream",
          "name": "stderr",
          "text": [
            "\r212it [03:09,  1.22it/s]"
          ]
        },
        {
          "output_type": "stream",
          "name": "stdout",
          "text": [
            "audio-chunks/chunk212.wav : We hope they are effective. \n"
          ]
        },
        {
          "output_type": "stream",
          "name": "stderr",
          "text": [
            "\r213it [03:09,  1.28it/s]"
          ]
        },
        {
          "output_type": "stream",
          "name": "stdout",
          "text": [
            "audio-chunks/chunk213.wav : We're going to go to fox business. \n"
          ]
        },
        {
          "output_type": "stream",
          "name": "stderr",
          "text": [
            "\r214it [03:10,  1.51it/s]"
          ]
        },
        {
          "output_type": "stream",
          "name": "stdout",
          "text": [
            "Error: \n"
          ]
        },
        {
          "output_type": "stream",
          "name": "stderr",
          "text": [
            "\r215it [03:12,  1.05s/it]"
          ]
        },
        {
          "output_type": "stream",
          "name": "stdout",
          "text": [
            "audio-chunks/chunk215.wav : Thank you mr. chairman edward lawrence from fox business network in your statement you say that the market measures of inflation of decline the fed his understand inflation. \n"
          ]
        },
        {
          "output_type": "stream",
          "name": "stderr",
          "text": [
            "\r216it [03:13,  1.15s/it]"
          ]
        },
        {
          "output_type": "stream",
          "name": "stdout",
          "text": [
            "audio-chunks/chunk216.wav : In the last year and that's because of the focuses of the fomc meeting that does the federal reserve see deflation. \n"
          ]
        },
        {
          "output_type": "stream",
          "name": "stderr",
          "text": [
            "\r217it [03:14,  1.11s/it]"
          ]
        },
        {
          "output_type": "stream",
          "name": "stdout",
          "text": [
            "audio-chunks/chunk217.wav : Coming and if his large cut mint to get in front of anymore inflation plus. \n"
          ]
        },
        {
          "output_type": "stream",
          "name": "stderr",
          "text": [
            "\r218it [03:15,  1.03s/it]"
          ]
        },
        {
          "output_type": "stream",
          "name": "stdout",
          "text": [
            "audio-chunks/chunk218.wav : The second question would consider buying securities outside of treasuries and mortgage-backed securities. \n"
          ]
        },
        {
          "output_type": "stream",
          "name": "stderr",
          "text": [
            "\r219it [03:16,  1.01s/it]"
          ]
        },
        {
          "output_type": "stream",
          "name": "stdout",
          "text": [
            "audio-chunks/chunk219.wav : Bright sew-on on fletcher. \n"
          ]
        },
        {
          "output_type": "stream",
          "name": "stderr",
          "text": [
            "\r220it [03:17,  1.10s/it]"
          ]
        },
        {
          "output_type": "stream",
          "name": "stdout",
          "text": [
            "audio-chunks/chunk220.wav : You know the economy's performance so well really over the last few years and write up to january. \n"
          ]
        },
        {
          "output_type": "stream",
          "name": "stderr",
          "text": [
            "\r221it [03:18,  1.03s/it]"
          ]
        },
        {
          "output_type": "stream",
          "name": "stdout",
          "text": [
            "audio-chunks/chunk221.wav : Historically low on employment 50-year low unemployment for a couple of years. \n"
          ]
        },
        {
          "output_type": "stream",
          "name": "stderr",
          "text": [
            "\r222it [03:19,  1.06it/s]"
          ]
        },
        {
          "output_type": "stream",
          "name": "stdout",
          "text": [
            "audio-chunks/chunk222.wav : 11 years almost 11 years of expansion so far. \n"
          ]
        },
        {
          "output_type": "stream",
          "name": "stderr",
          "text": [
            "\r223it [03:20,  1.14s/it]"
          ]
        },
        {
          "output_type": "stream",
          "name": "stdout",
          "text": [
            "audio-chunks/chunk223.wav : And inflation linger below 2% so we've been concerned that inflation not move down further it's not at all a question of deflation is a question of not getting. \n"
          ]
        },
        {
          "output_type": "stream",
          "name": "stderr",
          "text": [
            "\r224it [03:21,  1.01s/it]"
          ]
        },
        {
          "output_type": "stream",
          "name": "stdout",
          "text": [
            "audio-chunks/chunk224.wav : Inflation up to our target on a robust. \n"
          ]
        },
        {
          "output_type": "stream",
          "name": "stderr",
          "text": [
            "\r225it [03:22,  1.17it/s]"
          ]
        },
        {
          "output_type": "stream",
          "name": "stdout",
          "text": [
            "audio-chunks/chunk225.wav : Symmetric kind of way. \n"
          ]
        },
        {
          "output_type": "stream",
          "name": "stderr",
          "text": [
            "\r226it [03:22,  1.36it/s]"
          ]
        },
        {
          "output_type": "stream",
          "name": "stdout",
          "text": [
            "audio-chunks/chunk226.wav : So with this. \n"
          ]
        },
        {
          "output_type": "stream",
          "name": "stderr",
          "text": [
            "\r227it [03:23,  1.22it/s]"
          ]
        },
        {
          "output_type": "stream",
          "name": "stdout",
          "text": [
            "audio-chunks/chunk227.wav : Coronavirus arriving we judge that the the net effects of this will be too. \n"
          ]
        },
        {
          "output_type": "stream",
          "name": "stderr",
          "text": [
            "\r228it [03:24,  1.31it/s]"
          ]
        },
        {
          "output_type": "stream",
          "name": "stdout",
          "text": [
            "audio-chunks/chunk228.wav : To have inflation move down even a little bit more. \n"
          ]
        },
        {
          "output_type": "stream",
          "name": "stderr",
          "text": [
            "\r229it [03:25,  1.17it/s]"
          ]
        },
        {
          "output_type": "stream",
          "name": "stdout",
          "text": [
            "audio-chunks/chunk229.wav : It's not a question about it's not it's not an issue of deflation again it's just. \n"
          ]
        },
        {
          "output_type": "stream",
          "name": "stderr",
          "text": [
            "\r230it [03:25,  1.23it/s]"
          ]
        },
        {
          "output_type": "stream",
          "name": "stdout",
          "text": [
            "audio-chunks/chunk230.wav : An issue of inflation probably falling even a bit further we expect. \n"
          ]
        },
        {
          "output_type": "stream",
          "name": "stderr",
          "text": [
            "\r231it [03:27,  1.05it/s]"
          ]
        },
        {
          "output_type": "stream",
          "name": "stdout",
          "text": [
            "audio-chunks/chunk231.wav : With with uncertainty that dumb you know that it will fall a little bit further at least below where it has been. \n"
          ]
        },
        {
          "output_type": "stream",
          "name": "stderr",
          "text": [
            "\r232it [03:28,  1.02s/it]"
          ]
        },
        {
          "output_type": "stream",
          "name": "stdout",
          "text": [
            "audio-chunks/chunk232.wav : We are if we don't have the legal authority to buy other securities other than. \n"
          ]
        },
        {
          "output_type": "stream",
          "name": "stderr",
          "text": [
            "\r233it [03:29,  1.00it/s]"
          ]
        },
        {
          "output_type": "stream",
          "name": "stdout",
          "text": [
            "audio-chunks/chunk233.wav : The ones we already by and we're not seeking authority to do so we haven't discussed that at the. \n"
          ]
        },
        {
          "output_type": "stream",
          "name": "stderr",
          "text": [
            "\r234it [03:30,  1.06it/s]"
          ]
        },
        {
          "output_type": "stream",
          "name": "stdout",
          "text": [
            "audio-chunks/chunk234.wav : I'm saying it's not it's not legal authority that receiving. \n"
          ]
        },
        {
          "output_type": "stream",
          "name": "stderr",
          "text": [
            "\r235it [03:30,  1.18it/s]"
          ]
        },
        {
          "output_type": "stream",
          "name": "stdout",
          "text": [
            "audio-chunks/chunk235.wav : Ok google to the financial times. \n"
          ]
        },
        {
          "output_type": "stream",
          "name": "stderr",
          "text": [
            "\r236it [03:31,  1.21it/s]"
          ]
        },
        {
          "output_type": "stream",
          "name": "stdout",
          "text": [
            "audio-chunks/chunk236.wav : Suspending greeley with financial times. \n"
          ]
        },
        {
          "output_type": "stream",
          "name": "stderr",
          "text": [
            "\r237it [03:31,  1.45it/s]"
          ]
        },
        {
          "output_type": "stream",
          "name": "stdout",
          "text": [
            "Error: \n"
          ]
        },
        {
          "output_type": "stream",
          "name": "stderr",
          "text": [
            "\r238it [03:32,  1.52it/s]"
          ]
        },
        {
          "output_type": "stream",
          "name": "stdout",
          "text": [
            "audio-chunks/chunk238.wav : You have talked about the. \n"
          ]
        },
        {
          "output_type": "stream",
          "name": "stderr",
          "text": [
            "\r239it [03:33,  1.35it/s]"
          ]
        },
        {
          "output_type": "stream",
          "name": "stdout",
          "text": [
            "audio-chunks/chunk239.wav : Mortgage-backed security purchases of treasury purchases as stability. \n"
          ]
        },
        {
          "output_type": "stream",
          "name": "stderr",
          "text": [
            "\r240it [03:33,  1.59it/s]"
          ]
        },
        {
          "output_type": "stream",
          "name": "stdout",
          "text": [
            "Error: \n"
          ]
        },
        {
          "output_type": "stream",
          "name": "stderr",
          "text": [
            "\r241it [03:34,  1.46it/s]"
          ]
        },
        {
          "output_type": "stream",
          "name": "stdout",
          "text": [
            "audio-chunks/chunk241.wav : To do the operation. \n"
          ]
        },
        {
          "output_type": "stream",
          "name": "stderr",
          "text": [
            "\r242it [03:35,  1.28it/s]"
          ]
        },
        {
          "output_type": "stream",
          "name": "stdout",
          "text": [
            "audio-chunks/chunk242.wav : Asking to determine whether or not this is quantitative easing. \n"
          ]
        },
        {
          "output_type": "stream",
          "name": "stderr",
          "text": [
            "\r243it [03:36,  1.17it/s]"
          ]
        },
        {
          "output_type": "stream",
          "name": "stdout",
          "text": [
            "audio-chunks/chunk243.wav : Something you baby when the future that is explicit quantitative easing or can we think of this. \n"
          ]
        },
        {
          "output_type": "stream",
          "name": "stderr",
          "text": [
            "\r244it [03:37,  1.27it/s]"
          ]
        },
        {
          "output_type": "stream",
          "name": "stdout",
          "text": [
            "audio-chunks/chunk244.wav : The first step in quantitative easing. \n"
          ]
        },
        {
          "output_type": "stream",
          "name": "stderr",
          "text": [
            "\r245it [03:37,  1.55it/s]"
          ]
        },
        {
          "output_type": "stream",
          "name": "stdout",
          "text": [
            "Error: \n"
          ]
        },
        {
          "output_type": "stream",
          "name": "stderr",
          "text": [
            "\r246it [03:38,  1.27it/s]"
          ]
        },
        {
          "output_type": "stream",
          "name": "stdout",
          "text": [
            "audio-chunks/chunk246.wav : So what what i can tell you definitively is what the purpose of the asset purchases was and i i mentioned this in my statement. \n"
          ]
        },
        {
          "output_type": "stream",
          "name": "stderr",
          "text": [
            "\r247it [03:40,  1.03it/s]"
          ]
        },
        {
          "output_type": "stream",
          "name": "stdout",
          "text": [
            "audio-chunks/chunk247.wav : It really is to support the availability of credit in the economy households and businesses and thereby support the overall economy how did they do that. \n"
          ]
        },
        {
          "output_type": "stream",
          "name": "stderr",
          "text": [
            "\r248it [03:41,  1.01it/s]"
          ]
        },
        {
          "output_type": "stream",
          "name": "stdout",
          "text": [
            "audio-chunks/chunk248.wav : You do that by supporting proper market functioning in the treasure market in the nbs market. \n"
          ]
        },
        {
          "output_type": "stream",
          "name": "stderr",
          "text": [
            "\r249it [03:41,  1.21it/s]"
          ]
        },
        {
          "output_type": "stream",
          "name": "stdout",
          "text": [
            "audio-chunks/chunk249.wav : So you see. \n"
          ]
        },
        {
          "output_type": "stream",
          "name": "stderr",
          "text": [
            "\r250it [03:42,  1.05it/s]"
          ]
        },
        {
          "output_type": "stream",
          "name": "stdout",
          "text": [
            "audio-chunks/chunk250.wav : I think you'll see as these purchases roll forward you will see the treasury market in the nbs morgan returning to. \n"
          ]
        },
        {
          "output_type": "stream",
          "name": "stderr",
          "text": [
            "\r251it [03:43,  1.18it/s]"
          ]
        },
        {
          "output_type": "stream",
          "name": "stdout",
          "text": [
            "audio-chunks/chunk251.wav : To normal market function. \n"
          ]
        },
        {
          "output_type": "stream",
          "name": "stderr",
          "text": [
            "\r252it [03:44,  1.21it/s]"
          ]
        },
        {
          "output_type": "stream",
          "name": "stdout",
          "text": [
            "audio-chunks/chunk252.wav : And that will actually support economic activity that will be a positive for economic activity. \n"
          ]
        },
        {
          "output_type": "stream",
          "name": "stderr",
          "text": [
            "\r253it [03:44,  1.34it/s]"
          ]
        },
        {
          "output_type": "stream",
          "name": "stdout",
          "text": [
            "audio-chunks/chunk253.wav : I'm in terms of what it's labeled. \n"
          ]
        },
        {
          "output_type": "stream",
          "name": "stderr",
          "text": [
            "\r254it [03:45,  1.40it/s]"
          ]
        },
        {
          "output_type": "stream",
          "name": "stdout",
          "text": [
            "audio-chunks/chunk254.wav : That's of less interest to me i i really think. \n"
          ]
        },
        {
          "output_type": "stream",
          "name": "stderr",
          "text": [
            "\r255it [03:46,  1.42it/s]"
          ]
        },
        {
          "output_type": "stream",
          "name": "stdout",
          "text": [
            "audio-chunks/chunk255.wav : We are very clear in our minds what we're doing is for. \n"
          ]
        },
        {
          "output_type": "stream",
          "name": "stderr",
          "text": [
            "\r256it [03:47,  1.09it/s]"
          ]
        },
        {
          "output_type": "stream",
          "name": "stdout",
          "text": [
            "audio-chunks/chunk256.wav : And with the logical effects of being proposed people which was which would be both. \n"
          ]
        },
        {
          "output_type": "stream",
          "name": "stderr",
          "text": [
            "\r257it [03:48,  1.18it/s]"
          ]
        },
        {
          "output_type": "stream",
          "name": "stdout",
          "text": [
            "audio-chunks/chunk257.wav : Better market function and infidel. \n"
          ]
        },
        {
          "output_type": "stream",
          "name": "stderr",
          "text": [
            "\r258it [03:48,  1.20it/s]"
          ]
        },
        {
          "output_type": "stream",
          "name": "stdout",
          "text": [
            "audio-chunks/chunk258.wav : At winners better market function. \n"
          ]
        },
        {
          "output_type": "stream",
          "name": "stderr",
          "text": [
            "\r259it [03:49,  1.42it/s]"
          ]
        },
        {
          "output_type": "stream",
          "name": "stdout",
          "text": [
            "audio-chunks/chunk259.wav : It will be. \n"
          ]
        },
        {
          "output_type": "stream",
          "name": "stderr",
          "text": [
            "\r260it [03:50,  1.36it/s]"
          ]
        },
        {
          "output_type": "stream",
          "name": "stdout",
          "text": [
            "audio-chunks/chunk260.wav : You know policy will be supporting the economy better. \n"
          ]
        },
        {
          "output_type": "stream",
          "name": "stderr",
          "text": [
            "\r261it [03:50,  1.54it/s]"
          ]
        },
        {
          "output_type": "stream",
          "name": "stdout",
          "text": [
            "audio-chunks/chunk261.wav : Okay. \n"
          ]
        },
        {
          "output_type": "stream",
          "name": "stderr",
          "text": [
            "\r262it [03:51,  1.64it/s]"
          ]
        },
        {
          "output_type": "stream",
          "name": "stdout",
          "text": [
            "audio-chunks/chunk262.wav : Bloomberg tv. \n"
          ]
        },
        {
          "output_type": "stream",
          "name": "stderr",
          "text": [
            "\r263it [03:51,  1.88it/s]"
          ]
        },
        {
          "output_type": "stream",
          "name": "stdout",
          "text": [
            "Error: \n"
          ]
        },
        {
          "output_type": "stream",
          "name": "stderr",
          "text": [
            "\r264it [03:52,  1.26it/s]"
          ]
        },
        {
          "output_type": "stream",
          "name": "stdout",
          "text": [
            "audio-chunks/chunk264.wav : I want to ask some timing questions here first on the. \n"
          ]
        },
        {
          "output_type": "stream",
          "name": "stderr",
          "text": [
            "\r265it [03:55,  1.44s/it]"
          ]
        },
        {
          "output_type": "stream",
          "name": "stdout",
          "text": [
            "audio-chunks/chunk265.wav : Whatever it is, you're not can you talk in the press release about increase over coming months is there a timetable for that how long we talkin about 700 billion obviously over two months is a lot different from 700 billion over the course of a year and. \n"
          ]
        },
        {
          "output_type": "stream",
          "name": "stderr",
          "text": [
            "\r266it [03:57,  1.46s/it]"
          ]
        },
        {
          "output_type": "stream",
          "name": "stdout",
          "text": [
            "audio-chunks/chunk266.wav : Do you have a date where you would re-evaluate and perhaps add more or in the program and the same with the. \n"
          ]
        },
        {
          "output_type": "stream",
          "name": "stderr",
          "text": [
            "\r267it [03:58,  1.33s/it]"
          ]
        },
        {
          "output_type": "stream",
          "name": "stdout",
          "text": [
            "audio-chunks/chunk267.wav : Interest rate cut to zero how long do you think that might last and. \n"
          ]
        },
        {
          "output_type": "stream",
          "name": "stderr",
          "text": [
            "\r268it [04:00,  1.48s/it]"
          ]
        },
        {
          "output_type": "stream",
          "name": "stdout",
          "text": [
            "audio-chunks/chunk268.wav : Would you be inclined to quickly go back to a higher level to 100 or basis points or more that you cut it from or would you anticipated this will be a long slow process going back. \n"
          ]
        },
        {
          "output_type": "stream",
          "name": "stderr",
          "text": [
            "\r269it [04:00,  1.22s/it]"
          ]
        },
        {
          "output_type": "stream",
          "name": "stdout",
          "text": [
            "audio-chunks/chunk269.wav : Okay so sorry. \n"
          ]
        },
        {
          "output_type": "stream",
          "name": "stderr",
          "text": [
            "\r270it [04:01,  1.05it/s]"
          ]
        },
        {
          "output_type": "stream",
          "name": "stdout",
          "text": [
            "Error: \n"
          ]
        },
        {
          "output_type": "stream",
          "name": "stderr",
          "text": [
            "\r271it [04:02,  1.05it/s]"
          ]
        },
        {
          "output_type": "stream",
          "name": "stdout",
          "text": [
            "audio-chunks/chunk271.wav : Mike can you ask your question. \n"
          ]
        },
        {
          "output_type": "stream",
          "name": "stderr",
          "text": [
            "\r272it [04:03,  1.21s/it]"
          ]
        },
        {
          "output_type": "stream",
          "name": "stdout",
          "text": [
            "audio-chunks/chunk272.wav : I was asking about timing how long. are we talking about for how long do you anticipate keeping rates low and how fast i bring them back up again. \n"
          ]
        },
        {
          "output_type": "stream",
          "name": "stderr",
          "text": [
            "\r273it [04:05,  1.37s/it]"
          ]
        },
        {
          "output_type": "stream",
          "name": "stdout",
          "text": [
            "audio-chunks/chunk273.wav : Okay sorry so then that's the incoming months language. \n"
          ]
        },
        {
          "output_type": "stream",
          "name": "stderr",
          "text": [
            "\r274it [04:06,  1.08s/it]"
          ]
        },
        {
          "output_type": "stream",
          "name": "stdout",
          "text": [
            "Error: \n"
          ]
        },
        {
          "output_type": "stream",
          "name": "stderr",
          "text": [
            "\r275it [04:07,  1.05s/it]"
          ]
        },
        {
          "output_type": "stream",
          "name": "stdout",
          "text": [
            "audio-chunks/chunk275.wav : The desk is going to go out and it's going to buy at a strong rate. \n"
          ]
        },
        {
          "output_type": "stream",
          "name": "stderr",
          "text": [
            "\r276it [04:07,  1.07it/s]"
          ]
        },
        {
          "output_type": "stream",
          "name": "stdout",
          "text": [
            "audio-chunks/chunk276.wav : That is we that we think we'll restore. \n"
          ]
        },
        {
          "output_type": "stream",
          "name": "stderr",
          "text": [
            "\r277it [04:08,  1.31it/s]"
          ]
        },
        {
          "output_type": "stream",
          "name": "stdout",
          "text": [
            "Error: \n"
          ]
        },
        {
          "output_type": "stream",
          "name": "stderr",
          "text": [
            "\r278it [04:08,  1.48it/s]"
          ]
        },
        {
          "output_type": "stream",
          "name": "stdout",
          "text": [
            "audio-chunks/chunk278.wav : Market function. \n"
          ]
        },
        {
          "output_type": "stream",
          "name": "stderr",
          "text": [
            "\r279it [04:09,  1.41it/s]"
          ]
        },
        {
          "output_type": "stream",
          "name": "stdout",
          "text": [
            "audio-chunks/chunk279.wav : Liquidity as quickly as it can be restored. \n"
          ]
        },
        {
          "output_type": "stream",
          "name": "stderr",
          "text": [
            "\r280it [04:10,  1.25it/s]"
          ]
        },
        {
          "output_type": "stream",
          "name": "stdout",
          "text": [
            "audio-chunks/chunk280.wav : That language is open-ended and it's meant to send a signal to to the market that. \n"
          ]
        },
        {
          "output_type": "stream",
          "name": "stderr",
          "text": [
            "\r281it [04:10,  1.49it/s]"
          ]
        },
        {
          "output_type": "stream",
          "name": "stdout",
          "text": [
            "audio-chunks/chunk281.wav : That. \n"
          ]
        },
        {
          "output_type": "stream",
          "name": "stderr",
          "text": [
            "\r282it [04:11,  1.24it/s]"
          ]
        },
        {
          "output_type": "stream",
          "name": "stdout",
          "text": [
            "audio-chunks/chunk282.wav : You know we're not going to be bound by for example 60 billion a month or anything like that we're going to go in strong. \n"
          ]
        },
        {
          "output_type": "stream",
          "name": "stderr",
          "text": [
            "\r283it [04:12,  1.44it/s]"
          ]
        },
        {
          "output_type": "stream",
          "name": "stdout",
          "text": [
            "audio-chunks/chunk283.wav : Starting tomorrow. \n"
          ]
        },
        {
          "output_type": "stream",
          "name": "stderr",
          "text": [
            "\r284it [04:13,  1.21it/s]"
          ]
        },
        {
          "output_type": "stream",
          "name": "stdout",
          "text": [
            "audio-chunks/chunk284.wav : And we're going to buy across the curve and we're going to buy mbs and we're really going to use our tools. \n"
          ]
        },
        {
          "output_type": "stream",
          "name": "stderr",
          "text": [
            "\r285it [04:14,  1.25it/s]"
          ]
        },
        {
          "output_type": "stream",
          "name": "stdout",
          "text": [
            "audio-chunks/chunk285.wav : To do what we need to do here which is restore these. \n"
          ]
        },
        {
          "output_type": "stream",
          "name": "stderr",
          "text": [
            "\r286it [04:15,  1.21it/s]"
          ]
        },
        {
          "output_type": "stream",
          "name": "stdout",
          "text": [
            "audio-chunks/chunk286.wav : Important markets to normal function for that that's really what that is. \n"
          ]
        },
        {
          "output_type": "stream",
          "name": "stderr",
          "text": [
            "\r287it [04:16,  1.13it/s]"
          ]
        },
        {
          "output_type": "stream",
          "name": "stdout",
          "text": [
            "audio-chunks/chunk287.wav : As far as as the the policy rate what we said is that we will. \n"
          ]
        },
        {
          "output_type": "stream",
          "name": "stderr",
          "text": [
            "\r288it [04:16,  1.22it/s]"
          ]
        },
        {
          "output_type": "stream",
          "name": "stdout",
          "text": [
            "audio-chunks/chunk288.wav : Maintain the rate at this level until work confidence. \n"
          ]
        },
        {
          "output_type": "stream",
          "name": "stderr",
          "text": [
            "\r289it [04:17,  1.12it/s]"
          ]
        },
        {
          "output_type": "stream",
          "name": "stdout",
          "text": [
            "audio-chunks/chunk289.wav : The economy has weathered recent events and is on track to achieve our maximum employment and price stability goals. \n"
          ]
        },
        {
          "output_type": "stream",
          "name": "stderr",
          "text": [
            "\r290it [04:18,  1.07it/s]"
          ]
        },
        {
          "output_type": "stream",
          "name": "stdout",
          "text": [
            "audio-chunks/chunk290.wav : So you can see that's the test we written down and if you look at it you'll see. \n"
          ]
        },
        {
          "output_type": "stream",
          "name": "stderr",
          "text": [
            "\r291it [04:19,  1.11it/s]"
          ]
        },
        {
          "output_type": "stream",
          "name": "stdout",
          "text": [
            "audio-chunks/chunk291.wav : That some things have to happen before we agree consider we have to become confident. \n"
          ]
        },
        {
          "output_type": "stream",
          "name": "stderr",
          "text": [
            "\r292it [04:20,  1.14it/s]"
          ]
        },
        {
          "output_type": "stream",
          "name": "stdout",
          "text": [
            "audio-chunks/chunk292.wav : That the economy has whether these recent events. \n"
          ]
        },
        {
          "output_type": "stream",
          "name": "stderr",
          "text": [
            "\r293it [04:21,  1.05it/s]"
          ]
        },
        {
          "output_type": "stream",
          "name": "stdout",
          "text": [
            "audio-chunks/chunk293.wav : And also is on track to achieve our maximum employment price stability cold so. \n"
          ]
        },
        {
          "output_type": "stream",
          "name": "stderr",
          "text": [
            "\r294it [04:22,  1.03s/it]"
          ]
        },
        {
          "output_type": "stream",
          "name": "stdout",
          "text": [
            "audio-chunks/chunk294.wav : Not the test will be looking at and i think it's suggest that you know we're going to be watching. \n"
          ]
        },
        {
          "output_type": "stream",
          "name": "stderr",
          "text": [
            "\r295it [04:23,  1.14it/s]"
          ]
        },
        {
          "output_type": "stream",
          "name": "stdout",
          "text": [
            "audio-chunks/chunk295.wav : And willing to be patient certainly. \n"
          ]
        },
        {
          "output_type": "stream",
          "name": "stderr",
          "text": [
            "\r296it [04:23,  1.25it/s]"
          ]
        },
        {
          "output_type": "stream",
          "name": "stdout",
          "text": [
            "audio-chunks/chunk296.wav : Okay we're going to go to the associated press. \n"
          ]
        },
        {
          "output_type": "stream",
          "name": "stderr",
          "text": [
            "\r297it [04:24,  1.40it/s]"
          ]
        },
        {
          "output_type": "stream",
          "name": "stdout",
          "text": [
            "audio-chunks/chunk297.wav : Hi. \n"
          ]
        },
        {
          "output_type": "stream",
          "name": "stderr",
          "text": [
            "\r298it [04:25,  1.21it/s]"
          ]
        },
        {
          "output_type": "stream",
          "name": "stdout",
          "text": [
            "audio-chunks/chunk298.wav : Scripture gabriel ap. \n"
          ]
        },
        {
          "output_type": "stream",
          "name": "stderr",
          "text": [
            "\r299it [04:26,  1.28it/s]"
          ]
        },
        {
          "output_type": "stream",
          "name": "stdout",
          "text": [
            "audio-chunks/chunk299.wav : 2008 you had a lot of coordination between. \n"
          ]
        },
        {
          "output_type": "stream",
          "name": "stderr",
          "text": [
            "\r300it [04:27,  1.24it/s]"
          ]
        },
        {
          "output_type": "stream",
          "name": "stdout",
          "text": [
            "audio-chunks/chunk300.wav : The white house at that time the fed the treasury. \n"
          ]
        },
        {
          "output_type": "stream",
          "name": "stderr",
          "text": [
            "\r301it [04:28,  1.15it/s]"
          ]
        },
        {
          "output_type": "stream",
          "name": "stdout",
          "text": [
            "audio-chunks/chunk301.wav : Bernanke doing all things with paulson and so forth. \n"
          ]
        },
        {
          "output_type": "stream",
          "name": "stderr",
          "text": [
            "\r302it [04:29,  1.15s/it]"
          ]
        },
        {
          "output_type": "stream",
          "name": "stdout",
          "text": [
            "audio-chunks/chunk302.wav : You know today the white house had its first come first at 5 and you guys are doing something a little separate. \n"
          ]
        },
        {
          "output_type": "stream",
          "name": "stderr",
          "text": [
            "\r303it [04:30,  1.02s/it]"
          ]
        },
        {
          "output_type": "stream",
          "name": "stdout",
          "text": [
            "audio-chunks/chunk303.wav : Is there do you think it would be more helpful to markets. \n"
          ]
        },
        {
          "output_type": "stream",
          "name": "stderr",
          "text": [
            "\r304it [04:31,  1.02s/it]"
          ]
        },
        {
          "output_type": "stream",
          "name": "stdout",
          "text": [
            "audio-chunks/chunk304.wav : Plants in the broader economy to have a more coordinated response. \n"
          ]
        },
        {
          "output_type": "stream",
          "name": "stderr",
          "text": [
            "\r305it [04:32,  1.10it/s]"
          ]
        },
        {
          "output_type": "stream",
          "name": "stdout",
          "text": [
            "audio-chunks/chunk305.wav : We might look for in the future. \n"
          ]
        },
        {
          "output_type": "stream",
          "name": "stderr",
          "text": [
            "\r306it [04:32,  1.37it/s]"
          ]
        },
        {
          "output_type": "stream",
          "name": "stdout",
          "text": [
            "Error: \n"
          ]
        },
        {
          "output_type": "stream",
          "name": "stderr",
          "text": [
            "\r307it [04:33,  1.24it/s]"
          ]
        },
        {
          "output_type": "stream",
          "name": "stdout",
          "text": [
            "audio-chunks/chunk307.wav : Well i would say this you know what i'm. \n"
          ]
        },
        {
          "output_type": "stream",
          "name": "stderr",
          "text": [
            "\r308it [04:34,  1.45it/s]"
          ]
        },
        {
          "output_type": "stream",
          "name": "stdout",
          "text": [
            "Error: \n"
          ]
        },
        {
          "output_type": "stream",
          "name": "stderr",
          "text": [
            "\r309it [04:35,  1.19it/s]"
          ]
        },
        {
          "output_type": "stream",
          "name": "stdout",
          "text": [
            "audio-chunks/chunk309.wav : We have different tools i think we do actually work pretty closely with the treasury department and and cooperate with him on things. \n"
          ]
        },
        {
          "output_type": "stream",
          "name": "stderr",
          "text": [
            "\r310it [04:36,  1.03s/it]"
          ]
        },
        {
          "output_type": "stream",
          "name": "stdout",
          "text": [
            "audio-chunks/chunk310.wav : With clear lines of didn't do any asian for example that the treasury department has. \n"
          ]
        },
        {
          "output_type": "stream",
          "name": "stderr",
          "text": [
            "\r311it [04:37,  1.06it/s]"
          ]
        },
        {
          "output_type": "stream",
          "name": "stdout",
          "text": [
            "audio-chunks/chunk311.wav : Authority over fiscal policy that's not our job. \n"
          ]
        },
        {
          "output_type": "stream",
          "name": "stderr",
          "text": [
            "\r312it [04:38,  1.11it/s]"
          ]
        },
        {
          "output_type": "stream",
          "name": "stdout",
          "text": [
            "audio-chunks/chunk312.wav : It's their job with other parts of the administration. \n"
          ]
        },
        {
          "output_type": "stream",
          "name": "stderr",
          "text": [
            "\r313it [04:40,  1.29s/it]"
          ]
        },
        {
          "output_type": "stream",
          "name": "stdout",
          "text": [
            "audio-chunks/chunk313.wav : It's just that like that for us with monetary policy we have sole responsibility for monetary policy and strong instructions from congress to conduct an independent non-political way so those two things. \n"
          ]
        },
        {
          "output_type": "stream",
          "name": "stderr",
          "text": [
            "\r314it [04:40,  1.05s/it]"
          ]
        },
        {
          "output_type": "stream",
          "name": "stdout",
          "text": [
            "audio-chunks/chunk314.wav : One for each of us. \n"
          ]
        },
        {
          "output_type": "stream",
          "name": "stderr",
          "text": [
            "\r315it [04:42,  1.07s/it]"
          ]
        },
        {
          "output_type": "stream",
          "name": "stdout",
          "text": [
            "audio-chunks/chunk315.wav : But in the middle of their they're there are areas where we where we can cooperate and. \n"
          ]
        },
        {
          "output_type": "stream",
          "name": "stderr",
          "text": [
            "\r316it [04:43,  1.26s/it]"
          ]
        },
        {
          "output_type": "stream",
          "name": "stdout",
          "text": [
            "audio-chunks/chunk316.wav : And also there's a long history you would want the finance ministry in the treasury to be talking in every major economy in the world you would want them to be regularly exchanging information. \n"
          ]
        },
        {
          "output_type": "stream",
          "name": "stderr",
          "text": [
            "\r317it [04:44,  1.10s/it]"
          ]
        },
        {
          "output_type": "stream",
          "name": "stdout",
          "text": [
            "audio-chunks/chunk317.wav : Professional relationships not just at the. \n"
          ]
        },
        {
          "output_type": "stream",
          "name": "stderr",
          "text": [
            "\r318it [04:45,  1.06it/s]"
          ]
        },
        {
          "output_type": "stream",
          "name": "stdout",
          "text": [
            "audio-chunks/chunk318.wav : You know that.. \n"
          ]
        },
        {
          "output_type": "stream",
          "name": "stderr",
          "text": [
            "\r319it [04:46,  1.01it/s]"
          ]
        },
        {
          "output_type": "stream",
          "name": "stdout",
          "text": [
            "audio-chunks/chunk319.wav : Did cher to treasury secretary level but also through the organization for example. \n"
          ]
        },
        {
          "output_type": "stream",
          "name": "stderr",
          "text": [
            "\r320it [04:46,  1.08it/s]"
          ]
        },
        {
          "output_type": "stream",
          "name": "stdout",
          "text": [
            "audio-chunks/chunk320.wav : The new york fed is the treasury's age and fiscal agent as you know so. \n"
          ]
        },
        {
          "output_type": "stream",
          "name": "stderr",
          "text": [
            "\r321it [04:48,  1.03s/it]"
          ]
        },
        {
          "output_type": "stream",
          "name": "stdout",
          "text": [
            "audio-chunks/chunk321.wav : There's a lot that goes into debt management and the issuance of debt which happens at the new york fed so i think we do actually we have. \n"
          ]
        },
        {
          "output_type": "stream",
          "name": "stderr",
          "text": [
            "\r322it [04:48,  1.05it/s]"
          ]
        },
        {
          "output_type": "stream",
          "name": "stdout",
          "text": [
            "audio-chunks/chunk322.wav : Professional good working relationships up and down the chain there. \n"
          ]
        },
        {
          "output_type": "stream",
          "name": "stderr",
          "text": [
            "\r323it [04:49,  1.21it/s]"
          ]
        },
        {
          "output_type": "stream",
          "name": "stdout",
          "text": [
            "audio-chunks/chunk323.wav : And dumb you know. \n"
          ]
        },
        {
          "output_type": "stream",
          "name": "stderr",
          "text": [
            "\r324it [04:49,  1.45it/s]"
          ]
        },
        {
          "output_type": "stream",
          "name": "stdout",
          "text": [
            "Error: \n"
          ]
        },
        {
          "output_type": "stream",
          "name": "stderr",
          "text": [
            "\r325it [04:50,  1.41it/s]"
          ]
        },
        {
          "output_type": "stream",
          "name": "stdout",
          "text": [
            "audio-chunks/chunk325.wav : That's that's it that seems to be working and there is. \n"
          ]
        },
        {
          "output_type": "stream",
          "name": "stderr",
          "text": [
            "\r326it [04:50,  1.65it/s]"
          ]
        },
        {
          "output_type": "stream",
          "name": "stdout",
          "text": [
            "Error: \n"
          ]
        },
        {
          "output_type": "stream",
          "name": "stderr",
          "text": [
            "\r327it [04:52,  1.11it/s]"
          ]
        },
        {
          "output_type": "stream",
          "name": "stdout",
          "text": [
            "audio-chunks/chunk327.wav : Is also quite a lot of coordination and in other respects with of course with foreign central banks but you didn't ask about that. \n"
          ]
        },
        {
          "output_type": "stream",
          "name": "stderr",
          "text": [
            "\r328it [04:53,  1.20it/s]"
          ]
        },
        {
          "output_type": "stream",
          "name": "stdout",
          "text": [
            "audio-chunks/chunk328.wav : We're going to go to the washington post. \n"
          ]
        },
        {
          "output_type": "stream",
          "name": "stderr",
          "text": [
            "\r329it [04:53,  1.46it/s]"
          ]
        },
        {
          "output_type": "stream",
          "name": "stdout",
          "text": [
            "Error: \n"
          ]
        },
        {
          "output_type": "stream",
          "name": "stderr",
          "text": [
            "\r330it [04:53,  1.70it/s]"
          ]
        },
        {
          "output_type": "stream",
          "name": "stdout",
          "text": [
            "Error: \n"
          ]
        },
        {
          "output_type": "stream",
          "name": "stderr",
          "text": [
            "\r331it [04:54,  1.76it/s]"
          ]
        },
        {
          "output_type": "stream",
          "name": "stdout",
          "text": [
            "audio-chunks/chunk331.wav : Washington post are you there. \n"
          ]
        },
        {
          "output_type": "stream",
          "name": "stderr",
          "text": [
            "\r332it [04:54,  1.99it/s]"
          ]
        },
        {
          "output_type": "stream",
          "name": "stdout",
          "text": [
            "Error: \n"
          ]
        },
        {
          "output_type": "stream",
          "name": "stderr",
          "text": [
            "\r333it [04:55,  1.88it/s]"
          ]
        },
        {
          "output_type": "stream",
          "name": "stdout",
          "text": [
            "audio-chunks/chunk333.wav : Sorry i'm here. \n"
          ]
        },
        {
          "output_type": "stream",
          "name": "stderr",
          "text": [
            "\r334it [04:55,  1.89it/s]"
          ]
        },
        {
          "output_type": "stream",
          "name": "stdout",
          "text": [
            "audio-chunks/chunk334.wav : Hydropower. \n"
          ]
        },
        {
          "output_type": "stream",
          "name": "stderr",
          "text": [
            "\r335it [04:57,  1.23it/s]"
          ]
        },
        {
          "output_type": "stream",
          "name": "stdout",
          "text": [
            "audio-chunks/chunk335.wav : Two questions this evening first have you personally been tested for coronavirus and are you working from home if you could shed some light on the precautions you're taking. \n"
          ]
        },
        {
          "output_type": "stream",
          "name": "stderr",
          "text": [
            "\r336it [04:58,  1.20it/s]"
          ]
        },
        {
          "output_type": "stream",
          "name": "stdout",
          "text": [
            "audio-chunks/chunk336.wav : And second do you believe the fed has sufficient tools at the moment. \n"
          ]
        },
        {
          "output_type": "stream",
          "name": "stderr",
          "text": [
            "\r337it [04:59,  1.11it/s]"
          ]
        },
        {
          "output_type": "stream",
          "name": "stdout",
          "text": [
            "audio-chunks/chunk337.wav : Are you seeking congressional action to expand your tool set. \n"
          ]
        },
        {
          "output_type": "stream",
          "name": "stderr",
          "text": [
            "\r338it [04:59,  1.38it/s]"
          ]
        },
        {
          "output_type": "stream",
          "name": "stdout",
          "text": [
            "Error: \n"
          ]
        },
        {
          "output_type": "stream",
          "name": "stderr",
          "text": [
            "\r339it [04:59,  1.63it/s]"
          ]
        },
        {
          "output_type": "stream",
          "name": "stdout",
          "text": [
            "Error: \n"
          ]
        },
        {
          "output_type": "stream",
          "name": "stderr",
          "text": [
            "\r340it [05:00,  1.63it/s]"
          ]
        },
        {
          "output_type": "stream",
          "name": "stdout",
          "text": [
            "audio-chunks/chunk340.wav : So i feel fine i feel. \n"
          ]
        },
        {
          "output_type": "stream",
          "name": "stderr",
          "text": [
            "\r341it [05:01,  1.57it/s]"
          ]
        },
        {
          "output_type": "stream",
          "name": "stdout",
          "text": [
            "audio-chunks/chunk341.wav : Very well and if so there's no reason for me to be tested. \n"
          ]
        },
        {
          "output_type": "stream",
          "name": "stderr",
          "text": [
            "\r342it [05:01,  1.78it/s]"
          ]
        },
        {
          "output_type": "stream",
          "name": "stdout",
          "text": [
            "Error: \n"
          ]
        },
        {
          "output_type": "stream",
          "name": "stderr",
          "text": [
            "\r343it [05:02,  1.34it/s]"
          ]
        },
        {
          "output_type": "stream",
          "name": "stdout",
          "text": [
            "audio-chunks/chunk343.wav : We are observing we're trying to tomorrow good behavior here so we're observing quite a lot of teleworking. \n"
          ]
        },
        {
          "output_type": "stream",
          "name": "stderr",
          "text": [
            "\r344it [05:04,  1.02s/it]"
          ]
        },
        {
          "output_type": "stream",
          "name": "stdout",
          "text": [
            "audio-chunks/chunk344.wav : And also where you know we're not having a lot of big crowded me for not having any big crowd of me so we're trying to observe all of the things that the professional. \n"
          ]
        },
        {
          "output_type": "stream",
          "name": "stderr",
          "text": [
            "\r345it [05:05,  1.07it/s]"
          ]
        },
        {
          "output_type": "stream",
          "name": "stdout",
          "text": [
            "audio-chunks/chunk345.wav : Professionals tell us to do i do expect to do some teleworking. \n"
          ]
        },
        {
          "output_type": "stream",
          "name": "stderr",
          "text": [
            "\r346it [05:06,  1.03it/s]"
          ]
        },
        {
          "output_type": "stream",
          "name": "stdout",
          "text": [
            "audio-chunks/chunk346.wav : Because i want a model that but it's okay for other people to do so and second important for them to do so so i will do that. \n"
          ]
        },
        {
          "output_type": "stream",
          "name": "stderr",
          "text": [
            "\r347it [05:08,  1.20s/it]"
          ]
        },
        {
          "output_type": "stream",
          "name": "stdout",
          "text": [
            "audio-chunks/chunk347.wav : Let me say first that you know i think we do have plenty of space to adjust our policy. \n"
          ]
        },
        {
          "output_type": "stream",
          "name": "stderr",
          "text": [
            "\r348it [05:08,  1.07s/it]"
          ]
        },
        {
          "output_type": "stream",
          "name": "stdout",
          "text": [
            "audio-chunks/chunk348.wav : I mention our liquidity tools we've yeah we have. \n"
          ]
        },
        {
          "output_type": "stream",
          "name": "stderr",
          "text": [
            "\r349it [05:10,  1.23s/it]"
          ]
        },
        {
          "output_type": "stream",
          "name": "stdout",
          "text": [
            "audio-chunks/chunk349.wav : A lot of power in our liquidity tools and as i mentioned were prepared prepared to use them. \n"
          ]
        },
        {
          "output_type": "stream",
          "name": "stderr",
          "text": [
            "\r350it [05:11,  1.05s/it]"
          ]
        },
        {
          "output_type": "stream",
          "name": "stdout",
          "text": [
            "audio-chunks/chunk350.wav : In addition we got plenty of space left to offer. \n"
          ]
        },
        {
          "output_type": "stream",
          "name": "stderr",
          "text": [
            "\r351it [05:12,  1.13s/it]"
          ]
        },
        {
          "output_type": "stream",
          "name": "stdout",
          "text": [
            "audio-chunks/chunk351.wav : Forward guidance asset purchases and adjust those policy so i think we do have room. \n"
          ]
        },
        {
          "output_type": "stream",
          "name": "stderr",
          "text": [
            "\r352it [05:12,  1.05it/s]"
          ]
        },
        {
          "output_type": "stream",
          "name": "stdout",
          "text": [
            "audio-chunks/chunk352.wav : We we have not. \n"
          ]
        },
        {
          "output_type": "stream",
          "name": "stderr",
          "text": [
            "\r353it [05:13,  1.09it/s]"
          ]
        },
        {
          "output_type": "stream",
          "name": "stdout",
          "text": [
            "audio-chunks/chunk353.wav : It all made a decision to request further. \n"
          ]
        },
        {
          "output_type": "stream",
          "name": "stderr",
          "text": [
            "\r354it [05:15,  1.04s/it]"
          ]
        },
        {
          "output_type": "stream",
          "name": "stdout",
          "text": [
            "audio-chunks/chunk354.wav : Further tools or authority from congress know we have not made that decision is not something we're actively considering right now. \n"
          ]
        },
        {
          "output_type": "stream",
          "name": "stderr",
          "text": [
            "\r355it [05:15,  1.11it/s]"
          ]
        },
        {
          "output_type": "stream",
          "name": "stdout",
          "text": [
            "audio-chunks/chunk355.wav : Okay we'll go to the new york times. \n"
          ]
        },
        {
          "output_type": "stream",
          "name": "stderr",
          "text": [
            "\r356it [05:16,  1.25it/s]"
          ]
        },
        {
          "output_type": "stream",
          "name": "stdout",
          "text": [
            "Error: \n"
          ]
        },
        {
          "output_type": "stream",
          "name": "stderr",
          "text": [
            "\r357it [05:16,  1.37it/s]"
          ]
        },
        {
          "output_type": "stream",
          "name": "stdout",
          "text": [
            "Error: \n"
          ]
        },
        {
          "output_type": "stream",
          "name": "stderr",
          "text": [
            "\r358it [05:17,  1.37it/s]"
          ]
        },
        {
          "output_type": "stream",
          "name": "stdout",
          "text": [
            "audio-chunks/chunk358.wav : Thanks like a question. \n"
          ]
        },
        {
          "output_type": "stream",
          "name": "stderr",
          "text": [
            "\r359it [05:20,  1.36s/it]"
          ]
        },
        {
          "output_type": "stream",
          "name": "stdout",
          "text": [
            "audio-chunks/chunk359.wav : I'm just curious you know obviously you how this meeting. \n"
          ]
        },
        {
          "output_type": "stream",
          "name": "stderr",
          "text": [
            "\r360it [05:20,  1.06s/it]"
          ]
        },
        {
          "output_type": "stream",
          "name": "stdout",
          "text": [
            "Error: \n"
          ]
        },
        {
          "output_type": "stream",
          "name": "stderr",
          "text": [
            "\r361it [05:21,  1.18it/s]"
          ]
        },
        {
          "output_type": "stream",
          "name": "stdout",
          "text": [
            "Error: \n"
          ]
        },
        {
          "output_type": "stream",
          "name": "stderr",
          "text": [
            "\r362it [05:21,  1.24it/s]"
          ]
        },
        {
          "output_type": "stream",
          "name": "stdout",
          "text": [
            "Error: \n"
          ]
        },
        {
          "output_type": "stream",
          "name": "stderr",
          "text": [
            "\r363it [05:23,  1.05it/s]"
          ]
        },
        {
          "output_type": "stream",
          "name": "stdout",
          "text": [
            "audio-chunks/chunk363.wav : What's our forecast ep. \n"
          ]
        },
        {
          "output_type": "stream",
          "name": "stderr",
          "text": [
            "\r364it [05:23,  1.10it/s]"
          ]
        },
        {
          "output_type": "stream",
          "name": "stdout",
          "text": [
            "audio-chunks/chunk364.wav : First we decided on thursday to move the meeting up by three days. \n"
          ]
        },
        {
          "output_type": "stream",
          "name": "stderr",
          "text": [
            "\r365it [05:25,  1.15s/it]"
          ]
        },
        {
          "output_type": "stream",
          "name": "stdout",
          "text": [
            "audio-chunks/chunk365.wav : To today's and that's before the scp's are generally filed they hadn't been filled out and we frankly we spend our time. \n"
          ]
        },
        {
          "output_type": "stream",
          "name": "stderr",
          "text": [
            "\r366it [05:27,  1.47s/it]"
          ]
        },
        {
          "output_type": "stream",
          "name": "stdout",
          "text": [
            "audio-chunks/chunk366.wav : Pakistan getting ready to make these announcements. \n"
          ]
        },
        {
          "output_type": "stream",
          "name": "stderr",
          "text": [
            "\r367it [05:28,  1.20s/it]"
          ]
        },
        {
          "output_type": "stream",
          "name": "stdout",
          "text": [
            "audio-chunks/chunk367.wav : Had already reached out to make a point that. \n"
          ]
        },
        {
          "output_type": "stream",
          "name": "stderr",
          "text": [
            "\r368it [05:28,  1.05it/s]"
          ]
        },
        {
          "output_type": "stream",
          "name": "stdout",
          "text": [
            "Error: \n"
          ]
        },
        {
          "output_type": "stream",
          "name": "stderr",
          "text": [
            "\r369it [05:29,  1.00it/s]"
          ]
        },
        {
          "output_type": "stream",
          "name": "stdout",
          "text": [
            "audio-chunks/chunk369.wav : Economic outlook is evolving on a daily basis and it really is depending heavily on the spread of the virus. \n"
          ]
        },
        {
          "output_type": "stream",
          "name": "stderr",
          "text": [
            "\r370it [05:31,  1.08s/it]"
          ]
        },
        {
          "output_type": "stream",
          "name": "stdout",
          "text": [
            "audio-chunks/chunk370.wav : And the measures taken to effective and how long that goes on and that's just not something that's knowable so. \n"
          ]
        },
        {
          "output_type": "stream",
          "name": "stderr",
          "text": [
            "\r371it [05:31,  1.01s/it]"
          ]
        },
        {
          "output_type": "stream",
          "name": "stdout",
          "text": [
            "audio-chunks/chunk371.wav : Actually raining down forecast in that circumstance didn't seem to be. \n"
          ]
        },
        {
          "output_type": "stream",
          "name": "stderr",
          "text": [
            "\r372it [05:32,  1.19it/s]"
          ]
        },
        {
          "output_type": "stream",
          "name": "stdout",
          "text": [
            "audio-chunks/chunk372.wav : Useful in fact. \n"
          ]
        },
        {
          "output_type": "stream",
          "name": "stderr",
          "text": [
            "\r373it [05:33,  1.14it/s]"
          ]
        },
        {
          "output_type": "stream",
          "name": "stdout",
          "text": [
            "audio-chunks/chunk373.wav : Could have been more of an obstacle to declare communications in a help. \n"
          ]
        },
        {
          "output_type": "stream",
          "name": "stderr",
          "text": [
            "\r374it [05:34,  1.07it/s]"
          ]
        },
        {
          "output_type": "stream",
          "name": "stdout",
          "text": [
            "audio-chunks/chunk374.wav : I do expect it will return to the quarterly regular quarterly cycling june however. \n"
          ]
        },
        {
          "output_type": "stream",
          "name": "stderr",
          "text": [
            "\r375it [05:35,  1.06it/s]"
          ]
        },
        {
          "output_type": "stream",
          "name": "stdout",
          "text": [
            "audio-chunks/chunk375.wav : In terms of the forecast so. \n"
          ]
        },
        {
          "output_type": "stream",
          "name": "stderr",
          "text": [
            "\r376it [05:35,  1.21it/s]"
          ]
        },
        {
          "output_type": "stream",
          "name": "stdout",
          "text": [
            "audio-chunks/chunk376.wav : As i mentioned. \n"
          ]
        },
        {
          "output_type": "stream",
          "name": "stderr",
          "text": [
            "\r377it [05:36,  1.20it/s]"
          ]
        },
        {
          "output_type": "stream",
          "name": "stdout",
          "text": [
            "audio-chunks/chunk377.wav : You know we see the us economy starting out strong for a strong position. \n"
          ]
        },
        {
          "output_type": "stream",
          "name": "stderr",
          "text": [
            "\r378it [05:38,  1.01s/it]"
          ]
        },
        {
          "output_type": "stream",
          "name": "stdout",
          "text": [
            "audio-chunks/chunk378.wav : Different different as we talked through it today people have a range of perspectives on the way the years going to go. \n"
          ]
        },
        {
          "output_type": "stream",
          "name": "stderr",
          "text": [
            "\r379it [05:39,  1.16s/it]"
          ]
        },
        {
          "output_type": "stream",
          "name": "stdout",
          "text": [
            "audio-chunks/chunk379.wav : But i think there's a free broad sense that the second order will be a week order with probably out. \n"
          ]
        },
        {
          "output_type": "stream",
          "name": "stderr",
          "text": [
            "\r380it [05:41,  1.20s/it]"
          ]
        },
        {
          "output_type": "stream",
          "name": "stdout",
          "text": [
            "audio-chunks/chunk380.wav : After that it becomes hard to say you know what'll happen in the third and fourth quarters in there after the virus. \n"
          ]
        },
        {
          "output_type": "stream",
          "name": "stderr",
          "text": [
            "\r381it [05:41,  1.05it/s]"
          ]
        },
        {
          "output_type": "stream",
          "name": "stdout",
          "text": [
            "Error: \n"
          ]
        },
        {
          "output_type": "stream",
          "name": "stderr",
          "text": [
            "\r382it [05:43,  1.28s/it]"
          ]
        },
        {
          "output_type": "stream",
          "name": "stdout",
          "text": [
            "audio-chunks/chunk382.wav : The thing we do know is that we'll be here doing our job and supporting the flow of credits and and there to do what we can when the recovery comes to make it as vigorous as possible. \n"
          ]
        },
        {
          "output_type": "stream",
          "name": "stderr",
          "text": [
            "\r383it [05:44,  1.07s/it]"
          ]
        },
        {
          "output_type": "stream",
          "name": "stdout",
          "text": [
            "audio-chunks/chunk383.wav : Okay now go to bloomberg news. \n"
          ]
        },
        {
          "output_type": "stream",
          "name": "stderr",
          "text": [
            "\r384it [05:45,  1.11s/it]"
          ]
        },
        {
          "output_type": "stream",
          "name": "stdout",
          "text": [
            "audio-chunks/chunk384.wav : Hi terpal craig torres bloomberg news. \n"
          ]
        },
        {
          "output_type": "stream",
          "name": "stderr",
          "text": [
            "\r385it [05:45,  1.00s/it]"
          ]
        },
        {
          "output_type": "stream",
          "name": "stdout",
          "text": [
            "audio-chunks/chunk385.wav : You say the path of the economy. \n"
          ]
        },
        {
          "output_type": "stream",
          "name": "stderr",
          "text": [
            "\r386it [05:46,  1.11it/s]"
          ]
        },
        {
          "output_type": "stream",
          "name": "stdout",
          "text": [
            "audio-chunks/chunk386.wav : Your life depends on the path of the virus. \n"
          ]
        },
        {
          "output_type": "stream",
          "name": "stderr",
          "text": [
            "\r387it [05:47,  1.25it/s]"
          ]
        },
        {
          "output_type": "stream",
          "name": "stdout",
          "text": [
            "audio-chunks/chunk387.wav : Important. \n"
          ]
        },
        {
          "output_type": "stream",
          "name": "stderr",
          "text": [
            "\r388it [05:48,  1.21it/s]"
          ]
        },
        {
          "output_type": "stream",
          "name": "stdout",
          "text": [
            "audio-chunks/chunk388.wav : Fiscal policy now in determining whether this sudden stop an activity. \n"
          ]
        },
        {
          "output_type": "stream",
          "name": "stderr",
          "text": [
            "\r389it [05:49,  1.14it/s]"
          ]
        },
        {
          "output_type": "stream",
          "name": "stdout",
          "text": [
            "audio-chunks/chunk389.wav : Is long or short end of high human consequence or little human consequence. \n"
          ]
        },
        {
          "output_type": "stream",
          "name": "stderr",
          "text": [
            "\r390it [05:49,  1.16it/s]"
          ]
        },
        {
          "output_type": "stream",
          "name": "stdout",
          "text": [
            "audio-chunks/chunk390.wav : And second can you talk a little bit about what's on your dashboard. \n"
          ]
        },
        {
          "output_type": "stream",
          "name": "stderr",
          "text": [
            "\r391it [05:50,  1.19it/s]"
          ]
        },
        {
          "output_type": "stream",
          "name": "stdout",
          "text": [
            "audio-chunks/chunk391.wav : For economic and financial indicators that you're going to be watching. \n"
          ]
        },
        {
          "output_type": "stream",
          "name": "stderr",
          "text": [
            "\r392it [05:51,  1.28it/s]"
          ]
        },
        {
          "output_type": "stream",
          "name": "stdout",
          "text": [
            "audio-chunks/chunk392.wav : Day-to-day i know. \n"
          ]
        },
        {
          "output_type": "stream",
          "name": "stderr",
          "text": [
            "\r393it [05:52,  1.34it/s]"
          ]
        },
        {
          "output_type": "stream",
          "name": "stdout",
          "text": [
            "audio-chunks/chunk393.wav : Vice-chair clarida said. \n"
          ]
        },
        {
          "output_type": "stream",
          "name": "stderr",
          "text": [
            "\r394it [05:53,  1.19it/s]"
          ]
        },
        {
          "output_type": "stream",
          "name": "stdout",
          "text": [
            "audio-chunks/chunk394.wav : Then we should start seeing the data show up in april what are you going to be watching and what should we be watching. \n"
          ]
        },
        {
          "output_type": "stream",
          "name": "stderr",
          "text": [
            "\r395it [05:54,  1.09it/s]"
          ]
        },
        {
          "output_type": "stream",
          "name": "stdout",
          "text": [
            "audio-chunks/chunk395.wav : So in terms of fiscal policy i think in the first incident and you're you're seeing some of this now. \n"
          ]
        },
        {
          "output_type": "stream",
          "name": "stderr",
          "text": [
            "\r396it [05:55,  1.12s/it]"
          ]
        },
        {
          "output_type": "stream",
          "name": "stdout",
          "text": [
            "audio-chunks/chunk396.wav : This thing is fiscal policy and really only fiscal policy can do is reach out directly to affected industries affected workers. \n"
          ]
        },
        {
          "output_type": "stream",
          "name": "stderr",
          "text": [
            "\r397it [05:56,  1.07s/it]"
          ]
        },
        {
          "output_type": "stream",
          "name": "stdout",
          "text": [
            "audio-chunks/chunk397.wav : And we seen some of that so that's that's an important job for fiscal policy. \n"
          ]
        },
        {
          "output_type": "stream",
          "name": "stderr",
          "text": [
            "\r398it [05:57,  1.11it/s]"
          ]
        },
        {
          "output_type": "stream",
          "name": "stdout",
          "text": [
            "audio-chunks/chunk398.wav : More broadway. \n"
          ]
        },
        {
          "output_type": "stream",
          "name": "stderr",
          "text": [
            "\r399it [05:58,  1.03it/s]"
          ]
        },
        {
          "output_type": "stream",
          "name": "stdout",
          "text": [
            "audio-chunks/chunk399.wav : After that there's the question of of fiscal broader fiscal stimulus and i think that'll depend on the path of the economy. \n"
          ]
        },
        {
          "output_type": "stream",
          "name": "stderr",
          "text": [
            "\r400it [05:59,  1.12it/s]"
          ]
        },
        {
          "output_type": "stream",
          "name": "stdout",
          "text": [
            "audio-chunks/chunk400.wav : I think there is such a wide range of possibilities here. \n"
          ]
        },
        {
          "output_type": "stream",
          "name": "stderr",
          "text": [
            "\r401it [06:00,  1.14s/it]"
          ]
        },
        {
          "output_type": "stream",
          "name": "stdout",
          "text": [
            "audio-chunks/chunk401.wav : That it's some it's very hard to predict but there could certainly be and there could certainly be. \n"
          ]
        },
        {
          "output_type": "stream",
          "name": "stderr",
          "text": [
            "\r402it [06:01,  1.10it/s]"
          ]
        },
        {
          "output_type": "stream",
          "name": "stdout",
          "text": [
            "Error: \n"
          ]
        },
        {
          "output_type": "stream",
          "name": "stderr",
          "text": [
            "\r403it [06:01,  1.29it/s]"
          ]
        },
        {
          "output_type": "stream",
          "name": "stdout",
          "text": [
            "audio-chunks/chunk403.wav : Yeah we need for that. \n"
          ]
        },
        {
          "output_type": "stream",
          "name": "stderr",
          "text": [
            "\r404it [06:02,  1.38it/s]"
          ]
        },
        {
          "output_type": "stream",
          "name": "stdout",
          "text": [
            "audio-chunks/chunk404.wav : Your second question was. \n"
          ]
        },
        {
          "output_type": "stream",
          "name": "stderr",
          "text": [
            "\r405it [06:02,  1.46it/s]"
          ]
        },
        {
          "output_type": "stream",
          "name": "stdout",
          "text": [
            "Error: \n"
          ]
        },
        {
          "output_type": "stream",
          "name": "stderr",
          "text": [
            "\r406it [06:03,  1.34it/s]"
          ]
        },
        {
          "output_type": "stream",
          "name": "stdout",
          "text": [
            "audio-chunks/chunk406.wav : Yeah it was on what indicators you're going to be looking at the mantel and real. \n"
          ]
        },
        {
          "output_type": "stream",
          "name": "stderr",
          "text": [
            "\r407it [06:04,  1.33it/s]"
          ]
        },
        {
          "output_type": "stream",
          "name": "stdout",
          "text": [
            "audio-chunks/chunk407.wav : Well i think in a meeting the very near-term. \n"
          ]
        },
        {
          "output_type": "stream",
          "name": "stderr",
          "text": [
            "\r408it [06:04,  1.55it/s]"
          ]
        },
        {
          "output_type": "stream",
          "name": "stdout",
          "text": [
            "Error: \n"
          ]
        },
        {
          "output_type": "stream",
          "name": "stderr",
          "text": [
            "\r409it [06:05,  1.60it/s]"
          ]
        },
        {
          "output_type": "stream",
          "name": "stdout",
          "text": [
            "audio-chunks/chunk409.wav : Going to be looking at. \n"
          ]
        },
        {
          "output_type": "stream",
          "name": "stderr",
          "text": [
            "\r410it [06:06,  1.32it/s]"
          ]
        },
        {
          "output_type": "stream",
          "name": "stdout",
          "text": [
            "audio-chunks/chunk410.wav : Treasury market function can be looking to see. \n"
          ]
        },
        {
          "output_type": "stream",
          "name": "stderr",
          "text": [
            "\r411it [06:07,  1.26it/s]"
          ]
        },
        {
          "output_type": "stream",
          "name": "stdout",
          "text": [
            "audio-chunks/chunk411.wav : That financial markets are returning to more liquid more normal functioning. \n"
          ]
        },
        {
          "output_type": "stream",
          "name": "stderr",
          "text": [
            "\r412it [06:08,  1.11it/s]"
          ]
        },
        {
          "output_type": "stream",
          "name": "stdout",
          "text": [
            "audio-chunks/chunk412.wav : That is an essential part of our job that is actually you know that is the thing that central banks were originally. \n"
          ]
        },
        {
          "output_type": "stream",
          "name": "stderr",
          "text": [
            "\r413it [06:09,  1.14it/s]"
          ]
        },
        {
          "output_type": "stream",
          "name": "stdout",
          "text": [
            "audio-chunks/chunk413.wav : Designed to do was to provide liquidity to. \n"
          ]
        },
        {
          "output_type": "stream",
          "name": "stderr",
          "text": [
            "\r414it [06:10,  1.09it/s]"
          ]
        },
        {
          "output_type": "stream",
          "name": "stdout",
          "text": [
            "audio-chunks/chunk414.wav : Financial systems and stress so we take that job very seriously probably the most important thing we're doing now. \n"
          ]
        },
        {
          "output_type": "stream",
          "name": "stderr",
          "text": [
            "\r415it [06:11,  1.14it/s]"
          ]
        },
        {
          "output_type": "stream",
          "name": "stdout",
          "text": [
            "audio-chunks/chunk415.wav : Is that so we'll be watching that and we'll be prepared to use our tools. \n"
          ]
        },
        {
          "output_type": "stream",
          "name": "stderr",
          "text": [
            "\r416it [06:12,  1.01s/it]"
          ]
        },
        {
          "output_type": "stream",
          "name": "stdout",
          "text": [
            "audio-chunks/chunk416.wav : When and as appropriate to address it took to support market functioning and really really to support the flow of credit to. \n"
          ]
        },
        {
          "output_type": "stream",
          "name": "stderr",
          "text": [
            "\r417it [06:13,  1.08it/s]"
          ]
        },
        {
          "output_type": "stream",
          "name": "stdout",
          "text": [
            "audio-chunks/chunk417.wav : Consulting business. \n"
          ]
        },
        {
          "output_type": "stream",
          "name": "stderr",
          "text": [
            "\r418it [06:14,  1.06it/s]"
          ]
        },
        {
          "output_type": "stream",
          "name": "stdout",
          "text": [
            "audio-chunks/chunk418.wav : I think it's just so early you know we we were really looking. \n"
          ]
        },
        {
          "output_type": "stream",
          "name": "stderr",
          "text": [
            "\r419it [06:14,  1.14it/s]"
          ]
        },
        {
          "output_type": "stream",
          "name": "stdout",
          "text": [
            "audio-chunks/chunk419.wav : I mean the economic data will follow. \n"
          ]
        },
        {
          "output_type": "stream",
          "name": "stderr",
          "text": [
            "\r420it [06:15,  1.29it/s]"
          ]
        },
        {
          "output_type": "stream",
          "name": "stdout",
          "text": [
            "audio-chunks/chunk420.wav : The date on the spread of the virus. \n"
          ]
        },
        {
          "output_type": "stream",
          "name": "stderr",
          "text": [
            "\r421it [06:16,  1.20it/s]"
          ]
        },
        {
          "output_type": "stream",
          "name": "stdout",
          "text": [
            "audio-chunks/chunk421.wav : Yeah i think what happens what happens during the spread of the virus is probably not going to tell you a lot about. \n"
          ]
        },
        {
          "output_type": "stream",
          "name": "stderr",
          "text": [
            "\r422it [06:17,  1.31it/s]"
          ]
        },
        {
          "output_type": "stream",
          "name": "stdout",
          "text": [
            "audio-chunks/chunk422.wav : Where the economy will be in 6 months. \n"
          ]
        },
        {
          "output_type": "stream",
          "name": "stderr",
          "text": [
            "\r423it [06:18,  1.13it/s]"
          ]
        },
        {
          "output_type": "stream",
          "name": "stdout",
          "text": [
            "audio-chunks/chunk423.wav : It's going to be cuz you you may have a few probably have a bad quarter in the second quarter but if things get better in the third quarter. \n"
          ]
        },
        {
          "output_type": "stream",
          "name": "stderr",
          "text": [
            "\r424it [06:19,  1.10it/s]"
          ]
        },
        {
          "output_type": "stream",
          "name": "stdout",
          "text": [
            "audio-chunks/chunk424.wav : That probably won't matter matter so much we may be able to come back from that if it didn't last longer. \n"
          ]
        },
        {
          "output_type": "stream",
          "name": "stderr",
          "text": [
            "\r425it [06:20,  1.09s/it]"
          ]
        },
        {
          "output_type": "stream",
          "name": "stdout",
          "text": [
            "audio-chunks/chunk425.wav : That's really what i'll be looking for is is what is going to be the spread of the virus and what the path is going to take and what are the effects on the economy. \n"
          ]
        },
        {
          "output_type": "stream",
          "name": "stderr",
          "text": [
            "\r426it [06:21,  1.01it/s]"
          ]
        },
        {
          "output_type": "stream",
          "name": "stdout",
          "text": [
            "audio-chunks/chunk426.wav : Can we go to nbc news now. \n"
          ]
        },
        {
          "output_type": "stream",
          "name": "stderr",
          "text": [
            "\r427it [06:23,  1.43s/it]"
          ]
        },
        {
          "output_type": "stream",
          "name": "stdout",
          "text": [
            "audio-chunks/chunk427.wav : From nbc news and a lot of the questions here so i'll try to one that's more philosophical in nature and you've talked a bit about the destruction from the coronavirus. \n"
          ]
        },
        {
          "output_type": "stream",
          "name": "stderr",
          "text": [
            "\r428it [06:24,  1.29s/it]"
          ]
        },
        {
          "output_type": "stream",
          "name": "stdout",
          "text": [
            "audio-chunks/chunk428.wav : Outbreak and having lower economic activity fruit for a time. \n"
          ]
        },
        {
          "output_type": "stream",
          "name": "stderr",
          "text": [
            "\r429it [06:26,  1.30s/it]"
          ]
        },
        {
          "output_type": "stream",
          "name": "stdout",
          "text": [
            "audio-chunks/chunk429.wav : I'm reckoning with the fact that my kids going to be out of school until april 20th at the earliest stuff for shield. \n"
          ]
        },
        {
          "output_type": "stream",
          "name": "stderr",
          "text": [
            "\r430it [06:27,  1.41s/it]"
          ]
        },
        {
          "output_type": "stream",
          "name": "stdout",
          "text": [
            "audio-chunks/chunk430.wav : Very very cute lee but i wonder if you could just give us your perspective on the time horizon here and put that into some broader context how you look at this and. \n"
          ]
        },
        {
          "output_type": "stream",
          "name": "stderr",
          "text": [
            "\r431it [06:28,  1.28s/it]"
          ]
        },
        {
          "output_type": "stream",
          "name": "stdout",
          "text": [
            "audio-chunks/chunk431.wav : Anomalous this thing is with which you and your colleagues are going to have to reckon. \n"
          ]
        },
        {
          "output_type": "stream",
          "name": "stderr",
          "text": [
            "\r432it [06:30,  1.39s/it]"
          ]
        },
        {
          "output_type": "stream",
          "name": "stdout",
          "text": [
            "audio-chunks/chunk432.wav : That's my first question the second is newest andrade tools are deployed over these last few weeks and. \n"
          ]
        },
        {
          "output_type": "stream",
          "name": "stderr",
          "text": [
            "\r433it [06:31,  1.21s/it]"
          ]
        },
        {
          "output_type": "stream",
          "name": "stdout",
          "text": [
            "audio-chunks/chunk433.wav : The market which i know is something that you pay. \n"
          ]
        },
        {
          "output_type": "stream",
          "name": "stderr",
          "text": [
            "\r434it [06:33,  1.38s/it]"
          ]
        },
        {
          "output_type": "stream",
          "name": "stdout",
          "text": [
            "audio-chunks/chunk434.wav : At least minimal attention to is is reacting negatively this to some of that what do you make of that earlier about the toolbox and and. \n"
          ]
        },
        {
          "output_type": "stream",
          "name": "stderr",
          "text": [
            "\r435it [06:33,  1.12s/it]"
          ]
        },
        {
          "output_type": "stream",
          "name": "stdout",
          "text": [
            "audio-chunks/chunk435.wav : What's left what's left in it. \n"
          ]
        },
        {
          "output_type": "stream",
          "name": "stderr",
          "text": [
            "\r436it [06:35,  1.37s/it]"
          ]
        },
        {
          "output_type": "stream",
          "name": "stdout",
          "text": [
            "audio-chunks/chunk436.wav : Rates are low business that provoked any apprehension any nervousness on your part that that there are fewer tools there in. \n"
          ]
        },
        {
          "output_type": "stream",
          "name": "stderr",
          "text": [
            "\r437it [06:35,  1.06s/it]"
          ]
        },
        {
          "output_type": "stream",
          "name": "stdout",
          "text": [
            "Error: \n"
          ]
        },
        {
          "output_type": "stream",
          "name": "stderr",
          "text": [
            "\r438it [06:36,  1.13it/s]"
          ]
        },
        {
          "output_type": "stream",
          "name": "stdout",
          "text": [
            "Error: \n"
          ]
        },
        {
          "output_type": "stream",
          "name": "stderr",
          "text": [
            "\r439it [06:37,  1.10it/s]"
          ]
        },
        {
          "output_type": "stream",
          "name": "stdout",
          "text": [
            "audio-chunks/chunk439.wav : I guess your first question is think about that at the time. \n"
          ]
        },
        {
          "output_type": "stream",
          "name": "stderr",
          "text": [
            "\r440it [06:38,  1.06it/s]"
          ]
        },
        {
          "output_type": "stream",
          "name": "stdout",
          "text": [
            "audio-chunks/chunk440.wav : The time for this thing you know the truth is we just don't know and. \n"
          ]
        },
        {
          "output_type": "stream",
          "name": "stderr",
          "text": [
            "\r441it [06:39,  1.02it/s]"
          ]
        },
        {
          "output_type": "stream",
          "name": "stdout",
          "text": [
            "audio-chunks/chunk441.wav : You know the experts we talked to will say that they don't know and it's infected unknowable it's going to depend. \n"
          ]
        },
        {
          "output_type": "stream",
          "name": "stderr",
          "text": [
            "\r442it [06:40,  1.11it/s]"
          ]
        },
        {
          "output_type": "stream",
          "name": "stdout",
          "text": [
            "audio-chunks/chunk442.wav : Are number of things first it's the measures that we take. \n"
          ]
        },
        {
          "output_type": "stream",
          "name": "stderr",
          "text": [
            "\r443it [06:40,  1.30it/s]"
          ]
        },
        {
          "output_type": "stream",
          "name": "stdout",
          "text": [
            "audio-chunks/chunk443.wav : 2. \n"
          ]
        },
        {
          "output_type": "stream",
          "name": "stderr",
          "text": [
            "\r444it [06:42,  1.09s/it]"
          ]
        },
        {
          "output_type": "stream",
          "name": "stdout",
          "text": [
            "audio-chunks/chunk444.wav : You know two with the social distancing and all the things businesses in school and everyone's doing that and compliant people are. \n"
          ]
        },
        {
          "output_type": "stream",
          "name": "stderr",
          "text": [
            "\r445it [06:42,  1.13it/s]"
          ]
        },
        {
          "output_type": "stream",
          "name": "stdout",
          "text": [
            "Error: \n"
          ]
        },
        {
          "output_type": "stream",
          "name": "stderr",
          "text": [
            "\r446it [06:43,  1.10it/s]"
          ]
        },
        {
          "output_type": "stream",
          "name": "stdout",
          "text": [
            "audio-chunks/chunk446.wav : You can see that some countries have had to have been able to through aggressive. \n"
          ]
        },
        {
          "output_type": "stream",
          "name": "stderr",
          "text": [
            "\r447it [06:44,  1.04it/s]"
          ]
        },
        {
          "output_type": "stream",
          "name": "stdout",
          "text": [
            "audio-chunks/chunk447.wav : Measures and really high compliance have been able to bend the curve and. \n"
          ]
        },
        {
          "output_type": "stream",
          "name": "stderr",
          "text": [
            "\r448it [06:45,  1.02s/it]"
          ]
        },
        {
          "output_type": "stream",
          "name": "stdout",
          "text": [
            "audio-chunks/chunk448.wav : And do that and whether we succeed or the question and i i wouldn't i wouldn't. \n"
          ]
        },
        {
          "output_type": "stream",
          "name": "stderr",
          "text": [
            "\r449it [06:46,  1.04it/s]"
          ]
        },
        {
          "output_type": "stream",
          "name": "stdout",
          "text": [
            "audio-chunks/chunk449.wav : You know i'll resist the impulse to guess i really don't know what that will be. \n"
          ]
        },
        {
          "output_type": "stream",
          "name": "stderr",
          "text": [
            "\r450it [06:47,  1.26it/s]"
          ]
        },
        {
          "output_type": "stream",
          "name": "stdout",
          "text": [
            "Error: \n"
          ]
        },
        {
          "output_type": "stream",
          "name": "stderr",
          "text": [
            "\r451it [06:49,  1.17s/it]"
          ]
        },
        {
          "output_type": "stream",
          "name": "stdout",
          "text": [
            "audio-chunks/chunk451.wav : As i mentioned we have plenty of power left. \n"
          ]
        },
        {
          "output_type": "stream",
          "name": "stderr",
          "text": [
            "\r452it [06:50,  1.07s/it]"
          ]
        },
        {
          "output_type": "stream",
          "name": "stdout",
          "text": [
            "audio-chunks/chunk452.wav : That i think is is right now the most important thing that we're doing. \n"
          ]
        },
        {
          "output_type": "stream",
          "name": "stderr",
          "text": [
            "\r453it [06:51,  1.03s/it]"
          ]
        },
        {
          "output_type": "stream",
          "name": "stdout",
          "text": [
            "audio-chunks/chunk453.wav : Are interest rates will matter cuts will matter now to borrowers who will get some relief. \n"
          ]
        },
        {
          "output_type": "stream",
          "name": "stderr",
          "text": [
            "\r454it [06:51,  1.02it/s]"
          ]
        },
        {
          "output_type": "stream",
          "name": "stdout",
          "text": [
            "audio-chunks/chunk454.wav : Four more cuts but don't matter a lot more when the economy begins to recover. \n"
          ]
        },
        {
          "output_type": "stream",
          "name": "stderr",
          "text": [
            "\r455it [06:53,  1.23s/it]"
          ]
        },
        {
          "output_type": "stream",
          "name": "stdout",
          "text": [
            "audio-chunks/chunk455.wav : Not so i'm getting that job done well. \n"
          ]
        },
        {
          "output_type": "stream",
          "name": "stderr",
          "text": [
            "\r456it [06:54,  1.06s/it]"
          ]
        },
        {
          "output_type": "stream",
          "name": "stdout",
          "text": [
            "audio-chunks/chunk456.wav : You know we have room to provide forward guidance to. \n"
          ]
        },
        {
          "output_type": "stream",
          "name": "stderr",
          "text": [
            "\r457it [06:55,  1.08s/it]"
          ]
        },
        {
          "output_type": "stream",
          "name": "stdout",
          "text": [
            "audio-chunks/chunk457.wav : To do more asset purchases i think there is room for us to do what we need to do. \n"
          ]
        },
        {
          "output_type": "stream",
          "name": "stderr",
          "text": [
            "\r458it [06:56,  1.07it/s]"
          ]
        },
        {
          "output_type": "stream",
          "name": "stdout",
          "text": [
            "audio-chunks/chunk458.wav : I would just close no by saying that. \n"
          ]
        },
        {
          "output_type": "stream",
          "name": "stderr",
          "text": [
            "\r459it [06:56,  1.19it/s]"
          ]
        },
        {
          "output_type": "stream",
          "name": "stdout",
          "text": [
            "audio-chunks/chunk459.wav : You know typically fiscal policy. \n"
          ]
        },
        {
          "output_type": "stream",
          "name": "stderr",
          "text": [
            "\r460it [06:57,  1.32it/s]"
          ]
        },
        {
          "output_type": "stream",
          "name": "stdout",
          "text": [
            "audio-chunks/chunk460.wav : Does play a major role. \n"
          ]
        },
        {
          "output_type": "stream",
          "name": "stderr",
          "text": [
            "\r461it [06:58,  1.10it/s]"
          ]
        },
        {
          "output_type": "stream",
          "name": "stdout",
          "text": [
            "audio-chunks/chunk461.wav : When it when there are downturned dussault you seen that in in many pass downturns. \n"
          ]
        },
        {
          "output_type": "stream",
          "name": "stderr",
          "text": [
            "\r462it [06:59,  1.00s/it]"
          ]
        },
        {
          "output_type": "stream",
          "name": "stdout",
          "text": [
            "audio-chunks/chunk462.wav : And that's beyond just the automatic stabilizers some sometimes fiscal policy comes in. \n"
          ]
        },
        {
          "output_type": "stream",
          "name": "stderr",
          "text": [
            "\r463it [07:00,  1.19it/s]"
          ]
        },
        {
          "output_type": "stream",
          "name": "stdout",
          "text": [
            "audio-chunks/chunk463.wav : Need to be the case here as well. \n"
          ]
        },
        {
          "output_type": "stream",
          "name": "stderr",
          "text": [
            "\r464it [07:00,  1.46it/s]"
          ]
        },
        {
          "output_type": "stream",
          "name": "stdout",
          "text": [
            "Error: \n"
          ]
        },
        {
          "output_type": "stream",
          "name": "stderr",
          "text": [
            "\r465it [07:00,  1.73it/s]"
          ]
        },
        {
          "output_type": "stream",
          "name": "stdout",
          "text": [
            "Error: \n"
          ]
        },
        {
          "output_type": "stream",
          "name": "stderr",
          "text": [
            "\r466it [07:01,  1.54it/s]"
          ]
        },
        {
          "output_type": "stream",
          "name": "stdout",
          "text": [
            "audio-chunks/chunk466.wav : Politico. \n"
          ]
        },
        {
          "output_type": "stream",
          "name": "stderr",
          "text": [
            "\r467it [07:02,  1.73it/s]"
          ]
        },
        {
          "output_type": "stream",
          "name": "stdout",
          "text": [
            "Error: \n"
          ]
        },
        {
          "output_type": "stream",
          "name": "stderr",
          "text": [
            "\r468it [07:03,  1.42it/s]"
          ]
        },
        {
          "output_type": "stream",
          "name": "stdout",
          "text": [
            "audio-chunks/chunk468.wav : Victoria doing the call. \n"
          ]
        },
        {
          "output_type": "stream",
          "name": "stderr",
          "text": [
            "\r469it [07:04,  1.20it/s]"
          ]
        },
        {
          "output_type": "stream",
          "name": "stdout",
          "text": [
            "audio-chunks/chunk469.wav : After you see a bigger role here for the financial stability oversight council. \n"
          ]
        },
        {
          "output_type": "stream",
          "name": "stderr",
          "text": [
            "\r470it [07:05,  1.09it/s]"
          ]
        },
        {
          "output_type": "stream",
          "name": "stdout",
          "text": [
            "audio-chunks/chunk470.wav : With all these dresses showing up in different market d.c. risks. \n"
          ]
        },
        {
          "output_type": "stream",
          "name": "stderr",
          "text": [
            "\r471it [07:06,  1.17it/s]"
          ]
        },
        {
          "output_type": "stream",
          "name": "stdout",
          "text": [
            "audio-chunks/chunk471.wav : Financial stability rising. \n"
          ]
        },
        {
          "output_type": "stream",
          "name": "stderr",
          "text": [
            "\r472it [07:07,  1.06it/s]"
          ]
        },
        {
          "output_type": "stream",
          "name": "stdout",
          "text": [
            "audio-chunks/chunk472.wav : Do you think there are some activities that might want to crack down on. \n"
          ]
        },
        {
          "output_type": "stream",
          "name": "stderr",
          "text": [
            "\r473it [07:08,  1.02it/s]"
          ]
        },
        {
          "output_type": "stream",
          "name": "stdout",
          "text": [
            "audio-chunks/chunk473.wav : Interview confidence if there aren't any non banks that are systemically important. \n"
          ]
        },
        {
          "output_type": "stream",
          "name": "stderr",
          "text": [
            "\r474it [07:08,  1.28it/s]"
          ]
        },
        {
          "output_type": "stream",
          "name": "stdout",
          "text": [
            "Error: \n"
          ]
        },
        {
          "output_type": "stream",
          "name": "stderr",
          "text": [
            "\r475it [07:09,  1.33it/s]"
          ]
        },
        {
          "output_type": "stream",
          "name": "stdout",
          "text": [
            "audio-chunks/chunk475.wav : Is really something that the treasury secretary chairs. \n"
          ]
        },
        {
          "output_type": "stream",
          "name": "stderr",
          "text": [
            "\r476it [07:10,  1.17it/s]"
          ]
        },
        {
          "output_type": "stream",
          "name": "stdout",
          "text": [
            "audio-chunks/chunk476.wav : And it's a big group it's got a lot of people i think it serves a good purpose but. \n"
          ]
        },
        {
          "output_type": "stream",
          "name": "stderr",
          "text": [
            "\r477it [07:11,  1.21it/s]"
          ]
        },
        {
          "output_type": "stream",
          "name": "stdout",
          "text": [
            "audio-chunks/chunk477.wav : You should know that we are course in regular contact with the other. \n"
          ]
        },
        {
          "output_type": "stream",
          "name": "stderr",
          "text": [
            "\r478it [07:11,  1.22it/s]"
          ]
        },
        {
          "output_type": "stream",
          "name": "stdout",
          "text": [
            "audio-chunks/chunk478.wav : With the other regulatory agencies constantly talking about what's going on in markets. \n"
          ]
        },
        {
          "output_type": "stream",
          "name": "stderr",
          "text": [
            "\r479it [07:12,  1.19it/s]"
          ]
        },
        {
          "output_type": "stream",
          "name": "stdout",
          "text": [
            "audio-chunks/chunk479.wav : There's a lot of information and conversation or ongoing basis there i would say. \n"
          ]
        },
        {
          "output_type": "stream",
          "name": "stderr",
          "text": [
            "\r480it [07:13,  1.36it/s]"
          ]
        },
        {
          "output_type": "stream",
          "name": "stdout",
          "text": [
            "audio-chunks/chunk480.wav : So. \n"
          ]
        },
        {
          "output_type": "stream",
          "name": "stderr",
          "text": [
            "\r481it [07:14,  1.02it/s]"
          ]
        },
        {
          "output_type": "stream",
          "name": "stdout",
          "text": [
            "audio-chunks/chunk481.wav : And the same is true with our central bank contacts around the world wearing ongoing contact with all the major central banks. \n"
          ]
        },
        {
          "output_type": "stream",
          "name": "stderr",
          "text": [
            "\r482it [07:15,  1.03it/s]"
          ]
        },
        {
          "output_type": "stream",
          "name": "stdout",
          "text": [
            "audio-chunks/chunk482.wav : Around the world talk about what's going on we're having group calls we're calling one-on-one. \n"
          ]
        },
        {
          "output_type": "stream",
          "name": "stderr",
          "text": [
            "\r483it [07:16,  1.03it/s]"
          ]
        },
        {
          "output_type": "stream",
          "name": "stdout",
          "text": [
            "audio-chunks/chunk483.wav : It's quite a lot of information being exchanged there. \n"
          ]
        },
        {
          "output_type": "stream",
          "name": "stderr",
          "text": [
            "\r484it [07:17,  1.25it/s]"
          ]
        },
        {
          "output_type": "stream",
          "name": "stdout",
          "text": [
            "Error: \n"
          ]
        },
        {
          "output_type": "stream",
          "name": "stderr",
          "text": [
            "\r485it [07:18,  1.21it/s]"
          ]
        },
        {
          "output_type": "stream",
          "name": "stdout",
          "text": [
            "audio-chunks/chunk485.wav : Then your question was non-bank cypis. \n"
          ]
        },
        {
          "output_type": "stream",
          "name": "stderr",
          "text": [
            "\r486it [07:19,  1.09it/s]"
          ]
        },
        {
          "output_type": "stream",
          "name": "stdout",
          "text": [
            "audio-chunks/chunk486.wav : You know again that's a judgment for the that's a judgment for the f stock. \n"
          ]
        },
        {
          "output_type": "stream",
          "name": "stderr",
          "text": [
            "\r487it [07:19,  1.31it/s]"
          ]
        },
        {
          "output_type": "stream",
          "name": "stdout",
          "text": [
            "Error: \n"
          ]
        },
        {
          "output_type": "stream",
          "name": "stderr",
          "text": [
            "\r488it [07:20,  1.16it/s]"
          ]
        },
        {
          "output_type": "stream",
          "name": "stdout",
          "text": [
            "audio-chunks/chunk488.wav : You know i'm comfortable with the actions that we've taken and if we if we do identify you know. \n"
          ]
        },
        {
          "output_type": "stream",
          "name": "stderr",
          "text": [
            "\r489it [07:21,  1.32it/s]"
          ]
        },
        {
          "output_type": "stream",
          "name": "stdout",
          "text": [
            "audio-chunks/chunk489.wav : Systemically important. \n"
          ]
        },
        {
          "output_type": "stream",
          "name": "stderr",
          "text": [
            "\r490it [07:22,  1.01s/it]"
          ]
        },
        {
          "output_type": "stream",
          "name": "stdout",
          "text": [
            "audio-chunks/chunk490.wav : Not bank institution that we wouldn't hesitate to designated but although i guess now we're working more on activities but we do still have the power to designate institutions. \n"
          ]
        },
        {
          "output_type": "stream",
          "name": "stderr",
          "text": [
            "\r491it [07:23,  1.19it/s]"
          ]
        },
        {
          "output_type": "stream",
          "name": "stdout",
          "text": [
            "audio-chunks/chunk491.wav : So. \n"
          ]
        },
        {
          "output_type": "stream",
          "name": "stderr",
          "text": [
            "\r492it [07:23,  1.36it/s]"
          ]
        },
        {
          "output_type": "stream",
          "name": "stdout",
          "text": [
            "Error: \n"
          ]
        },
        {
          "output_type": "stream",
          "name": "stderr",
          "text": [
            "\r493it [07:24,  1.46it/s]"
          ]
        },
        {
          "output_type": "stream",
          "name": "stdout",
          "text": [
            "audio-chunks/chunk493.wav : Does rising. \n"
          ]
        },
        {
          "output_type": "stream",
          "name": "stderr",
          "text": [
            "\r494it [07:24,  1.63it/s]"
          ]
        },
        {
          "output_type": "stream",
          "name": "stdout",
          "text": [
            "audio-chunks/chunk494.wav : Question was. \n"
          ]
        },
        {
          "output_type": "stream",
          "name": "stderr",
          "text": [
            "\r495it [07:26,  1.20it/s]"
          ]
        },
        {
          "output_type": "stream",
          "name": "stdout",
          "text": [
            "audio-chunks/chunk495.wav : Askew financial stability rising giving all the traffic happening in financial markets. \n"
          ]
        },
        {
          "output_type": "stream",
          "name": "stderr",
          "text": [
            "\r496it [07:26,  1.28it/s]"
          ]
        },
        {
          "output_type": "stream",
          "name": "stdout",
          "text": [
            "audio-chunks/chunk496.wav : Well yes i would say you know that's. \n"
          ]
        },
        {
          "output_type": "stream",
          "name": "stderr",
          "text": [
            "\r497it [07:28,  1.06it/s]"
          ]
        },
        {
          "output_type": "stream",
          "name": "stdout",
          "text": [
            "audio-chunks/chunk497.wav : That's some something that happens when markets are as volatile as they are when we are having these big market movements while. \n"
          ]
        },
        {
          "output_type": "stream",
          "name": "stderr",
          "text": [
            "\r498it [07:28,  1.14it/s]"
          ]
        },
        {
          "output_type": "stream",
          "name": "stdout",
          "text": [
            "audio-chunks/chunk498.wav : Markets are trying to. \n"
          ]
        },
        {
          "output_type": "stream",
          "name": "stderr",
          "text": [
            "\r499it [07:30,  1.00it/s]"
          ]
        },
        {
          "output_type": "stream",
          "name": "stdout",
          "text": [
            "audio-chunks/chunk499.wav : Understand what's going on there trying to reach of you on within in high uncertainty and that's why you see lots and lots of volatility. \n"
          ]
        },
        {
          "output_type": "stream",
          "name": "stderr",
          "text": [
            "\r500it [07:31,  1.05s/it]"
          ]
        },
        {
          "output_type": "stream",
          "name": "stdout",
          "text": [
            "audio-chunks/chunk500.wav : I think there's more risk evangel stability and are alike like that then there is when things are really placid. \n"
          ]
        },
        {
          "output_type": "stream",
          "name": "stderr",
          "text": [
            "\r501it [07:32,  1.01it/s]"
          ]
        },
        {
          "output_type": "stream",
          "name": "stdout",
          "text": [
            "audio-chunks/chunk501.wav : And you know we're going home at 4 and kind of bored yet rear. \n"
          ]
        },
        {
          "output_type": "stream",
          "name": "stderr",
          "text": [
            "\r502it [07:32,  1.18it/s]"
          ]
        },
        {
          "output_type": "stream",
          "name": "stdout",
          "text": [
            "audio-chunks/chunk502.wav : That's not the case right now so. \n"
          ]
        },
        {
          "output_type": "stream",
          "name": "stderr",
          "text": [
            "\r503it [07:34,  1.19s/it]"
          ]
        },
        {
          "output_type": "stream",
          "name": "stdout",
          "text": [
            "audio-chunks/chunk503.wav : Central stability i would say those those risks to rising at a time of high volatility particularly a time where we're presenting presented with a challenge that is. \n"
          ]
        },
        {
          "output_type": "stream",
          "name": "stderr",
          "text": [
            "\r504it [07:35,  1.08s/it]"
          ]
        },
        {
          "output_type": "stream",
          "name": "stdout",
          "text": [
            "audio-chunks/chunk504.wav : It's kind of unique really it's not something we've all done before. \n"
          ]
        },
        {
          "output_type": "stream",
          "name": "stderr",
          "text": [
            "\r505it [07:36,  1.07it/s]"
          ]
        },
        {
          "output_type": "stream",
          "name": "stdout",
          "text": [
            "audio-chunks/chunk505.wav : I also want to add though that. \n"
          ]
        },
        {
          "output_type": "stream",
          "name": "stderr",
          "text": [
            "\r506it [07:37,  1.04it/s]"
          ]
        },
        {
          "output_type": "stream",
          "name": "stdout",
          "text": [
            "audio-chunks/chunk506.wav : Working that were strongly focused on financial stability we monitored carefully. \n"
          ]
        },
        {
          "output_type": "stream",
          "name": "stderr",
          "text": [
            "\r507it [07:37,  1.13it/s]"
          ]
        },
        {
          "output_type": "stream",
          "name": "stdout",
          "text": [
            "audio-chunks/chunk507.wav : We've built a very resilient financial system. \n"
          ]
        },
        {
          "output_type": "stream",
          "name": "stderr",
          "text": [
            "\r508it [07:38,  1.17it/s]"
          ]
        },
        {
          "output_type": "stream",
          "name": "stdout",
          "text": [
            "audio-chunks/chunk508.wav : The banks are highly capitalized lots of liquidity. \n"
          ]
        },
        {
          "output_type": "stream",
          "name": "stderr",
          "text": [
            "\r509it [07:39,  1.23it/s]"
          ]
        },
        {
          "output_type": "stream",
          "name": "stdout",
          "text": [
            "audio-chunks/chunk509.wav : Much better and an understanding and managing their risks. \n"
          ]
        },
        {
          "output_type": "stream",
          "name": "stderr",
          "text": [
            "\r510it [07:39,  1.38it/s]"
          ]
        },
        {
          "output_type": "stream",
          "name": "stdout",
          "text": [
            "audio-chunks/chunk510.wav : The resilience of stress. \n"
          ]
        },
        {
          "output_type": "stream",
          "name": "stderr",
          "text": [
            "\r511it [07:40,  1.59it/s]"
          ]
        },
        {
          "output_type": "stream",
          "name": "stdout",
          "text": [
            "audio-chunks/chunk511.wav : So. \n"
          ]
        },
        {
          "output_type": "stream",
          "name": "stderr",
          "text": [
            "\r512it [07:40,  1.58it/s]"
          ]
        },
        {
          "output_type": "stream",
          "name": "stdout",
          "text": [
            "audio-chunks/chunk512.wav : Our financial stability focus our focus on. \n"
          ]
        },
        {
          "output_type": "stream",
          "name": "stderr",
          "text": [
            "\r513it [07:41,  1.70it/s]"
          ]
        },
        {
          "output_type": "stream",
          "name": "stdout",
          "text": [
            "audio-chunks/chunk513.wav : Event like this. \n"
          ]
        },
        {
          "output_type": "stream",
          "name": "stderr",
          "text": [
            "\r514it [07:42,  1.31it/s]"
          ]
        },
        {
          "output_type": "stream",
          "name": "stdout",
          "text": [
            "audio-chunks/chunk514.wav : Over the last 10 years will pay dividends in the sense that you have a much more resilient financial system. \n"
          ]
        },
        {
          "output_type": "stream",
          "name": "stderr",
          "text": [
            "\r515it [07:43,  1.38it/s]"
          ]
        },
        {
          "output_type": "stream",
          "name": "stdout",
          "text": [
            "audio-chunks/chunk515.wav : That you had before. \n"
          ]
        },
        {
          "output_type": "stream",
          "name": "stderr",
          "text": [
            "\r516it [07:43,  1.45it/s]"
          ]
        },
        {
          "output_type": "stream",
          "name": "stdout",
          "text": [
            "audio-chunks/chunk516.wav : Okay we'll go to market news. \n"
          ]
        },
        {
          "output_type": "stream",
          "name": "stderr",
          "text": [
            "\r517it [07:44,  1.72it/s]"
          ]
        },
        {
          "output_type": "stream",
          "name": "stdout",
          "text": [
            "Error: \n"
          ]
        },
        {
          "output_type": "stream",
          "name": "stderr",
          "text": [
            "\r518it [07:44,  1.87it/s]"
          ]
        },
        {
          "output_type": "stream",
          "name": "stdout",
          "text": [
            "Error: \n"
          ]
        },
        {
          "output_type": "stream",
          "name": "stderr",
          "text": [
            "\r519it [07:45,  1.60it/s]"
          ]
        },
        {
          "output_type": "stream",
          "name": "stdout",
          "text": [
            "audio-chunks/chunk519.wav : I wanted to ask a few days ago the open markets. \n"
          ]
        },
        {
          "output_type": "stream",
          "name": "stderr",
          "text": [
            "\r520it [07:46,  1.31it/s]"
          ]
        },
        {
          "output_type": "stream",
          "name": "stdout",
          "text": [
            "audio-chunks/chunk520.wav : And it is repo operations. \n"
          ]
        },
        {
          "output_type": "stream",
          "name": "stderr",
          "text": [
            "\r521it [07:47,  1.39it/s]"
          ]
        },
        {
          "output_type": "stream",
          "name": "stdout",
          "text": [
            "audio-chunks/chunk521.wav : But the take-up was a bit low. \n"
          ]
        },
        {
          "output_type": "stream",
          "name": "stderr",
          "text": [
            "\r522it [07:47,  1.62it/s]"
          ]
        },
        {
          "output_type": "stream",
          "name": "stdout",
          "text": [
            "Error: \n"
          ]
        },
        {
          "output_type": "stream",
          "name": "stderr",
          "text": [
            "\r523it [07:49,  1.02it/s]"
          ]
        },
        {
          "output_type": "stream",
          "name": "stdout",
          "text": [
            "audio-chunks/chunk523.wav : Did you have any take away from that did that indicate to you that the rebels were not working after you had envisioned it. \n"
          ]
        },
        {
          "output_type": "stream",
          "name": "stderr",
          "text": [
            "\r524it [07:49,  1.17it/s]"
          ]
        },
        {
          "output_type": "stream",
          "name": "stdout",
          "text": [
            "audio-chunks/chunk524.wav : I'm always there something else. \n"
          ]
        },
        {
          "output_type": "stream",
          "name": "stderr",
          "text": [
            "\r525it [07:50,  1.28it/s]"
          ]
        },
        {
          "output_type": "stream",
          "name": "stdout",
          "text": [
            "audio-chunks/chunk525.wav : Set an alarm from. \n"
          ]
        },
        {
          "output_type": "stream",
          "name": "stderr",
          "text": [
            "\r526it [07:50,  1.49it/s]"
          ]
        },
        {
          "output_type": "stream",
          "name": "stdout",
          "text": [
            "Error: \n"
          ]
        },
        {
          "output_type": "stream",
          "name": "stderr",
          "text": [
            "\r527it [07:51,  1.76it/s]"
          ]
        },
        {
          "output_type": "stream",
          "name": "stdout",
          "text": [
            "Error: \n"
          ]
        },
        {
          "output_type": "stream",
          "name": "stderr",
          "text": [
            "\r528it [07:51,  1.88it/s]"
          ]
        },
        {
          "output_type": "stream",
          "name": "stdout",
          "text": [
            "Error: \n"
          ]
        },
        {
          "output_type": "stream",
          "name": "stderr",
          "text": [
            "\r529it [07:52,  2.07it/s]"
          ]
        },
        {
          "output_type": "stream",
          "name": "stdout",
          "text": [
            "Error: \n"
          ]
        },
        {
          "output_type": "stream",
          "name": "stderr",
          "text": [
            "\r530it [07:52,  2.00it/s]"
          ]
        },
        {
          "output_type": "stream",
          "name": "stdout",
          "text": [
            "audio-chunks/chunk530.wav : We saw and everyone saw. \n"
          ]
        },
        {
          "output_type": "stream",
          "name": "stderr",
          "text": [
            "\r531it [07:53,  1.99it/s]"
          ]
        },
        {
          "output_type": "stream",
          "name": "stdout",
          "text": [
            "audio-chunks/chunk531.wav : That liquidity. \n"
          ]
        },
        {
          "output_type": "stream",
          "name": "stderr",
          "text": [
            "\r532it [07:54,  1.39it/s]"
          ]
        },
        {
          "output_type": "stream",
          "name": "stdout",
          "text": [
            "audio-chunks/chunk532.wav : And i had become very strained in treasury and mbs markets. \n"
          ]
        },
        {
          "output_type": "stream",
          "name": "stderr",
          "text": [
            "\r533it [07:54,  1.43it/s]"
          ]
        },
        {
          "output_type": "stream",
          "name": "stdout",
          "text": [
            "audio-chunks/chunk533.wav : And we decided to offer. \n"
          ]
        },
        {
          "output_type": "stream",
          "name": "stderr",
          "text": [
            "\r534it [07:56,  1.19it/s]"
          ]
        },
        {
          "output_type": "stream",
          "name": "stdout",
          "text": [
            "audio-chunks/chunk534.wav : Very large quantities of termino vernick repo to address that that makes it easier to finance. \n"
          ]
        },
        {
          "output_type": "stream",
          "name": "stderr",
          "text": [
            "\r535it [07:57,  1.10it/s]"
          ]
        },
        {
          "output_type": "stream",
          "name": "stdout",
          "text": [
            "audio-chunks/chunk535.wav : The purchase of repository of treasures and ids. \n"
          ]
        },
        {
          "output_type": "stream",
          "name": "stderr",
          "text": [
            "\r536it [07:57,  1.18it/s]"
          ]
        },
        {
          "output_type": "stream",
          "name": "stdout",
          "text": [
            "audio-chunks/chunk536.wav : So we did that and as you pointed out the take up. \n"
          ]
        },
        {
          "output_type": "stream",
          "name": "stderr",
          "text": [
            "\r537it [07:58,  1.40it/s]"
          ]
        },
        {
          "output_type": "stream",
          "name": "stdout",
          "text": [
            "audio-chunks/chunk537.wav : Was. \n"
          ]
        },
        {
          "output_type": "stream",
          "name": "stderr",
          "text": [
            "\r538it [07:58,  1.52it/s]"
          ]
        },
        {
          "output_type": "stream",
          "name": "stdout",
          "text": [
            "audio-chunks/chunk538.wav : Not as tired as. \n"
          ]
        },
        {
          "output_type": "stream",
          "name": "stderr",
          "text": [
            "\r539it [07:59,  1.66it/s]"
          ]
        },
        {
          "output_type": "stream",
          "name": "stdout",
          "text": [
            "audio-chunks/chunk539.wav : Many had expected. \n"
          ]
        },
        {
          "output_type": "stream",
          "name": "stderr",
          "text": [
            "\r540it [08:00,  1.32it/s]"
          ]
        },
        {
          "output_type": "stream",
          "name": "stdout",
          "text": [
            "audio-chunks/chunk540.wav : And i think we did learn something from that we thought that was worth doing and we what we learned was that. \n"
          ]
        },
        {
          "output_type": "stream",
          "name": "stderr",
          "text": [
            "\r541it [08:01,  1.36it/s]"
          ]
        },
        {
          "output_type": "stream",
          "name": "stdout",
          "text": [
            "audio-chunks/chunk541.wav : We needed to go direct here rather than trying to intermediate. \n"
          ]
        },
        {
          "output_type": "stream",
          "name": "stderr",
          "text": [
            "\r542it [08:01,  1.56it/s]"
          ]
        },
        {
          "output_type": "stream",
          "name": "stdout",
          "text": [
            "audio-chunks/chunk542.wav : Through the dealers. \n"
          ]
        },
        {
          "output_type": "stream",
          "name": "stderr",
          "text": [
            "\r543it [08:03,  1.03it/s]"
          ]
        },
        {
          "output_type": "stream",
          "name": "stdout",
          "text": [
            "audio-chunks/chunk543.wav : And so we realize at that point that we would need to actually purchase securities for our portfolio so we did that on friday. \n"
          ]
        },
        {
          "output_type": "stream",
          "name": "stderr",
          "text": [
            "\r544it [08:04,  1.09it/s]"
          ]
        },
        {
          "output_type": "stream",
          "name": "stdout",
          "text": [
            "audio-chunks/chunk544.wav : And we bought fighting 37 billion dollars for the securities. \n"
          ]
        },
        {
          "output_type": "stream",
          "name": "stderr",
          "text": [
            "\r545it [08:04,  1.09it/s]"
          ]
        },
        {
          "output_type": "stream",
          "name": "stdout",
          "text": [
            "audio-chunks/chunk545.wav : And we saw what happened with that we saw that market function improved a little bit. \n"
          ]
        },
        {
          "output_type": "stream",
          "name": "stderr",
          "text": [
            "\r546it [08:05,  1.19it/s]"
          ]
        },
        {
          "output_type": "stream",
          "name": "stdout",
          "text": [
            "audio-chunks/chunk546.wav : But still if it wasn't what we needed and that's why. \n"
          ]
        },
        {
          "output_type": "stream",
          "name": "stderr",
          "text": [
            "\r547it [08:06,  1.24it/s]"
          ]
        },
        {
          "output_type": "stream",
          "name": "stdout",
          "text": [
            "audio-chunks/chunk547.wav : We brought together the full fmc. \n"
          ]
        },
        {
          "output_type": "stream",
          "name": "stderr",
          "text": [
            "\r548it [08:07,  1.22it/s]"
          ]
        },
        {
          "output_type": "stream",
          "name": "stdout",
          "text": [
            "audio-chunks/chunk548.wav : And had our meeting this afternoon announce these measures this evening. \n"
          ]
        },
        {
          "output_type": "stream",
          "name": "stderr",
          "text": [
            "\r549it [08:08,  1.21it/s]"
          ]
        },
        {
          "output_type": "stream",
          "name": "stdout",
          "text": [
            "audio-chunks/chunk549.wav : Which are strong measures with the broad support of the committee. \n"
          ]
        },
        {
          "output_type": "stream",
          "name": "stderr",
          "text": [
            "\r550it [08:09,  1.02it/s]"
          ]
        },
        {
          "output_type": "stream",
          "name": "stdout",
          "text": [
            "audio-chunks/chunk550.wav : To provide really substantial not to look weird and i didn't even see us. \n"
          ]
        },
        {
          "output_type": "stream",
          "name": "stderr",
          "text": [
            "\r551it [08:10,  1.00it/s]"
          ]
        },
        {
          "output_type": "stream",
          "name": "stdout",
          "text": [
            "audio-chunks/chunk551.wav : I'm working through different solutions and and find even one that we think really will work and then acting. \n"
          ]
        },
        {
          "output_type": "stream",
          "name": "stderr",
          "text": [
            "\r552it [08:11,  1.14it/s]"
          ]
        },
        {
          "output_type": "stream",
          "name": "stdout",
          "text": [
            "audio-chunks/chunk552.wav : Quite vigorously quite aggressively tonight. \n"
          ]
        },
        {
          "output_type": "stream",
          "name": "stderr",
          "text": [
            "\r553it [08:11,  1.29it/s]"
          ]
        },
        {
          "output_type": "stream",
          "name": "stdout",
          "text": [
            "audio-chunks/chunk553.wav : To implement. \n"
          ]
        },
        {
          "output_type": "stream",
          "name": "stderr",
          "text": [
            "\r554it [08:12,  1.34it/s]"
          ]
        },
        {
          "output_type": "stream",
          "name": "stdout",
          "text": [
            "audio-chunks/chunk554.wav : Okay we're going to go to reuters for the last question. \n"
          ]
        },
        {
          "output_type": "stream",
          "name": "stderr",
          "text": [
            "\r555it [08:13,  1.11it/s]"
          ]
        },
        {
          "output_type": "stream",
          "name": "stdout",
          "text": [
            "audio-chunks/chunk555.wav : Thanks chip health howard cyrus twitter. \n"
          ]
        },
        {
          "output_type": "stream",
          "name": "stderr",
          "text": [
            "\r556it [08:14,  1.01s/it]"
          ]
        },
        {
          "output_type": "stream",
          "name": "stdout",
          "text": [
            "audio-chunks/chunk556.wav : The truth is that i could could you describe any discussions you had in coordination with the major banks this whole. \n"
          ]
        },
        {
          "output_type": "stream",
          "name": "stderr",
          "text": [
            "\r557it [08:15,  1.06it/s]"
          ]
        },
        {
          "output_type": "stream",
          "name": "stdout",
          "text": [
            "audio-chunks/chunk557.wav : Talk about drawing down liquidity drawing out capital buffers. \n"
          ]
        },
        {
          "output_type": "stream",
          "name": "stderr",
          "text": [
            "\r558it [08:17,  1.27s/it]"
          ]
        },
        {
          "output_type": "stream",
          "name": "stdout",
          "text": [
            "audio-chunks/chunk558.wav : How far can a drawdown how much do you think they can put now out to customer finance did you get the explicit agreements for them that this will go to customer finance and not something else. \n"
          ]
        },
        {
          "output_type": "stream",
          "name": "stderr",
          "text": [
            "\r559it [08:19,  1.37s/it]"
          ]
        },
        {
          "output_type": "stream",
          "name": "stdout",
          "text": [
            "audio-chunks/chunk559.wav : And then secondly is there any discussion yet of of using the 13 free powers in the fed to do some sort of direct lending facility. \n"
          ]
        },
        {
          "output_type": "stream",
          "name": "stderr",
          "text": [
            "\r560it [08:19,  1.17s/it]"
          ]
        },
        {
          "output_type": "stream",
          "name": "stdout",
          "text": [
            "audio-chunks/chunk560.wav : Broad general guidance to the bank. \n"
          ]
        },
        {
          "output_type": "stream",
          "name": "stderr",
          "text": [
            "\r561it [08:20,  1.03it/s]"
          ]
        },
        {
          "output_type": "stream",
          "name": "stdout",
          "text": [
            "audio-chunks/chunk561.wav : We'd like them to. \n"
          ]
        },
        {
          "output_type": "stream",
          "name": "stderr",
          "text": [
            "\r562it [08:21,  1.02s/it]"
          ]
        },
        {
          "output_type": "stream",
          "name": "stdout",
          "text": [
            "audio-chunks/chunk562.wav : Use their buffers to provide to. \n"
          ]
        },
        {
          "output_type": "stream",
          "name": "stderr",
          "text": [
            "\r563it [08:23,  1.17s/it]"
          ]
        },
        {
          "output_type": "stream",
          "name": "stdout",
          "text": [
            "audio-chunks/chunk563.wav : Provide loans and and also to work with their borrowers that you can see we're running a lot of guidance across a wide range. \n"
          ]
        },
        {
          "output_type": "stream",
          "name": "stderr",
          "text": [
            "\r564it [08:23,  1.02s/it]"
          ]
        },
        {
          "output_type": "stream",
          "name": "stdout",
          "text": [
            "audio-chunks/chunk564.wav : And they're saying they have every intention of doing that. \n"
          ]
        },
        {
          "output_type": "stream",
          "name": "stderr",
          "text": [
            "\r565it [08:24,  1.11it/s]"
          ]
        },
        {
          "output_type": "stream",
          "name": "stdout",
          "text": [
            "audio-chunks/chunk565.wav : That's good to hear and. \n"
          ]
        },
        {
          "output_type": "stream",
          "name": "stderr",
          "text": [
            "\r566it [08:25,  1.01it/s]"
          ]
        },
        {
          "output_type": "stream",
          "name": "stdout",
          "text": [
            "audio-chunks/chunk566.wav : So we'll see how that works out there of their lot of discussions going on and you know we hear the bank saying that's exactly what they're going to do. \n"
          ]
        },
        {
          "output_type": "stream",
          "name": "stderr",
          "text": [
            "\r567it [08:25,  1.22it/s]"
          ]
        },
        {
          "output_type": "stream",
          "name": "stdout",
          "text": [
            "audio-chunks/chunk567.wav : That's a good thing. \n"
          ]
        },
        {
          "output_type": "stream",
          "name": "stderr",
          "text": [
            "\r568it [08:26,  1.44it/s]"
          ]
        },
        {
          "output_type": "stream",
          "name": "stdout",
          "text": [
            "Error: \n"
          ]
        },
        {
          "output_type": "stream",
          "name": "stderr",
          "text": [
            "\r569it [08:27,  1.05it/s]"
          ]
        },
        {
          "output_type": "stream",
          "name": "stdout",
          "text": [
            "audio-chunks/chunk569.wav : You know where course we were were nothing to announce on the 113 three powers but you know of course we. \n"
          ]
        },
        {
          "output_type": "stream",
          "name": "stderr",
          "text": [
            "\r570it [08:28,  1.16it/s]"
          ]
        },
        {
          "output_type": "stream",
          "name": "stdout",
          "text": [
            "audio-chunks/chunk570.wav : That's part of our playbook in in. \n"
          ]
        },
        {
          "output_type": "stream",
          "name": "stderr",
          "text": [
            "\r571it [08:29,  1.12it/s]"
          ]
        },
        {
          "output_type": "stream",
          "name": "stdout",
          "text": [
            "audio-chunks/chunk571.wav : Doing any situation like this so as i said we're prepared to use our authorities. \n"
          ]
        },
        {
          "output_type": "stream",
          "name": "stderr",
          "text": [
            "\r572it [08:30,  1.15it/s]"
          ]
        },
        {
          "output_type": "stream",
          "name": "stdout",
          "text": [
            "audio-chunks/chunk572.wav : As is appropriate to you know to support. \n"
          ]
        },
        {
          "output_type": "stream",
          "name": "stderr",
          "text": [
            "\r573it [08:31,  1.14it/s]"
          ]
        },
        {
          "output_type": "stream",
          "name": "stdout",
          "text": [
            "audio-chunks/chunk573.wav : Borrowing and lending in the economy. \n"
          ]
        },
        {
          "output_type": "stream",
          "name": "stderr",
          "text": [
            "\r574it [08:32,  1.16it/s]"
          ]
        },
        {
          "output_type": "stream",
          "name": "stdout",
          "text": [
            "audio-chunks/chunk574.wav : And an enhanced to support the availability of credit to households and businesses. \n"
          ]
        },
        {
          "output_type": "stream",
          "name": "stderr",
          "text": [
            "\r575it [08:32,  1.24it/s]"
          ]
        },
        {
          "output_type": "stream",
          "name": "stdout",
          "text": [
            "audio-chunks/chunk575.wav : Okay thank you very much. \n"
          ]
        },
        {
          "output_type": "stream",
          "name": "stderr",
          "text": [
            "576it [08:33,  1.12it/s]"
          ]
        },
        {
          "output_type": "stream",
          "name": "stdout",
          "text": [
            "audio-chunks/chunk576.wav : We're signing off. \n"
          ]
        },
        {
          "output_type": "stream",
          "name": "stderr",
          "text": [
            "\n"
          ]
        }
      ]
    },
    {
      "cell_type": "code",
      "source": [
        "kl"
      ],
      "metadata": {
        "colab": {
          "base_uri": "https://localhost:8080/",
          "height": 123
        },
        "id": "dxgwOHZaE416",
        "outputId": "39a991c3-ae86-408b-9851-07d91878a575"
      },
      "execution_count": 10,
      "outputs": [
        {
          "output_type": "execute_result",
          "data": {
            "text/plain": [
              "\"Evening everyone. The federal reserve took a number of actions to support american families and business and the economy overall. And promote the flow credit as we weather disruptions caused by the coronavirus. Virus is having a profound effect on people across the united states and around the world. I'll be half of my colleagues at the federal reserve our first concern is for those who've been harmed. Family's businesses schools organizations and governments at all levels are taking steps to protect people's help. These measures which are essential for containing the outbreak will nonetheless understandably take a toll on you can annika activity in the near-term. Well the primary response to this challenge will come from our healthcare providers and policy experts. Economic policymakers must. Do what we can to ease hardship caused by the disruptions to the economy. And to support us with return to normal once they've passed. Is guided by our mandate from congress to promote maximum employment and stable prices for the american people. Along with our responsibilities to promote the stability of the financial system. Today we reduce the target range for our policy interest rate by one percentage point. Bringing it close to zero. And said that we expect to maintain the right at this level. Until we're confident that the economy has weathered recent events. And is on track to achieve our maximum employment and price stability goals. Addition we took other actions to support the flow of credit to households and businesses. Before describing our actions more fully i will share how my colleagues and i currently view the economic outlook. Economy came into this challenging. on a strong footing the unemployment rate was 3.5% in february and has been at or near half-century lows for almost 2 years. Job gains have been running at a solid pace well above what is needed to provide jobs for new entrants into the labor market. Participation in the labor force by people in their prime working years remained near its highest rate in more than a decade. And wages have been rising particularly for lower-paying jobs. Economic activity has been expanding at a moderate rate. Even though weak growth abroad and trade developments have been weighing on some sectors. U.s. banks are strong. Have high levels of capital and liquidity and are well positioned to provide credit to households and businesses. Against this favorable backdrop. The virus present significant economic challenges. Like others we expected the illness and the measures now being put in place to stem it spread. Will have a significant effect on economic activity in the near-term. Who's in travel tourism and hospitality. Are already seeing a sharp drop in business. In addition the effects of the outbreak or restraining economic activity in many foreign economies. Which is causing difficulties for us industries that rely on global supply chains. And we will also weigh on our exports for a time. Moreover the energy sector has recently come under stress. Because of the large drop in global oil prices. Inflation which has continued to run below are symmetric 2% of ejected. Will likely be held down this year by the effects of the outbreak. Conditions have also tightened markedly. The cost of credit has risen for all but the strongest borrowers. Stock markets around the world are down sharply. The rapidly evolving situation has led to high volatility in financial markets. As everyone tries to assess the path ahead. In the past week several important financial markets including the market for u.s. treasury securities. Habit times showing signs of stress and a liquidity. The market for treasury securities is a critical part of the foundation of the global financial system. It is generally the most liquid of all mark. And serves as the benchmark mark. By which many other financial assets are valued. It plays an important role in allowing households and firms to earn a safe return and manage their risks. When stresses arrives in the treasury market they can reverberate through the entire financial system and the economy. To prevent this from happening and to support the smooth functioning of the treasury market we announced today that we will purchase at least 500 billion of treasury securities over the coming months. Similar stressors have also emerged in the market for agency mortgage-backed securities. Which is closely linked to the treasury market. And critically supports the ability of people to get a mortgage. To buy a house. Existing mortgage. To improve the functioning of this market in to ensure the effective transmission of monetary policy to borrowers in the economy. We will also purchase at least 200 billion dollars of agency mortgage-backed securities over coming months. And immediately cease the runoff of these securities in our portfolio. Well the primary purpose of these securities purchases is to restore smooth market functioning so that credit can continue to flow. The purchases will also foster more accommodative financial conditions. The reserve anthony number of other actions today to support support the flow of credit to households and businesses thereby promoting our maximum employment and price stability goals of these i will highlight to. First we reduce the interest rate on discount window loans by 1 1/2 percentage points. Bring that rate to a quarter of a percent. Discount window plays an important role in supporting liquidity and stability in the banking system and we encourage banks to turn to the discount window. To help meet demand for credit from households and businesses. Make a discount window more effective we will also offer discount window loans for periods up to 90 days. Because of the importance of the us dollar in a global economy strains and markets for borrowing and lending dollars overseas. Can disrupt financial conditions here in the united states. The guard against such disruptions the federal reserve maintain swap lines with five major central banks. When dollar funding pressures emerge abroad. Do central banks can contain the pressures in their jurisdictions. And prevent them from impeding the flow of credit here at home. To address potential pressures in these markets during the current period of elevated uncertainty. We made a coordinated announcements with the bank of canada the bank of england the bank of japan. The european central bank and the swiss national bank. To reduce the pricing on a dollar swap line. Addition or central-bank counterparts will begin offering dollars to institutions in their jurisdictions. For termite 84 days. In addition to the usual one-week operation. These long-standing arrangement arrangements carry no risk to the federal reserve or to the american taxpayer. I won't go into detail on the other actions we took today but they involved eliminating reserve requirements for banks and encouraging banks to make you. Intraday credit with the federal reserve and to use their capital and liquidity buffers. As a support lending to households and businesses. We have announced today will help american families and businesses and indeed our entire economy whether this difficult.. And will foster a more bigger more vigorous return to normal once the disruptions from the coronavirus update. We will continue to closely monitor economic and financial developments and their implications for the economic outlook. We are prepared to use our full range of tools to support the flow of credit to households and businesses. They'll keep the economy strong. Enter promote our maximum employment and price stability goals. Finally let me know that today's fomc meeting was in lieu of the meeting scheduled for next tuesday and wednesday. The chair will now take some questions please dial start one on your phone to indicate you want to ask a question you will be unmuted when you're called on. Okay cnbc. Thank you. German contacted you expect. Get some. Actions to dd do you think a recession is that everybody can be avoided. Secondly that was talked about additional. Program sexy canal fragancia primary dealer credit facility. Thank you thank you so much. Based on our discussions today and and many conversations with participants. It's fair to say that we have a range of views about the path of the economy as it as is always the case with the fed. But in general i say that we see the us economy as having been in quite a strong position before the arrival of the virus. We see that it is likely that the measures we take to protect ourselves from the virus will involve withdrawing from or reducing certain activities thinking their of travel leisure hospitality. Those things these are choices that we make. To protect ourselves appropriate choices that we make to protect ourselves from the virus. So that means that the second quarter is probably going to be weak infected hug in the view of many output. Declining a atwood lower in the second quarter that was in the first quarter after that it's very hard to say how big the effects will be or how long they will last. And that's going to depend of course. On how widely the virus spreads which is something that is highly uncertain and i would say in fact unknowable. We do know that the virus will run its course and that the us economy will resume a normal level of activity in the meantime. The fed will continue to use our tools to support the flow credit household and businesses. It's at work man with monetary policy ultimately to do what we can to see if the recovery just as vigorous as possible. You also asked about other facilities i would point out that we have. Of course responded. Very strongly not just when interest rates but also with liquidity. What measures today and we believe that what we did today will be beneficial to financial markets generally. And as i said in my statement were prepared to use our full range of tools to support the flow of credit to households and businesses thanks. Okay thanks we'll go to marketplace radio. Hi nancy marshall-genzer with marketplace. Triple i'm wondering are you considering negative interest rates at this point is there a scenario in which you think that would be appropriate. Noted on a number of occasions really the committee. We did a year plus long. Study of our tools and strategies and communications. And. We really at the end of that and also when we started that we view forward guidance and asset purchases asset purchases. And also different variations and combinations of those tools. As the basic elements of our toolkit. Once the federal funds rate. Redo the effective lower bound so really. Forward guidance asset purchases and combinations of those. Evening we looked at negative policy rates during the global financial crisis and other jurisdictions we continue to do so. But we do not see negative policy rates as likely to be an appropriate policy response here in the united states. We're going to the wall street journal. I think thanks tripel mixed emarosa the wall street journal. I guess i wanted to understand specifically. Howdy actions you've announced this evening. Will get credit to households and firms never going to see large drops and income and revenue. And also to the extent that. They are needed at what steps would you recommend that the fiscal authorities undertake. Again to make sure that firms. Big large drops and income and revenue. Don't go bust over the next few weeks or months. Let me tell you what. Microgard to what our tools can accomplish in and it really worth it with they're not designed to accomplish so. What our liquidity operations and i'll talk specifically about the treasury and mbs purchases are designed to do is to. Ensure the proper functioning of the treasury and mbs markets. The treasury market is. One of the most important perhaps the most important. Market in the world. Probably the most liquid large market in the world. Cmbs market is very important to closely linked to the treasury market. And it's the way that our monetary policy decisions. Flow through to borrowers in the real economy set to very important. Markets and they had reach levels are very high illiquidity. And i'm to the point where we at let you know last week we we offered financing. Very large amounts of financing and after that we bought a certapro the curve to try to support liquidity and return to normal function. And we found it that helped but nonetheless week we felt we had to do more and and we knew what we had to do which was the asset-purchase programs that we did today. Those are designed to restore those key. Markets to normal function that why is it important to to everyone. These markets are part of the foundation of the global financial system and of the united states financial system and if they are not functioning well then other markets. Depend that will spread to other markets. And those are the markets that that amount to b where households and businesses typically get credit we know that this functional financial markets. I'm just functional city financial system really. Can have very big negative effects on the economy we saw that during the financial crisis this is a very different situation but nonetheless we thought it was quite important for us to. Take strong measures to support. Dodge sport proper market function in these important markets. You asked about household. It's true we don't have the tools to reach individuals in particular small businesses. And at the other businesses and people who may be out of work or whose businesses may not may experience a very little activity we don't have those tools we have the tools that we have and we use them i think we use them quite aggressively. For the benefit of the public. This is a multifaceted problem. And it requires answers from different parts of the government and private society either. By far the most important is the response of the healthcare. Workers in healthcare healthcare policy makers. After that. Fiscal policy we've had one round of fiscal policy another coming i think fiscal policy is a way to direct. Not really really 22 particular populations and groups. Mantra coffee has a role and it really is in. You know original role was providing liquidity to. Financial systems when they're under stress and that's that's really part of what we did today the other role is to support the man through lower interest rates and we did. Fiscal as well i guess i should have covered that. We do think physical responses is critical and we're happy to see that the. Those measures are being considered and we we we. We hope they are effective. We're going to go to fox business. Thank you mr. chairman edward lawrence from fox business network in your statement you say that the market measures of inflation of decline the fed his understand inflation. In the last year and that's because of the focuses of the fomc meeting that does the federal reserve see deflation. Coming and if his large cut mint to get in front of anymore inflation plus. The second question would consider buying securities outside of treasuries and mortgage-backed securities. Bright sew-on on fletcher. You know the economy's performance so well really over the last few years and write up to january. Historically low on employment 50-year low unemployment for a couple of years. 11 years almost 11 years of expansion so far. And inflation linger below 2% so we've been concerned that inflation not move down further it's not at all a question of deflation is a question of not getting. Inflation up to our target on a robust. Symmetric kind of way. So with this. Coronavirus arriving we judge that the the net effects of this will be too. To have inflation move down even a little bit more. It's not a question about it's not it's not an issue of deflation again it's just. An issue of inflation probably falling even a bit further we expect. With with uncertainty that dumb you know that it will fall a little bit further at least below where it has been. We are if we don't have the legal authority to buy other securities other than. The ones we already by and we're not seeking authority to do so we haven't discussed that at the. I'm saying it's not it's not legal authority that receiving. Ok google to the financial times. Suspending greeley with financial times. You have talked about the. Mortgage-backed security purchases of treasury purchases as stability. To do the operation. Asking to determine whether or not this is quantitative easing. Something you baby when the future that is explicit quantitative easing or can we think of this. The first step in quantitative easing. So what what i can tell you definitively is what the purpose of the asset purchases was and i i mentioned this in my statement. It really is to support the availability of credit in the economy households and businesses and thereby support the overall economy how did they do that. You do that by supporting proper market functioning in the treasure market in the nbs market. So you see. I think you'll see as these purchases roll forward you will see the treasury market in the nbs morgan returning to. To normal market function. And that will actually support economic activity that will be a positive for economic activity. I'm in terms of what it's labeled. That's of less interest to me i i really think. We are very clear in our minds what we're doing is for. And with the logical effects of being proposed people which was which would be both. Better market function and infidel. At winners better market function. It will be. You know policy will be supporting the economy better. Okay. Bloomberg tv. I want to ask some timing questions here first on the. Whatever it is, you're not can you talk in the press release about increase over coming months is there a timetable for that how long we talkin about 700 billion obviously over two months is a lot different from 700 billion over the course of a year and. Do you have a date where you would re-evaluate and perhaps add more or in the program and the same with the. Interest rate cut to zero how long do you think that might last and. Would you be inclined to quickly go back to a higher level to 100 or basis points or more that you cut it from or would you anticipated this will be a long slow process going back. Okay so sorry. Mike can you ask your question. I was asking about timing how long. are we talking about for how long do you anticipate keeping rates low and how fast i bring them back up again. Okay sorry so then that's the incoming months language. The desk is going to go out and it's going to buy at a strong rate. That is we that we think we'll restore. Market function. Liquidity as quickly as it can be restored. That language is open-ended and it's meant to send a signal to to the market that. That. You know we're not going to be bound by for example 60 billion a month or anything like that we're going to go in strong. Starting tomorrow. And we're going to buy across the curve and we're going to buy mbs and we're really going to use our tools. To do what we need to do here which is restore these. Important markets to normal function for that that's really what that is. As far as as the the policy rate what we said is that we will. Maintain the rate at this level until work confidence. The economy has weathered recent events and is on track to achieve our maximum employment and price stability goals. So you can see that's the test we written down and if you look at it you'll see. That some things have to happen before we agree consider we have to become confident. That the economy has whether these recent events. And also is on track to achieve our maximum employment price stability cold so. Not the test will be looking at and i think it's suggest that you know we're going to be watching. And willing to be patient certainly. Okay we're going to go to the associated press. Hi. Scripture gabriel ap. 2008 you had a lot of coordination between. The white house at that time the fed the treasury. Bernanke doing all things with paulson and so forth. You know today the white house had its first come first at 5 and you guys are doing something a little separate. Is there do you think it would be more helpful to markets. Plants in the broader economy to have a more coordinated response. We might look for in the future. Well i would say this you know what i'm. We have different tools i think we do actually work pretty closely with the treasury department and and cooperate with him on things. With clear lines of didn't do any asian for example that the treasury department has. Authority over fiscal policy that's not our job. It's their job with other parts of the administration. It's just that like that for us with monetary policy we have sole responsibility for monetary policy and strong instructions from congress to conduct an independent non-political way so those two things. One for each of us. But in the middle of their they're there are areas where we where we can cooperate and. And also there's a long history you would want the finance ministry in the treasury to be talking in every major economy in the world you would want them to be regularly exchanging information. Professional relationships not just at the. You know that.. Did cher to treasury secretary level but also through the organization for example. The new york fed is the treasury's age and fiscal agent as you know so. There's a lot that goes into debt management and the issuance of debt which happens at the new york fed so i think we do actually we have. Professional good working relationships up and down the chain there. And dumb you know. That's that's it that seems to be working and there is. Is also quite a lot of coordination and in other respects with of course with foreign central banks but you didn't ask about that. We're going to go to the washington post. Washington post are you there. Sorry i'm here. Hydropower. Two questions this evening first have you personally been tested for coronavirus and are you working from home if you could shed some light on the precautions you're taking. And second do you believe the fed has sufficient tools at the moment. Are you seeking congressional action to expand your tool set. So i feel fine i feel. Very well and if so there's no reason for me to be tested. We are observing we're trying to tomorrow good behavior here so we're observing quite a lot of teleworking. And also where you know we're not having a lot of big crowded me for not having any big crowd of me so we're trying to observe all of the things that the professional. Professionals tell us to do i do expect to do some teleworking. Because i want a model that but it's okay for other people to do so and second important for them to do so so i will do that. Let me say first that you know i think we do have plenty of space to adjust our policy. I mention our liquidity tools we've yeah we have. A lot of power in our liquidity tools and as i mentioned were prepared prepared to use them. In addition we got plenty of space left to offer. Forward guidance asset purchases and adjust those policy so i think we do have room. We we have not. It all made a decision to request further. Further tools or authority from congress know we have not made that decision is not something we're actively considering right now. Okay we'll go to the new york times. Thanks like a question. I'm just curious you know obviously you how this meeting. What's our forecast ep. First we decided on thursday to move the meeting up by three days. To today's and that's before the scp's are generally filed they hadn't been filled out and we frankly we spend our time. Pakistan getting ready to make these announcements. Had already reached out to make a point that. Economic outlook is evolving on a daily basis and it really is depending heavily on the spread of the virus. And the measures taken to effective and how long that goes on and that's just not something that's knowable so. Actually raining down forecast in that circumstance didn't seem to be. Useful in fact. Could have been more of an obstacle to declare communications in a help. I do expect it will return to the quarterly regular quarterly cycling june however. In terms of the forecast so. As i mentioned. You know we see the us economy starting out strong for a strong position. Different different as we talked through it today people have a range of perspectives on the way the years going to go. But i think there's a free broad sense that the second order will be a week order with probably out. After that it becomes hard to say you know what'll happen in the third and fourth quarters in there after the virus. The thing we do know is that we'll be here doing our job and supporting the flow of credits and and there to do what we can when the recovery comes to make it as vigorous as possible. Okay now go to bloomberg news. Hi terpal craig torres bloomberg news. You say the path of the economy. Your life depends on the path of the virus. Important. Fiscal policy now in determining whether this sudden stop an activity. Is long or short end of high human consequence or little human consequence. And second can you talk a little bit about what's on your dashboard. For economic and financial indicators that you're going to be watching. Day-to-day i know. Vice-chair clarida said. Then we should start seeing the data show up in april what are you going to be watching and what should we be watching. So in terms of fiscal policy i think in the first incident and you're you're seeing some of this now. This thing is fiscal policy and really only fiscal policy can do is reach out directly to affected industries affected workers. And we seen some of that so that's that's an important job for fiscal policy. More broadway. After that there's the question of of fiscal broader fiscal stimulus and i think that'll depend on the path of the economy. I think there is such a wide range of possibilities here. That it's some it's very hard to predict but there could certainly be and there could certainly be. Yeah we need for that. Your second question was. Yeah it was on what indicators you're going to be looking at the mantel and real. Well i think in a meeting the very near-term. Going to be looking at. Treasury market function can be looking to see. That financial markets are returning to more liquid more normal functioning. That is an essential part of our job that is actually you know that is the thing that central banks were originally. Designed to do was to provide liquidity to. Financial systems and stress so we take that job very seriously probably the most important thing we're doing now. Is that so we'll be watching that and we'll be prepared to use our tools. When and as appropriate to address it took to support market functioning and really really to support the flow of credit to. Consulting business. I think it's just so early you know we we were really looking. I mean the economic data will follow. The date on the spread of the virus. Yeah i think what happens what happens during the spread of the virus is probably not going to tell you a lot about. Where the economy will be in 6 months. It's going to be cuz you you may have a few probably have a bad quarter in the second quarter but if things get better in the third quarter. That probably won't matter matter so much we may be able to come back from that if it didn't last longer. That's really what i'll be looking for is is what is going to be the spread of the virus and what the path is going to take and what are the effects on the economy. Can we go to nbc news now. From nbc news and a lot of the questions here so i'll try to one that's more philosophical in nature and you've talked a bit about the destruction from the coronavirus. Outbreak and having lower economic activity fruit for a time. I'm reckoning with the fact that my kids going to be out of school until april 20th at the earliest stuff for shield. Very very cute lee but i wonder if you could just give us your perspective on the time horizon here and put that into some broader context how you look at this and. Anomalous this thing is with which you and your colleagues are going to have to reckon. That's my first question the second is newest andrade tools are deployed over these last few weeks and. The market which i know is something that you pay. At least minimal attention to is is reacting negatively this to some of that what do you make of that earlier about the toolbox and and. What's left what's left in it. Rates are low business that provoked any apprehension any nervousness on your part that that there are fewer tools there in. I guess your first question is think about that at the time. The time for this thing you know the truth is we just don't know and. You know the experts we talked to will say that they don't know and it's infected unknowable it's going to depend. Are number of things first it's the measures that we take. 2. You know two with the social distancing and all the things businesses in school and everyone's doing that and compliant people are. You can see that some countries have had to have been able to through aggressive. Measures and really high compliance have been able to bend the curve and. And do that and whether we succeed or the question and i i wouldn't i wouldn't. You know i'll resist the impulse to guess i really don't know what that will be. As i mentioned we have plenty of power left. That i think is is right now the most important thing that we're doing. Are interest rates will matter cuts will matter now to borrowers who will get some relief. Four more cuts but don't matter a lot more when the economy begins to recover. Not so i'm getting that job done well. You know we have room to provide forward guidance to. To do more asset purchases i think there is room for us to do what we need to do. I would just close no by saying that. You know typically fiscal policy. Does play a major role. When it when there are downturned dussault you seen that in in many pass downturns. And that's beyond just the automatic stabilizers some sometimes fiscal policy comes in. Need to be the case here as well. Politico. Victoria doing the call. After you see a bigger role here for the financial stability oversight council. With all these dresses showing up in different market d.c. risks. Financial stability rising. Do you think there are some activities that might want to crack down on. Interview confidence if there aren't any non banks that are systemically important. Is really something that the treasury secretary chairs. And it's a big group it's got a lot of people i think it serves a good purpose but. You should know that we are course in regular contact with the other. With the other regulatory agencies constantly talking about what's going on in markets. There's a lot of information and conversation or ongoing basis there i would say. So. And the same is true with our central bank contacts around the world wearing ongoing contact with all the major central banks. Around the world talk about what's going on we're having group calls we're calling one-on-one. It's quite a lot of information being exchanged there. Then your question was non-bank cypis. You know again that's a judgment for the that's a judgment for the f stock. You know i'm comfortable with the actions that we've taken and if we if we do identify you know. Systemically important. Not bank institution that we wouldn't hesitate to designated but although i guess now we're working more on activities but we do still have the power to designate institutions. So. Does rising. Question was. Askew financial stability rising giving all the traffic happening in financial markets. Well yes i would say you know that's. That's some something that happens when markets are as volatile as they are when we are having these big market movements while. Markets are trying to. Understand what's going on there trying to reach of you on within in high uncertainty and that's why you see lots and lots of volatility. I think there's more risk evangel stability and are alike like that then there is when things are really placid. And you know we're going home at 4 and kind of bored yet rear. That's not the case right now so. Central stability i would say those those risks to rising at a time of high volatility particularly a time where we're presenting presented with a challenge that is. It's kind of unique really it's not something we've all done before. I also want to add though that. Working that were strongly focused on financial stability we monitored carefully. We've built a very resilient financial system. The banks are highly capitalized lots of liquidity. Much better and an understanding and managing their risks. The resilience of stress. So. Our financial stability focus our focus on. Event like this. Over the last 10 years will pay dividends in the sense that you have a much more resilient financial system. That you had before. Okay we'll go to market news. I wanted to ask a few days ago the open markets. And it is repo operations. But the take-up was a bit low. Did you have any take away from that did that indicate to you that the rebels were not working after you had envisioned it. I'm always there something else. Set an alarm from. We saw and everyone saw. That liquidity. And i had become very strained in treasury and mbs markets. And we decided to offer. Very large quantities of termino vernick repo to address that that makes it easier to finance. The purchase of repository of treasures and ids. So we did that and as you pointed out the take up. Was. Not as tired as. Many had expected. And i think we did learn something from that we thought that was worth doing and we what we learned was that. We needed to go direct here rather than trying to intermediate. Through the dealers. And so we realize at that point that we would need to actually purchase securities for our portfolio so we did that on friday. And we bought fighting 37 billion dollars for the securities. And we saw what happened with that we saw that market function improved a little bit. But still if it wasn't what we needed and that's why. We brought together the full fmc. And had our meeting this afternoon announce these measures this evening. Which are strong measures with the broad support of the committee. To provide really substantial not to look weird and i didn't even see us. I'm working through different solutions and and find even one that we think really will work and then acting. Quite vigorously quite aggressively tonight. To implement. Okay we're going to go to reuters for the last question. Thanks chip health howard cyrus twitter. The truth is that i could could you describe any discussions you had in coordination with the major banks this whole. Talk about drawing down liquidity drawing out capital buffers. How far can a drawdown how much do you think they can put now out to customer finance did you get the explicit agreements for them that this will go to customer finance and not something else. And then secondly is there any discussion yet of of using the 13 free powers in the fed to do some sort of direct lending facility. Broad general guidance to the bank. We'd like them to. Use their buffers to provide to. Provide loans and and also to work with their borrowers that you can see we're running a lot of guidance across a wide range. And they're saying they have every intention of doing that. That's good to hear and. So we'll see how that works out there of their lot of discussions going on and you know we hear the bank saying that's exactly what they're going to do. That's a good thing. You know where course we were were nothing to announce on the 113 three powers but you know of course we. That's part of our playbook in in. Doing any situation like this so as i said we're prepared to use our authorities. As is appropriate to you know to support. Borrowing and lending in the economy. And an enhanced to support the availability of credit to households and businesses. Okay thank you very much. We're signing off. \""
            ],
            "application/vnd.google.colaboratory.intrinsic+json": {
              "type": "string"
            }
          },
          "metadata": {},
          "execution_count": 10
        }
      ]
    },
    {
      "cell_type": "code",
      "source": [
        "df_text_input = pd.DataFrame(df_text_input)"
      ],
      "metadata": {
        "id": "-Ji-NpzSGJb4"
      },
      "execution_count": 11,
      "outputs": []
    },
    {
      "cell_type": "code",
      "source": [
        "df_text_input"
      ],
      "metadata": {
        "colab": {
          "base_uri": "https://localhost:8080/",
          "height": 424
        },
        "id": "qAP7t9gQ32kI",
        "outputId": "6beb5dc6-3414-48da-c4e4-254e582f913a"
      },
      "execution_count": 12,
      "outputs": [
        {
          "output_type": "execute_result",
          "data": {
            "text/plain": [
              "                                                     0\n",
              "0                                   Evening everyone. \n",
              "1    The federal reserve took a number of actions t...\n",
              "2    And promote the flow credit as we weather disr...\n",
              "3    Virus is having a profound effect on people ac...\n",
              "4    I'll be half of my colleagues at the federal r...\n",
              "..                                                 ...\n",
              "501         As is appropriate to you know to support. \n",
              "502             Borrowing and lending in the economy. \n",
              "503  And an enhanced to support the availability of...\n",
              "504                         Okay thank you very much. \n",
              "505                                We're signing off. \n",
              "\n",
              "[506 rows x 1 columns]"
            ],
            "text/html": [
              "\n",
              "  <div id=\"df-e17e2133-fd4d-4330-81b2-ebe5dcc186c7\">\n",
              "    <div class=\"colab-df-container\">\n",
              "      <div>\n",
              "<style scoped>\n",
              "    .dataframe tbody tr th:only-of-type {\n",
              "        vertical-align: middle;\n",
              "    }\n",
              "\n",
              "    .dataframe tbody tr th {\n",
              "        vertical-align: top;\n",
              "    }\n",
              "\n",
              "    .dataframe thead th {\n",
              "        text-align: right;\n",
              "    }\n",
              "</style>\n",
              "<table border=\"1\" class=\"dataframe\">\n",
              "  <thead>\n",
              "    <tr style=\"text-align: right;\">\n",
              "      <th></th>\n",
              "      <th>0</th>\n",
              "    </tr>\n",
              "  </thead>\n",
              "  <tbody>\n",
              "    <tr>\n",
              "      <th>0</th>\n",
              "      <td>Evening everyone.</td>\n",
              "    </tr>\n",
              "    <tr>\n",
              "      <th>1</th>\n",
              "      <td>The federal reserve took a number of actions t...</td>\n",
              "    </tr>\n",
              "    <tr>\n",
              "      <th>2</th>\n",
              "      <td>And promote the flow credit as we weather disr...</td>\n",
              "    </tr>\n",
              "    <tr>\n",
              "      <th>3</th>\n",
              "      <td>Virus is having a profound effect on people ac...</td>\n",
              "    </tr>\n",
              "    <tr>\n",
              "      <th>4</th>\n",
              "      <td>I'll be half of my colleagues at the federal r...</td>\n",
              "    </tr>\n",
              "    <tr>\n",
              "      <th>...</th>\n",
              "      <td>...</td>\n",
              "    </tr>\n",
              "    <tr>\n",
              "      <th>501</th>\n",
              "      <td>As is appropriate to you know to support.</td>\n",
              "    </tr>\n",
              "    <tr>\n",
              "      <th>502</th>\n",
              "      <td>Borrowing and lending in the economy.</td>\n",
              "    </tr>\n",
              "    <tr>\n",
              "      <th>503</th>\n",
              "      <td>And an enhanced to support the availability of...</td>\n",
              "    </tr>\n",
              "    <tr>\n",
              "      <th>504</th>\n",
              "      <td>Okay thank you very much.</td>\n",
              "    </tr>\n",
              "    <tr>\n",
              "      <th>505</th>\n",
              "      <td>We're signing off.</td>\n",
              "    </tr>\n",
              "  </tbody>\n",
              "</table>\n",
              "<p>506 rows × 1 columns</p>\n",
              "</div>\n",
              "      <button class=\"colab-df-convert\" onclick=\"convertToInteractive('df-e17e2133-fd4d-4330-81b2-ebe5dcc186c7')\"\n",
              "              title=\"Convert this dataframe to an interactive table.\"\n",
              "              style=\"display:none;\">\n",
              "        \n",
              "  <svg xmlns=\"http://www.w3.org/2000/svg\" height=\"24px\"viewBox=\"0 0 24 24\"\n",
              "       width=\"24px\">\n",
              "    <path d=\"M0 0h24v24H0V0z\" fill=\"none\"/>\n",
              "    <path d=\"M18.56 5.44l.94 2.06.94-2.06 2.06-.94-2.06-.94-.94-2.06-.94 2.06-2.06.94zm-11 1L8.5 8.5l.94-2.06 2.06-.94-2.06-.94L8.5 2.5l-.94 2.06-2.06.94zm10 10l.94 2.06.94-2.06 2.06-.94-2.06-.94-.94-2.06-.94 2.06-2.06.94z\"/><path d=\"M17.41 7.96l-1.37-1.37c-.4-.4-.92-.59-1.43-.59-.52 0-1.04.2-1.43.59L10.3 9.45l-7.72 7.72c-.78.78-.78 2.05 0 2.83L4 21.41c.39.39.9.59 1.41.59.51 0 1.02-.2 1.41-.59l7.78-7.78 2.81-2.81c.8-.78.8-2.07 0-2.86zM5.41 20L4 18.59l7.72-7.72 1.47 1.35L5.41 20z\"/>\n",
              "  </svg>\n",
              "      </button>\n",
              "      \n",
              "  <style>\n",
              "    .colab-df-container {\n",
              "      display:flex;\n",
              "      flex-wrap:wrap;\n",
              "      gap: 12px;\n",
              "    }\n",
              "\n",
              "    .colab-df-convert {\n",
              "      background-color: #E8F0FE;\n",
              "      border: none;\n",
              "      border-radius: 50%;\n",
              "      cursor: pointer;\n",
              "      display: none;\n",
              "      fill: #1967D2;\n",
              "      height: 32px;\n",
              "      padding: 0 0 0 0;\n",
              "      width: 32px;\n",
              "    }\n",
              "\n",
              "    .colab-df-convert:hover {\n",
              "      background-color: #E2EBFA;\n",
              "      box-shadow: 0px 1px 2px rgba(60, 64, 67, 0.3), 0px 1px 3px 1px rgba(60, 64, 67, 0.15);\n",
              "      fill: #174EA6;\n",
              "    }\n",
              "\n",
              "    [theme=dark] .colab-df-convert {\n",
              "      background-color: #3B4455;\n",
              "      fill: #D2E3FC;\n",
              "    }\n",
              "\n",
              "    [theme=dark] .colab-df-convert:hover {\n",
              "      background-color: #434B5C;\n",
              "      box-shadow: 0px 1px 3px 1px rgba(0, 0, 0, 0.15);\n",
              "      filter: drop-shadow(0px 1px 2px rgba(0, 0, 0, 0.3));\n",
              "      fill: #FFFFFF;\n",
              "    }\n",
              "  </style>\n",
              "\n",
              "      <script>\n",
              "        const buttonEl =\n",
              "          document.querySelector('#df-e17e2133-fd4d-4330-81b2-ebe5dcc186c7 button.colab-df-convert');\n",
              "        buttonEl.style.display =\n",
              "          google.colab.kernel.accessAllowed ? 'block' : 'none';\n",
              "\n",
              "        async function convertToInteractive(key) {\n",
              "          const element = document.querySelector('#df-e17e2133-fd4d-4330-81b2-ebe5dcc186c7');\n",
              "          const dataTable =\n",
              "            await google.colab.kernel.invokeFunction('convertToInteractive',\n",
              "                                                     [key], {});\n",
              "          if (!dataTable) return;\n",
              "\n",
              "          const docLinkHtml = 'Like what you see? Visit the ' +\n",
              "            '<a target=\"_blank\" href=https://colab.research.google.com/notebooks/data_table.ipynb>data table notebook</a>'\n",
              "            + ' to learn more about interactive tables.';\n",
              "          element.innerHTML = '';\n",
              "          dataTable['output_type'] = 'display_data';\n",
              "          await google.colab.output.renderOutput(dataTable, element);\n",
              "          const docLink = document.createElement('div');\n",
              "          docLink.innerHTML = docLinkHtml;\n",
              "          element.appendChild(docLink);\n",
              "        }\n",
              "      </script>\n",
              "    </div>\n",
              "  </div>\n",
              "  "
            ]
          },
          "metadata": {},
          "execution_count": 12
        }
      ]
    },
    {
      "cell_type": "code",
      "source": [
        "from nltk.sentiment.vader import SentimentIntensityAnalyzer\n",
        "sid = SentimentIntensityAnalyzer()"
      ],
      "metadata": {
        "id": "OGA3wNqf4Jd3"
      },
      "execution_count": 13,
      "outputs": []
    },
    {
      "cell_type": "code",
      "source": [
        "import time\n",
        "stentiment_text_input = []\n",
        "for i in df_text_input.iloc[:,0]:\n",
        "  print(i)\n",
        "  print(sid.polarity_scores(i))\n",
        "  stentiment_text_input.append(sid.polarity_scores(i))"
      ],
      "metadata": {
        "colab": {
          "base_uri": "https://localhost:8080/"
        },
        "id": "Sb6VJK2j5lom",
        "outputId": "02f37f9e-4103-4474-c427-4fb35b403908"
      },
      "execution_count": 14,
      "outputs": [
        {
          "output_type": "stream",
          "name": "stdout",
          "text": [
            "Evening everyone. \n",
            "{'neg': 0.0, 'neu': 1.0, 'pos': 0.0, 'compound': 0.0}\n",
            "The federal reserve took a number of actions to support american families and business and the economy overall. \n",
            "{'neg': 0.0, 'neu': 0.789, 'pos': 0.211, 'compound': 0.4588}\n",
            "And promote the flow credit as we weather disruptions caused by the coronavirus. \n",
            "{'neg': 0.136, 'neu': 0.568, 'pos': 0.295, 'compound': 0.4215}\n",
            "Virus is having a profound effect on people across the united states and around the world. \n",
            "{'neg': 0.0, 'neu': 0.833, 'pos': 0.167, 'compound': 0.4215}\n",
            "I'll be half of my colleagues at the federal reserve our first concern is for those who've been harmed. \n",
            "{'neg': 0.147, 'neu': 0.853, 'pos': 0.0, 'compound': -0.4767}\n",
            "Family's businesses schools organizations and governments at all levels are taking steps to protect people's help. \n",
            "{'neg': 0.0, 'neu': 0.725, 'pos': 0.275, 'compound': 0.6486}\n",
            "These measures which are essential for containing the outbreak will nonetheless understandably take a toll on you can annika activity in the near-term. \n",
            "{'neg': 0.0, 'neu': 1.0, 'pos': 0.0, 'compound': 0.0}\n",
            "Well the primary response to this challenge will come from our healthcare providers and policy experts. \n",
            "{'neg': 0.0, 'neu': 0.801, 'pos': 0.199, 'compound': 0.3559}\n",
            "Economic policymakers must. \n",
            "{'neg': 0.0, 'neu': 1.0, 'pos': 0.0, 'compound': 0.0}\n",
            "Do what we can to ease hardship caused by the disruptions to the economy. \n",
            "{'neg': 0.258, 'neu': 0.604, 'pos': 0.137, 'compound': -0.296}\n",
            "And to support us with return to normal once they've passed. \n",
            "{'neg': 0.0, 'neu': 0.787, 'pos': 0.213, 'compound': 0.4019}\n",
            "Is guided by our mandate from congress to promote maximum employment and stable prices for the american people. \n",
            "{'neg': 0.0, 'neu': 0.769, 'pos': 0.231, 'compound': 0.5859}\n",
            "Along with our responsibilities to promote the stability of the financial system. \n",
            "{'neg': 0.0, 'neu': 0.809, 'pos': 0.191, 'compound': 0.3818}\n",
            "Today we reduce the target range for our policy interest rate by one percentage point. \n",
            "{'neg': 0.0, 'neu': 0.824, 'pos': 0.176, 'compound': 0.4588}\n",
            "Bringing it close to zero. \n",
            "{'neg': 0.0, 'neu': 1.0, 'pos': 0.0, 'compound': 0.0}\n",
            "And said that we expect to maintain the right at this level. \n",
            "{'neg': 0.0, 'neu': 1.0, 'pos': 0.0, 'compound': 0.0}\n",
            "Until we're confident that the economy has weathered recent events. \n",
            "{'neg': 0.0, 'neu': 0.738, 'pos': 0.262, 'compound': 0.4939}\n",
            "And is on track to achieve our maximum employment and price stability goals. \n",
            "{'neg': 0.0, 'neu': 1.0, 'pos': 0.0, 'compound': 0.0}\n",
            "Addition we took other actions to support the flow of credit to households and businesses. \n",
            "{'neg': 0.0, 'neu': 0.71, 'pos': 0.29, 'compound': 0.6486}\n",
            "Before describing our actions more fully i will share how my colleagues and i currently view the economic outlook. \n",
            "{'neg': 0.0, 'neu': 0.854, 'pos': 0.146, 'compound': 0.4102}\n",
            "Economy came into this challenging. on a strong footing the unemployment rate was 3.5% in february and has been at or near half-century lows for almost 2 years. \n",
            "{'neg': 0.148, 'neu': 0.693, 'pos': 0.159, 'compound': 0.09}\n",
            "Job gains have been running at a solid pace well above what is needed to provide jobs for new entrants into the labor market. \n",
            "{'neg': 0.0, 'neu': 0.766, 'pos': 0.234, 'compound': 0.6249}\n",
            "Participation in the labor force by people in their prime working years remained near its highest rate in more than a decade. \n",
            "{'neg': 0.0, 'neu': 1.0, 'pos': 0.0, 'compound': 0.0}\n",
            "And wages have been rising particularly for lower-paying jobs. \n",
            "{'neg': 0.0, 'neu': 1.0, 'pos': 0.0, 'compound': 0.0}\n",
            "Economic activity has been expanding at a moderate rate. \n",
            "{'neg': 0.0, 'neu': 1.0, 'pos': 0.0, 'compound': 0.0}\n",
            "Even though weak growth abroad and trade developments have been weighing on some sectors. \n",
            "{'neg': 0.166, 'neu': 0.686, 'pos': 0.149, 'compound': -0.0772}\n",
            "U.s. banks are strong. \n",
            "{'neg': 0.0, 'neu': 0.476, 'pos': 0.524, 'compound': 0.5106}\n",
            "Have high levels of capital and liquidity and are well positioned to provide credit to households and businesses. \n",
            "{'neg': 0.0, 'neu': 0.773, 'pos': 0.227, 'compound': 0.5719}\n",
            "Against this favorable backdrop. \n",
            "{'neg': 0.0, 'neu': 0.492, 'pos': 0.508, 'compound': 0.4767}\n",
            "The virus present significant economic challenges. \n",
            "{'neg': 0.0, 'neu': 0.563, 'pos': 0.437, 'compound': 0.2732}\n",
            "Like others we expected the illness and the measures now being put in place to stem it spread. \n",
            "{'neg': 0.127, 'neu': 0.755, 'pos': 0.118, 'compound': -0.0516}\n",
            "Will have a significant effect on economic activity in the near-term. \n",
            "{'neg': 0.0, 'neu': 0.833, 'pos': 0.167, 'compound': 0.2023}\n",
            "Who's in travel tourism and hospitality. \n",
            "{'neg': 0.0, 'neu': 1.0, 'pos': 0.0, 'compound': 0.0}\n",
            "Are already seeing a sharp drop in business. \n",
            "{'neg': 0.259, 'neu': 0.741, 'pos': 0.0, 'compound': -0.2732}\n",
            "In addition the effects of the outbreak or restraining economic activity in many foreign economies. \n",
            "{'neg': 0.0, 'neu': 1.0, 'pos': 0.0, 'compound': 0.0}\n",
            "Which is causing difficulties for us industries that rely on global supply chains. \n",
            "{'neg': 0.155, 'neu': 0.845, 'pos': 0.0, 'compound': -0.296}\n",
            "And we will also weigh on our exports for a time. \n",
            "{'neg': 0.0, 'neu': 1.0, 'pos': 0.0, 'compound': 0.0}\n",
            "Moreover the energy sector has recently come under stress. \n",
            "{'neg': 0.235, 'neu': 0.588, 'pos': 0.176, 'compound': -0.1779}\n",
            "Because of the large drop in global oil prices. \n",
            "{'neg': 0.208, 'neu': 0.792, 'pos': 0.0, 'compound': -0.2732}\n",
            "Inflation which has continued to run below are symmetric 2% of ejected. \n",
            "{'neg': 0.0, 'neu': 1.0, 'pos': 0.0, 'compound': 0.0}\n",
            "Will likely be held down this year by the effects of the outbreak. \n",
            "{'neg': 0.0, 'neu': 1.0, 'pos': 0.0, 'compound': 0.0}\n",
            "Conditions have also tightened markedly. \n",
            "{'neg': 0.0, 'neu': 1.0, 'pos': 0.0, 'compound': 0.0}\n",
            "The cost of credit has risen for all but the strongest borrowers. \n",
            "{'neg': 0.0, 'neu': 0.639, 'pos': 0.361, 'compound': 0.6858}\n",
            "Stock markets around the world are down sharply. \n",
            "{'neg': 0.0, 'neu': 1.0, 'pos': 0.0, 'compound': 0.0}\n",
            "The rapidly evolving situation has led to high volatility in financial markets. \n",
            "{'neg': 0.0, 'neu': 1.0, 'pos': 0.0, 'compound': 0.0}\n",
            "As everyone tries to assess the path ahead. \n",
            "{'neg': 0.0, 'neu': 1.0, 'pos': 0.0, 'compound': 0.0}\n",
            "In the past week several important financial markets including the market for u.s. treasury securities. \n",
            "{'neg': 0.0, 'neu': 0.674, 'pos': 0.326, 'compound': 0.5859}\n",
            "Habit times showing signs of stress and a liquidity. \n",
            "{'neg': 0.286, 'neu': 0.714, 'pos': 0.0, 'compound': -0.4215}\n",
            "The market for treasury securities is a critical part of the foundation of the global financial system. \n",
            "{'neg': 0.119, 'neu': 0.674, 'pos': 0.207, 'compound': 0.1779}\n",
            "It is generally the most liquid of all mark. \n",
            "{'neg': 0.0, 'neu': 1.0, 'pos': 0.0, 'compound': 0.0}\n",
            "And serves as the benchmark mark. \n",
            "{'neg': 0.0, 'neu': 1.0, 'pos': 0.0, 'compound': 0.0}\n",
            "By which many other financial assets are valued. \n",
            "{'neg': 0.0, 'neu': 0.566, 'pos': 0.434, 'compound': 0.5574}\n",
            "It plays an important role in allowing households and firms to earn a safe return and manage their risks. \n",
            "{'neg': 0.092, 'neu': 0.614, 'pos': 0.294, 'compound': 0.5574}\n",
            "When stresses arrives in the treasury market they can reverberate through the entire financial system and the economy. \n",
            "{'neg': 0.144, 'neu': 0.769, 'pos': 0.087, 'compound': -0.296}\n",
            "To prevent this from happening and to support the smooth functioning of the treasury market we announced today that we will purchase at least 500 billion of treasury securities over the coming months. \n",
            "{'neg': 0.0, 'neu': 0.745, 'pos': 0.255, 'compound': 0.765}\n",
            "Similar stressors have also emerged in the market for agency mortgage-backed securities. \n",
            "{'neg': 0.203, 'neu': 0.654, 'pos': 0.144, 'compound': -0.2263}\n",
            "Which is closely linked to the treasury market. \n",
            "{'neg': 0.0, 'neu': 0.795, 'pos': 0.205, 'compound': 0.2023}\n",
            "And critically supports the ability of people to get a mortgage. \n",
            "{'neg': 0.0, 'neu': 0.625, 'pos': 0.375, 'compound': 0.5859}\n",
            "To buy a house. \n",
            "{'neg': 0.0, 'neu': 1.0, 'pos': 0.0, 'compound': 0.0}\n",
            "Existing mortgage. \n",
            "{'neg': 0.0, 'neu': 1.0, 'pos': 0.0, 'compound': 0.0}\n",
            "To improve the functioning of this market in to ensure the effective transmission of monetary policy to borrowers in the economy. \n",
            "{'neg': 0.0, 'neu': 0.677, 'pos': 0.323, 'compound': 0.8225}\n",
            "We will also purchase at least 200 billion dollars of agency mortgage-backed securities over coming months. \n",
            "{'neg': 0.0, 'neu': 0.872, 'pos': 0.128, 'compound': 0.296}\n",
            "And immediately cease the runoff of these securities in our portfolio. \n",
            "{'neg': 0.0, 'neu': 0.82, 'pos': 0.18, 'compound': 0.296}\n",
            "Well the primary purpose of these securities purchases is to restore smooth market functioning so that credit can continue to flow. \n",
            "{'neg': 0.0, 'neu': 0.644, 'pos': 0.356, 'compound': 0.8115}\n",
            "The purchases will also foster more accommodative financial conditions. \n",
            "{'neg': 0.0, 'neu': 1.0, 'pos': 0.0, 'compound': 0.0}\n",
            "The reserve anthony number of other actions today to support support the flow of credit to households and businesses thereby promoting our maximum employment and price stability goals of these i will highlight to. \n",
            "{'neg': 0.0, 'neu': 0.655, 'pos': 0.345, 'compound': 0.9042}\n",
            "First we reduce the interest rate on discount window loans by 1 1/2 percentage points. \n",
            "{'neg': 0.0, 'neu': 0.812, 'pos': 0.188, 'compound': 0.4588}\n",
            "Bring that rate to a quarter of a percent. \n",
            "{'neg': 0.0, 'neu': 1.0, 'pos': 0.0, 'compound': 0.0}\n",
            "Discount window plays an important role in supporting liquidity and stability in the banking system and we encourage banks to turn to the discount window. \n",
            "{'neg': 0.0, 'neu': 0.677, 'pos': 0.323, 'compound': 0.8402}\n",
            "To help meet demand for credit from households and businesses. \n",
            "{'neg': 0.109, 'neu': 0.507, 'pos': 0.384, 'compound': 0.5859}\n",
            "Make a discount window more effective we will also offer discount window loans for periods up to 90 days. \n",
            "{'neg': 0.0, 'neu': 0.834, 'pos': 0.166, 'compound': 0.5256}\n",
            "Because of the importance of the us dollar in a global economy strains and markets for borrowing and lending dollars overseas. \n",
            "{'neg': 0.097, 'neu': 0.793, 'pos': 0.11, 'compound': 0.0772}\n",
            "Can disrupt financial conditions here in the united states. \n",
            "{'neg': 0.0, 'neu': 0.741, 'pos': 0.259, 'compound': 0.4215}\n",
            "The guard against such disruptions the federal reserve maintain swap lines with five major central banks. \n",
            "{'neg': 0.138, 'neu': 0.862, 'pos': 0.0, 'compound': -0.34}\n",
            "When dollar funding pressures emerge abroad. \n",
            "{'neg': 0.315, 'neu': 0.685, 'pos': 0.0, 'compound': -0.3182}\n",
            "Do central banks can contain the pressures in their jurisdictions. \n",
            "{'neg': 0.204, 'neu': 0.796, 'pos': 0.0, 'compound': -0.3182}\n",
            "And prevent them from impeding the flow of credit here at home. \n",
            "{'neg': 0.0, 'neu': 0.73, 'pos': 0.27, 'compound': 0.4019}\n",
            "To address potential pressures in these markets during the current period of elevated uncertainty. \n",
            "{'neg': 0.281, 'neu': 0.719, 'pos': 0.0, 'compound': -0.5719}\n",
            "We made a coordinated announcements with the bank of canada the bank of england the bank of japan. \n",
            "{'neg': 0.0, 'neu': 1.0, 'pos': 0.0, 'compound': 0.0}\n",
            "The european central bank and the swiss national bank. \n",
            "{'neg': 0.0, 'neu': 1.0, 'pos': 0.0, 'compound': 0.0}\n",
            "To reduce the pricing on a dollar swap line. \n",
            "{'neg': 0.0, 'neu': 1.0, 'pos': 0.0, 'compound': 0.0}\n",
            "Addition or central-bank counterparts will begin offering dollars to institutions in their jurisdictions. \n",
            "{'neg': 0.0, 'neu': 1.0, 'pos': 0.0, 'compound': 0.0}\n",
            "For termite 84 days. \n",
            "{'neg': 0.0, 'neu': 1.0, 'pos': 0.0, 'compound': 0.0}\n",
            "In addition to the usual one-week operation. \n",
            "{'neg': 0.0, 'neu': 1.0, 'pos': 0.0, 'compound': 0.0}\n",
            "These long-standing arrangement arrangements carry no risk to the federal reserve or to the american taxpayer. \n",
            "{'neg': 0.235, 'neu': 0.765, 'pos': 0.0, 'compound': -0.5106}\n",
            "I won't go into detail on the other actions we took today but they involved eliminating reserve requirements for banks and encouraging banks to make you. \n",
            "{'neg': 0.0, 'neu': 0.839, 'pos': 0.161, 'compound': 0.6808}\n",
            "Intraday credit with the federal reserve and to use their capital and liquidity buffers. \n",
            "{'neg': 0.0, 'neu': 0.833, 'pos': 0.167, 'compound': 0.3818}\n",
            "As a support lending to households and businesses. \n",
            "{'neg': 0.0, 'neu': 0.69, 'pos': 0.31, 'compound': 0.4019}\n",
            "We have announced today will help american families and businesses and indeed our entire economy whether this difficult.. \n",
            "{'neg': 0.0, 'neu': 0.863, 'pos': 0.137, 'compound': 0.4019}\n",
            "And will foster a more bigger more vigorous return to normal once the disruptions from the coronavirus update. \n",
            "{'neg': 0.13, 'neu': 0.87, 'pos': 0.0, 'compound': -0.34}\n",
            "We will continue to closely monitor economic and financial developments and their implications for the economic outlook. \n",
            "{'neg': 0.0, 'neu': 1.0, 'pos': 0.0, 'compound': 0.0}\n",
            "We are prepared to use our full range of tools to support the flow of credit to households and businesses. \n",
            "{'neg': 0.0, 'neu': 0.702, 'pos': 0.298, 'compound': 0.7351}\n",
            "They'll keep the economy strong. \n",
            "{'neg': 0.0, 'neu': 0.548, 'pos': 0.452, 'compound': 0.5106}\n",
            "Enter promote our maximum employment and price stability goals. \n",
            "{'neg': 0.0, 'neu': 0.755, 'pos': 0.245, 'compound': 0.3818}\n",
            "Finally let me know that today's fomc meeting was in lieu of the meeting scheduled for next tuesday and wednesday. \n",
            "{'neg': 0.0, 'neu': 1.0, 'pos': 0.0, 'compound': 0.0}\n",
            "The chair will now take some questions please dial start one on your phone to indicate you want to ask a question you will be unmuted when you're called on. \n",
            "{'neg': 0.0, 'neu': 0.882, 'pos': 0.118, 'compound': 0.3818}\n",
            "Okay cnbc. \n",
            "{'neg': 0.0, 'neu': 0.345, 'pos': 0.655, 'compound': 0.2263}\n",
            "Thank you. \n",
            "{'neg': 0.0, 'neu': 0.286, 'pos': 0.714, 'compound': 0.3612}\n",
            "German contacted you expect. \n",
            "{'neg': 0.0, 'neu': 1.0, 'pos': 0.0, 'compound': 0.0}\n",
            "Get some. \n",
            "{'neg': 0.0, 'neu': 1.0, 'pos': 0.0, 'compound': 0.0}\n",
            "Actions to dd do you think a recession is that everybody can be avoided. \n",
            "{'neg': 0.321, 'neu': 0.679, 'pos': 0.0, 'compound': -0.6369}\n",
            "Secondly that was talked about additional. \n",
            "{'neg': 0.0, 'neu': 1.0, 'pos': 0.0, 'compound': 0.0}\n",
            "Program sexy canal fragancia primary dealer credit facility. \n",
            "{'neg': 0.0, 'neu': 0.5, 'pos': 0.5, 'compound': 0.7184}\n",
            "Thank you thank you so much. \n",
            "{'neg': 0.0, 'neu': 0.444, 'pos': 0.556, 'compound': 0.6124}\n",
            "Based on our discussions today and and many conversations with participants. \n",
            "{'neg': 0.0, 'neu': 1.0, 'pos': 0.0, 'compound': 0.0}\n",
            "It's fair to say that we have a range of views about the path of the economy as it as is always the case with the fed. \n",
            "{'neg': 0.0, 'neu': 0.916, 'pos': 0.084, 'compound': 0.3182}\n",
            "But in general i say that we see the us economy as having been in quite a strong position before the arrival of the virus. \n",
            "{'neg': 0.0, 'neu': 0.818, 'pos': 0.182, 'compound': 0.7086}\n",
            "We see that it is likely that the measures we take to protect ourselves from the virus will involve withdrawing from or reducing certain activities thinking their of travel leisure hospitality. \n",
            "{'neg': 0.0, 'neu': 0.861, 'pos': 0.139, 'compound': 0.5719}\n",
            "Those things these are choices that we make. \n",
            "{'neg': 0.0, 'neu': 1.0, 'pos': 0.0, 'compound': 0.0}\n",
            "To protect ourselves appropriate choices that we make to protect ourselves from the virus. \n",
            "{'neg': 0.0, 'neu': 0.698, 'pos': 0.302, 'compound': 0.6369}\n",
            "So that means that the second quarter is probably going to be weak infected hug in the view of many output. \n",
            "{'neg': 0.224, 'neu': 0.662, 'pos': 0.114, 'compound': -0.4588}\n",
            "Declining a atwood lower in the second quarter that was in the first quarter after that it's very hard to say how big the effects will be or how long they will last. \n",
            "{'neg': 0.115, 'neu': 0.885, 'pos': 0.0, 'compound': -0.4391}\n",
            "And that's going to depend of course. \n",
            "{'neg': 0.0, 'neu': 1.0, 'pos': 0.0, 'compound': 0.0}\n",
            "On how widely the virus spreads which is something that is highly uncertain and i would say in fact unknowable. \n",
            "{'neg': 0.122, 'neu': 0.878, 'pos': 0.0, 'compound': -0.3597}\n",
            "We do know that the virus will run its course and that the us economy will resume a normal level of activity in the meantime. \n",
            "{'neg': 0.0, 'neu': 1.0, 'pos': 0.0, 'compound': 0.0}\n",
            "The fed will continue to use our tools to support the flow credit household and businesses. \n",
            "{'neg': 0.0, 'neu': 0.725, 'pos': 0.275, 'compound': 0.6486}\n",
            "It's at work man with monetary policy ultimately to do what we can to see if the recovery just as vigorous as possible. \n",
            "{'neg': 0.0, 'neu': 1.0, 'pos': 0.0, 'compound': 0.0}\n",
            "You also asked about other facilities i would point out that we have. \n",
            "{'neg': 0.0, 'neu': 1.0, 'pos': 0.0, 'compound': 0.0}\n",
            "Of course responded. \n",
            "{'neg': 0.0, 'neu': 1.0, 'pos': 0.0, 'compound': 0.0}\n",
            "Very strongly not just when interest rates but also with liquidity. \n",
            "{'neg': 0.14, 'neu': 0.724, 'pos': 0.136, 'compound': -0.0112}\n",
            "What measures today and we believe that what we did today will be beneficial to financial markets generally. \n",
            "{'neg': 0.0, 'neu': 0.854, 'pos': 0.146, 'compound': 0.4404}\n",
            "And as i said in my statement were prepared to use our full range of tools to support the flow of credit to households and businesses thanks. \n",
            "{'neg': 0.0, 'neu': 0.685, 'pos': 0.315, 'compound': 0.8442}\n",
            "Okay thanks we'll go to marketplace radio. \n",
            "{'neg': 0.0, 'neu': 0.51, 'pos': 0.49, 'compound': 0.5859}\n",
            "Hi nancy marshall-genzer with marketplace. \n",
            "{'neg': 0.0, 'neu': 1.0, 'pos': 0.0, 'compound': 0.0}\n",
            "Triple i'm wondering are you considering negative interest rates at this point is there a scenario in which you think that would be appropriate. \n",
            "{'neg': 0.134, 'neu': 0.758, 'pos': 0.108, 'compound': -0.1779}\n",
            "Noted on a number of occasions really the committee. \n",
            "{'neg': 0.0, 'neu': 0.843, 'pos': 0.157, 'compound': 0.0772}\n",
            "We did a year plus long. \n",
            "{'neg': 0.0, 'neu': 1.0, 'pos': 0.0, 'compound': 0.0}\n",
            "Study of our tools and strategies and communications. \n",
            "{'neg': 0.0, 'neu': 1.0, 'pos': 0.0, 'compound': 0.0}\n",
            "And. \n",
            "{'neg': 0.0, 'neu': 1.0, 'pos': 0.0, 'compound': 0.0}\n",
            "We really at the end of that and also when we started that we view forward guidance and asset purchases asset purchases. \n",
            "{'neg': 0.0, 'neu': 0.8, 'pos': 0.2, 'compound': 0.6124}\n",
            "And also different variations and combinations of those tools. \n",
            "{'neg': 0.0, 'neu': 1.0, 'pos': 0.0, 'compound': 0.0}\n",
            "As the basic elements of our toolkit. \n",
            "{'neg': 0.0, 'neu': 1.0, 'pos': 0.0, 'compound': 0.0}\n",
            "Once the federal funds rate. \n",
            "{'neg': 0.0, 'neu': 1.0, 'pos': 0.0, 'compound': 0.0}\n",
            "Redo the effective lower bound so really. \n",
            "{'neg': 0.214, 'neu': 0.485, 'pos': 0.301, 'compound': 0.2263}\n",
            "Forward guidance asset purchases and combinations of those. \n",
            "{'neg': 0.0, 'neu': 0.737, 'pos': 0.263, 'compound': 0.3612}\n",
            "Evening we looked at negative policy rates during the global financial crisis and other jurisdictions we continue to do so. \n",
            "{'neg': 0.302, 'neu': 0.698, 'pos': 0.0, 'compound': -0.8316}\n",
            "But we do not see negative policy rates as likely to be an appropriate policy response here in the united states. \n",
            "{'neg': 0.0, 'neu': 0.712, 'pos': 0.288, 'compound': 0.827}\n",
            "We're going to the wall street journal. \n",
            "{'neg': 0.0, 'neu': 1.0, 'pos': 0.0, 'compound': 0.0}\n",
            "I think thanks tripel mixed emarosa the wall street journal. \n",
            "{'neg': 0.0, 'neu': 0.734, 'pos': 0.266, 'compound': 0.4404}\n",
            "I guess i wanted to understand specifically. \n",
            "{'neg': 0.0, 'neu': 1.0, 'pos': 0.0, 'compound': 0.0}\n",
            "Howdy actions you've announced this evening. \n",
            "{'neg': 0.0, 'neu': 1.0, 'pos': 0.0, 'compound': 0.0}\n",
            "Will get credit to households and firms never going to see large drops and income and revenue. \n",
            "{'neg': 0.0, 'neu': 0.86, 'pos': 0.14, 'compound': 0.3818}\n",
            "And also to the extent that. \n",
            "{'neg': 0.0, 'neu': 1.0, 'pos': 0.0, 'compound': 0.0}\n",
            "They are needed at what steps would you recommend that the fiscal authorities undertake. \n",
            "{'neg': 0.0, 'neu': 0.839, 'pos': 0.161, 'compound': 0.3612}\n",
            "Again to make sure that firms. \n",
            "{'neg': 0.0, 'neu': 0.685, 'pos': 0.315, 'compound': 0.3182}\n",
            "Big large drops and income and revenue. \n",
            "{'neg': 0.0, 'neu': 1.0, 'pos': 0.0, 'compound': 0.0}\n",
            "Don't go bust over the next few weeks or months. \n",
            "{'neg': 0.0, 'neu': 1.0, 'pos': 0.0, 'compound': 0.0}\n",
            "Let me tell you what. \n",
            "{'neg': 0.0, 'neu': 1.0, 'pos': 0.0, 'compound': 0.0}\n",
            "Microgard to what our tools can accomplish in and it really worth it with they're not designed to accomplish so. \n",
            "{'neg': 0.0, 'neu': 0.686, 'pos': 0.314, 'compound': 0.7778}\n",
            "What our liquidity operations and i'll talk specifically about the treasury and mbs purchases are designed to do is to. \n",
            "{'neg': 0.0, 'neu': 0.913, 'pos': 0.087, 'compound': 0.2023}\n",
            "Ensure the proper functioning of the treasury and mbs markets. \n",
            "{'neg': 0.0, 'neu': 0.645, 'pos': 0.355, 'compound': 0.5267}\n",
            "The treasury market is. \n",
            "{'neg': 0.0, 'neu': 0.625, 'pos': 0.375, 'compound': 0.2023}\n",
            "One of the most important perhaps the most important. \n",
            "{'neg': 0.0, 'neu': 0.626, 'pos': 0.374, 'compound': 0.4915}\n",
            "Market in the world. \n",
            "{'neg': 0.0, 'neu': 1.0, 'pos': 0.0, 'compound': 0.0}\n",
            "Probably the most liquid large market in the world. \n",
            "{'neg': 0.0, 'neu': 1.0, 'pos': 0.0, 'compound': 0.0}\n",
            "Cmbs market is very important to closely linked to the treasury market. \n",
            "{'neg': 0.0, 'neu': 0.72, 'pos': 0.28, 'compound': 0.4391}\n",
            "And it's the way that our monetary policy decisions. \n",
            "{'neg': 0.0, 'neu': 1.0, 'pos': 0.0, 'compound': 0.0}\n",
            "Flow through to borrowers in the real economy set to very important. \n",
            "{'neg': 0.0, 'neu': 0.84, 'pos': 0.16, 'compound': 0.2716}\n",
            "Markets and they had reach levels are very high illiquidity. \n",
            "{'neg': 0.0, 'neu': 0.891, 'pos': 0.109, 'compound': 0.0258}\n",
            "And i'm to the point where we at let you know last week we we offered financing. \n",
            "{'neg': 0.0, 'neu': 1.0, 'pos': 0.0, 'compound': 0.0}\n",
            "Very large amounts of financing and after that we bought a certapro the curve to try to support liquidity and return to normal function. \n",
            "{'neg': 0.0, 'neu': 0.891, 'pos': 0.109, 'compound': 0.4019}\n",
            "And we found it that helped but nonetheless week we felt we had to do more and and we knew what we had to do which was the asset-purchase programs that we did today. \n",
            "{'neg': 0.0, 'neu': 1.0, 'pos': 0.0, 'compound': 0.0}\n",
            "Those are designed to restore those key. \n",
            "{'neg': 0.0, 'neu': 0.732, 'pos': 0.268, 'compound': 0.296}\n",
            "Markets to normal function that why is it important to to everyone. \n",
            "{'neg': 0.0, 'neu': 0.859, 'pos': 0.141, 'compound': 0.2023}\n",
            "These markets are part of the foundation of the global financial system and of the united states financial system and if they are not functioning well then other markets. \n",
            "{'neg': 0.057, 'neu': 0.854, 'pos': 0.089, 'compound': 0.2467}\n",
            "Depend that will spread to other markets. \n",
            "{'neg': 0.0, 'neu': 1.0, 'pos': 0.0, 'compound': 0.0}\n",
            "And those are the markets that that amount to b where households and businesses typically get credit we know that this functional financial markets. \n",
            "{'neg': 0.0, 'neu': 0.894, 'pos': 0.106, 'compound': 0.3818}\n",
            "I'm just functional city financial system really. \n",
            "{'neg': 0.0, 'neu': 1.0, 'pos': 0.0, 'compound': 0.0}\n",
            "Can have very big negative effects on the economy we saw that during the financial crisis this is a very different situation but nonetheless we thought it was quite important for us to. \n",
            "{'neg': 0.137, 'neu': 0.791, 'pos': 0.072, 'compound': -0.3399}\n",
            "Take strong measures to support. \n",
            "{'neg': 0.0, 'neu': 0.333, 'pos': 0.667, 'compound': 0.7184}\n",
            "Dodge sport proper market function in these important markets. \n",
            "{'neg': 0.0, 'neu': 0.816, 'pos': 0.184, 'compound': 0.2023}\n",
            "You asked about household. \n",
            "{'neg': 0.0, 'neu': 1.0, 'pos': 0.0, 'compound': 0.0}\n",
            "It's true we don't have the tools to reach individuals in particular small businesses. \n",
            "{'neg': 0.0, 'neu': 0.755, 'pos': 0.245, 'compound': 0.4404}\n",
            "And at the other businesses and people who may be out of work or whose businesses may not may experience a very little activity we don't have those tools we have the tools that we have and we use them i think we use them quite aggressively. \n",
            "{'neg': 0.056, 'neu': 0.944, 'pos': 0.0, 'compound': -0.3804}\n",
            "For the benefit of the public. \n",
            "{'neg': 0.0, 'neu': 0.625, 'pos': 0.375, 'compound': 0.4588}\n",
            "This is a multifaceted problem. \n",
            "{'neg': 0.474, 'neu': 0.526, 'pos': 0.0, 'compound': -0.4019}\n",
            "And it requires answers from different parts of the government and private society either. \n",
            "{'neg': 0.0, 'neu': 1.0, 'pos': 0.0, 'compound': 0.0}\n",
            "By far the most important is the response of the healthcare. \n",
            "{'neg': 0.0, 'neu': 0.827, 'pos': 0.173, 'compound': 0.2716}\n",
            "Workers in healthcare healthcare policy makers. \n",
            "{'neg': 0.0, 'neu': 1.0, 'pos': 0.0, 'compound': 0.0}\n",
            "After that. \n",
            "{'neg': 0.0, 'neu': 1.0, 'pos': 0.0, 'compound': 0.0}\n",
            "Fiscal policy we've had one round of fiscal policy another coming i think fiscal policy is a way to direct. \n",
            "{'neg': 0.0, 'neu': 1.0, 'pos': 0.0, 'compound': 0.0}\n",
            "Not really really 22 particular populations and groups. \n",
            "{'neg': 0.0, 'neu': 1.0, 'pos': 0.0, 'compound': 0.0}\n",
            "Mantra coffee has a role and it really is in. \n",
            "{'neg': 0.0, 'neu': 1.0, 'pos': 0.0, 'compound': 0.0}\n",
            "You know original role was providing liquidity to. \n",
            "{'neg': 0.0, 'neu': 0.753, 'pos': 0.247, 'compound': 0.3182}\n",
            "Financial systems when they're under stress and that's that's really part of what we did today the other role is to support the man through lower interest rates and we did. \n",
            "{'neg': 0.133, 'neu': 0.716, 'pos': 0.151, 'compound': 0.1779}\n",
            "Fiscal as well i guess i should have covered that. \n",
            "{'neg': 0.0, 'neu': 0.769, 'pos': 0.231, 'compound': 0.2732}\n",
            "We do think physical responses is critical and we're happy to see that the. \n",
            "{'neg': 0.128, 'neu': 0.667, 'pos': 0.206, 'compound': 0.34}\n",
            "Those measures are being considered and we we we. \n",
            "{'neg': 0.0, 'neu': 1.0, 'pos': 0.0, 'compound': 0.0}\n",
            "We hope they are effective. \n",
            "{'neg': 0.0, 'neu': 0.333, 'pos': 0.667, 'compound': 0.7184}\n",
            "We're going to go to fox business. \n",
            "{'neg': 0.0, 'neu': 1.0, 'pos': 0.0, 'compound': 0.0}\n",
            "Thank you mr. chairman edward lawrence from fox business network in your statement you say that the market measures of inflation of decline the fed his understand inflation. \n",
            "{'neg': 0.0, 'neu': 0.915, 'pos': 0.085, 'compound': 0.3612}\n",
            "In the last year and that's because of the focuses of the fomc meeting that does the federal reserve see deflation. \n",
            "{'neg': 0.0, 'neu': 1.0, 'pos': 0.0, 'compound': 0.0}\n",
            "Coming and if his large cut mint to get in front of anymore inflation plus. \n",
            "{'neg': 0.13, 'neu': 0.87, 'pos': 0.0, 'compound': -0.2732}\n",
            "The second question would consider buying securities outside of treasuries and mortgage-backed securities. \n",
            "{'neg': 0.0, 'neu': 0.613, 'pos': 0.387, 'compound': 0.6486}\n",
            "Bright sew-on on fletcher. \n",
            "{'neg': 0.0, 'neu': 0.508, 'pos': 0.492, 'compound': 0.4404}\n",
            "You know the economy's performance so well really over the last few years and write up to january. \n",
            "{'neg': 0.0, 'neu': 0.861, 'pos': 0.139, 'compound': 0.4101}\n",
            "Historically low on employment 50-year low unemployment for a couple of years. \n",
            "{'neg': 0.47, 'neu': 0.53, 'pos': 0.0, 'compound': -0.7269}\n",
            "11 years almost 11 years of expansion so far. \n",
            "{'neg': 0.0, 'neu': 1.0, 'pos': 0.0, 'compound': 0.0}\n",
            "And inflation linger below 2% so we've been concerned that inflation not move down further it's not at all a question of deflation is a question of not getting. \n",
            "{'neg': 0.0, 'neu': 1.0, 'pos': 0.0, 'compound': 0.0}\n",
            "Inflation up to our target on a robust. \n",
            "{'neg': 0.0, 'neu': 0.714, 'pos': 0.286, 'compound': 0.34}\n",
            "Symmetric kind of way. \n",
            "{'neg': 0.0, 'neu': 1.0, 'pos': 0.0, 'compound': 0.0}\n",
            "So with this. \n",
            "{'neg': 0.0, 'neu': 1.0, 'pos': 0.0, 'compound': 0.0}\n",
            "Coronavirus arriving we judge that the the net effects of this will be too. \n",
            "{'neg': 0.0, 'neu': 1.0, 'pos': 0.0, 'compound': 0.0}\n",
            "To have inflation move down even a little bit more. \n",
            "{'neg': 0.0, 'neu': 1.0, 'pos': 0.0, 'compound': 0.0}\n",
            "It's not a question about it's not it's not an issue of deflation again it's just. \n",
            "{'neg': 0.0, 'neu': 1.0, 'pos': 0.0, 'compound': 0.0}\n",
            "An issue of inflation probably falling even a bit further we expect. \n",
            "{'neg': 0.138, 'neu': 0.862, 'pos': 0.0, 'compound': -0.1531}\n",
            "With with uncertainty that dumb you know that it will fall a little bit further at least below where it has been. \n",
            "{'neg': 0.231, 'neu': 0.769, 'pos': 0.0, 'compound': -0.6908}\n",
            "We are if we don't have the legal authority to buy other securities other than. \n",
            "{'neg': 0.081, 'neu': 0.711, 'pos': 0.207, 'compound': 0.2801}\n",
            "The ones we already by and we're not seeking authority to do so we haven't discussed that at the. \n",
            "{'neg': 0.064, 'neu': 0.936, 'pos': 0.0, 'compound': -0.0572}\n",
            "I'm saying it's not it's not legal authority that receiving. \n",
            "{'neg': 0.116, 'neu': 0.762, 'pos': 0.121, 'compound': 0.0134}\n",
            "Ok google to the financial times. \n",
            "{'neg': 0.0, 'neu': 0.694, 'pos': 0.306, 'compound': 0.296}\n",
            "Suspending greeley with financial times. \n",
            "{'neg': 0.0, 'neu': 1.0, 'pos': 0.0, 'compound': 0.0}\n",
            "You have talked about the. \n",
            "{'neg': 0.0, 'neu': 1.0, 'pos': 0.0, 'compound': 0.0}\n",
            "Mortgage-backed security purchases of treasury purchases as stability. \n",
            "{'neg': 0.0, 'neu': 0.588, 'pos': 0.412, 'compound': 0.4939}\n",
            "To do the operation. \n",
            "{'neg': 0.0, 'neu': 1.0, 'pos': 0.0, 'compound': 0.0}\n",
            "Asking to determine whether or not this is quantitative easing. \n",
            "{'neg': 0.0, 'neu': 0.818, 'pos': 0.182, 'compound': 0.25}\n",
            "Something you baby when the future that is explicit quantitative easing or can we think of this. \n",
            "{'neg': 0.0, 'neu': 0.889, 'pos': 0.111, 'compound': 0.25}\n",
            "The first step in quantitative easing. \n",
            "{'neg': 0.0, 'neu': 0.714, 'pos': 0.286, 'compound': 0.25}\n",
            "So what what i can tell you definitively is what the purpose of the asset purchases was and i i mentioned this in my statement. \n",
            "{'neg': 0.0, 'neu': 0.894, 'pos': 0.106, 'compound': 0.3612}\n",
            "It really is to support the availability of credit in the economy households and businesses and thereby support the overall economy how did they do that. \n",
            "{'neg': 0.0, 'neu': 0.73, 'pos': 0.27, 'compound': 0.819}\n",
            "You do that by supporting proper market functioning in the treasure market in the nbs market. \n",
            "{'neg': 0.0, 'neu': 0.733, 'pos': 0.267, 'compound': 0.6249}\n",
            "So you see. \n",
            "{'neg': 0.0, 'neu': 1.0, 'pos': 0.0, 'compound': 0.0}\n",
            "I think you'll see as these purchases roll forward you will see the treasury market in the nbs morgan returning to. \n",
            "{'neg': 0.0, 'neu': 0.913, 'pos': 0.087, 'compound': 0.2023}\n",
            "To normal market function. \n",
            "{'neg': 0.0, 'neu': 1.0, 'pos': 0.0, 'compound': 0.0}\n",
            "And that will actually support economic activity that will be a positive for economic activity. \n",
            "{'neg': 0.0, 'neu': 0.656, 'pos': 0.344, 'compound': 0.743}\n",
            "I'm in terms of what it's labeled. \n",
            "{'neg': 0.0, 'neu': 1.0, 'pos': 0.0, 'compound': 0.0}\n",
            "That's of less interest to me i i really think. \n",
            "{'neg': 0.0, 'neu': 0.721, 'pos': 0.279, 'compound': 0.4033}\n",
            "We are very clear in our minds what we're doing is for. \n",
            "{'neg': 0.0, 'neu': 0.792, 'pos': 0.208, 'compound': 0.4391}\n",
            "And with the logical effects of being proposed people which was which would be both. \n",
            "{'neg': 0.0, 'neu': 1.0, 'pos': 0.0, 'compound': 0.0}\n",
            "Better market function and infidel. \n",
            "{'neg': 0.0, 'neu': 0.58, 'pos': 0.42, 'compound': 0.4404}\n",
            "At winners better market function. \n",
            "{'neg': 0.0, 'neu': 0.333, 'pos': 0.667, 'compound': 0.7184}\n",
            "It will be. \n",
            "{'neg': 0.0, 'neu': 1.0, 'pos': 0.0, 'compound': 0.0}\n",
            "You know policy will be supporting the economy better. \n",
            "{'neg': 0.0, 'neu': 0.547, 'pos': 0.453, 'compound': 0.7003}\n",
            "Okay. \n",
            "{'neg': 0.0, 'neu': 0.0, 'pos': 1.0, 'compound': 0.2263}\n",
            "Bloomberg tv. \n",
            "{'neg': 0.0, 'neu': 1.0, 'pos': 0.0, 'compound': 0.0}\n",
            "I want to ask some timing questions here first on the. \n",
            "{'neg': 0.0, 'neu': 0.874, 'pos': 0.126, 'compound': 0.0772}\n",
            "Whatever it is, you're not can you talk in the press release about increase over coming months is there a timetable for that how long we talkin about 700 billion obviously over two months is a lot different from 700 billion over the course of a year and. \n",
            "{'neg': 0.0, 'neu': 0.95, 'pos': 0.05, 'compound': 0.3182}\n",
            "Do you have a date where you would re-evaluate and perhaps add more or in the program and the same with the. \n",
            "{'neg': 0.0, 'neu': 1.0, 'pos': 0.0, 'compound': 0.0}\n",
            "Interest rate cut to zero how long do you think that might last and. \n",
            "{'neg': 0.123, 'neu': 0.702, 'pos': 0.175, 'compound': 0.2263}\n",
            "Would you be inclined to quickly go back to a higher level to 100 or basis points or more that you cut it from or would you anticipated this will be a long slow process going back. \n",
            "{'neg': 0.065, 'neu': 0.935, 'pos': 0.0, 'compound': -0.3321}\n",
            "Okay so sorry. \n",
            "{'neg': 0.355, 'neu': 0.223, 'pos': 0.423, 'compound': 0.079}\n",
            "Mike can you ask your question. \n",
            "{'neg': 0.0, 'neu': 1.0, 'pos': 0.0, 'compound': 0.0}\n",
            "I was asking about timing how long. are we talking about for how long do you anticipate keeping rates low and how fast i bring them back up again. \n",
            "{'neg': 0.075, 'neu': 0.925, 'pos': 0.0, 'compound': -0.2732}\n",
            "Okay sorry so then that's the incoming months language. \n",
            "{'neg': 0.127, 'neu': 0.686, 'pos': 0.186, 'compound': 0.1531}\n",
            "The desk is going to go out and it's going to buy at a strong rate. \n",
            "{'neg': 0.0, 'neu': 0.809, 'pos': 0.191, 'compound': 0.5106}\n",
            "That is we that we think we'll restore. \n",
            "{'neg': 0.0, 'neu': 0.761, 'pos': 0.239, 'compound': 0.296}\n",
            "Market function. \n",
            "{'neg': 0.0, 'neu': 1.0, 'pos': 0.0, 'compound': 0.0}\n",
            "Liquidity as quickly as it can be restored. \n",
            "{'neg': 0.0, 'neu': 0.745, 'pos': 0.255, 'compound': 0.34}\n",
            "That language is open-ended and it's meant to send a signal to to the market that. \n",
            "{'neg': 0.0, 'neu': 1.0, 'pos': 0.0, 'compound': 0.0}\n",
            "That. \n",
            "{'neg': 0.0, 'neu': 1.0, 'pos': 0.0, 'compound': 0.0}\n",
            "You know we're not going to be bound by for example 60 billion a month or anything like that we're going to go in strong. \n",
            "{'neg': 0.0, 'neu': 0.791, 'pos': 0.209, 'compound': 0.7003}\n",
            "Starting tomorrow. \n",
            "{'neg': 0.0, 'neu': 1.0, 'pos': 0.0, 'compound': 0.0}\n",
            "And we're going to buy across the curve and we're going to buy mbs and we're really going to use our tools. \n",
            "{'neg': 0.0, 'neu': 1.0, 'pos': 0.0, 'compound': 0.0}\n",
            "To do what we need to do here which is restore these. \n",
            "{'neg': 0.0, 'neu': 0.833, 'pos': 0.167, 'compound': 0.296}\n",
            "Important markets to normal function for that that's really what that is. \n",
            "{'neg': 0.0, 'neu': 0.859, 'pos': 0.141, 'compound': 0.2023}\n",
            "As far as as the the policy rate what we said is that we will. \n",
            "{'neg': 0.0, 'neu': 1.0, 'pos': 0.0, 'compound': 0.0}\n",
            "Maintain the rate at this level until work confidence. \n",
            "{'neg': 0.0, 'neu': 0.708, 'pos': 0.292, 'compound': 0.5106}\n",
            "The economy has weathered recent events and is on track to achieve our maximum employment and price stability goals. \n",
            "{'neg': 0.0, 'neu': 1.0, 'pos': 0.0, 'compound': 0.0}\n",
            "So you can see that's the test we written down and if you look at it you'll see. \n",
            "{'neg': 0.0, 'neu': 1.0, 'pos': 0.0, 'compound': 0.0}\n",
            "That some things have to happen before we agree consider we have to become confident. \n",
            "{'neg': 0.0, 'neu': 0.695, 'pos': 0.305, 'compound': 0.6908}\n",
            "That the economy has whether these recent events. \n",
            "{'neg': 0.0, 'neu': 1.0, 'pos': 0.0, 'compound': 0.0}\n",
            "And also is on track to achieve our maximum employment price stability cold so. \n",
            "{'neg': 0.0, 'neu': 1.0, 'pos': 0.0, 'compound': 0.0}\n",
            "Not the test will be looking at and i think it's suggest that you know we're going to be watching. \n",
            "{'neg': 0.0, 'neu': 1.0, 'pos': 0.0, 'compound': 0.0}\n",
            "And willing to be patient certainly. \n",
            "{'neg': 0.0, 'neu': 0.676, 'pos': 0.324, 'compound': 0.34}\n",
            "Okay we're going to go to the associated press. \n",
            "{'neg': 0.0, 'neu': 0.808, 'pos': 0.192, 'compound': 0.2263}\n",
            "Hi. \n",
            "{'neg': 0.0, 'neu': 1.0, 'pos': 0.0, 'compound': 0.0}\n",
            "Scripture gabriel ap. \n",
            "{'neg': 0.0, 'neu': 1.0, 'pos': 0.0, 'compound': 0.0}\n",
            "2008 you had a lot of coordination between. \n",
            "{'neg': 0.0, 'neu': 1.0, 'pos': 0.0, 'compound': 0.0}\n",
            "The white house at that time the fed the treasury. \n",
            "{'neg': 0.0, 'neu': 0.833, 'pos': 0.167, 'compound': 0.2023}\n",
            "Bernanke doing all things with paulson and so forth. \n",
            "{'neg': 0.0, 'neu': 1.0, 'pos': 0.0, 'compound': 0.0}\n",
            "You know today the white house had its first come first at 5 and you guys are doing something a little separate. \n",
            "{'neg': 0.0, 'neu': 1.0, 'pos': 0.0, 'compound': 0.0}\n",
            "Is there do you think it would be more helpful to markets. \n",
            "{'neg': 0.0, 'neu': 0.781, 'pos': 0.219, 'compound': 0.4754}\n",
            "Plants in the broader economy to have a more coordinated response. \n",
            "{'neg': 0.0, 'neu': 1.0, 'pos': 0.0, 'compound': 0.0}\n",
            "We might look for in the future. \n",
            "{'neg': 0.0, 'neu': 1.0, 'pos': 0.0, 'compound': 0.0}\n",
            "Well i would say this you know what i'm. \n",
            "{'neg': 0.0, 'neu': 0.769, 'pos': 0.231, 'compound': 0.2732}\n",
            "We have different tools i think we do actually work pretty closely with the treasury department and and cooperate with him on things. \n",
            "{'neg': 0.0, 'neu': 0.8, 'pos': 0.2, 'compound': 0.6124}\n",
            "With clear lines of didn't do any asian for example that the treasury department has. \n",
            "{'neg': 0.0, 'neu': 0.747, 'pos': 0.253, 'compound': 0.5267}\n",
            "Authority over fiscal policy that's not our job. \n",
            "{'neg': 0.0, 'neu': 0.843, 'pos': 0.157, 'compound': 0.0772}\n",
            "It's their job with other parts of the administration. \n",
            "{'neg': 0.0, 'neu': 1.0, 'pos': 0.0, 'compound': 0.0}\n",
            "It's just that like that for us with monetary policy we have sole responsibility for monetary policy and strong instructions from congress to conduct an independent non-political way so those two things. \n",
            "{'neg': 0.0, 'neu': 0.838, 'pos': 0.162, 'compound': 0.7003}\n",
            "One for each of us. \n",
            "{'neg': 0.0, 'neu': 1.0, 'pos': 0.0, 'compound': 0.0}\n",
            "But in the middle of their they're there are areas where we where we can cooperate and. \n",
            "{'neg': 0.0, 'neu': 1.0, 'pos': 0.0, 'compound': 0.0}\n",
            "And also there's a long history you would want the finance ministry in the treasury to be talking in every major economy in the world you would want them to be regularly exchanging information. \n",
            "{'neg': 0.0, 'neu': 0.872, 'pos': 0.128, 'compound': 0.34}\n",
            "Professional relationships not just at the. \n",
            "{'neg': 0.0, 'neu': 1.0, 'pos': 0.0, 'compound': 0.0}\n",
            "You know that.. \n",
            "{'neg': 0.0, 'neu': 1.0, 'pos': 0.0, 'compound': 0.0}\n",
            "Did cher to treasury secretary level but also through the organization for example. \n",
            "{'neg': 0.0, 'neu': 0.896, 'pos': 0.104, 'compound': 0.1027}\n",
            "The new york fed is the treasury's age and fiscal agent as you know so. \n",
            "{'neg': 0.0, 'neu': 1.0, 'pos': 0.0, 'compound': 0.0}\n",
            "There's a lot that goes into debt management and the issuance of debt which happens at the new york fed so i think we do actually we have. \n",
            "{'neg': 0.172, 'neu': 0.828, 'pos': 0.0, 'compound': -0.6124}\n",
            "Professional good working relationships up and down the chain there. \n",
            "{'neg': 0.0, 'neu': 0.756, 'pos': 0.244, 'compound': 0.4404}\n",
            "And dumb you know. \n",
            "{'neg': 0.524, 'neu': 0.476, 'pos': 0.0, 'compound': -0.5106}\n",
            "That's that's it that seems to be working and there is. \n",
            "{'neg': 0.0, 'neu': 1.0, 'pos': 0.0, 'compound': 0.0}\n",
            "Is also quite a lot of coordination and in other respects with of course with foreign central banks but you didn't ask about that. \n",
            "{'neg': 0.0, 'neu': 0.93, 'pos': 0.07, 'compound': 0.1655}\n",
            "We're going to go to the washington post. \n",
            "{'neg': 0.0, 'neu': 1.0, 'pos': 0.0, 'compound': 0.0}\n",
            "Washington post are you there. \n",
            "{'neg': 0.0, 'neu': 1.0, 'pos': 0.0, 'compound': 0.0}\n",
            "Sorry i'm here. \n",
            "{'neg': 0.394, 'neu': 0.606, 'pos': 0.0, 'compound': -0.0772}\n",
            "Hydropower. \n",
            "{'neg': 0.0, 'neu': 1.0, 'pos': 0.0, 'compound': 0.0}\n",
            "Two questions this evening first have you personally been tested for coronavirus and are you working from home if you could shed some light on the precautions you're taking. \n",
            "{'neg': 0.0, 'neu': 1.0, 'pos': 0.0, 'compound': 0.0}\n",
            "And second do you believe the fed has sufficient tools at the moment. \n",
            "{'neg': 0.0, 'neu': 1.0, 'pos': 0.0, 'compound': 0.0}\n",
            "Are you seeking congressional action to expand your tool set. \n",
            "{'neg': 0.0, 'neu': 0.796, 'pos': 0.204, 'compound': 0.3182}\n",
            "So i feel fine i feel. \n",
            "{'neg': 0.0, 'neu': 0.591, 'pos': 0.409, 'compound': 0.2682}\n",
            "Very well and if so there's no reason for me to be tested. \n",
            "{'neg': 0.156, 'neu': 0.693, 'pos': 0.151, 'compound': -0.022}\n",
            "We are observing we're trying to tomorrow good behavior here so we're observing quite a lot of teleworking. \n",
            "{'neg': 0.0, 'neu': 0.847, 'pos': 0.153, 'compound': 0.4404}\n",
            "And also where you know we're not having a lot of big crowded me for not having any big crowd of me so we're trying to observe all of the things that the professional. \n",
            "{'neg': 0.0, 'neu': 1.0, 'pos': 0.0, 'compound': 0.0}\n",
            "Professionals tell us to do i do expect to do some teleworking. \n",
            "{'neg': 0.0, 'neu': 1.0, 'pos': 0.0, 'compound': 0.0}\n",
            "Because i want a model that but it's okay for other people to do so and second important for them to do so so i will do that. \n",
            "{'neg': 0.0, 'neu': 0.783, 'pos': 0.217, 'compound': 0.6243}\n",
            "Let me say first that you know i think we do have plenty of space to adjust our policy. \n",
            "{'neg': 0.0, 'neu': 1.0, 'pos': 0.0, 'compound': 0.0}\n",
            "I mention our liquidity tools we've yeah we have. \n",
            "{'neg': 0.0, 'neu': 0.761, 'pos': 0.239, 'compound': 0.296}\n",
            "A lot of power in our liquidity tools and as i mentioned were prepared prepared to use them. \n",
            "{'neg': 0.0, 'neu': 0.787, 'pos': 0.213, 'compound': 0.4215}\n",
            "In addition we got plenty of space left to offer. \n",
            "{'neg': 0.0, 'neu': 1.0, 'pos': 0.0, 'compound': 0.0}\n",
            "Forward guidance asset purchases and adjust those policy so i think we do have room. \n",
            "{'neg': 0.0, 'neu': 0.839, 'pos': 0.161, 'compound': 0.3612}\n",
            "We we have not. \n",
            "{'neg': 0.0, 'neu': 1.0, 'pos': 0.0, 'compound': 0.0}\n",
            "It all made a decision to request further. \n",
            "{'neg': 0.0, 'neu': 1.0, 'pos': 0.0, 'compound': 0.0}\n",
            "Further tools or authority from congress know we have not made that decision is not something we're actively considering right now. \n",
            "{'neg': 0.088, 'neu': 0.853, 'pos': 0.058, 'compound': -0.1685}\n",
            "Okay we'll go to the new york times. \n",
            "{'neg': 0.0, 'neu': 0.787, 'pos': 0.213, 'compound': 0.2263}\n",
            "Thanks like a question. \n",
            "{'neg': 0.0, 'neu': 0.156, 'pos': 0.844, 'compound': 0.6597}\n",
            "I'm just curious you know obviously you how this meeting. \n",
            "{'neg': 0.0, 'neu': 0.796, 'pos': 0.204, 'compound': 0.3182}\n",
            "What's our forecast ep. \n",
            "{'neg': 0.0, 'neu': 1.0, 'pos': 0.0, 'compound': 0.0}\n",
            "First we decided on thursday to move the meeting up by three days. \n",
            "{'neg': 0.0, 'neu': 1.0, 'pos': 0.0, 'compound': 0.0}\n",
            "To today's and that's before the scp's are generally filed they hadn't been filled out and we frankly we spend our time. \n",
            "{'neg': 0.0, 'neu': 1.0, 'pos': 0.0, 'compound': 0.0}\n",
            "Pakistan getting ready to make these announcements. \n",
            "{'neg': 0.0, 'neu': 0.706, 'pos': 0.294, 'compound': 0.3612}\n",
            "Had already reached out to make a point that. \n",
            "{'neg': 0.0, 'neu': 0.833, 'pos': 0.167, 'compound': 0.1027}\n",
            "Economic outlook is evolving on a daily basis and it really is depending heavily on the spread of the virus. \n",
            "{'neg': 0.0, 'neu': 1.0, 'pos': 0.0, 'compound': 0.0}\n",
            "And the measures taken to effective and how long that goes on and that's just not something that's knowable so. \n",
            "{'neg': 0.0, 'neu': 0.86, 'pos': 0.14, 'compound': 0.4767}\n",
            "Actually raining down forecast in that circumstance didn't seem to be. \n",
            "{'neg': 0.0, 'neu': 1.0, 'pos': 0.0, 'compound': 0.0}\n",
            "Useful in fact. \n",
            "{'neg': 0.0, 'neu': 0.408, 'pos': 0.592, 'compound': 0.4404}\n",
            "Could have been more of an obstacle to declare communications in a help. \n",
            "{'neg': 0.179, 'neu': 0.647, 'pos': 0.175, 'compound': -0.0164}\n",
            "I do expect it will return to the quarterly regular quarterly cycling june however. \n",
            "{'neg': 0.0, 'neu': 1.0, 'pos': 0.0, 'compound': 0.0}\n",
            "In terms of the forecast so. \n",
            "{'neg': 0.0, 'neu': 1.0, 'pos': 0.0, 'compound': 0.0}\n",
            "As i mentioned. \n",
            "{'neg': 0.0, 'neu': 1.0, 'pos': 0.0, 'compound': 0.0}\n",
            "You know we see the us economy starting out strong for a strong position. \n",
            "{'neg': 0.0, 'neu': 0.625, 'pos': 0.375, 'compound': 0.765}\n",
            "Different different as we talked through it today people have a range of perspectives on the way the years going to go. \n",
            "{'neg': 0.0, 'neu': 1.0, 'pos': 0.0, 'compound': 0.0}\n",
            "But i think there's a free broad sense that the second order will be a week order with probably out. \n",
            "{'neg': 0.0, 'neu': 0.782, 'pos': 0.218, 'compound': 0.6652}\n",
            "After that it becomes hard to say you know what'll happen in the third and fourth quarters in there after the virus. \n",
            "{'neg': 0.062, 'neu': 0.938, 'pos': 0.0, 'compound': -0.1027}\n",
            "The thing we do know is that we'll be here doing our job and supporting the flow of credits and and there to do what we can when the recovery comes to make it as vigorous as possible. \n",
            "{'neg': 0.0, 'neu': 0.87, 'pos': 0.13, 'compound': 0.6597}\n",
            "Okay now go to bloomberg news. \n",
            "{'neg': 0.0, 'neu': 0.725, 'pos': 0.275, 'compound': 0.2263}\n",
            "Hi terpal craig torres bloomberg news. \n",
            "{'neg': 0.0, 'neu': 1.0, 'pos': 0.0, 'compound': 0.0}\n",
            "You say the path of the economy. \n",
            "{'neg': 0.0, 'neu': 1.0, 'pos': 0.0, 'compound': 0.0}\n",
            "Your life depends on the path of the virus. \n",
            "{'neg': 0.0, 'neu': 1.0, 'pos': 0.0, 'compound': 0.0}\n",
            "Important. \n",
            "{'neg': 0.0, 'neu': 0.0, 'pos': 1.0, 'compound': 0.2023}\n",
            "Fiscal policy now in determining whether this sudden stop an activity. \n",
            "{'neg': 0.18, 'neu': 0.82, 'pos': 0.0, 'compound': -0.296}\n",
            "Is long or short end of high human consequence or little human consequence. \n",
            "{'neg': 0.0, 'neu': 1.0, 'pos': 0.0, 'compound': 0.0}\n",
            "And second can you talk a little bit about what's on your dashboard. \n",
            "{'neg': 0.0, 'neu': 1.0, 'pos': 0.0, 'compound': 0.0}\n",
            "For economic and financial indicators that you're going to be watching. \n",
            "{'neg': 0.0, 'neu': 1.0, 'pos': 0.0, 'compound': 0.0}\n",
            "Day-to-day i know. \n",
            "{'neg': 0.0, 'neu': 1.0, 'pos': 0.0, 'compound': 0.0}\n",
            "Vice-chair clarida said. \n",
            "{'neg': 0.0, 'neu': 1.0, 'pos': 0.0, 'compound': 0.0}\n",
            "Then we should start seeing the data show up in april what are you going to be watching and what should we be watching. \n",
            "{'neg': 0.0, 'neu': 1.0, 'pos': 0.0, 'compound': 0.0}\n",
            "So in terms of fiscal policy i think in the first incident and you're you're seeing some of this now. \n",
            "{'neg': 0.0, 'neu': 1.0, 'pos': 0.0, 'compound': 0.0}\n",
            "This thing is fiscal policy and really only fiscal policy can do is reach out directly to affected industries affected workers. \n",
            "{'neg': 0.143, 'neu': 0.807, 'pos': 0.049, 'compound': -0.2732}\n",
            "And we seen some of that so that's that's an important job for fiscal policy. \n",
            "{'neg': 0.0, 'neu': 0.886, 'pos': 0.114, 'compound': 0.2023}\n",
            "More broadway. \n",
            "{'neg': 0.0, 'neu': 1.0, 'pos': 0.0, 'compound': 0.0}\n",
            "After that there's the question of of fiscal broader fiscal stimulus and i think that'll depend on the path of the economy. \n",
            "{'neg': 0.0, 'neu': 1.0, 'pos': 0.0, 'compound': 0.0}\n",
            "I think there is such a wide range of possibilities here. \n",
            "{'neg': 0.0, 'neu': 1.0, 'pos': 0.0, 'compound': 0.0}\n",
            "That it's some it's very hard to predict but there could certainly be and there could certainly be. \n",
            "{'neg': 0.06, 'neu': 0.665, 'pos': 0.275, 'compound': 0.7053}\n",
            "Yeah we need for that. \n",
            "{'neg': 0.0, 'neu': 0.645, 'pos': 0.355, 'compound': 0.296}\n",
            "Your second question was. \n",
            "{'neg': 0.0, 'neu': 1.0, 'pos': 0.0, 'compound': 0.0}\n",
            "Yeah it was on what indicators you're going to be looking at the mantel and real. \n",
            "{'neg': 0.0, 'neu': 0.872, 'pos': 0.128, 'compound': 0.296}\n",
            "Well i think in a meeting the very near-term. \n",
            "{'neg': 0.0, 'neu': 0.741, 'pos': 0.259, 'compound': 0.2732}\n",
            "Going to be looking at. \n",
            "{'neg': 0.0, 'neu': 1.0, 'pos': 0.0, 'compound': 0.0}\n",
            "Treasury market function can be looking to see. \n",
            "{'neg': 0.0, 'neu': 0.795, 'pos': 0.205, 'compound': 0.2023}\n",
            "That financial markets are returning to more liquid more normal functioning. \n",
            "{'neg': 0.0, 'neu': 1.0, 'pos': 0.0, 'compound': 0.0}\n",
            "That is an essential part of our job that is actually you know that is the thing that central banks were originally. \n",
            "{'neg': 0.0, 'neu': 1.0, 'pos': 0.0, 'compound': 0.0}\n",
            "Designed to do was to provide liquidity to. \n",
            "{'neg': 0.0, 'neu': 1.0, 'pos': 0.0, 'compound': 0.0}\n",
            "Financial systems and stress so we take that job very seriously probably the most important thing we're doing now. \n",
            "{'neg': 0.209, 'neu': 0.699, 'pos': 0.091, 'compound': -0.4019}\n",
            "Is that so we'll be watching that and we'll be prepared to use our tools. \n",
            "{'neg': 0.0, 'neu': 0.881, 'pos': 0.119, 'compound': 0.2263}\n",
            "When and as appropriate to address it took to support market functioning and really really to support the flow of credit to. \n",
            "{'neg': 0.0, 'neu': 0.704, 'pos': 0.296, 'compound': 0.7906}\n",
            "Consulting business. \n",
            "{'neg': 0.0, 'neu': 1.0, 'pos': 0.0, 'compound': 0.0}\n",
            "I think it's just so early you know we we were really looking. \n",
            "{'neg': 0.0, 'neu': 1.0, 'pos': 0.0, 'compound': 0.0}\n",
            "I mean the economic data will follow. \n",
            "{'neg': 0.0, 'neu': 1.0, 'pos': 0.0, 'compound': 0.0}\n",
            "The date on the spread of the virus. \n",
            "{'neg': 0.0, 'neu': 1.0, 'pos': 0.0, 'compound': 0.0}\n",
            "Yeah i think what happens what happens during the spread of the virus is probably not going to tell you a lot about. \n",
            "{'neg': 0.0, 'neu': 0.901, 'pos': 0.099, 'compound': 0.296}\n",
            "Where the economy will be in 6 months. \n",
            "{'neg': 0.0, 'neu': 1.0, 'pos': 0.0, 'compound': 0.0}\n",
            "It's going to be cuz you you may have a few probably have a bad quarter in the second quarter but if things get better in the third quarter. \n",
            "{'neg': 0.072, 'neu': 0.804, 'pos': 0.124, 'compound': 0.3818}\n",
            "That probably won't matter matter so much we may be able to come back from that if it didn't last longer. \n",
            "{'neg': 0.102, 'neu': 0.898, 'pos': 0.0, 'compound': -0.0382}\n",
            "That's really what i'll be looking for is is what is going to be the spread of the virus and what the path is going to take and what are the effects on the economy. \n",
            "{'neg': 0.0, 'neu': 1.0, 'pos': 0.0, 'compound': 0.0}\n",
            "Can we go to nbc news now. \n",
            "{'neg': 0.0, 'neu': 1.0, 'pos': 0.0, 'compound': 0.0}\n",
            "From nbc news and a lot of the questions here so i'll try to one that's more philosophical in nature and you've talked a bit about the destruction from the coronavirus. \n",
            "{'neg': 0.117, 'neu': 0.883, 'pos': 0.0, 'compound': -0.5719}\n",
            "Outbreak and having lower economic activity fruit for a time. \n",
            "{'neg': 0.216, 'neu': 0.784, 'pos': 0.0, 'compound': -0.296}\n",
            "I'm reckoning with the fact that my kids going to be out of school until april 20th at the earliest stuff for shield. \n",
            "{'neg': 0.0, 'neu': 1.0, 'pos': 0.0, 'compound': 0.0}\n",
            "Very very cute lee but i wonder if you could just give us your perspective on the time horizon here and put that into some broader context how you look at this and. \n",
            "{'neg': 0.0, 'neu': 0.931, 'pos': 0.069, 'compound': 0.3151}\n",
            "Anomalous this thing is with which you and your colleagues are going to have to reckon. \n",
            "{'neg': 0.0, 'neu': 1.0, 'pos': 0.0, 'compound': 0.0}\n",
            "That's my first question the second is newest andrade tools are deployed over these last few weeks and. \n",
            "{'neg': 0.0, 'neu': 1.0, 'pos': 0.0, 'compound': 0.0}\n",
            "The market which i know is something that you pay. \n",
            "{'neg': 0.149, 'neu': 0.851, 'pos': 0.0, 'compound': -0.1027}\n",
            "At least minimal attention to is is reacting negatively this to some of that what do you make of that earlier about the toolbox and and. \n",
            "{'neg': 0.0, 'neu': 1.0, 'pos': 0.0, 'compound': 0.0}\n",
            "What's left what's left in it. \n",
            "{'neg': 0.0, 'neu': 1.0, 'pos': 0.0, 'compound': 0.0}\n",
            "Rates are low business that provoked any apprehension any nervousness on your part that that there are fewer tools there in. \n",
            "{'neg': 0.358, 'neu': 0.642, 'pos': 0.0, 'compound': -0.8176}\n",
            "I guess your first question is think about that at the time. \n",
            "{'neg': 0.0, 'neu': 1.0, 'pos': 0.0, 'compound': 0.0}\n",
            "The time for this thing you know the truth is we just don't know and. \n",
            "{'neg': 0.0, 'neu': 0.859, 'pos': 0.141, 'compound': 0.3182}\n",
            "You know the experts we talked to will say that they don't know and it's infected unknowable it's going to depend. \n",
            "{'neg': 0.138, 'neu': 0.862, 'pos': 0.0, 'compound': -0.4939}\n",
            "Are number of things first it's the measures that we take. \n",
            "{'neg': 0.0, 'neu': 0.885, 'pos': 0.115, 'compound': 0.0772}\n",
            "2. \n",
            "{'neg': 0.0, 'neu': 1.0, 'pos': 0.0, 'compound': 0.0}\n",
            "You know two with the social distancing and all the things businesses in school and everyone's doing that and compliant people are. \n",
            "{'neg': 0.0, 'neu': 1.0, 'pos': 0.0, 'compound': 0.0}\n",
            "You can see that some countries have had to have been able to through aggressive. \n",
            "{'neg': 0.103, 'neu': 0.897, 'pos': 0.0, 'compound': -0.1531}\n",
            "Measures and really high compliance have been able to bend the curve and. \n",
            "{'neg': 0.0, 'neu': 1.0, 'pos': 0.0, 'compound': 0.0}\n",
            "And do that and whether we succeed or the question and i i wouldn't i wouldn't. \n",
            "{'neg': 0.0, 'neu': 0.789, 'pos': 0.211, 'compound': 0.4939}\n",
            "You know i'll resist the impulse to guess i really don't know what that will be. \n",
            "{'neg': 0.0, 'neu': 1.0, 'pos': 0.0, 'compound': 0.0}\n",
            "As i mentioned we have plenty of power left. \n",
            "{'neg': 0.0, 'neu': 1.0, 'pos': 0.0, 'compound': 0.0}\n",
            "That i think is is right now the most important thing that we're doing. \n",
            "{'neg': 0.0, 'neu': 0.851, 'pos': 0.149, 'compound': 0.2716}\n",
            "Are interest rates will matter cuts will matter now to borrowers who will get some relief. \n",
            "{'neg': 0.102, 'neu': 0.512, 'pos': 0.386, 'compound': 0.6249}\n",
            "Four more cuts but don't matter a lot more when the economy begins to recover. \n",
            "{'neg': 0.192, 'neu': 0.808, 'pos': 0.0, 'compound': -0.2162}\n",
            "Not so i'm getting that job done well. \n",
            "{'neg': 0.0, 'neu': 0.769, 'pos': 0.231, 'compound': 0.2732}\n",
            "You know we have room to provide forward guidance to. \n",
            "{'neg': 0.0, 'neu': 1.0, 'pos': 0.0, 'compound': 0.0}\n",
            "To do more asset purchases i think there is room for us to do what we need to do. \n",
            "{'neg': 0.0, 'neu': 0.859, 'pos': 0.141, 'compound': 0.4201}\n",
            "I would just close no by saying that. \n",
            "{'neg': 0.268, 'neu': 0.732, 'pos': 0.0, 'compound': -0.296}\n",
            "You know typically fiscal policy. \n",
            "{'neg': 0.0, 'neu': 1.0, 'pos': 0.0, 'compound': 0.0}\n",
            "Does play a major role. \n",
            "{'neg': 0.0, 'neu': 0.556, 'pos': 0.444, 'compound': 0.34}\n",
            "When it when there are downturned dussault you seen that in in many pass downturns. \n",
            "{'neg': 0.0, 'neu': 1.0, 'pos': 0.0, 'compound': 0.0}\n",
            "And that's beyond just the automatic stabilizers some sometimes fiscal policy comes in. \n",
            "{'neg': 0.0, 'neu': 1.0, 'pos': 0.0, 'compound': 0.0}\n",
            "Need to be the case here as well. \n",
            "{'neg': 0.0, 'neu': 0.769, 'pos': 0.231, 'compound': 0.2732}\n",
            "Politico. \n",
            "{'neg': 0.0, 'neu': 1.0, 'pos': 0.0, 'compound': 0.0}\n",
            "Victoria doing the call. \n",
            "{'neg': 0.0, 'neu': 1.0, 'pos': 0.0, 'compound': 0.0}\n",
            "After you see a bigger role here for the financial stability oversight council. \n",
            "{'neg': 0.0, 'neu': 1.0, 'pos': 0.0, 'compound': 0.0}\n",
            "With all these dresses showing up in different market d.c. risks. \n",
            "{'neg': 0.174, 'neu': 0.826, 'pos': 0.0, 'compound': -0.2732}\n",
            "Financial stability rising. \n",
            "{'neg': 0.0, 'neu': 1.0, 'pos': 0.0, 'compound': 0.0}\n",
            "Do you think there are some activities that might want to crack down on. \n",
            "{'neg': 0.0, 'neu': 0.909, 'pos': 0.091, 'compound': 0.0772}\n",
            "Interview confidence if there aren't any non banks that are systemically important. \n",
            "{'neg': 0.0, 'neu': 0.662, 'pos': 0.338, 'compound': 0.6249}\n",
            "Is really something that the treasury secretary chairs. \n",
            "{'neg': 0.0, 'neu': 0.795, 'pos': 0.205, 'compound': 0.2023}\n",
            "And it's a big group it's got a lot of people i think it serves a good purpose but. \n",
            "{'neg': 0.0, 'neu': 0.878, 'pos': 0.122, 'compound': 0.2382}\n",
            "You should know that we are course in regular contact with the other. \n",
            "{'neg': 0.0, 'neu': 1.0, 'pos': 0.0, 'compound': 0.0}\n",
            "With the other regulatory agencies constantly talking about what's going on in markets. \n",
            "{'neg': 0.0, 'neu': 1.0, 'pos': 0.0, 'compound': 0.0}\n",
            "There's a lot of information and conversation or ongoing basis there i would say. \n",
            "{'neg': 0.0, 'neu': 1.0, 'pos': 0.0, 'compound': 0.0}\n",
            "So. \n",
            "{'neg': 0.0, 'neu': 1.0, 'pos': 0.0, 'compound': 0.0}\n",
            "And the same is true with our central bank contacts around the world wearing ongoing contact with all the major central banks. \n",
            "{'neg': 0.0, 'neu': 0.882, 'pos': 0.118, 'compound': 0.4215}\n",
            "Around the world talk about what's going on we're having group calls we're calling one-on-one. \n",
            "{'neg': 0.0, 'neu': 1.0, 'pos': 0.0, 'compound': 0.0}\n",
            "It's quite a lot of information being exchanged there. \n",
            "{'neg': 0.0, 'neu': 1.0, 'pos': 0.0, 'compound': 0.0}\n",
            "Then your question was non-bank cypis. \n",
            "{'neg': 0.0, 'neu': 1.0, 'pos': 0.0, 'compound': 0.0}\n",
            "You know again that's a judgment for the that's a judgment for the f stock. \n",
            "{'neg': 0.0, 'neu': 1.0, 'pos': 0.0, 'compound': 0.0}\n",
            "You know i'm comfortable with the actions that we've taken and if we if we do identify you know. \n",
            "{'neg': 0.0, 'neu': 0.845, 'pos': 0.155, 'compound': 0.5106}\n",
            "Systemically important. \n",
            "{'neg': 0.0, 'neu': 0.357, 'pos': 0.643, 'compound': 0.2023}\n",
            "Not bank institution that we wouldn't hesitate to designated but although i guess now we're working more on activities but we do still have the power to designate institutions. \n",
            "{'neg': 0.0, 'neu': 0.95, 'pos': 0.05, 'compound': 0.1045}\n",
            "So. \n",
            "{'neg': 0.0, 'neu': 1.0, 'pos': 0.0, 'compound': 0.0}\n",
            "Does rising. \n",
            "{'neg': 0.0, 'neu': 1.0, 'pos': 0.0, 'compound': 0.0}\n",
            "Question was. \n",
            "{'neg': 0.0, 'neu': 1.0, 'pos': 0.0, 'compound': 0.0}\n",
            "Askew financial stability rising giving all the traffic happening in financial markets. \n",
            "{'neg': 0.0, 'neu': 0.821, 'pos': 0.179, 'compound': 0.34}\n",
            "Well yes i would say you know that's. \n",
            "{'neg': 0.0, 'neu': 0.51, 'pos': 0.49, 'compound': 0.5859}\n",
            "That's some something that happens when markets are as volatile as they are when we are having these big market movements while. \n",
            "{'neg': 0.0, 'neu': 1.0, 'pos': 0.0, 'compound': 0.0}\n",
            "Markets are trying to. \n",
            "{'neg': 0.0, 'neu': 1.0, 'pos': 0.0, 'compound': 0.0}\n",
            "Understand what's going on there trying to reach of you on within in high uncertainty and that's why you see lots and lots of volatility. \n",
            "{'neg': 0.091, 'neu': 0.868, 'pos': 0.042, 'compound': -0.3182}\n",
            "I think there's more risk evangel stability and are alike like that then there is when things are really placid. \n",
            "{'neg': 0.109, 'neu': 0.777, 'pos': 0.114, 'compound': 0.0276}\n",
            "And you know we're going home at 4 and kind of bored yet rear. \n",
            "{'neg': 0.166, 'neu': 0.834, 'pos': 0.0, 'compound': -0.3384}\n",
            "That's not the case right now so. \n",
            "{'neg': 0.0, 'neu': 1.0, 'pos': 0.0, 'compound': 0.0}\n",
            "Central stability i would say those those risks to rising at a time of high volatility particularly a time where we're presenting presented with a challenge that is. \n",
            "{'neg': 0.083, 'neu': 0.866, 'pos': 0.051, 'compound': -0.2023}\n",
            "It's kind of unique really it's not something we've all done before. \n",
            "{'neg': 0.0, 'neu': 1.0, 'pos': 0.0, 'compound': 0.0}\n",
            "I also want to add though that. \n",
            "{'neg': 0.0, 'neu': 0.794, 'pos': 0.206, 'compound': 0.0772}\n",
            "Working that were strongly focused on financial stability we monitored carefully. \n",
            "{'neg': 0.0, 'neu': 0.563, 'pos': 0.437, 'compound': 0.6369}\n",
            "We've built a very resilient financial system. \n",
            "{'neg': 0.0, 'neu': 1.0, 'pos': 0.0, 'compound': 0.0}\n",
            "The banks are highly capitalized lots of liquidity. \n",
            "{'neg': 0.0, 'neu': 1.0, 'pos': 0.0, 'compound': 0.0}\n",
            "Much better and an understanding and managing their risks. \n",
            "{'neg': 0.175, 'neu': 0.583, 'pos': 0.242, 'compound': 0.2023}\n",
            "The resilience of stress. \n",
            "{'neg': 0.483, 'neu': 0.517, 'pos': 0.0, 'compound': -0.4215}\n",
            "So. \n",
            "{'neg': 0.0, 'neu': 1.0, 'pos': 0.0, 'compound': 0.0}\n",
            "Our financial stability focus our focus on. \n",
            "{'neg': 0.0, 'neu': 1.0, 'pos': 0.0, 'compound': 0.0}\n",
            "Event like this. \n",
            "{'neg': 0.0, 'neu': 0.444, 'pos': 0.556, 'compound': 0.3612}\n",
            "Over the last 10 years will pay dividends in the sense that you have a much more resilient financial system. \n",
            "{'neg': 0.072, 'neu': 0.928, 'pos': 0.0, 'compound': -0.1027}\n",
            "That you had before. \n",
            "{'neg': 0.0, 'neu': 1.0, 'pos': 0.0, 'compound': 0.0}\n",
            "Okay we'll go to market news. \n",
            "{'neg': 0.0, 'neu': 0.725, 'pos': 0.275, 'compound': 0.2263}\n",
            "I wanted to ask a few days ago the open markets. \n",
            "{'neg': 0.0, 'neu': 1.0, 'pos': 0.0, 'compound': 0.0}\n",
            "And it is repo operations. \n",
            "{'neg': 0.0, 'neu': 1.0, 'pos': 0.0, 'compound': 0.0}\n",
            "But the take-up was a bit low. \n",
            "{'neg': 0.346, 'neu': 0.654, 'pos': 0.0, 'compound': -0.3919}\n",
            "Did you have any take away from that did that indicate to you that the rebels were not working after you had envisioned it. \n",
            "{'neg': 0.073, 'neu': 0.927, 'pos': 0.0, 'compound': -0.2023}\n",
            "I'm always there something else. \n",
            "{'neg': 0.0, 'neu': 1.0, 'pos': 0.0, 'compound': 0.0}\n",
            "Set an alarm from. \n",
            "{'neg': 0.444, 'neu': 0.556, 'pos': 0.0, 'compound': -0.34}\n",
            "We saw and everyone saw. \n",
            "{'neg': 0.0, 'neu': 1.0, 'pos': 0.0, 'compound': 0.0}\n",
            "That liquidity. \n",
            "{'neg': 0.0, 'neu': 1.0, 'pos': 0.0, 'compound': 0.0}\n",
            "And i had become very strained in treasury and mbs markets. \n",
            "{'neg': 0.229, 'neu': 0.613, 'pos': 0.158, 'compound': -0.2333}\n",
            "And we decided to offer. \n",
            "{'neg': 0.0, 'neu': 1.0, 'pos': 0.0, 'compound': 0.0}\n",
            "Very large quantities of termino vernick repo to address that that makes it easier to finance. \n",
            "{'neg': 0.0, 'neu': 0.843, 'pos': 0.157, 'compound': 0.4215}\n",
            "The purchase of repository of treasures and ids. \n",
            "{'neg': 0.0, 'neu': 0.714, 'pos': 0.286, 'compound': 0.4215}\n",
            "So we did that and as you pointed out the take up. \n",
            "{'neg': 0.0, 'neu': 1.0, 'pos': 0.0, 'compound': 0.0}\n",
            "Was. \n",
            "{'neg': 0.0, 'neu': 1.0, 'pos': 0.0, 'compound': 0.0}\n",
            "Not as tired as. \n",
            "{'neg': 0.0, 'neu': 0.555, 'pos': 0.445, 'compound': 0.3412}\n",
            "Many had expected. \n",
            "{'neg': 0.0, 'neu': 1.0, 'pos': 0.0, 'compound': 0.0}\n",
            "And i think we did learn something from that we thought that was worth doing and we what we learned was that. \n",
            "{'neg': 0.0, 'neu': 0.913, 'pos': 0.087, 'compound': 0.2263}\n",
            "We needed to go direct here rather than trying to intermediate. \n",
            "{'neg': 0.0, 'neu': 1.0, 'pos': 0.0, 'compound': 0.0}\n",
            "Through the dealers. \n",
            "{'neg': 0.0, 'neu': 1.0, 'pos': 0.0, 'compound': 0.0}\n",
            "And so we realize at that point that we would need to actually purchase securities for our portfolio so we did that on friday. \n",
            "{'neg': 0.0, 'neu': 0.913, 'pos': 0.087, 'compound': 0.296}\n",
            "And we bought fighting 37 billion dollars for the securities. \n",
            "{'neg': 0.197, 'neu': 0.63, 'pos': 0.173, 'compound': -0.0772}\n",
            "And we saw what happened with that we saw that market function improved a little bit. \n",
            "{'neg': 0.0, 'neu': 0.819, 'pos': 0.181, 'compound': 0.4767}\n",
            "But still if it wasn't what we needed and that's why. \n",
            "{'neg': 0.0, 'neu': 1.0, 'pos': 0.0, 'compound': 0.0}\n",
            "We brought together the full fmc. \n",
            "{'neg': 0.0, 'neu': 1.0, 'pos': 0.0, 'compound': 0.0}\n",
            "And had our meeting this afternoon announce these measures this evening. \n",
            "{'neg': 0.0, 'neu': 1.0, 'pos': 0.0, 'compound': 0.0}\n",
            "Which are strong measures with the broad support of the committee. \n",
            "{'neg': 0.0, 'neu': 0.6, 'pos': 0.4, 'compound': 0.7184}\n",
            "To provide really substantial not to look weird and i didn't even see us. \n",
            "{'neg': 0.0, 'neu': 0.753, 'pos': 0.247, 'compound': 0.3841}\n",
            "I'm working through different solutions and and find even one that we think really will work and then acting. \n",
            "{'neg': 0.0, 'neu': 0.914, 'pos': 0.086, 'compound': 0.1779}\n",
            "Quite vigorously quite aggressively tonight. \n",
            "{'neg': 0.373, 'neu': 0.392, 'pos': 0.234, 'compound': -0.2648}\n",
            "To implement. \n",
            "{'neg': 0.0, 'neu': 1.0, 'pos': 0.0, 'compound': 0.0}\n",
            "Okay we're going to go to reuters for the last question. \n",
            "{'neg': 0.0, 'neu': 0.84, 'pos': 0.16, 'compound': 0.2263}\n",
            "Thanks chip health howard cyrus twitter. \n",
            "{'neg': 0.0, 'neu': 0.633, 'pos': 0.367, 'compound': 0.4404}\n",
            "The truth is that i could could you describe any discussions you had in coordination with the major banks this whole. \n",
            "{'neg': 0.0, 'neu': 0.892, 'pos': 0.108, 'compound': 0.3182}\n",
            "Talk about drawing down liquidity drawing out capital buffers. \n",
            "{'neg': 0.0, 'neu': 1.0, 'pos': 0.0, 'compound': 0.0}\n",
            "How far can a drawdown how much do you think they can put now out to customer finance did you get the explicit agreements for them that this will go to customer finance and not something else. \n",
            "{'neg': 0.0, 'neu': 0.943, 'pos': 0.057, 'compound': 0.2732}\n",
            "And then secondly is there any discussion yet of of using the 13 free powers in the fed to do some sort of direct lending facility. \n",
            "{'neg': 0.0, 'neu': 0.883, 'pos': 0.117, 'compound': 0.5106}\n",
            "Broad general guidance to the bank. \n",
            "{'neg': 0.0, 'neu': 1.0, 'pos': 0.0, 'compound': 0.0}\n",
            "We'd like them to. \n",
            "{'neg': 0.0, 'neu': 0.545, 'pos': 0.455, 'compound': 0.3612}\n",
            "Use their buffers to provide to. \n",
            "{'neg': 0.0, 'neu': 1.0, 'pos': 0.0, 'compound': 0.0}\n",
            "Provide loans and and also to work with their borrowers that you can see we're running a lot of guidance across a wide range. \n",
            "{'neg': 0.0, 'neu': 1.0, 'pos': 0.0, 'compound': 0.0}\n",
            "And they're saying they have every intention of doing that. \n",
            "{'neg': 0.0, 'neu': 1.0, 'pos': 0.0, 'compound': 0.0}\n",
            "That's good to hear and. \n",
            "{'neg': 0.0, 'neu': 0.58, 'pos': 0.42, 'compound': 0.4404}\n",
            "So we'll see how that works out there of their lot of discussions going on and you know we hear the bank saying that's exactly what they're going to do. \n",
            "{'neg': 0.0, 'neu': 1.0, 'pos': 0.0, 'compound': 0.0}\n",
            "That's a good thing. \n",
            "{'neg': 0.0, 'neu': 0.408, 'pos': 0.592, 'compound': 0.4404}\n",
            "You know where course we were were nothing to announce on the 113 three powers but you know of course we. \n",
            "{'neg': 0.0, 'neu': 1.0, 'pos': 0.0, 'compound': 0.0}\n",
            "That's part of our playbook in in. \n",
            "{'neg': 0.0, 'neu': 1.0, 'pos': 0.0, 'compound': 0.0}\n",
            "Doing any situation like this so as i said we're prepared to use our authorities. \n",
            "{'neg': 0.0, 'neu': 0.732, 'pos': 0.268, 'compound': 0.5267}\n",
            "As is appropriate to you know to support. \n",
            "{'neg': 0.0, 'neu': 0.722, 'pos': 0.278, 'compound': 0.4019}\n",
            "Borrowing and lending in the economy. \n",
            "{'neg': 0.0, 'neu': 1.0, 'pos': 0.0, 'compound': 0.0}\n",
            "And an enhanced to support the availability of credit to households and businesses. \n",
            "{'neg': 0.0, 'neu': 0.675, 'pos': 0.325, 'compound': 0.6486}\n",
            "Okay thank you very much. \n",
            "{'neg': 0.0, 'neu': 0.405, 'pos': 0.595, 'compound': 0.5267}\n",
            "We're signing off. \n",
            "{'neg': 0.0, 'neu': 1.0, 'pos': 0.0, 'compound': 0.0}\n"
          ]
        }
      ]
    },
    {
      "cell_type": "code",
      "source": [
        "stentiment_text_input"
      ],
      "metadata": {
        "colab": {
          "base_uri": "https://localhost:8080/"
        },
        "id": "jrUgxkBp5gVO",
        "outputId": "39a3c820-2183-4d14-e5d1-4c899e112d04"
      },
      "execution_count": 15,
      "outputs": [
        {
          "output_type": "execute_result",
          "data": {
            "text/plain": [
              "[{'neg': 0.0, 'neu': 1.0, 'pos': 0.0, 'compound': 0.0},\n",
              " {'neg': 0.0, 'neu': 0.789, 'pos': 0.211, 'compound': 0.4588},\n",
              " {'neg': 0.136, 'neu': 0.568, 'pos': 0.295, 'compound': 0.4215},\n",
              " {'neg': 0.0, 'neu': 0.833, 'pos': 0.167, 'compound': 0.4215},\n",
              " {'neg': 0.147, 'neu': 0.853, 'pos': 0.0, 'compound': -0.4767},\n",
              " {'neg': 0.0, 'neu': 0.725, 'pos': 0.275, 'compound': 0.6486},\n",
              " {'neg': 0.0, 'neu': 1.0, 'pos': 0.0, 'compound': 0.0},\n",
              " {'neg': 0.0, 'neu': 0.801, 'pos': 0.199, 'compound': 0.3559},\n",
              " {'neg': 0.0, 'neu': 1.0, 'pos': 0.0, 'compound': 0.0},\n",
              " {'neg': 0.258, 'neu': 0.604, 'pos': 0.137, 'compound': -0.296},\n",
              " {'neg': 0.0, 'neu': 0.787, 'pos': 0.213, 'compound': 0.4019},\n",
              " {'neg': 0.0, 'neu': 0.769, 'pos': 0.231, 'compound': 0.5859},\n",
              " {'neg': 0.0, 'neu': 0.809, 'pos': 0.191, 'compound': 0.3818},\n",
              " {'neg': 0.0, 'neu': 0.824, 'pos': 0.176, 'compound': 0.4588},\n",
              " {'neg': 0.0, 'neu': 1.0, 'pos': 0.0, 'compound': 0.0},\n",
              " {'neg': 0.0, 'neu': 1.0, 'pos': 0.0, 'compound': 0.0},\n",
              " {'neg': 0.0, 'neu': 0.738, 'pos': 0.262, 'compound': 0.4939},\n",
              " {'neg': 0.0, 'neu': 1.0, 'pos': 0.0, 'compound': 0.0},\n",
              " {'neg': 0.0, 'neu': 0.71, 'pos': 0.29, 'compound': 0.6486},\n",
              " {'neg': 0.0, 'neu': 0.854, 'pos': 0.146, 'compound': 0.4102},\n",
              " {'neg': 0.148, 'neu': 0.693, 'pos': 0.159, 'compound': 0.09},\n",
              " {'neg': 0.0, 'neu': 0.766, 'pos': 0.234, 'compound': 0.6249},\n",
              " {'neg': 0.0, 'neu': 1.0, 'pos': 0.0, 'compound': 0.0},\n",
              " {'neg': 0.0, 'neu': 1.0, 'pos': 0.0, 'compound': 0.0},\n",
              " {'neg': 0.0, 'neu': 1.0, 'pos': 0.0, 'compound': 0.0},\n",
              " {'neg': 0.166, 'neu': 0.686, 'pos': 0.149, 'compound': -0.0772},\n",
              " {'neg': 0.0, 'neu': 0.476, 'pos': 0.524, 'compound': 0.5106},\n",
              " {'neg': 0.0, 'neu': 0.773, 'pos': 0.227, 'compound': 0.5719},\n",
              " {'neg': 0.0, 'neu': 0.492, 'pos': 0.508, 'compound': 0.4767},\n",
              " {'neg': 0.0, 'neu': 0.563, 'pos': 0.437, 'compound': 0.2732},\n",
              " {'neg': 0.127, 'neu': 0.755, 'pos': 0.118, 'compound': -0.0516},\n",
              " {'neg': 0.0, 'neu': 0.833, 'pos': 0.167, 'compound': 0.2023},\n",
              " {'neg': 0.0, 'neu': 1.0, 'pos': 0.0, 'compound': 0.0},\n",
              " {'neg': 0.259, 'neu': 0.741, 'pos': 0.0, 'compound': -0.2732},\n",
              " {'neg': 0.0, 'neu': 1.0, 'pos': 0.0, 'compound': 0.0},\n",
              " {'neg': 0.155, 'neu': 0.845, 'pos': 0.0, 'compound': -0.296},\n",
              " {'neg': 0.0, 'neu': 1.0, 'pos': 0.0, 'compound': 0.0},\n",
              " {'neg': 0.235, 'neu': 0.588, 'pos': 0.176, 'compound': -0.1779},\n",
              " {'neg': 0.208, 'neu': 0.792, 'pos': 0.0, 'compound': -0.2732},\n",
              " {'neg': 0.0, 'neu': 1.0, 'pos': 0.0, 'compound': 0.0},\n",
              " {'neg': 0.0, 'neu': 1.0, 'pos': 0.0, 'compound': 0.0},\n",
              " {'neg': 0.0, 'neu': 1.0, 'pos': 0.0, 'compound': 0.0},\n",
              " {'neg': 0.0, 'neu': 0.639, 'pos': 0.361, 'compound': 0.6858},\n",
              " {'neg': 0.0, 'neu': 1.0, 'pos': 0.0, 'compound': 0.0},\n",
              " {'neg': 0.0, 'neu': 1.0, 'pos': 0.0, 'compound': 0.0},\n",
              " {'neg': 0.0, 'neu': 1.0, 'pos': 0.0, 'compound': 0.0},\n",
              " {'neg': 0.0, 'neu': 0.674, 'pos': 0.326, 'compound': 0.5859},\n",
              " {'neg': 0.286, 'neu': 0.714, 'pos': 0.0, 'compound': -0.4215},\n",
              " {'neg': 0.119, 'neu': 0.674, 'pos': 0.207, 'compound': 0.1779},\n",
              " {'neg': 0.0, 'neu': 1.0, 'pos': 0.0, 'compound': 0.0},\n",
              " {'neg': 0.0, 'neu': 1.0, 'pos': 0.0, 'compound': 0.0},\n",
              " {'neg': 0.0, 'neu': 0.566, 'pos': 0.434, 'compound': 0.5574},\n",
              " {'neg': 0.092, 'neu': 0.614, 'pos': 0.294, 'compound': 0.5574},\n",
              " {'neg': 0.144, 'neu': 0.769, 'pos': 0.087, 'compound': -0.296},\n",
              " {'neg': 0.0, 'neu': 0.745, 'pos': 0.255, 'compound': 0.765},\n",
              " {'neg': 0.203, 'neu': 0.654, 'pos': 0.144, 'compound': -0.2263},\n",
              " {'neg': 0.0, 'neu': 0.795, 'pos': 0.205, 'compound': 0.2023},\n",
              " {'neg': 0.0, 'neu': 0.625, 'pos': 0.375, 'compound': 0.5859},\n",
              " {'neg': 0.0, 'neu': 1.0, 'pos': 0.0, 'compound': 0.0},\n",
              " {'neg': 0.0, 'neu': 1.0, 'pos': 0.0, 'compound': 0.0},\n",
              " {'neg': 0.0, 'neu': 0.677, 'pos': 0.323, 'compound': 0.8225},\n",
              " {'neg': 0.0, 'neu': 0.872, 'pos': 0.128, 'compound': 0.296},\n",
              " {'neg': 0.0, 'neu': 0.82, 'pos': 0.18, 'compound': 0.296},\n",
              " {'neg': 0.0, 'neu': 0.644, 'pos': 0.356, 'compound': 0.8115},\n",
              " {'neg': 0.0, 'neu': 1.0, 'pos': 0.0, 'compound': 0.0},\n",
              " {'neg': 0.0, 'neu': 0.655, 'pos': 0.345, 'compound': 0.9042},\n",
              " {'neg': 0.0, 'neu': 0.812, 'pos': 0.188, 'compound': 0.4588},\n",
              " {'neg': 0.0, 'neu': 1.0, 'pos': 0.0, 'compound': 0.0},\n",
              " {'neg': 0.0, 'neu': 0.677, 'pos': 0.323, 'compound': 0.8402},\n",
              " {'neg': 0.109, 'neu': 0.507, 'pos': 0.384, 'compound': 0.5859},\n",
              " {'neg': 0.0, 'neu': 0.834, 'pos': 0.166, 'compound': 0.5256},\n",
              " {'neg': 0.097, 'neu': 0.793, 'pos': 0.11, 'compound': 0.0772},\n",
              " {'neg': 0.0, 'neu': 0.741, 'pos': 0.259, 'compound': 0.4215},\n",
              " {'neg': 0.138, 'neu': 0.862, 'pos': 0.0, 'compound': -0.34},\n",
              " {'neg': 0.315, 'neu': 0.685, 'pos': 0.0, 'compound': -0.3182},\n",
              " {'neg': 0.204, 'neu': 0.796, 'pos': 0.0, 'compound': -0.3182},\n",
              " {'neg': 0.0, 'neu': 0.73, 'pos': 0.27, 'compound': 0.4019},\n",
              " {'neg': 0.281, 'neu': 0.719, 'pos': 0.0, 'compound': -0.5719},\n",
              " {'neg': 0.0, 'neu': 1.0, 'pos': 0.0, 'compound': 0.0},\n",
              " {'neg': 0.0, 'neu': 1.0, 'pos': 0.0, 'compound': 0.0},\n",
              " {'neg': 0.0, 'neu': 1.0, 'pos': 0.0, 'compound': 0.0},\n",
              " {'neg': 0.0, 'neu': 1.0, 'pos': 0.0, 'compound': 0.0},\n",
              " {'neg': 0.0, 'neu': 1.0, 'pos': 0.0, 'compound': 0.0},\n",
              " {'neg': 0.0, 'neu': 1.0, 'pos': 0.0, 'compound': 0.0},\n",
              " {'neg': 0.235, 'neu': 0.765, 'pos': 0.0, 'compound': -0.5106},\n",
              " {'neg': 0.0, 'neu': 0.839, 'pos': 0.161, 'compound': 0.6808},\n",
              " {'neg': 0.0, 'neu': 0.833, 'pos': 0.167, 'compound': 0.3818},\n",
              " {'neg': 0.0, 'neu': 0.69, 'pos': 0.31, 'compound': 0.4019},\n",
              " {'neg': 0.0, 'neu': 0.863, 'pos': 0.137, 'compound': 0.4019},\n",
              " {'neg': 0.13, 'neu': 0.87, 'pos': 0.0, 'compound': -0.34},\n",
              " {'neg': 0.0, 'neu': 1.0, 'pos': 0.0, 'compound': 0.0},\n",
              " {'neg': 0.0, 'neu': 0.702, 'pos': 0.298, 'compound': 0.7351},\n",
              " {'neg': 0.0, 'neu': 0.548, 'pos': 0.452, 'compound': 0.5106},\n",
              " {'neg': 0.0, 'neu': 0.755, 'pos': 0.245, 'compound': 0.3818},\n",
              " {'neg': 0.0, 'neu': 1.0, 'pos': 0.0, 'compound': 0.0},\n",
              " {'neg': 0.0, 'neu': 0.882, 'pos': 0.118, 'compound': 0.3818},\n",
              " {'neg': 0.0, 'neu': 0.345, 'pos': 0.655, 'compound': 0.2263},\n",
              " {'neg': 0.0, 'neu': 0.286, 'pos': 0.714, 'compound': 0.3612},\n",
              " {'neg': 0.0, 'neu': 1.0, 'pos': 0.0, 'compound': 0.0},\n",
              " {'neg': 0.0, 'neu': 1.0, 'pos': 0.0, 'compound': 0.0},\n",
              " {'neg': 0.321, 'neu': 0.679, 'pos': 0.0, 'compound': -0.6369},\n",
              " {'neg': 0.0, 'neu': 1.0, 'pos': 0.0, 'compound': 0.0},\n",
              " {'neg': 0.0, 'neu': 0.5, 'pos': 0.5, 'compound': 0.7184},\n",
              " {'neg': 0.0, 'neu': 0.444, 'pos': 0.556, 'compound': 0.6124},\n",
              " {'neg': 0.0, 'neu': 1.0, 'pos': 0.0, 'compound': 0.0},\n",
              " {'neg': 0.0, 'neu': 0.916, 'pos': 0.084, 'compound': 0.3182},\n",
              " {'neg': 0.0, 'neu': 0.818, 'pos': 0.182, 'compound': 0.7086},\n",
              " {'neg': 0.0, 'neu': 0.861, 'pos': 0.139, 'compound': 0.5719},\n",
              " {'neg': 0.0, 'neu': 1.0, 'pos': 0.0, 'compound': 0.0},\n",
              " {'neg': 0.0, 'neu': 0.698, 'pos': 0.302, 'compound': 0.6369},\n",
              " {'neg': 0.224, 'neu': 0.662, 'pos': 0.114, 'compound': -0.4588},\n",
              " {'neg': 0.115, 'neu': 0.885, 'pos': 0.0, 'compound': -0.4391},\n",
              " {'neg': 0.0, 'neu': 1.0, 'pos': 0.0, 'compound': 0.0},\n",
              " {'neg': 0.122, 'neu': 0.878, 'pos': 0.0, 'compound': -0.3597},\n",
              " {'neg': 0.0, 'neu': 1.0, 'pos': 0.0, 'compound': 0.0},\n",
              " {'neg': 0.0, 'neu': 0.725, 'pos': 0.275, 'compound': 0.6486},\n",
              " {'neg': 0.0, 'neu': 1.0, 'pos': 0.0, 'compound': 0.0},\n",
              " {'neg': 0.0, 'neu': 1.0, 'pos': 0.0, 'compound': 0.0},\n",
              " {'neg': 0.0, 'neu': 1.0, 'pos': 0.0, 'compound': 0.0},\n",
              " {'neg': 0.14, 'neu': 0.724, 'pos': 0.136, 'compound': -0.0112},\n",
              " {'neg': 0.0, 'neu': 0.854, 'pos': 0.146, 'compound': 0.4404},\n",
              " {'neg': 0.0, 'neu': 0.685, 'pos': 0.315, 'compound': 0.8442},\n",
              " {'neg': 0.0, 'neu': 0.51, 'pos': 0.49, 'compound': 0.5859},\n",
              " {'neg': 0.0, 'neu': 1.0, 'pos': 0.0, 'compound': 0.0},\n",
              " {'neg': 0.134, 'neu': 0.758, 'pos': 0.108, 'compound': -0.1779},\n",
              " {'neg': 0.0, 'neu': 0.843, 'pos': 0.157, 'compound': 0.0772},\n",
              " {'neg': 0.0, 'neu': 1.0, 'pos': 0.0, 'compound': 0.0},\n",
              " {'neg': 0.0, 'neu': 1.0, 'pos': 0.0, 'compound': 0.0},\n",
              " {'neg': 0.0, 'neu': 1.0, 'pos': 0.0, 'compound': 0.0},\n",
              " {'neg': 0.0, 'neu': 0.8, 'pos': 0.2, 'compound': 0.6124},\n",
              " {'neg': 0.0, 'neu': 1.0, 'pos': 0.0, 'compound': 0.0},\n",
              " {'neg': 0.0, 'neu': 1.0, 'pos': 0.0, 'compound': 0.0},\n",
              " {'neg': 0.0, 'neu': 1.0, 'pos': 0.0, 'compound': 0.0},\n",
              " {'neg': 0.214, 'neu': 0.485, 'pos': 0.301, 'compound': 0.2263},\n",
              " {'neg': 0.0, 'neu': 0.737, 'pos': 0.263, 'compound': 0.3612},\n",
              " {'neg': 0.302, 'neu': 0.698, 'pos': 0.0, 'compound': -0.8316},\n",
              " {'neg': 0.0, 'neu': 0.712, 'pos': 0.288, 'compound': 0.827},\n",
              " {'neg': 0.0, 'neu': 1.0, 'pos': 0.0, 'compound': 0.0},\n",
              " {'neg': 0.0, 'neu': 0.734, 'pos': 0.266, 'compound': 0.4404},\n",
              " {'neg': 0.0, 'neu': 1.0, 'pos': 0.0, 'compound': 0.0},\n",
              " {'neg': 0.0, 'neu': 1.0, 'pos': 0.0, 'compound': 0.0},\n",
              " {'neg': 0.0, 'neu': 0.86, 'pos': 0.14, 'compound': 0.3818},\n",
              " {'neg': 0.0, 'neu': 1.0, 'pos': 0.0, 'compound': 0.0},\n",
              " {'neg': 0.0, 'neu': 0.839, 'pos': 0.161, 'compound': 0.3612},\n",
              " {'neg': 0.0, 'neu': 0.685, 'pos': 0.315, 'compound': 0.3182},\n",
              " {'neg': 0.0, 'neu': 1.0, 'pos': 0.0, 'compound': 0.0},\n",
              " {'neg': 0.0, 'neu': 1.0, 'pos': 0.0, 'compound': 0.0},\n",
              " {'neg': 0.0, 'neu': 1.0, 'pos': 0.0, 'compound': 0.0},\n",
              " {'neg': 0.0, 'neu': 0.686, 'pos': 0.314, 'compound': 0.7778},\n",
              " {'neg': 0.0, 'neu': 0.913, 'pos': 0.087, 'compound': 0.2023},\n",
              " {'neg': 0.0, 'neu': 0.645, 'pos': 0.355, 'compound': 0.5267},\n",
              " {'neg': 0.0, 'neu': 0.625, 'pos': 0.375, 'compound': 0.2023},\n",
              " {'neg': 0.0, 'neu': 0.626, 'pos': 0.374, 'compound': 0.4915},\n",
              " {'neg': 0.0, 'neu': 1.0, 'pos': 0.0, 'compound': 0.0},\n",
              " {'neg': 0.0, 'neu': 1.0, 'pos': 0.0, 'compound': 0.0},\n",
              " {'neg': 0.0, 'neu': 0.72, 'pos': 0.28, 'compound': 0.4391},\n",
              " {'neg': 0.0, 'neu': 1.0, 'pos': 0.0, 'compound': 0.0},\n",
              " {'neg': 0.0, 'neu': 0.84, 'pos': 0.16, 'compound': 0.2716},\n",
              " {'neg': 0.0, 'neu': 0.891, 'pos': 0.109, 'compound': 0.0258},\n",
              " {'neg': 0.0, 'neu': 1.0, 'pos': 0.0, 'compound': 0.0},\n",
              " {'neg': 0.0, 'neu': 0.891, 'pos': 0.109, 'compound': 0.4019},\n",
              " {'neg': 0.0, 'neu': 1.0, 'pos': 0.0, 'compound': 0.0},\n",
              " {'neg': 0.0, 'neu': 0.732, 'pos': 0.268, 'compound': 0.296},\n",
              " {'neg': 0.0, 'neu': 0.859, 'pos': 0.141, 'compound': 0.2023},\n",
              " {'neg': 0.057, 'neu': 0.854, 'pos': 0.089, 'compound': 0.2467},\n",
              " {'neg': 0.0, 'neu': 1.0, 'pos': 0.0, 'compound': 0.0},\n",
              " {'neg': 0.0, 'neu': 0.894, 'pos': 0.106, 'compound': 0.3818},\n",
              " {'neg': 0.0, 'neu': 1.0, 'pos': 0.0, 'compound': 0.0},\n",
              " {'neg': 0.137, 'neu': 0.791, 'pos': 0.072, 'compound': -0.3399},\n",
              " {'neg': 0.0, 'neu': 0.333, 'pos': 0.667, 'compound': 0.7184},\n",
              " {'neg': 0.0, 'neu': 0.816, 'pos': 0.184, 'compound': 0.2023},\n",
              " {'neg': 0.0, 'neu': 1.0, 'pos': 0.0, 'compound': 0.0},\n",
              " {'neg': 0.0, 'neu': 0.755, 'pos': 0.245, 'compound': 0.4404},\n",
              " {'neg': 0.056, 'neu': 0.944, 'pos': 0.0, 'compound': -0.3804},\n",
              " {'neg': 0.0, 'neu': 0.625, 'pos': 0.375, 'compound': 0.4588},\n",
              " {'neg': 0.474, 'neu': 0.526, 'pos': 0.0, 'compound': -0.4019},\n",
              " {'neg': 0.0, 'neu': 1.0, 'pos': 0.0, 'compound': 0.0},\n",
              " {'neg': 0.0, 'neu': 0.827, 'pos': 0.173, 'compound': 0.2716},\n",
              " {'neg': 0.0, 'neu': 1.0, 'pos': 0.0, 'compound': 0.0},\n",
              " {'neg': 0.0, 'neu': 1.0, 'pos': 0.0, 'compound': 0.0},\n",
              " {'neg': 0.0, 'neu': 1.0, 'pos': 0.0, 'compound': 0.0},\n",
              " {'neg': 0.0, 'neu': 1.0, 'pos': 0.0, 'compound': 0.0},\n",
              " {'neg': 0.0, 'neu': 1.0, 'pos': 0.0, 'compound': 0.0},\n",
              " {'neg': 0.0, 'neu': 0.753, 'pos': 0.247, 'compound': 0.3182},\n",
              " {'neg': 0.133, 'neu': 0.716, 'pos': 0.151, 'compound': 0.1779},\n",
              " {'neg': 0.0, 'neu': 0.769, 'pos': 0.231, 'compound': 0.2732},\n",
              " {'neg': 0.128, 'neu': 0.667, 'pos': 0.206, 'compound': 0.34},\n",
              " {'neg': 0.0, 'neu': 1.0, 'pos': 0.0, 'compound': 0.0},\n",
              " {'neg': 0.0, 'neu': 0.333, 'pos': 0.667, 'compound': 0.7184},\n",
              " {'neg': 0.0, 'neu': 1.0, 'pos': 0.0, 'compound': 0.0},\n",
              " {'neg': 0.0, 'neu': 0.915, 'pos': 0.085, 'compound': 0.3612},\n",
              " {'neg': 0.0, 'neu': 1.0, 'pos': 0.0, 'compound': 0.0},\n",
              " {'neg': 0.13, 'neu': 0.87, 'pos': 0.0, 'compound': -0.2732},\n",
              " {'neg': 0.0, 'neu': 0.613, 'pos': 0.387, 'compound': 0.6486},\n",
              " {'neg': 0.0, 'neu': 0.508, 'pos': 0.492, 'compound': 0.4404},\n",
              " {'neg': 0.0, 'neu': 0.861, 'pos': 0.139, 'compound': 0.4101},\n",
              " {'neg': 0.47, 'neu': 0.53, 'pos': 0.0, 'compound': -0.7269},\n",
              " {'neg': 0.0, 'neu': 1.0, 'pos': 0.0, 'compound': 0.0},\n",
              " {'neg': 0.0, 'neu': 1.0, 'pos': 0.0, 'compound': 0.0},\n",
              " {'neg': 0.0, 'neu': 0.714, 'pos': 0.286, 'compound': 0.34},\n",
              " {'neg': 0.0, 'neu': 1.0, 'pos': 0.0, 'compound': 0.0},\n",
              " {'neg': 0.0, 'neu': 1.0, 'pos': 0.0, 'compound': 0.0},\n",
              " {'neg': 0.0, 'neu': 1.0, 'pos': 0.0, 'compound': 0.0},\n",
              " {'neg': 0.0, 'neu': 1.0, 'pos': 0.0, 'compound': 0.0},\n",
              " {'neg': 0.0, 'neu': 1.0, 'pos': 0.0, 'compound': 0.0},\n",
              " {'neg': 0.138, 'neu': 0.862, 'pos': 0.0, 'compound': -0.1531},\n",
              " {'neg': 0.231, 'neu': 0.769, 'pos': 0.0, 'compound': -0.6908},\n",
              " {'neg': 0.081, 'neu': 0.711, 'pos': 0.207, 'compound': 0.2801},\n",
              " {'neg': 0.064, 'neu': 0.936, 'pos': 0.0, 'compound': -0.0572},\n",
              " {'neg': 0.116, 'neu': 0.762, 'pos': 0.121, 'compound': 0.0134},\n",
              " {'neg': 0.0, 'neu': 0.694, 'pos': 0.306, 'compound': 0.296},\n",
              " {'neg': 0.0, 'neu': 1.0, 'pos': 0.0, 'compound': 0.0},\n",
              " {'neg': 0.0, 'neu': 1.0, 'pos': 0.0, 'compound': 0.0},\n",
              " {'neg': 0.0, 'neu': 0.588, 'pos': 0.412, 'compound': 0.4939},\n",
              " {'neg': 0.0, 'neu': 1.0, 'pos': 0.0, 'compound': 0.0},\n",
              " {'neg': 0.0, 'neu': 0.818, 'pos': 0.182, 'compound': 0.25},\n",
              " {'neg': 0.0, 'neu': 0.889, 'pos': 0.111, 'compound': 0.25},\n",
              " {'neg': 0.0, 'neu': 0.714, 'pos': 0.286, 'compound': 0.25},\n",
              " {'neg': 0.0, 'neu': 0.894, 'pos': 0.106, 'compound': 0.3612},\n",
              " {'neg': 0.0, 'neu': 0.73, 'pos': 0.27, 'compound': 0.819},\n",
              " {'neg': 0.0, 'neu': 0.733, 'pos': 0.267, 'compound': 0.6249},\n",
              " {'neg': 0.0, 'neu': 1.0, 'pos': 0.0, 'compound': 0.0},\n",
              " {'neg': 0.0, 'neu': 0.913, 'pos': 0.087, 'compound': 0.2023},\n",
              " {'neg': 0.0, 'neu': 1.0, 'pos': 0.0, 'compound': 0.0},\n",
              " {'neg': 0.0, 'neu': 0.656, 'pos': 0.344, 'compound': 0.743},\n",
              " {'neg': 0.0, 'neu': 1.0, 'pos': 0.0, 'compound': 0.0},\n",
              " {'neg': 0.0, 'neu': 0.721, 'pos': 0.279, 'compound': 0.4033},\n",
              " {'neg': 0.0, 'neu': 0.792, 'pos': 0.208, 'compound': 0.4391},\n",
              " {'neg': 0.0, 'neu': 1.0, 'pos': 0.0, 'compound': 0.0},\n",
              " {'neg': 0.0, 'neu': 0.58, 'pos': 0.42, 'compound': 0.4404},\n",
              " {'neg': 0.0, 'neu': 0.333, 'pos': 0.667, 'compound': 0.7184},\n",
              " {'neg': 0.0, 'neu': 1.0, 'pos': 0.0, 'compound': 0.0},\n",
              " {'neg': 0.0, 'neu': 0.547, 'pos': 0.453, 'compound': 0.7003},\n",
              " {'neg': 0.0, 'neu': 0.0, 'pos': 1.0, 'compound': 0.2263},\n",
              " {'neg': 0.0, 'neu': 1.0, 'pos': 0.0, 'compound': 0.0},\n",
              " {'neg': 0.0, 'neu': 0.874, 'pos': 0.126, 'compound': 0.0772},\n",
              " {'neg': 0.0, 'neu': 0.95, 'pos': 0.05, 'compound': 0.3182},\n",
              " {'neg': 0.0, 'neu': 1.0, 'pos': 0.0, 'compound': 0.0},\n",
              " {'neg': 0.123, 'neu': 0.702, 'pos': 0.175, 'compound': 0.2263},\n",
              " {'neg': 0.065, 'neu': 0.935, 'pos': 0.0, 'compound': -0.3321},\n",
              " {'neg': 0.355, 'neu': 0.223, 'pos': 0.423, 'compound': 0.079},\n",
              " {'neg': 0.0, 'neu': 1.0, 'pos': 0.0, 'compound': 0.0},\n",
              " {'neg': 0.075, 'neu': 0.925, 'pos': 0.0, 'compound': -0.2732},\n",
              " {'neg': 0.127, 'neu': 0.686, 'pos': 0.186, 'compound': 0.1531},\n",
              " {'neg': 0.0, 'neu': 0.809, 'pos': 0.191, 'compound': 0.5106},\n",
              " {'neg': 0.0, 'neu': 0.761, 'pos': 0.239, 'compound': 0.296},\n",
              " {'neg': 0.0, 'neu': 1.0, 'pos': 0.0, 'compound': 0.0},\n",
              " {'neg': 0.0, 'neu': 0.745, 'pos': 0.255, 'compound': 0.34},\n",
              " {'neg': 0.0, 'neu': 1.0, 'pos': 0.0, 'compound': 0.0},\n",
              " {'neg': 0.0, 'neu': 1.0, 'pos': 0.0, 'compound': 0.0},\n",
              " {'neg': 0.0, 'neu': 0.791, 'pos': 0.209, 'compound': 0.7003},\n",
              " {'neg': 0.0, 'neu': 1.0, 'pos': 0.0, 'compound': 0.0},\n",
              " {'neg': 0.0, 'neu': 1.0, 'pos': 0.0, 'compound': 0.0},\n",
              " {'neg': 0.0, 'neu': 0.833, 'pos': 0.167, 'compound': 0.296},\n",
              " {'neg': 0.0, 'neu': 0.859, 'pos': 0.141, 'compound': 0.2023},\n",
              " {'neg': 0.0, 'neu': 1.0, 'pos': 0.0, 'compound': 0.0},\n",
              " {'neg': 0.0, 'neu': 0.708, 'pos': 0.292, 'compound': 0.5106},\n",
              " {'neg': 0.0, 'neu': 1.0, 'pos': 0.0, 'compound': 0.0},\n",
              " {'neg': 0.0, 'neu': 1.0, 'pos': 0.0, 'compound': 0.0},\n",
              " {'neg': 0.0, 'neu': 0.695, 'pos': 0.305, 'compound': 0.6908},\n",
              " {'neg': 0.0, 'neu': 1.0, 'pos': 0.0, 'compound': 0.0},\n",
              " {'neg': 0.0, 'neu': 1.0, 'pos': 0.0, 'compound': 0.0},\n",
              " {'neg': 0.0, 'neu': 1.0, 'pos': 0.0, 'compound': 0.0},\n",
              " {'neg': 0.0, 'neu': 0.676, 'pos': 0.324, 'compound': 0.34},\n",
              " {'neg': 0.0, 'neu': 0.808, 'pos': 0.192, 'compound': 0.2263},\n",
              " {'neg': 0.0, 'neu': 1.0, 'pos': 0.0, 'compound': 0.0},\n",
              " {'neg': 0.0, 'neu': 1.0, 'pos': 0.0, 'compound': 0.0},\n",
              " {'neg': 0.0, 'neu': 1.0, 'pos': 0.0, 'compound': 0.0},\n",
              " {'neg': 0.0, 'neu': 0.833, 'pos': 0.167, 'compound': 0.2023},\n",
              " {'neg': 0.0, 'neu': 1.0, 'pos': 0.0, 'compound': 0.0},\n",
              " {'neg': 0.0, 'neu': 1.0, 'pos': 0.0, 'compound': 0.0},\n",
              " {'neg': 0.0, 'neu': 0.781, 'pos': 0.219, 'compound': 0.4754},\n",
              " {'neg': 0.0, 'neu': 1.0, 'pos': 0.0, 'compound': 0.0},\n",
              " {'neg': 0.0, 'neu': 1.0, 'pos': 0.0, 'compound': 0.0},\n",
              " {'neg': 0.0, 'neu': 0.769, 'pos': 0.231, 'compound': 0.2732},\n",
              " {'neg': 0.0, 'neu': 0.8, 'pos': 0.2, 'compound': 0.6124},\n",
              " {'neg': 0.0, 'neu': 0.747, 'pos': 0.253, 'compound': 0.5267},\n",
              " {'neg': 0.0, 'neu': 0.843, 'pos': 0.157, 'compound': 0.0772},\n",
              " {'neg': 0.0, 'neu': 1.0, 'pos': 0.0, 'compound': 0.0},\n",
              " {'neg': 0.0, 'neu': 0.838, 'pos': 0.162, 'compound': 0.7003},\n",
              " {'neg': 0.0, 'neu': 1.0, 'pos': 0.0, 'compound': 0.0},\n",
              " {'neg': 0.0, 'neu': 1.0, 'pos': 0.0, 'compound': 0.0},\n",
              " {'neg': 0.0, 'neu': 0.872, 'pos': 0.128, 'compound': 0.34},\n",
              " {'neg': 0.0, 'neu': 1.0, 'pos': 0.0, 'compound': 0.0},\n",
              " {'neg': 0.0, 'neu': 1.0, 'pos': 0.0, 'compound': 0.0},\n",
              " {'neg': 0.0, 'neu': 0.896, 'pos': 0.104, 'compound': 0.1027},\n",
              " {'neg': 0.0, 'neu': 1.0, 'pos': 0.0, 'compound': 0.0},\n",
              " {'neg': 0.172, 'neu': 0.828, 'pos': 0.0, 'compound': -0.6124},\n",
              " {'neg': 0.0, 'neu': 0.756, 'pos': 0.244, 'compound': 0.4404},\n",
              " {'neg': 0.524, 'neu': 0.476, 'pos': 0.0, 'compound': -0.5106},\n",
              " {'neg': 0.0, 'neu': 1.0, 'pos': 0.0, 'compound': 0.0},\n",
              " {'neg': 0.0, 'neu': 0.93, 'pos': 0.07, 'compound': 0.1655},\n",
              " {'neg': 0.0, 'neu': 1.0, 'pos': 0.0, 'compound': 0.0},\n",
              " {'neg': 0.0, 'neu': 1.0, 'pos': 0.0, 'compound': 0.0},\n",
              " {'neg': 0.394, 'neu': 0.606, 'pos': 0.0, 'compound': -0.0772},\n",
              " {'neg': 0.0, 'neu': 1.0, 'pos': 0.0, 'compound': 0.0},\n",
              " {'neg': 0.0, 'neu': 1.0, 'pos': 0.0, 'compound': 0.0},\n",
              " {'neg': 0.0, 'neu': 1.0, 'pos': 0.0, 'compound': 0.0},\n",
              " {'neg': 0.0, 'neu': 0.796, 'pos': 0.204, 'compound': 0.3182},\n",
              " {'neg': 0.0, 'neu': 0.591, 'pos': 0.409, 'compound': 0.2682},\n",
              " {'neg': 0.156, 'neu': 0.693, 'pos': 0.151, 'compound': -0.022},\n",
              " {'neg': 0.0, 'neu': 0.847, 'pos': 0.153, 'compound': 0.4404},\n",
              " {'neg': 0.0, 'neu': 1.0, 'pos': 0.0, 'compound': 0.0},\n",
              " {'neg': 0.0, 'neu': 1.0, 'pos': 0.0, 'compound': 0.0},\n",
              " {'neg': 0.0, 'neu': 0.783, 'pos': 0.217, 'compound': 0.6243},\n",
              " {'neg': 0.0, 'neu': 1.0, 'pos': 0.0, 'compound': 0.0},\n",
              " {'neg': 0.0, 'neu': 0.761, 'pos': 0.239, 'compound': 0.296},\n",
              " {'neg': 0.0, 'neu': 0.787, 'pos': 0.213, 'compound': 0.4215},\n",
              " {'neg': 0.0, 'neu': 1.0, 'pos': 0.0, 'compound': 0.0},\n",
              " {'neg': 0.0, 'neu': 0.839, 'pos': 0.161, 'compound': 0.3612},\n",
              " {'neg': 0.0, 'neu': 1.0, 'pos': 0.0, 'compound': 0.0},\n",
              " {'neg': 0.0, 'neu': 1.0, 'pos': 0.0, 'compound': 0.0},\n",
              " {'neg': 0.088, 'neu': 0.853, 'pos': 0.058, 'compound': -0.1685},\n",
              " {'neg': 0.0, 'neu': 0.787, 'pos': 0.213, 'compound': 0.2263},\n",
              " {'neg': 0.0, 'neu': 0.156, 'pos': 0.844, 'compound': 0.6597},\n",
              " {'neg': 0.0, 'neu': 0.796, 'pos': 0.204, 'compound': 0.3182},\n",
              " {'neg': 0.0, 'neu': 1.0, 'pos': 0.0, 'compound': 0.0},\n",
              " {'neg': 0.0, 'neu': 1.0, 'pos': 0.0, 'compound': 0.0},\n",
              " {'neg': 0.0, 'neu': 1.0, 'pos': 0.0, 'compound': 0.0},\n",
              " {'neg': 0.0, 'neu': 0.706, 'pos': 0.294, 'compound': 0.3612},\n",
              " {'neg': 0.0, 'neu': 0.833, 'pos': 0.167, 'compound': 0.1027},\n",
              " {'neg': 0.0, 'neu': 1.0, 'pos': 0.0, 'compound': 0.0},\n",
              " {'neg': 0.0, 'neu': 0.86, 'pos': 0.14, 'compound': 0.4767},\n",
              " {'neg': 0.0, 'neu': 1.0, 'pos': 0.0, 'compound': 0.0},\n",
              " {'neg': 0.0, 'neu': 0.408, 'pos': 0.592, 'compound': 0.4404},\n",
              " {'neg': 0.179, 'neu': 0.647, 'pos': 0.175, 'compound': -0.0164},\n",
              " {'neg': 0.0, 'neu': 1.0, 'pos': 0.0, 'compound': 0.0},\n",
              " {'neg': 0.0, 'neu': 1.0, 'pos': 0.0, 'compound': 0.0},\n",
              " {'neg': 0.0, 'neu': 1.0, 'pos': 0.0, 'compound': 0.0},\n",
              " {'neg': 0.0, 'neu': 0.625, 'pos': 0.375, 'compound': 0.765},\n",
              " {'neg': 0.0, 'neu': 1.0, 'pos': 0.0, 'compound': 0.0},\n",
              " {'neg': 0.0, 'neu': 0.782, 'pos': 0.218, 'compound': 0.6652},\n",
              " {'neg': 0.062, 'neu': 0.938, 'pos': 0.0, 'compound': -0.1027},\n",
              " {'neg': 0.0, 'neu': 0.87, 'pos': 0.13, 'compound': 0.6597},\n",
              " {'neg': 0.0, 'neu': 0.725, 'pos': 0.275, 'compound': 0.2263},\n",
              " {'neg': 0.0, 'neu': 1.0, 'pos': 0.0, 'compound': 0.0},\n",
              " {'neg': 0.0, 'neu': 1.0, 'pos': 0.0, 'compound': 0.0},\n",
              " {'neg': 0.0, 'neu': 1.0, 'pos': 0.0, 'compound': 0.0},\n",
              " {'neg': 0.0, 'neu': 0.0, 'pos': 1.0, 'compound': 0.2023},\n",
              " {'neg': 0.18, 'neu': 0.82, 'pos': 0.0, 'compound': -0.296},\n",
              " {'neg': 0.0, 'neu': 1.0, 'pos': 0.0, 'compound': 0.0},\n",
              " {'neg': 0.0, 'neu': 1.0, 'pos': 0.0, 'compound': 0.0},\n",
              " {'neg': 0.0, 'neu': 1.0, 'pos': 0.0, 'compound': 0.0},\n",
              " {'neg': 0.0, 'neu': 1.0, 'pos': 0.0, 'compound': 0.0},\n",
              " {'neg': 0.0, 'neu': 1.0, 'pos': 0.0, 'compound': 0.0},\n",
              " {'neg': 0.0, 'neu': 1.0, 'pos': 0.0, 'compound': 0.0},\n",
              " {'neg': 0.0, 'neu': 1.0, 'pos': 0.0, 'compound': 0.0},\n",
              " {'neg': 0.143, 'neu': 0.807, 'pos': 0.049, 'compound': -0.2732},\n",
              " {'neg': 0.0, 'neu': 0.886, 'pos': 0.114, 'compound': 0.2023},\n",
              " {'neg': 0.0, 'neu': 1.0, 'pos': 0.0, 'compound': 0.0},\n",
              " {'neg': 0.0, 'neu': 1.0, 'pos': 0.0, 'compound': 0.0},\n",
              " {'neg': 0.0, 'neu': 1.0, 'pos': 0.0, 'compound': 0.0},\n",
              " {'neg': 0.06, 'neu': 0.665, 'pos': 0.275, 'compound': 0.7053},\n",
              " {'neg': 0.0, 'neu': 0.645, 'pos': 0.355, 'compound': 0.296},\n",
              " {'neg': 0.0, 'neu': 1.0, 'pos': 0.0, 'compound': 0.0},\n",
              " {'neg': 0.0, 'neu': 0.872, 'pos': 0.128, 'compound': 0.296},\n",
              " {'neg': 0.0, 'neu': 0.741, 'pos': 0.259, 'compound': 0.2732},\n",
              " {'neg': 0.0, 'neu': 1.0, 'pos': 0.0, 'compound': 0.0},\n",
              " {'neg': 0.0, 'neu': 0.795, 'pos': 0.205, 'compound': 0.2023},\n",
              " {'neg': 0.0, 'neu': 1.0, 'pos': 0.0, 'compound': 0.0},\n",
              " {'neg': 0.0, 'neu': 1.0, 'pos': 0.0, 'compound': 0.0},\n",
              " {'neg': 0.0, 'neu': 1.0, 'pos': 0.0, 'compound': 0.0},\n",
              " {'neg': 0.209, 'neu': 0.699, 'pos': 0.091, 'compound': -0.4019},\n",
              " {'neg': 0.0, 'neu': 0.881, 'pos': 0.119, 'compound': 0.2263},\n",
              " {'neg': 0.0, 'neu': 0.704, 'pos': 0.296, 'compound': 0.7906},\n",
              " {'neg': 0.0, 'neu': 1.0, 'pos': 0.0, 'compound': 0.0},\n",
              " {'neg': 0.0, 'neu': 1.0, 'pos': 0.0, 'compound': 0.0},\n",
              " {'neg': 0.0, 'neu': 1.0, 'pos': 0.0, 'compound': 0.0},\n",
              " {'neg': 0.0, 'neu': 1.0, 'pos': 0.0, 'compound': 0.0},\n",
              " {'neg': 0.0, 'neu': 0.901, 'pos': 0.099, 'compound': 0.296},\n",
              " {'neg': 0.0, 'neu': 1.0, 'pos': 0.0, 'compound': 0.0},\n",
              " {'neg': 0.072, 'neu': 0.804, 'pos': 0.124, 'compound': 0.3818},\n",
              " {'neg': 0.102, 'neu': 0.898, 'pos': 0.0, 'compound': -0.0382},\n",
              " {'neg': 0.0, 'neu': 1.0, 'pos': 0.0, 'compound': 0.0},\n",
              " {'neg': 0.0, 'neu': 1.0, 'pos': 0.0, 'compound': 0.0},\n",
              " {'neg': 0.117, 'neu': 0.883, 'pos': 0.0, 'compound': -0.5719},\n",
              " {'neg': 0.216, 'neu': 0.784, 'pos': 0.0, 'compound': -0.296},\n",
              " {'neg': 0.0, 'neu': 1.0, 'pos': 0.0, 'compound': 0.0},\n",
              " {'neg': 0.0, 'neu': 0.931, 'pos': 0.069, 'compound': 0.3151},\n",
              " {'neg': 0.0, 'neu': 1.0, 'pos': 0.0, 'compound': 0.0},\n",
              " {'neg': 0.0, 'neu': 1.0, 'pos': 0.0, 'compound': 0.0},\n",
              " {'neg': 0.149, 'neu': 0.851, 'pos': 0.0, 'compound': -0.1027},\n",
              " {'neg': 0.0, 'neu': 1.0, 'pos': 0.0, 'compound': 0.0},\n",
              " {'neg': 0.0, 'neu': 1.0, 'pos': 0.0, 'compound': 0.0},\n",
              " {'neg': 0.358, 'neu': 0.642, 'pos': 0.0, 'compound': -0.8176},\n",
              " {'neg': 0.0, 'neu': 1.0, 'pos': 0.0, 'compound': 0.0},\n",
              " {'neg': 0.0, 'neu': 0.859, 'pos': 0.141, 'compound': 0.3182},\n",
              " {'neg': 0.138, 'neu': 0.862, 'pos': 0.0, 'compound': -0.4939},\n",
              " {'neg': 0.0, 'neu': 0.885, 'pos': 0.115, 'compound': 0.0772},\n",
              " {'neg': 0.0, 'neu': 1.0, 'pos': 0.0, 'compound': 0.0},\n",
              " {'neg': 0.0, 'neu': 1.0, 'pos': 0.0, 'compound': 0.0},\n",
              " {'neg': 0.103, 'neu': 0.897, 'pos': 0.0, 'compound': -0.1531},\n",
              " {'neg': 0.0, 'neu': 1.0, 'pos': 0.0, 'compound': 0.0},\n",
              " {'neg': 0.0, 'neu': 0.789, 'pos': 0.211, 'compound': 0.4939},\n",
              " {'neg': 0.0, 'neu': 1.0, 'pos': 0.0, 'compound': 0.0},\n",
              " {'neg': 0.0, 'neu': 1.0, 'pos': 0.0, 'compound': 0.0},\n",
              " {'neg': 0.0, 'neu': 0.851, 'pos': 0.149, 'compound': 0.2716},\n",
              " {'neg': 0.102, 'neu': 0.512, 'pos': 0.386, 'compound': 0.6249},\n",
              " {'neg': 0.192, 'neu': 0.808, 'pos': 0.0, 'compound': -0.2162},\n",
              " {'neg': 0.0, 'neu': 0.769, 'pos': 0.231, 'compound': 0.2732},\n",
              " {'neg': 0.0, 'neu': 1.0, 'pos': 0.0, 'compound': 0.0},\n",
              " {'neg': 0.0, 'neu': 0.859, 'pos': 0.141, 'compound': 0.4201},\n",
              " {'neg': 0.268, 'neu': 0.732, 'pos': 0.0, 'compound': -0.296},\n",
              " {'neg': 0.0, 'neu': 1.0, 'pos': 0.0, 'compound': 0.0},\n",
              " {'neg': 0.0, 'neu': 0.556, 'pos': 0.444, 'compound': 0.34},\n",
              " {'neg': 0.0, 'neu': 1.0, 'pos': 0.0, 'compound': 0.0},\n",
              " {'neg': 0.0, 'neu': 1.0, 'pos': 0.0, 'compound': 0.0},\n",
              " {'neg': 0.0, 'neu': 0.769, 'pos': 0.231, 'compound': 0.2732},\n",
              " {'neg': 0.0, 'neu': 1.0, 'pos': 0.0, 'compound': 0.0},\n",
              " {'neg': 0.0, 'neu': 1.0, 'pos': 0.0, 'compound': 0.0},\n",
              " {'neg': 0.0, 'neu': 1.0, 'pos': 0.0, 'compound': 0.0},\n",
              " {'neg': 0.174, 'neu': 0.826, 'pos': 0.0, 'compound': -0.2732},\n",
              " {'neg': 0.0, 'neu': 1.0, 'pos': 0.0, 'compound': 0.0},\n",
              " {'neg': 0.0, 'neu': 0.909, 'pos': 0.091, 'compound': 0.0772},\n",
              " {'neg': 0.0, 'neu': 0.662, 'pos': 0.338, 'compound': 0.6249},\n",
              " {'neg': 0.0, 'neu': 0.795, 'pos': 0.205, 'compound': 0.2023},\n",
              " {'neg': 0.0, 'neu': 0.878, 'pos': 0.122, 'compound': 0.2382},\n",
              " {'neg': 0.0, 'neu': 1.0, 'pos': 0.0, 'compound': 0.0},\n",
              " {'neg': 0.0, 'neu': 1.0, 'pos': 0.0, 'compound': 0.0},\n",
              " {'neg': 0.0, 'neu': 1.0, 'pos': 0.0, 'compound': 0.0},\n",
              " {'neg': 0.0, 'neu': 1.0, 'pos': 0.0, 'compound': 0.0},\n",
              " {'neg': 0.0, 'neu': 0.882, 'pos': 0.118, 'compound': 0.4215},\n",
              " {'neg': 0.0, 'neu': 1.0, 'pos': 0.0, 'compound': 0.0},\n",
              " {'neg': 0.0, 'neu': 1.0, 'pos': 0.0, 'compound': 0.0},\n",
              " {'neg': 0.0, 'neu': 1.0, 'pos': 0.0, 'compound': 0.0},\n",
              " {'neg': 0.0, 'neu': 1.0, 'pos': 0.0, 'compound': 0.0},\n",
              " {'neg': 0.0, 'neu': 0.845, 'pos': 0.155, 'compound': 0.5106},\n",
              " {'neg': 0.0, 'neu': 0.357, 'pos': 0.643, 'compound': 0.2023},\n",
              " {'neg': 0.0, 'neu': 0.95, 'pos': 0.05, 'compound': 0.1045},\n",
              " {'neg': 0.0, 'neu': 1.0, 'pos': 0.0, 'compound': 0.0},\n",
              " {'neg': 0.0, 'neu': 1.0, 'pos': 0.0, 'compound': 0.0},\n",
              " {'neg': 0.0, 'neu': 1.0, 'pos': 0.0, 'compound': 0.0},\n",
              " {'neg': 0.0, 'neu': 0.821, 'pos': 0.179, 'compound': 0.34},\n",
              " {'neg': 0.0, 'neu': 0.51, 'pos': 0.49, 'compound': 0.5859},\n",
              " {'neg': 0.0, 'neu': 1.0, 'pos': 0.0, 'compound': 0.0},\n",
              " {'neg': 0.0, 'neu': 1.0, 'pos': 0.0, 'compound': 0.0},\n",
              " {'neg': 0.091, 'neu': 0.868, 'pos': 0.042, 'compound': -0.3182},\n",
              " {'neg': 0.109, 'neu': 0.777, 'pos': 0.114, 'compound': 0.0276},\n",
              " {'neg': 0.166, 'neu': 0.834, 'pos': 0.0, 'compound': -0.3384},\n",
              " {'neg': 0.0, 'neu': 1.0, 'pos': 0.0, 'compound': 0.0},\n",
              " {'neg': 0.083, 'neu': 0.866, 'pos': 0.051, 'compound': -0.2023},\n",
              " {'neg': 0.0, 'neu': 1.0, 'pos': 0.0, 'compound': 0.0},\n",
              " {'neg': 0.0, 'neu': 0.794, 'pos': 0.206, 'compound': 0.0772},\n",
              " {'neg': 0.0, 'neu': 0.563, 'pos': 0.437, 'compound': 0.6369},\n",
              " {'neg': 0.0, 'neu': 1.0, 'pos': 0.0, 'compound': 0.0},\n",
              " {'neg': 0.0, 'neu': 1.0, 'pos': 0.0, 'compound': 0.0},\n",
              " {'neg': 0.175, 'neu': 0.583, 'pos': 0.242, 'compound': 0.2023},\n",
              " {'neg': 0.483, 'neu': 0.517, 'pos': 0.0, 'compound': -0.4215},\n",
              " {'neg': 0.0, 'neu': 1.0, 'pos': 0.0, 'compound': 0.0},\n",
              " {'neg': 0.0, 'neu': 1.0, 'pos': 0.0, 'compound': 0.0},\n",
              " {'neg': 0.0, 'neu': 0.444, 'pos': 0.556, 'compound': 0.3612},\n",
              " {'neg': 0.072, 'neu': 0.928, 'pos': 0.0, 'compound': -0.1027},\n",
              " {'neg': 0.0, 'neu': 1.0, 'pos': 0.0, 'compound': 0.0},\n",
              " {'neg': 0.0, 'neu': 0.725, 'pos': 0.275, 'compound': 0.2263},\n",
              " {'neg': 0.0, 'neu': 1.0, 'pos': 0.0, 'compound': 0.0},\n",
              " {'neg': 0.0, 'neu': 1.0, 'pos': 0.0, 'compound': 0.0},\n",
              " {'neg': 0.346, 'neu': 0.654, 'pos': 0.0, 'compound': -0.3919},\n",
              " {'neg': 0.073, 'neu': 0.927, 'pos': 0.0, 'compound': -0.2023},\n",
              " {'neg': 0.0, 'neu': 1.0, 'pos': 0.0, 'compound': 0.0},\n",
              " {'neg': 0.444, 'neu': 0.556, 'pos': 0.0, 'compound': -0.34},\n",
              " {'neg': 0.0, 'neu': 1.0, 'pos': 0.0, 'compound': 0.0},\n",
              " {'neg': 0.0, 'neu': 1.0, 'pos': 0.0, 'compound': 0.0},\n",
              " {'neg': 0.229, 'neu': 0.613, 'pos': 0.158, 'compound': -0.2333},\n",
              " {'neg': 0.0, 'neu': 1.0, 'pos': 0.0, 'compound': 0.0},\n",
              " {'neg': 0.0, 'neu': 0.843, 'pos': 0.157, 'compound': 0.4215},\n",
              " {'neg': 0.0, 'neu': 0.714, 'pos': 0.286, 'compound': 0.4215},\n",
              " {'neg': 0.0, 'neu': 1.0, 'pos': 0.0, 'compound': 0.0},\n",
              " {'neg': 0.0, 'neu': 1.0, 'pos': 0.0, 'compound': 0.0},\n",
              " {'neg': 0.0, 'neu': 0.555, 'pos': 0.445, 'compound': 0.3412},\n",
              " {'neg': 0.0, 'neu': 1.0, 'pos': 0.0, 'compound': 0.0},\n",
              " {'neg': 0.0, 'neu': 0.913, 'pos': 0.087, 'compound': 0.2263},\n",
              " {'neg': 0.0, 'neu': 1.0, 'pos': 0.0, 'compound': 0.0},\n",
              " {'neg': 0.0, 'neu': 1.0, 'pos': 0.0, 'compound': 0.0},\n",
              " {'neg': 0.0, 'neu': 0.913, 'pos': 0.087, 'compound': 0.296},\n",
              " {'neg': 0.197, 'neu': 0.63, 'pos': 0.173, 'compound': -0.0772},\n",
              " {'neg': 0.0, 'neu': 0.819, 'pos': 0.181, 'compound': 0.4767},\n",
              " {'neg': 0.0, 'neu': 1.0, 'pos': 0.0, 'compound': 0.0},\n",
              " {'neg': 0.0, 'neu': 1.0, 'pos': 0.0, 'compound': 0.0},\n",
              " {'neg': 0.0, 'neu': 1.0, 'pos': 0.0, 'compound': 0.0},\n",
              " {'neg': 0.0, 'neu': 0.6, 'pos': 0.4, 'compound': 0.7184},\n",
              " {'neg': 0.0, 'neu': 0.753, 'pos': 0.247, 'compound': 0.3841},\n",
              " {'neg': 0.0, 'neu': 0.914, 'pos': 0.086, 'compound': 0.1779},\n",
              " {'neg': 0.373, 'neu': 0.392, 'pos': 0.234, 'compound': -0.2648},\n",
              " {'neg': 0.0, 'neu': 1.0, 'pos': 0.0, 'compound': 0.0},\n",
              " {'neg': 0.0, 'neu': 0.84, 'pos': 0.16, 'compound': 0.2263},\n",
              " {'neg': 0.0, 'neu': 0.633, 'pos': 0.367, 'compound': 0.4404},\n",
              " {'neg': 0.0, 'neu': 0.892, 'pos': 0.108, 'compound': 0.3182},\n",
              " {'neg': 0.0, 'neu': 1.0, 'pos': 0.0, 'compound': 0.0},\n",
              " {'neg': 0.0, 'neu': 0.943, 'pos': 0.057, 'compound': 0.2732},\n",
              " {'neg': 0.0, 'neu': 0.883, 'pos': 0.117, 'compound': 0.5106},\n",
              " {'neg': 0.0, 'neu': 1.0, 'pos': 0.0, 'compound': 0.0},\n",
              " {'neg': 0.0, 'neu': 0.545, 'pos': 0.455, 'compound': 0.3612},\n",
              " {'neg': 0.0, 'neu': 1.0, 'pos': 0.0, 'compound': 0.0},\n",
              " {'neg': 0.0, 'neu': 1.0, 'pos': 0.0, 'compound': 0.0},\n",
              " {'neg': 0.0, 'neu': 1.0, 'pos': 0.0, 'compound': 0.0},\n",
              " {'neg': 0.0, 'neu': 0.58, 'pos': 0.42, 'compound': 0.4404},\n",
              " {'neg': 0.0, 'neu': 1.0, 'pos': 0.0, 'compound': 0.0},\n",
              " {'neg': 0.0, 'neu': 0.408, 'pos': 0.592, 'compound': 0.4404},\n",
              " {'neg': 0.0, 'neu': 1.0, 'pos': 0.0, 'compound': 0.0},\n",
              " {'neg': 0.0, 'neu': 1.0, 'pos': 0.0, 'compound': 0.0},\n",
              " {'neg': 0.0, 'neu': 0.732, 'pos': 0.268, 'compound': 0.5267},\n",
              " {'neg': 0.0, 'neu': 0.722, 'pos': 0.278, 'compound': 0.4019},\n",
              " {'neg': 0.0, 'neu': 1.0, 'pos': 0.0, 'compound': 0.0},\n",
              " {'neg': 0.0, 'neu': 0.675, 'pos': 0.325, 'compound': 0.6486},\n",
              " {'neg': 0.0, 'neu': 0.405, 'pos': 0.595, 'compound': 0.5267},\n",
              " {'neg': 0.0, 'neu': 1.0, 'pos': 0.0, 'compound': 0.0}]"
            ]
          },
          "metadata": {},
          "execution_count": 15
        }
      ]
    },
    {
      "cell_type": "code",
      "source": [
        "df = pd.DataFrame(stentiment_text_input)"
      ],
      "metadata": {
        "id": "yn_h37Yq7MQv"
      },
      "execution_count": 16,
      "outputs": []
    },
    {
      "cell_type": "code",
      "source": [
        "df"
      ],
      "metadata": {
        "colab": {
          "base_uri": "https://localhost:8080/",
          "height": 424
        },
        "id": "QvOreWuD7Qwe",
        "outputId": "ef707028-bf1b-4d3e-c5c6-8f87c754eeaf"
      },
      "execution_count": 17,
      "outputs": [
        {
          "output_type": "execute_result",
          "data": {
            "text/plain": [
              "       neg    neu    pos  compound\n",
              "0    0.000  1.000  0.000    0.0000\n",
              "1    0.000  0.789  0.211    0.4588\n",
              "2    0.136  0.568  0.295    0.4215\n",
              "3    0.000  0.833  0.167    0.4215\n",
              "4    0.147  0.853  0.000   -0.4767\n",
              "..     ...    ...    ...       ...\n",
              "501  0.000  0.722  0.278    0.4019\n",
              "502  0.000  1.000  0.000    0.0000\n",
              "503  0.000  0.675  0.325    0.6486\n",
              "504  0.000  0.405  0.595    0.5267\n",
              "505  0.000  1.000  0.000    0.0000\n",
              "\n",
              "[506 rows x 4 columns]"
            ],
            "text/html": [
              "\n",
              "  <div id=\"df-9cc5b9d0-597e-4469-bcdc-4211f2d30b1b\">\n",
              "    <div class=\"colab-df-container\">\n",
              "      <div>\n",
              "<style scoped>\n",
              "    .dataframe tbody tr th:only-of-type {\n",
              "        vertical-align: middle;\n",
              "    }\n",
              "\n",
              "    .dataframe tbody tr th {\n",
              "        vertical-align: top;\n",
              "    }\n",
              "\n",
              "    .dataframe thead th {\n",
              "        text-align: right;\n",
              "    }\n",
              "</style>\n",
              "<table border=\"1\" class=\"dataframe\">\n",
              "  <thead>\n",
              "    <tr style=\"text-align: right;\">\n",
              "      <th></th>\n",
              "      <th>neg</th>\n",
              "      <th>neu</th>\n",
              "      <th>pos</th>\n",
              "      <th>compound</th>\n",
              "    </tr>\n",
              "  </thead>\n",
              "  <tbody>\n",
              "    <tr>\n",
              "      <th>0</th>\n",
              "      <td>0.000</td>\n",
              "      <td>1.000</td>\n",
              "      <td>0.000</td>\n",
              "      <td>0.0000</td>\n",
              "    </tr>\n",
              "    <tr>\n",
              "      <th>1</th>\n",
              "      <td>0.000</td>\n",
              "      <td>0.789</td>\n",
              "      <td>0.211</td>\n",
              "      <td>0.4588</td>\n",
              "    </tr>\n",
              "    <tr>\n",
              "      <th>2</th>\n",
              "      <td>0.136</td>\n",
              "      <td>0.568</td>\n",
              "      <td>0.295</td>\n",
              "      <td>0.4215</td>\n",
              "    </tr>\n",
              "    <tr>\n",
              "      <th>3</th>\n",
              "      <td>0.000</td>\n",
              "      <td>0.833</td>\n",
              "      <td>0.167</td>\n",
              "      <td>0.4215</td>\n",
              "    </tr>\n",
              "    <tr>\n",
              "      <th>4</th>\n",
              "      <td>0.147</td>\n",
              "      <td>0.853</td>\n",
              "      <td>0.000</td>\n",
              "      <td>-0.4767</td>\n",
              "    </tr>\n",
              "    <tr>\n",
              "      <th>...</th>\n",
              "      <td>...</td>\n",
              "      <td>...</td>\n",
              "      <td>...</td>\n",
              "      <td>...</td>\n",
              "    </tr>\n",
              "    <tr>\n",
              "      <th>501</th>\n",
              "      <td>0.000</td>\n",
              "      <td>0.722</td>\n",
              "      <td>0.278</td>\n",
              "      <td>0.4019</td>\n",
              "    </tr>\n",
              "    <tr>\n",
              "      <th>502</th>\n",
              "      <td>0.000</td>\n",
              "      <td>1.000</td>\n",
              "      <td>0.000</td>\n",
              "      <td>0.0000</td>\n",
              "    </tr>\n",
              "    <tr>\n",
              "      <th>503</th>\n",
              "      <td>0.000</td>\n",
              "      <td>0.675</td>\n",
              "      <td>0.325</td>\n",
              "      <td>0.6486</td>\n",
              "    </tr>\n",
              "    <tr>\n",
              "      <th>504</th>\n",
              "      <td>0.000</td>\n",
              "      <td>0.405</td>\n",
              "      <td>0.595</td>\n",
              "      <td>0.5267</td>\n",
              "    </tr>\n",
              "    <tr>\n",
              "      <th>505</th>\n",
              "      <td>0.000</td>\n",
              "      <td>1.000</td>\n",
              "      <td>0.000</td>\n",
              "      <td>0.0000</td>\n",
              "    </tr>\n",
              "  </tbody>\n",
              "</table>\n",
              "<p>506 rows × 4 columns</p>\n",
              "</div>\n",
              "      <button class=\"colab-df-convert\" onclick=\"convertToInteractive('df-9cc5b9d0-597e-4469-bcdc-4211f2d30b1b')\"\n",
              "              title=\"Convert this dataframe to an interactive table.\"\n",
              "              style=\"display:none;\">\n",
              "        \n",
              "  <svg xmlns=\"http://www.w3.org/2000/svg\" height=\"24px\"viewBox=\"0 0 24 24\"\n",
              "       width=\"24px\">\n",
              "    <path d=\"M0 0h24v24H0V0z\" fill=\"none\"/>\n",
              "    <path d=\"M18.56 5.44l.94 2.06.94-2.06 2.06-.94-2.06-.94-.94-2.06-.94 2.06-2.06.94zm-11 1L8.5 8.5l.94-2.06 2.06-.94-2.06-.94L8.5 2.5l-.94 2.06-2.06.94zm10 10l.94 2.06.94-2.06 2.06-.94-2.06-.94-.94-2.06-.94 2.06-2.06.94z\"/><path d=\"M17.41 7.96l-1.37-1.37c-.4-.4-.92-.59-1.43-.59-.52 0-1.04.2-1.43.59L10.3 9.45l-7.72 7.72c-.78.78-.78 2.05 0 2.83L4 21.41c.39.39.9.59 1.41.59.51 0 1.02-.2 1.41-.59l7.78-7.78 2.81-2.81c.8-.78.8-2.07 0-2.86zM5.41 20L4 18.59l7.72-7.72 1.47 1.35L5.41 20z\"/>\n",
              "  </svg>\n",
              "      </button>\n",
              "      \n",
              "  <style>\n",
              "    .colab-df-container {\n",
              "      display:flex;\n",
              "      flex-wrap:wrap;\n",
              "      gap: 12px;\n",
              "    }\n",
              "\n",
              "    .colab-df-convert {\n",
              "      background-color: #E8F0FE;\n",
              "      border: none;\n",
              "      border-radius: 50%;\n",
              "      cursor: pointer;\n",
              "      display: none;\n",
              "      fill: #1967D2;\n",
              "      height: 32px;\n",
              "      padding: 0 0 0 0;\n",
              "      width: 32px;\n",
              "    }\n",
              "\n",
              "    .colab-df-convert:hover {\n",
              "      background-color: #E2EBFA;\n",
              "      box-shadow: 0px 1px 2px rgba(60, 64, 67, 0.3), 0px 1px 3px 1px rgba(60, 64, 67, 0.15);\n",
              "      fill: #174EA6;\n",
              "    }\n",
              "\n",
              "    [theme=dark] .colab-df-convert {\n",
              "      background-color: #3B4455;\n",
              "      fill: #D2E3FC;\n",
              "    }\n",
              "\n",
              "    [theme=dark] .colab-df-convert:hover {\n",
              "      background-color: #434B5C;\n",
              "      box-shadow: 0px 1px 3px 1px rgba(0, 0, 0, 0.15);\n",
              "      filter: drop-shadow(0px 1px 2px rgba(0, 0, 0, 0.3));\n",
              "      fill: #FFFFFF;\n",
              "    }\n",
              "  </style>\n",
              "\n",
              "      <script>\n",
              "        const buttonEl =\n",
              "          document.querySelector('#df-9cc5b9d0-597e-4469-bcdc-4211f2d30b1b button.colab-df-convert');\n",
              "        buttonEl.style.display =\n",
              "          google.colab.kernel.accessAllowed ? 'block' : 'none';\n",
              "\n",
              "        async function convertToInteractive(key) {\n",
              "          const element = document.querySelector('#df-9cc5b9d0-597e-4469-bcdc-4211f2d30b1b');\n",
              "          const dataTable =\n",
              "            await google.colab.kernel.invokeFunction('convertToInteractive',\n",
              "                                                     [key], {});\n",
              "          if (!dataTable) return;\n",
              "\n",
              "          const docLinkHtml = 'Like what you see? Visit the ' +\n",
              "            '<a target=\"_blank\" href=https://colab.research.google.com/notebooks/data_table.ipynb>data table notebook</a>'\n",
              "            + ' to learn more about interactive tables.';\n",
              "          element.innerHTML = '';\n",
              "          dataTable['output_type'] = 'display_data';\n",
              "          await google.colab.output.renderOutput(dataTable, element);\n",
              "          const docLink = document.createElement('div');\n",
              "          docLink.innerHTML = docLinkHtml;\n",
              "          element.appendChild(docLink);\n",
              "        }\n",
              "      </script>\n",
              "    </div>\n",
              "  </div>\n",
              "  "
            ]
          },
          "metadata": {},
          "execution_count": 17
        }
      ]
    },
    {
      "cell_type": "code",
      "source": [
        "# Create a column with paragraph numbers (starting with 1)\n",
        "df['paragraph_num'] = df.index + 1\n",
        "\n",
        "# Apply a rolling window on the compound and zlog score to smooth out noise\n",
        "# Downside is that the first and last elements will be NA\n",
        "df['smooth_compound'] = df['compound'].rolling(window=5, center=True, win_type='triang').mean()\n",
        "df.head()"
      ],
      "metadata": {
        "colab": {
          "base_uri": "https://localhost:8080/",
          "height": 206
        },
        "id": "eE_fM12i7cz9",
        "outputId": "37954231-db73-45f3-aef3-555e5237cb5d"
      },
      "execution_count": 18,
      "outputs": [
        {
          "output_type": "execute_result",
          "data": {
            "text/plain": [
              "     neg    neu    pos  compound  paragraph_num  smooth_compound\n",
              "0  0.000  1.000  0.000    0.0000              1              NaN\n",
              "1  0.000  0.789  0.211    0.4588              2              NaN\n",
              "2  0.136  0.568  0.295    0.4215              3         0.283156\n",
              "3  0.000  0.833  0.167    0.4215              4         0.251278\n",
              "4  0.147  0.853  0.000   -0.4767              5         0.125733"
            ],
            "text/html": [
              "\n",
              "  <div id=\"df-c7279c22-329f-4ad5-ad83-af98852213a3\">\n",
              "    <div class=\"colab-df-container\">\n",
              "      <div>\n",
              "<style scoped>\n",
              "    .dataframe tbody tr th:only-of-type {\n",
              "        vertical-align: middle;\n",
              "    }\n",
              "\n",
              "    .dataframe tbody tr th {\n",
              "        vertical-align: top;\n",
              "    }\n",
              "\n",
              "    .dataframe thead th {\n",
              "        text-align: right;\n",
              "    }\n",
              "</style>\n",
              "<table border=\"1\" class=\"dataframe\">\n",
              "  <thead>\n",
              "    <tr style=\"text-align: right;\">\n",
              "      <th></th>\n",
              "      <th>neg</th>\n",
              "      <th>neu</th>\n",
              "      <th>pos</th>\n",
              "      <th>compound</th>\n",
              "      <th>paragraph_num</th>\n",
              "      <th>smooth_compound</th>\n",
              "    </tr>\n",
              "  </thead>\n",
              "  <tbody>\n",
              "    <tr>\n",
              "      <th>0</th>\n",
              "      <td>0.000</td>\n",
              "      <td>1.000</td>\n",
              "      <td>0.000</td>\n",
              "      <td>0.0000</td>\n",
              "      <td>1</td>\n",
              "      <td>NaN</td>\n",
              "    </tr>\n",
              "    <tr>\n",
              "      <th>1</th>\n",
              "      <td>0.000</td>\n",
              "      <td>0.789</td>\n",
              "      <td>0.211</td>\n",
              "      <td>0.4588</td>\n",
              "      <td>2</td>\n",
              "      <td>NaN</td>\n",
              "    </tr>\n",
              "    <tr>\n",
              "      <th>2</th>\n",
              "      <td>0.136</td>\n",
              "      <td>0.568</td>\n",
              "      <td>0.295</td>\n",
              "      <td>0.4215</td>\n",
              "      <td>3</td>\n",
              "      <td>0.283156</td>\n",
              "    </tr>\n",
              "    <tr>\n",
              "      <th>3</th>\n",
              "      <td>0.000</td>\n",
              "      <td>0.833</td>\n",
              "      <td>0.167</td>\n",
              "      <td>0.4215</td>\n",
              "      <td>4</td>\n",
              "      <td>0.251278</td>\n",
              "    </tr>\n",
              "    <tr>\n",
              "      <th>4</th>\n",
              "      <td>0.147</td>\n",
              "      <td>0.853</td>\n",
              "      <td>0.000</td>\n",
              "      <td>-0.4767</td>\n",
              "      <td>5</td>\n",
              "      <td>0.125733</td>\n",
              "    </tr>\n",
              "  </tbody>\n",
              "</table>\n",
              "</div>\n",
              "      <button class=\"colab-df-convert\" onclick=\"convertToInteractive('df-c7279c22-329f-4ad5-ad83-af98852213a3')\"\n",
              "              title=\"Convert this dataframe to an interactive table.\"\n",
              "              style=\"display:none;\">\n",
              "        \n",
              "  <svg xmlns=\"http://www.w3.org/2000/svg\" height=\"24px\"viewBox=\"0 0 24 24\"\n",
              "       width=\"24px\">\n",
              "    <path d=\"M0 0h24v24H0V0z\" fill=\"none\"/>\n",
              "    <path d=\"M18.56 5.44l.94 2.06.94-2.06 2.06-.94-2.06-.94-.94-2.06-.94 2.06-2.06.94zm-11 1L8.5 8.5l.94-2.06 2.06-.94-2.06-.94L8.5 2.5l-.94 2.06-2.06.94zm10 10l.94 2.06.94-2.06 2.06-.94-2.06-.94-.94-2.06-.94 2.06-2.06.94z\"/><path d=\"M17.41 7.96l-1.37-1.37c-.4-.4-.92-.59-1.43-.59-.52 0-1.04.2-1.43.59L10.3 9.45l-7.72 7.72c-.78.78-.78 2.05 0 2.83L4 21.41c.39.39.9.59 1.41.59.51 0 1.02-.2 1.41-.59l7.78-7.78 2.81-2.81c.8-.78.8-2.07 0-2.86zM5.41 20L4 18.59l7.72-7.72 1.47 1.35L5.41 20z\"/>\n",
              "  </svg>\n",
              "      </button>\n",
              "      \n",
              "  <style>\n",
              "    .colab-df-container {\n",
              "      display:flex;\n",
              "      flex-wrap:wrap;\n",
              "      gap: 12px;\n",
              "    }\n",
              "\n",
              "    .colab-df-convert {\n",
              "      background-color: #E8F0FE;\n",
              "      border: none;\n",
              "      border-radius: 50%;\n",
              "      cursor: pointer;\n",
              "      display: none;\n",
              "      fill: #1967D2;\n",
              "      height: 32px;\n",
              "      padding: 0 0 0 0;\n",
              "      width: 32px;\n",
              "    }\n",
              "\n",
              "    .colab-df-convert:hover {\n",
              "      background-color: #E2EBFA;\n",
              "      box-shadow: 0px 1px 2px rgba(60, 64, 67, 0.3), 0px 1px 3px 1px rgba(60, 64, 67, 0.15);\n",
              "      fill: #174EA6;\n",
              "    }\n",
              "\n",
              "    [theme=dark] .colab-df-convert {\n",
              "      background-color: #3B4455;\n",
              "      fill: #D2E3FC;\n",
              "    }\n",
              "\n",
              "    [theme=dark] .colab-df-convert:hover {\n",
              "      background-color: #434B5C;\n",
              "      box-shadow: 0px 1px 3px 1px rgba(0, 0, 0, 0.15);\n",
              "      filter: drop-shadow(0px 1px 2px rgba(0, 0, 0, 0.3));\n",
              "      fill: #FFFFFF;\n",
              "    }\n",
              "  </style>\n",
              "\n",
              "      <script>\n",
              "        const buttonEl =\n",
              "          document.querySelector('#df-c7279c22-329f-4ad5-ad83-af98852213a3 button.colab-df-convert');\n",
              "        buttonEl.style.display =\n",
              "          google.colab.kernel.accessAllowed ? 'block' : 'none';\n",
              "\n",
              "        async function convertToInteractive(key) {\n",
              "          const element = document.querySelector('#df-c7279c22-329f-4ad5-ad83-af98852213a3');\n",
              "          const dataTable =\n",
              "            await google.colab.kernel.invokeFunction('convertToInteractive',\n",
              "                                                     [key], {});\n",
              "          if (!dataTable) return;\n",
              "\n",
              "          const docLinkHtml = 'Like what you see? Visit the ' +\n",
              "            '<a target=\"_blank\" href=https://colab.research.google.com/notebooks/data_table.ipynb>data table notebook</a>'\n",
              "            + ' to learn more about interactive tables.';\n",
              "          element.innerHTML = '';\n",
              "          dataTable['output_type'] = 'display_data';\n",
              "          await google.colab.output.renderOutput(dataTable, element);\n",
              "          const docLink = document.createElement('div');\n",
              "          docLink.innerHTML = docLinkHtml;\n",
              "          element.appendChild(docLink);\n",
              "        }\n",
              "      </script>\n",
              "    </div>\n",
              "  </div>\n",
              "  "
            ]
          },
          "metadata": {},
          "execution_count": 18
        }
      ]
    },
    {
      "cell_type": "code",
      "source": [
        "import seaborn as sns\n",
        "import matplotlib.pyplot as plt\n",
        "\n",
        "plt.rcParams['figure.figsize'] = [15, 6]\n",
        "\n",
        "blue = (0.2980392156862745, 0.4470588235294118, 0.6901960784313725)\n",
        "green = (0.3333333333333333, 0.6588235294117647, 0.40784313725490196)\n",
        "\n",
        "sns.set_style(\"white\")\n",
        "plt.xlabel('Paragraph')\n",
        "plt.ylabel('Sentiment')\n",
        "plt.xticks([])\n",
        "plt.yticks([])\n",
        "\n",
        "plt.fill_between(df.paragraph_num, 0, df.smooth_compound, alpha=0.5, where=df.smooth_compound >= 0, facecolor=green, interpolate=True)\n",
        "plt.fill_between(df.paragraph_num, 0, df.smooth_compound, alpha=0.5, where=df.smooth_compound < 0, facecolor=blue, interpolate=True)\n",
        "\n",
        "plt.axhline(linewidth=1.5, c='gray', alpha=0.3)\n",
        "\n",
        "with open('Fellowship.svg','wb') as svg_out:\n",
        "    plt.savefig(svg_out, format=\"svg\")\n",
        "\n",
        "plt.show()"
      ],
      "metadata": {
        "colab": {
          "base_uri": "https://localhost:8080/",
          "height": 371
        },
        "id": "r32WGYTt7gtN",
        "outputId": "048780e3-f937-4de3-961f-c9fe24d3ada1"
      },
      "execution_count": 19,
      "outputs": [
        {
          "output_type": "display_data",
          "data": {
            "text/plain": [
              "<Figure size 1080x432 with 1 Axes>"
            ],
            "image/png": "[encoded data removed]"
          },
          "metadata": {}
        }
      ]
    },
    {
      "cell_type": "code",
      "source": [
        "df['text'] = df_text_input[0]"
      ],
      "metadata": {
        "id": "VHIhPUsLAyBd"
      },
      "execution_count": 20,
      "outputs": []
    },
    {
      "cell_type": "code",
      "source": [
        "df"
      ],
      "metadata": {
        "colab": {
          "base_uri": "https://localhost:8080/",
          "height": 424
        },
        "id": "iTPWqoa77n19",
        "outputId": "8cbdfd03-c924-4857-e679-81f2d5cdf450"
      },
      "execution_count": 21,
      "outputs": [
        {
          "output_type": "execute_result",
          "data": {
            "text/plain": [
              "       neg    neu    pos  compound  paragraph_num  smooth_compound  \\\n",
              "0    0.000  1.000  0.000    0.0000              1              NaN   \n",
              "1    0.000  0.789  0.211    0.4588              2              NaN   \n",
              "2    0.136  0.568  0.295    0.4215              3         0.283156   \n",
              "3    0.000  0.833  0.167    0.4215              4         0.251278   \n",
              "4    0.147  0.853  0.000   -0.4767              5         0.125733   \n",
              "..     ...    ...    ...       ...            ...              ...   \n",
              "501  0.000  0.722  0.278    0.4019            502         0.323078   \n",
              "502  0.000  1.000  0.000    0.0000            503         0.350489   \n",
              "503  0.000  0.675  0.325    0.6486            504         0.377900   \n",
              "504  0.000  0.405  0.595    0.5267            505              NaN   \n",
              "505  0.000  1.000  0.000    0.0000            506              NaN   \n",
              "\n",
              "                                                  text  \n",
              "0                                   Evening everyone.   \n",
              "1    The federal reserve took a number of actions t...  \n",
              "2    And promote the flow credit as we weather disr...  \n",
              "3    Virus is having a profound effect on people ac...  \n",
              "4    I'll be half of my colleagues at the federal r...  \n",
              "..                                                 ...  \n",
              "501         As is appropriate to you know to support.   \n",
              "502             Borrowing and lending in the economy.   \n",
              "503  And an enhanced to support the availability of...  \n",
              "504                         Okay thank you very much.   \n",
              "505                                We're signing off.   \n",
              "\n",
              "[506 rows x 7 columns]"
            ],
            "text/html": [
              "\n",
              "  <div id=\"df-3d28200b-ca54-405d-9760-17457f0b8efc\">\n",
              "    <div class=\"colab-df-container\">\n",
              "      <div>\n",
              "<style scoped>\n",
              "    .dataframe tbody tr th:only-of-type {\n",
              "        vertical-align: middle;\n",
              "    }\n",
              "\n",
              "    .dataframe tbody tr th {\n",
              "        vertical-align: top;\n",
              "    }\n",
              "\n",
              "    .dataframe thead th {\n",
              "        text-align: right;\n",
              "    }\n",
              "</style>\n",
              "<table border=\"1\" class=\"dataframe\">\n",
              "  <thead>\n",
              "    <tr style=\"text-align: right;\">\n",
              "      <th></th>\n",
              "      <th>neg</th>\n",
              "      <th>neu</th>\n",
              "      <th>pos</th>\n",
              "      <th>compound</th>\n",
              "      <th>paragraph_num</th>\n",
              "      <th>smooth_compound</th>\n",
              "      <th>text</th>\n",
              "    </tr>\n",
              "  </thead>\n",
              "  <tbody>\n",
              "    <tr>\n",
              "      <th>0</th>\n",
              "      <td>0.000</td>\n",
              "      <td>1.000</td>\n",
              "      <td>0.000</td>\n",
              "      <td>0.0000</td>\n",
              "      <td>1</td>\n",
              "      <td>NaN</td>\n",
              "      <td>Evening everyone.</td>\n",
              "    </tr>\n",
              "    <tr>\n",
              "      <th>1</th>\n",
              "      <td>0.000</td>\n",
              "      <td>0.789</td>\n",
              "      <td>0.211</td>\n",
              "      <td>0.4588</td>\n",
              "      <td>2</td>\n",
              "      <td>NaN</td>\n",
              "      <td>The federal reserve took a number of actions t...</td>\n",
              "    </tr>\n",
              "    <tr>\n",
              "      <th>2</th>\n",
              "      <td>0.136</td>\n",
              "      <td>0.568</td>\n",
              "      <td>0.295</td>\n",
              "      <td>0.4215</td>\n",
              "      <td>3</td>\n",
              "      <td>0.283156</td>\n",
              "      <td>And promote the flow credit as we weather disr...</td>\n",
              "    </tr>\n",
              "    <tr>\n",
              "      <th>3</th>\n",
              "      <td>0.000</td>\n",
              "      <td>0.833</td>\n",
              "      <td>0.167</td>\n",
              "      <td>0.4215</td>\n",
              "      <td>4</td>\n",
              "      <td>0.251278</td>\n",
              "      <td>Virus is having a profound effect on people ac...</td>\n",
              "    </tr>\n",
              "    <tr>\n",
              "      <th>4</th>\n",
              "      <td>0.147</td>\n",
              "      <td>0.853</td>\n",
              "      <td>0.000</td>\n",
              "      <td>-0.4767</td>\n",
              "      <td>5</td>\n",
              "      <td>0.125733</td>\n",
              "      <td>I'll be half of my colleagues at the federal r...</td>\n",
              "    </tr>\n",
              "    <tr>\n",
              "      <th>...</th>\n",
              "      <td>...</td>\n",
              "      <td>...</td>\n",
              "      <td>...</td>\n",
              "      <td>...</td>\n",
              "      <td>...</td>\n",
              "      <td>...</td>\n",
              "      <td>...</td>\n",
              "    </tr>\n",
              "    <tr>\n",
              "      <th>501</th>\n",
              "      <td>0.000</td>\n",
              "      <td>0.722</td>\n",
              "      <td>0.278</td>\n",
              "      <td>0.4019</td>\n",
              "      <td>502</td>\n",
              "      <td>0.323078</td>\n",
              "      <td>As is appropriate to you know to support.</td>\n",
              "    </tr>\n",
              "    <tr>\n",
              "      <th>502</th>\n",
              "      <td>0.000</td>\n",
              "      <td>1.000</td>\n",
              "      <td>0.000</td>\n",
              "      <td>0.0000</td>\n",
              "      <td>503</td>\n",
              "      <td>0.350489</td>\n",
              "      <td>Borrowing and lending in the economy.</td>\n",
              "    </tr>\n",
              "    <tr>\n",
              "      <th>503</th>\n",
              "      <td>0.000</td>\n",
              "      <td>0.675</td>\n",
              "      <td>0.325</td>\n",
              "      <td>0.6486</td>\n",
              "      <td>504</td>\n",
              "      <td>0.377900</td>\n",
              "      <td>And an enhanced to support the availability of...</td>\n",
              "    </tr>\n",
              "    <tr>\n",
              "      <th>504</th>\n",
              "      <td>0.000</td>\n",
              "      <td>0.405</td>\n",
              "      <td>0.595</td>\n",
              "      <td>0.5267</td>\n",
              "      <td>505</td>\n",
              "      <td>NaN</td>\n",
              "      <td>Okay thank you very much.</td>\n",
              "    </tr>\n",
              "    <tr>\n",
              "      <th>505</th>\n",
              "      <td>0.000</td>\n",
              "      <td>1.000</td>\n",
              "      <td>0.000</td>\n",
              "      <td>0.0000</td>\n",
              "      <td>506</td>\n",
              "      <td>NaN</td>\n",
              "      <td>We're signing off.</td>\n",
              "    </tr>\n",
              "  </tbody>\n",
              "</table>\n",
              "<p>506 rows × 7 columns</p>\n",
              "</div>\n",
              "      <button class=\"colab-df-convert\" onclick=\"convertToInteractive('df-3d28200b-ca54-405d-9760-17457f0b8efc')\"\n",
              "              title=\"Convert this dataframe to an interactive table.\"\n",
              "              style=\"display:none;\">\n",
              "        \n",
              "  <svg xmlns=\"http://www.w3.org/2000/svg\" height=\"24px\"viewBox=\"0 0 24 24\"\n",
              "       width=\"24px\">\n",
              "    <path d=\"M0 0h24v24H0V0z\" fill=\"none\"/>\n",
              "    <path d=\"M18.56 5.44l.94 2.06.94-2.06 2.06-.94-2.06-.94-.94-2.06-.94 2.06-2.06.94zm-11 1L8.5 8.5l.94-2.06 2.06-.94-2.06-.94L8.5 2.5l-.94 2.06-2.06.94zm10 10l.94 2.06.94-2.06 2.06-.94-2.06-.94-.94-2.06-.94 2.06-2.06.94z\"/><path d=\"M17.41 7.96l-1.37-1.37c-.4-.4-.92-.59-1.43-.59-.52 0-1.04.2-1.43.59L10.3 9.45l-7.72 7.72c-.78.78-.78 2.05 0 2.83L4 21.41c.39.39.9.59 1.41.59.51 0 1.02-.2 1.41-.59l7.78-7.78 2.81-2.81c.8-.78.8-2.07 0-2.86zM5.41 20L4 18.59l7.72-7.72 1.47 1.35L5.41 20z\"/>\n",
              "  </svg>\n",
              "      </button>\n",
              "      \n",
              "  <style>\n",
              "    .colab-df-container {\n",
              "      display:flex;\n",
              "      flex-wrap:wrap;\n",
              "      gap: 12px;\n",
              "    }\n",
              "\n",
              "    .colab-df-convert {\n",
              "      background-color: #E8F0FE;\n",
              "      border: none;\n",
              "      border-radius: 50%;\n",
              "      cursor: pointer;\n",
              "      display: none;\n",
              "      fill: #1967D2;\n",
              "      height: 32px;\n",
              "      padding: 0 0 0 0;\n",
              "      width: 32px;\n",
              "    }\n",
              "\n",
              "    .colab-df-convert:hover {\n",
              "      background-color: #E2EBFA;\n",
              "      box-shadow: 0px 1px 2px rgba(60, 64, 67, 0.3), 0px 1px 3px 1px rgba(60, 64, 67, 0.15);\n",
              "      fill: #174EA6;\n",
              "    }\n",
              "\n",
              "    [theme=dark] .colab-df-convert {\n",
              "      background-color: #3B4455;\n",
              "      fill: #D2E3FC;\n",
              "    }\n",
              "\n",
              "    [theme=dark] .colab-df-convert:hover {\n",
              "      background-color: #434B5C;\n",
              "      box-shadow: 0px 1px 3px 1px rgba(0, 0, 0, 0.15);\n",
              "      filter: drop-shadow(0px 1px 2px rgba(0, 0, 0, 0.3));\n",
              "      fill: #FFFFFF;\n",
              "    }\n",
              "  </style>\n",
              "\n",
              "      <script>\n",
              "        const buttonEl =\n",
              "          document.querySelector('#df-3d28200b-ca54-405d-9760-17457f0b8efc button.colab-df-convert');\n",
              "        buttonEl.style.display =\n",
              "          google.colab.kernel.accessAllowed ? 'block' : 'none';\n",
              "\n",
              "        async function convertToInteractive(key) {\n",
              "          const element = document.querySelector('#df-3d28200b-ca54-405d-9760-17457f0b8efc');\n",
              "          const dataTable =\n",
              "            await google.colab.kernel.invokeFunction('convertToInteractive',\n",
              "                                                     [key], {});\n",
              "          if (!dataTable) return;\n",
              "\n",
              "          const docLinkHtml = 'Like what you see? Visit the ' +\n",
              "            '<a target=\"_blank\" href=https://colab.research.google.com/notebooks/data_table.ipynb>data table notebook</a>'\n",
              "            + ' to learn more about interactive tables.';\n",
              "          element.innerHTML = '';\n",
              "          dataTable['output_type'] = 'display_data';\n",
              "          await google.colab.output.renderOutput(dataTable, element);\n",
              "          const docLink = document.createElement('div');\n",
              "          docLink.innerHTML = docLinkHtml;\n",
              "          element.appendChild(docLink);\n",
              "        }\n",
              "      </script>\n",
              "    </div>\n",
              "  </div>\n",
              "  "
            ]
          },
          "metadata": {},
          "execution_count": 21
        }
      ]
    },
    {
      "cell_type": "code",
      "source": [
        "import plotly.graph_objects as go\n",
        "import numpy as np\n",
        "\n",
        "mask = df['smooth_compound'] >= 0\n",
        "df['mean_mask'] = df['smooth_compound'].mean()\n",
        "df['PnL_above'] = np.where(mask, df['smooth_compound'], 0)\n",
        "df['PnL_below'] = np.where(mask, 0, df['smooth_compound'])\n",
        "\n",
        "fig = go.Figure()\n",
        "fig.add_trace(go.Scatter(x=df.index, y=df['smooth_compound'], fill='tozeroy',\n",
        "                    name='Sentiment'))\n",
        "fig.add_trace(go.Scatter(x=df.index, y=df['mean_mask'],\n",
        "                    name='Mean Sentiment'))\n",
        "\n",
        "fig.update_layout(title='Sentiment Of '+filename,\n",
        "                   yaxis_title='Sentiment',\n",
        "                   xaxis_title='Paragraph')"
      ],
      "metadata": {
        "colab": {
          "base_uri": "https://localhost:8080/",
          "height": 542
        },
        "id": "m0GJlk_t_a6I",
        "outputId": "3282f4f2-0269-4f90-9831-78a608474cb1"
      },
      "execution_count": 24,
      "outputs": [
        {
          "output_type": "display_data",
          "data": {
            "text/html": [
              "<html>\n",
              "<head><meta charset=\"utf-8\" /></head>\n",
              "<body>\n",
              "    <div>            <script src=\"https://cdnjs.cloudflare.com/ajax/libs/mathjax/2.7.5/MathJax.js?config=TeX-AMS-MML_SVG\"></script><script type=\"text/javascript\">if (window.MathJax) {MathJax.Hub.Config({SVG: {font: \"STIX-Web\"}});}</script>                <script type=\"text/javascript\">window.PlotlyConfig = {MathJaxConfig: 'local'};</script>\n",
              "        <script src=\"https://cdn.plot.ly/plotly-2.8.3.min.js\"></script>                <div id=\"c642316c-61f2-4108-9c96-9dc406267c53\" class=\"plotly-graph-div\" style=\"height:525px; width:100%;\"></div>            <script type=\"text/javascript\">                                    window.PLOTLYENV=window.PLOTLYENV || {};                                    if (document.getElementById(\"c642316c-61f2-4108-9c96-9dc406267c53\")) {                    Plotly.newPlot(                        \"c642316c-61f2-4108-9c96-9dc406267c53\",                        [{\"fill\":\"tozeroy\",\"name\":\"Sentiment\",\"x\":[0,1,2,3,4,5,6,7,8,9,10,11,12,13,14,15,16,17,18,19,20,21,22,23,24,25,26,27,28,29,30,31,32,33,34,35,36,37,38,39,40,41,42,43,44,45,46,47,48,49,50,51,52,53,54,55,56,57,58,59,60,61,62,63,64,65,66,67,68,69,70,71,72,73,74,75,76,77,78,79,80,81,82,83,84,85,86,87,88,89,90,91,92,93,94,95,96,97,98,99,100,101,102,103,104,105,106,107,108,109,110,111,112,113,114,115,116,117,118,119,120,121,122,123,124,125,126,127,128,129,130,131,132,133,134,135,136,137,138,139,140,141,142,143,144,145,146,147,148,149,150,151,152,153,154,155,156,157,158,159,160,161,162,163,164,165,166,167,168,169,170,171,172,173,174,175,176,177,178,179,180,181,182,183,184,185,186,187,188,189,190,191,192,193,194,195,196,197,198,199,200,201,202,203,204,205,206,207,208,209,210,211,212,213,214,215,216,217,218,219,220,221,222,223,224,225,226,227,228,229,230,231,232,233,234,235,236,237,238,239,240,241,242,243,244,245,246,247,248,249,250,251,252,253,254,255,256,257,258,259,260,261,262,263,264,265,266,267,268,269,270,271,272,273,274,275,276,277,278,279,280,281,282,283,284,285,286,287,288,289,290,291,292,293,294,295,296,297,298,299,300,301,302,303,304,305,306,307,308,309,310,311,312,313,314,315,316,317,318,319,320,321,322,323,324,325,326,327,328,329,330,331,332,333,334,335,336,337,338,339,340,341,342,343,344,345,346,347,348,349,350,351,352,353,354,355,356,357,358,359,360,361,362,363,364,365,366,367,368,369,370,371,372,373,374,375,376,377,378,379,380,381,382,383,384,385,386,387,388,389,390,391,392,393,394,395,396,397,398,399,400,401,402,403,404,405,406,407,408,409,410,411,412,413,414,415,416,417,418,419,420,421,422,423,424,425,426,427,428,429,430,431,432,433,434,435,436,437,438,439,440,441,442,443,444,445,446,447,448,449,450,451,452,453,454,455,456,457,458,459,460,461,462,463,464,465,466,467,468,469,470,471,472,473,474,475,476,477,478,479,480,481,482,483,484,485,486,487,488,489,490,491,492,493,494,495,496,497,498,499,500,501,502,503,504,505],\"y\":[null,null,0.28315555555555555,0.25127777777777777,0.1257333333333333,0.19664444444444443,0.17025555555555552,0.1578111111111111,0.057966666666666666,0.09528888888888887,0.2408111111111111,0.38754444444444447,0.40407777777777776,0.30287777777777775,0.19925555555555552,0.1607333333333333,0.2367,0.2994666666666666,0.37223333333333336,0.3703,0.3320888888888888,0.2738777777777778,0.14886666666666667,0.06085555555555555,0.03957777777777779,0.1512777777777778,0.3331,0.4318111111111111,0.39769999999999994,0.27155555555555555,0.14143333333333333,0.05596666666666667,-0.02148888888888888,-0.10147777777777778,-0.12648888888888887,-0.1487888888888889,-0.13566666666666663,-0.15289999999999998,-0.1306,-0.08047777777777777,0.04584444444444444,0.15239999999999998,0.2286,0.15239999999999998,0.14129999999999998,0.08336666666666666,0.12140000000000001,0.02923333333333332,0.030733333333333335,0.05463333333333333,0.20556666666666668,0.2767777777777778,0.3288888888888889,0.2319888888888889,0.22334444444444446,0.1717333333333333,0.23234444444444444,0.21511111111111111,0.24406666666666665,0.28076666666666666,0.37283333333333335,0.4373888888888889,0.43616666666666665,0.46963333333333335,0.46513333333333334,0.49352222222222225,0.4472222222222222,0.45423333333333327,0.5196444444444445,0.5073888888888888,0.4627444444444444,0.2635222222222222,0.10514444444444442,-0.11715555555555557,-0.16084444444444443,-0.1887888888888889,-0.09918888888888888,-0.13667777777777776,-0.08243333333333333,-0.06354444444444445,0.0,0.0,-0.05673333333333334,-0.037822222222222236,0.023511111111111076,0.24296666666666664,0.3557888888888889,0.3459888888888889,0.19014444444444442,0.10231111111111107,0.18918888888888888,0.36314444444444444,0.41839999999999994,0.36483333333333334,0.25156666666666666,0.2601111111111111,0.24054444444444445,0.2131111111111111,0.03464444444444446,-0.10139999999999999,-0.13247777777777778,0.08615555555555555,0.3047888888888889,0.3991333333333334,0.3653555555555555,0.39512222222222215,0.434,0.45422222222222225,0.2963777777777777,0.12510000000000002,-0.10897777777777777,-0.2175222222222222,-0.22848888888888888,-0.09662222222222223,0.06419999999999998,0.17623333333333333,0.1441333333333333,0.07082222222222222,0.046444444444444434,0.1879333333333333,0.39701111111111115,0.5082222222222222,0.41206666666666675,0.19304444444444444,0.022955555555555545,-0.013799999999999998,-0.0026111111111111105,0.07662222222222222,0.1360888888888889,0.20413333333333336,0.1360888888888889,0.09318888888888888,0.09042222222222222,0.06330000000000001,0.07777777777777777,0.011988888888888863,0.1799333333333333,0.1892444444444444,0.23868888888888887,0.14028888888888888,0.13377777777777775,0.1674,0.20046666666666665,0.23353333333333334,0.18633333333333332,0.11084444444444445,0.12177777777777776,0.1953222222222222,0.3627444444444445,0.3797999999999999,0.40651111111111105,0.3161777777777778,0.2673111111111111,0.1804888888888889,0.15218888888888887,0.17654444444444442,0.16079999999999997,0.14505555555555555,0.11361111111111111,0.1252222222222222,0.16972222222222222,0.17756666666666665,0.2156888888888889,0.1880333333333333,0.20249999999999999,0.16214444444444442,0.11691111111111112,0.08913333333333333,0.11124444444444444,0.2088888888888889,0.23824444444444448,0.18037777777777775,0.13572222222222222,0.02836666666666664,0.028022222222222226,-0.04410000000000001,0.02202222222222222,0.04587777777777779,0.06035555555555555,0.030177777777777776,0.0,0.03535555555555555,0.09047777777777777,0.17595555555555553,0.2285,0.24151111111111112,0.27363333333333334,0.26555555555555554,0.3173777777777778,0.2399111111111111,0.1698666666666667,0.09162222222222223,0.1421333333333333,0.29892222222222226,0.27094444444444443,0.14509999999999998,-0.10223333333333334,-0.07818888888888888,-0.005211111111111101,0.11333333333333334,0.07555555555555556,0.03777777777777778,0.0,-0.017011111111111112,-0.11077777777777777,-0.17342222222222217,-0.2084,-0.08837777777777776,0.002288888888888891,0.08865555555555554,0.09528888888888888,0.12214444444444443,0.14264444444444443,0.19241111111111112,0.1930888888888889,0.22154444444444443,0.23457777777777777,0.33793333333333336,0.45516666666666666,0.5199111111111111,0.45291111111111104,0.27482222222222225,0.21942222222222219,0.21006666666666665,0.31495555555555554,0.3035222222222222,0.31456666666666666,0.28492222222222224,0.32007777777777774,0.35523333333333335,0.4151444444444445,0.38934444444444444,0.36354444444444445,0.23963333333333336,0.18061111111111108,0.1215888888888889,0.14836666666666665,0.09267777777777775,0.04576666666666666,-0.04285555555555556,-0.05267777777777777,-0.06304444444444444,0.00846666666666667,0.1366777777777778,0.23964444444444447,0.2669222222222222,0.1980666666666667,0.14622222222222223,0.15336666666666668,0.19340000000000002,0.23343333333333335,0.1885111111111111,0.16606666666666667,0.1436222222222222,0.18994444444444444,0.19131111111111113,0.1926777777777778,0.1902222222222222,0.21024444444444446,0.23026666666666665,0.1535111111111111,0.11453333333333333,0.10070000000000001,0.16362222222222222,0.1509888888888889,0.08806666666666667,0.04762222222222221,0.044955555555555554,0.06743333333333333,0.09777777777777778,0.12812222222222222,0.15846666666666667,0.13599999999999998,0.18157777777777775,0.28567777777777775,0.3904666666666667,0.3591666666666667,0.2886333333333333,0.23129999999999998,0.24201111111111115,0.19340000000000002,0.15336666666666668,0.11333333333333334,0.08696666666666668,0.06060000000000001,-0.03381111111111111,-0.06433333333333334,-0.1515888888888889,-0.10275555555555556,-0.12198888888888892,-0.02775555555555557,-0.00156666666666667,0.028200000000000003,0.001233333333333334,-0.025733333333333334,-0.017155555555555556,0.026777777777777775,0.1005111111111111,0.1632222222222222,0.20415555555555553,0.1854888888888889,0.17171111111111112,0.16478888888888887,0.18766666666666665,0.2409888888888889,0.2513444444444444,0.2617,0.24641111111111114,0.2068222222222222,0.16723333333333334,0.06154444444444445,0.02783333333333333,0.0674222222222222,0.21994444444444441,0.32217777777777773,0.27781111111111106,0.1440111111111111,0.07548888888888888,0.09167777777777779,0.14322222222222222,0.16746666666666665,0.16888888888888887,0.21924444444444444,0.20197777777777778,0.1961222222222222,0.09239999999999998,0.045288888888888885,0.08317777777777778,0.17,0.3289111111111111,0.30641111111111113,0.3572111111111111,0.2853333333333333,0.3212777777777778,0.21062222222222218,0.12358888888888887,0.04762222222222221,0.01206666666666667,0.0016555555555555674,-0.053711111111111105,-0.043299999999999984,-0.032888888888888884,0.0,0.0,0.0,-0.030355555555555552,-0.03823333333333333,-0.04611111111111111,0.006722222222222231,0.014600000000000002,0.10084444444444444,0.18962222222222222,0.3008777777777778,0.2882888888888889,0.24027777777777773,0.19226666666666667,0.1793222222222222,0.13855555555555554,0.09778888888888888,0.044955555555555554,-0.022177777777777772,-0.06416666666666666,0.004166666666666652,0.1618111111111111,0.26916666666666667,0.2008333333333333,0.08784444444444443,0.032888888888888884,0.06577777777777777,0.14108888888888887,0.14637777777777775,0.15166666666666664,0.07211111111111108,-0.029611111111111116,-0.1642222222222222,-0.2564111111111111,-0.19074444444444447,-0.05929999999999999,0.07214444444444444,0.05861111111111111,0.012188888888888888,-0.03423333333333333,-0.11366666666666665,-0.19309999999999997,-0.2371777777777778,-0.16585555555555553,-0.08595555555555555,-0.07676666666666669,-0.04866666666666667,-0.054733333333333335,-0.025444444444444447,0.0038444444444444372,0.07573333333333333,0.14762222222222224,0.13993333333333333,0.18466666666666667,0.20537777777777774,0.25096666666666667,0.15768888888888888,0.15913333333333332,0.09715555555555555,0.10461111111111111,0.032466666666666665,0.056455555555555564,0.08044444444444446,0.10591111111111111,0.09848888888888889,0.09106666666666667,0.060711111111111105,0.0,-0.060711111111111105,-0.08248888888888889,0.025877777777777777,0.15672222222222223,0.2968777777777778,0.26781111111111106,0.19378888888888887,0.07541111111111111,0.026466666666666666,0.04683333333333333,0.09366666666666666,0.14049999999999999,0.09366666666666666,0.04683333333333333,0.05673333333333334,0.13594444444444445,0.2267666666666667,0.20412222222222223,0.13652222222222224,0.0457,0.04938888888888889,0.14065555555555556,0.2435333333333333,0.27085555555555557,0.13262222222222222,-0.0025444444444444464,-0.1375333333333333,-0.1367111111111111,-0.1645,-0.11708888888888887,-0.09645555555555556,0.04296666666666666,0.14478888888888888,0.22945555555555555,0.17258888888888888,0.06888888888888887,-0.02623333333333332,-0.09554444444444443,-0.03105555555555554,0.02202222222222223,0.09757777777777778,0.07117777777777777,0.0676,0.06402222222222222,0.006744444444444442,-0.08442222222222222,-0.1755888888888889,-0.1923,-0.16405555555555554,-0.13581111111111113,-0.10147777777777778,-0.08962222222222223,-0.03093333333333334,0.08865555555555554,0.20824444444444445,0.23416666666666663,0.1784111111111111,0.12265555555555556,0.13887777777777777,0.1261111111111111,0.11334444444444443,0.08317777777777777,0.08234444444444443,0.13447777777777778,0.14597777777777776,0.17463333333333333,0.09735555555555554,0.13278888888888887,0.2023222222222222,0.3445888888888889,0.2977888888888889,0.16563333333333333,0.019088888888888888,0.06014444444444444,0.17923333333333333,0.2678,0.25943333333333335,0.23708888888888888,0.2398888888888889,0.2710444444444445,0.2240888888888889,0.17713333333333336,0.08026666666666667,0.08906666666666667,0.09786666666666666,0.19573333333333331,0.19573333333333331,0.19573333333333331,0.15638888888888888,0.2106333333333333,0.26487777777777777,0.32307777777777774,0.35048888888888885,0.37789999999999996,null,null],\"type\":\"scatter\"},{\"name\":\"Mean Sentiment\",\"x\":[0,1,2,3,4,5,6,7,8,9,10,11,12,13,14,15,16,17,18,19,20,21,22,23,24,25,26,27,28,29,30,31,32,33,34,35,36,37,38,39,40,41,42,43,44,45,46,47,48,49,50,51,52,53,54,55,56,57,58,59,60,61,62,63,64,65,66,67,68,69,70,71,72,73,74,75,76,77,78,79,80,81,82,83,84,85,86,87,88,89,90,91,92,93,94,95,96,97,98,99,100,101,102,103,104,105,106,107,108,109,110,111,112,113,114,115,116,117,118,119,120,121,122,123,124,125,126,127,128,129,130,131,132,133,134,135,136,137,138,139,140,141,142,143,144,145,146,147,148,149,150,151,152,153,154,155,156,157,158,159,160,161,162,163,164,165,166,167,168,169,170,171,172,173,174,175,176,177,178,179,180,181,182,183,184,185,186,187,188,189,190,191,192,193,194,195,196,197,198,199,200,201,202,203,204,205,206,207,208,209,210,211,212,213,214,215,216,217,218,219,220,221,222,223,224,225,226,227,228,229,230,231,232,233,234,235,236,237,238,239,240,241,242,243,244,245,246,247,248,249,250,251,252,253,254,255,256,257,258,259,260,261,262,263,264,265,266,267,268,269,270,271,272,273,274,275,276,277,278,279,280,281,282,283,284,285,286,287,288,289,290,291,292,293,294,295,296,297,298,299,300,301,302,303,304,305,306,307,308,309,310,311,312,313,314,315,316,317,318,319,320,321,322,323,324,325,326,327,328,329,330,331,332,333,334,335,336,337,338,339,340,341,342,343,344,345,346,347,348,349,350,351,352,353,354,355,356,357,358,359,360,361,362,363,364,365,366,367,368,369,370,371,372,373,374,375,376,377,378,379,380,381,382,383,384,385,386,387,388,389,390,391,392,393,394,395,396,397,398,399,400,401,402,403,404,405,406,407,408,409,410,411,412,413,414,415,416,417,418,419,420,421,422,423,424,425,426,427,428,429,430,431,432,433,434,435,436,437,438,439,440,441,442,443,444,445,446,447,448,449,450,451,452,453,454,455,456,457,458,459,460,461,462,463,464,465,466,467,468,469,470,471,472,473,474,475,476,477,478,479,480,481,482,483,484,485,486,487,488,489,490,491,492,493,494,495,496,497,498,499,500,501,502,503,504,505],\"y\":[0.133379614873838,0.133379614873838,0.133379614873838,0.133379614873838,0.133379614873838,0.133379614873838,0.133379614873838,0.133379614873838,0.133379614873838,0.133379614873838,0.133379614873838,0.133379614873838,0.133379614873838,0.133379614873838,0.133379614873838,0.133379614873838,0.133379614873838,0.133379614873838,0.133379614873838,0.133379614873838,0.133379614873838,0.133379614873838,0.133379614873838,0.133379614873838,0.133379614873838,0.133379614873838,0.133379614873838,0.133379614873838,0.133379614873838,0.133379614873838,0.133379614873838,0.133379614873838,0.133379614873838,0.133379614873838,0.133379614873838,0.133379614873838,0.133379614873838,0.133379614873838,0.133379614873838,0.133379614873838,0.133379614873838,0.133379614873838,0.133379614873838,0.133379614873838,0.133379614873838,0.133379614873838,0.133379614873838,0.133379614873838,0.133379614873838,0.133379614873838,0.133379614873838,0.133379614873838,0.133379614873838,0.133379614873838,0.133379614873838,0.133379614873838,0.133379614873838,0.133379614873838,0.133379614873838,0.133379614873838,0.133379614873838,0.133379614873838,0.133379614873838,0.133379614873838,0.133379614873838,0.133379614873838,0.133379614873838,0.133379614873838,0.133379614873838,0.133379614873838,0.133379614873838,0.133379614873838,0.133379614873838,0.133379614873838,0.133379614873838,0.133379614873838,0.133379614873838,0.133379614873838,0.133379614873838,0.133379614873838,0.133379614873838,0.133379614873838,0.133379614873838,0.133379614873838,0.133379614873838,0.133379614873838,0.133379614873838,0.133379614873838,0.133379614873838,0.133379614873838,0.133379614873838,0.133379614873838,0.133379614873838,0.133379614873838,0.133379614873838,0.133379614873838,0.133379614873838,0.133379614873838,0.133379614873838,0.133379614873838,0.133379614873838,0.133379614873838,0.133379614873838,0.133379614873838,0.133379614873838,0.133379614873838,0.133379614873838,0.133379614873838,0.133379614873838,0.133379614873838,0.133379614873838,0.133379614873838,0.133379614873838,0.133379614873838,0.133379614873838,0.133379614873838,0.133379614873838,0.133379614873838,0.133379614873838,0.133379614873838,0.133379614873838,0.133379614873838,0.133379614873838,0.133379614873838,0.133379614873838,0.133379614873838,0.133379614873838,0.133379614873838,0.133379614873838,0.133379614873838,0.133379614873838,0.133379614873838,0.133379614873838,0.133379614873838,0.133379614873838,0.133379614873838,0.133379614873838,0.133379614873838,0.133379614873838,0.133379614873838,0.133379614873838,0.133379614873838,0.133379614873838,0.133379614873838,0.133379614873838,0.133379614873838,0.133379614873838,0.133379614873838,0.133379614873838,0.133379614873838,0.133379614873838,0.133379614873838,0.133379614873838,0.133379614873838,0.133379614873838,0.133379614873838,0.133379614873838,0.133379614873838,0.133379614873838,0.133379614873838,0.133379614873838,0.133379614873838,0.133379614873838,0.133379614873838,0.133379614873838,0.133379614873838,0.133379614873838,0.133379614873838,0.133379614873838,0.133379614873838,0.133379614873838,0.133379614873838,0.133379614873838,0.133379614873838,0.133379614873838,0.133379614873838,0.133379614873838,0.133379614873838,0.133379614873838,0.133379614873838,0.133379614873838,0.133379614873838,0.133379614873838,0.133379614873838,0.133379614873838,0.133379614873838,0.133379614873838,0.133379614873838,0.133379614873838,0.133379614873838,0.133379614873838,0.133379614873838,0.133379614873838,0.133379614873838,0.133379614873838,0.133379614873838,0.133379614873838,0.133379614873838,0.133379614873838,0.133379614873838,0.133379614873838,0.133379614873838,0.133379614873838,0.133379614873838,0.133379614873838,0.133379614873838,0.133379614873838,0.133379614873838,0.133379614873838,0.133379614873838,0.133379614873838,0.133379614873838,0.133379614873838,0.133379614873838,0.133379614873838,0.133379614873838,0.133379614873838,0.133379614873838,0.133379614873838,0.133379614873838,0.133379614873838,0.133379614873838,0.133379614873838,0.133379614873838,0.133379614873838,0.133379614873838,0.133379614873838,0.133379614873838,0.133379614873838,0.133379614873838,0.133379614873838,0.133379614873838,0.133379614873838,0.133379614873838,0.133379614873838,0.133379614873838,0.133379614873838,0.133379614873838,0.133379614873838,0.133379614873838,0.133379614873838,0.133379614873838,0.133379614873838,0.133379614873838,0.133379614873838,0.133379614873838,0.133379614873838,0.133379614873838,0.133379614873838,0.133379614873838,0.133379614873838,0.133379614873838,0.133379614873838,0.133379614873838,0.133379614873838,0.133379614873838,0.133379614873838,0.133379614873838,0.133379614873838,0.133379614873838,0.133379614873838,0.133379614873838,0.133379614873838,0.133379614873838,0.133379614873838,0.133379614873838,0.133379614873838,0.133379614873838,0.133379614873838,0.133379614873838,0.133379614873838,0.133379614873838,0.133379614873838,0.133379614873838,0.133379614873838,0.133379614873838,0.133379614873838,0.133379614873838,0.133379614873838,0.133379614873838,0.133379614873838,0.133379614873838,0.133379614873838,0.133379614873838,0.133379614873838,0.133379614873838,0.133379614873838,0.133379614873838,0.133379614873838,0.133379614873838,0.133379614873838,0.133379614873838,0.133379614873838,0.133379614873838,0.133379614873838,0.133379614873838,0.133379614873838,0.133379614873838,0.133379614873838,0.133379614873838,0.133379614873838,0.133379614873838,0.133379614873838,0.133379614873838,0.133379614873838,0.133379614873838,0.133379614873838,0.133379614873838,0.133379614873838,0.133379614873838,0.133379614873838,0.133379614873838,0.133379614873838,0.133379614873838,0.133379614873838,0.133379614873838,0.133379614873838,0.133379614873838,0.133379614873838,0.133379614873838,0.133379614873838,0.133379614873838,0.133379614873838,0.133379614873838,0.133379614873838,0.133379614873838,0.133379614873838,0.133379614873838,0.133379614873838,0.133379614873838,0.133379614873838,0.133379614873838,0.133379614873838,0.133379614873838,0.133379614873838,0.133379614873838,0.133379614873838,0.133379614873838,0.133379614873838,0.133379614873838,0.133379614873838,0.133379614873838,0.133379614873838,0.133379614873838,0.133379614873838,0.133379614873838,0.133379614873838,0.133379614873838,0.133379614873838,0.133379614873838,0.133379614873838,0.133379614873838,0.133379614873838,0.133379614873838,0.133379614873838,0.133379614873838,0.133379614873838,0.133379614873838,0.133379614873838,0.133379614873838,0.133379614873838,0.133379614873838,0.133379614873838,0.133379614873838,0.133379614873838,0.133379614873838,0.133379614873838,0.133379614873838,0.133379614873838,0.133379614873838,0.133379614873838,0.133379614873838,0.133379614873838,0.133379614873838,0.133379614873838,0.133379614873838,0.133379614873838,0.133379614873838,0.133379614873838,0.133379614873838,0.133379614873838,0.133379614873838,0.133379614873838,0.133379614873838,0.133379614873838,0.133379614873838,0.133379614873838,0.133379614873838,0.133379614873838,0.133379614873838,0.133379614873838,0.133379614873838,0.133379614873838,0.133379614873838,0.133379614873838,0.133379614873838,0.133379614873838,0.133379614873838,0.133379614873838,0.133379614873838,0.133379614873838,0.133379614873838,0.133379614873838,0.133379614873838,0.133379614873838,0.133379614873838,0.133379614873838,0.133379614873838,0.133379614873838,0.133379614873838,0.133379614873838,0.133379614873838,0.133379614873838,0.133379614873838,0.133379614873838,0.133379614873838,0.133379614873838,0.133379614873838,0.133379614873838,0.133379614873838,0.133379614873838,0.133379614873838,0.133379614873838,0.133379614873838,0.133379614873838,0.133379614873838,0.133379614873838,0.133379614873838,0.133379614873838,0.133379614873838,0.133379614873838,0.133379614873838,0.133379614873838,0.133379614873838,0.133379614873838,0.133379614873838,0.133379614873838,0.133379614873838,0.133379614873838,0.133379614873838,0.133379614873838,0.133379614873838,0.133379614873838,0.133379614873838,0.133379614873838,0.133379614873838,0.133379614873838,0.133379614873838,0.133379614873838,0.133379614873838,0.133379614873838,0.133379614873838,0.133379614873838,0.133379614873838,0.133379614873838,0.133379614873838,0.133379614873838,0.133379614873838,0.133379614873838,0.133379614873838,0.133379614873838,0.133379614873838,0.133379614873838,0.133379614873838,0.133379614873838,0.133379614873838,0.133379614873838,0.133379614873838,0.133379614873838,0.133379614873838,0.133379614873838,0.133379614873838,0.133379614873838,0.133379614873838,0.133379614873838,0.133379614873838,0.133379614873838,0.133379614873838,0.133379614873838,0.133379614873838,0.133379614873838,0.133379614873838,0.133379614873838,0.133379614873838,0.133379614873838,0.133379614873838,0.133379614873838,0.133379614873838,0.133379614873838,0.133379614873838,0.133379614873838,0.133379614873838,0.133379614873838,0.133379614873838,0.133379614873838,0.133379614873838,0.133379614873838,0.133379614873838,0.133379614873838,0.133379614873838,0.133379614873838,0.133379614873838,0.133379614873838,0.133379614873838,0.133379614873838,0.133379614873838],\"type\":\"scatter\"}],                        {\"template\":{\"data\":{\"bar\":[{\"error_x\":{\"color\":\"#2a3f5f\"},\"error_y\":{\"color\":\"#2a3f5f\"},\"marker\":{\"line\":{\"color\":\"#E5ECF6\",\"width\":0.5},\"pattern\":{\"fillmode\":\"overlay\",\"size\":10,\"solidity\":0.2}},\"type\":\"bar\"}],\"barpolar\":[{\"marker\":{\"line\":{\"color\":\"#E5ECF6\",\"width\":0.5},\"pattern\":{\"fillmode\":\"overlay\",\"size\":10,\"solidity\":0.2}},\"type\":\"barpolar\"}],\"carpet\":[{\"aaxis\":{\"endlinecolor\":\"#2a3f5f\",\"gridcolor\":\"white\",\"linecolor\":\"white\",\"minorgridcolor\":\"white\",\"startlinecolor\":\"#2a3f5f\"},\"baxis\":{\"endlinecolor\":\"#2a3f5f\",\"gridcolor\":\"white\",\"linecolor\":\"white\",\"minorgridcolor\":\"white\",\"startlinecolor\":\"#2a3f5f\"},\"type\":\"carpet\"}],\"choropleth\":[{\"colorbar\":{\"outlinewidth\":0,\"ticks\":\"\"},\"type\":\"choropleth\"}],\"contour\":[{\"colorbar\":{\"outlinewidth\":0,\"ticks\":\"\"},\"colorscale\":[[0.0,\"#0d0887\"],[0.1111111111111111,\"#46039f\"],[0.2222222222222222,\"#7201a8\"],[0.3333333333333333,\"#9c179e\"],[0.4444444444444444,\"#bd3786\"],[0.5555555555555556,\"#d8576b\"],[0.6666666666666666,\"#ed7953\"],[0.7777777777777778,\"#fb9f3a\"],[0.8888888888888888,\"#fdca26\"],[1.0,\"#f0f921\"]],\"type\":\"contour\"}],\"contourcarpet\":[{\"colorbar\":{\"outlinewidth\":0,\"ticks\":\"\"},\"type\":\"contourcarpet\"}],\"heatmap\":[{\"colorbar\":{\"outlinewidth\":0,\"ticks\":\"\"},\"colorscale\":[[0.0,\"#0d0887\"],[0.1111111111111111,\"#46039f\"],[0.2222222222222222,\"#7201a8\"],[0.3333333333333333,\"#9c179e\"],[0.4444444444444444,\"#bd3786\"],[0.5555555555555556,\"#d8576b\"],[0.6666666666666666,\"#ed7953\"],[0.7777777777777778,\"#fb9f3a\"],[0.8888888888888888,\"#fdca26\"],[1.0,\"#f0f921\"]],\"type\":\"heatmap\"}],\"heatmapgl\":[{\"colorbar\":{\"outlinewidth\":0,\"ticks\":\"\"},\"colorscale\":[[0.0,\"#0d0887\"],[0.1111111111111111,\"#46039f\"],[0.2222222222222222,\"#7201a8\"],[0.3333333333333333,\"#9c179e\"],[0.4444444444444444,\"#bd3786\"],[0.5555555555555556,\"#d8576b\"],[0.6666666666666666,\"#ed7953\"],[0.7777777777777778,\"#fb9f3a\"],[0.8888888888888888,\"#fdca26\"],[1.0,\"#f0f921\"]],\"type\":\"heatmapgl\"}],\"histogram\":[{\"marker\":{\"pattern\":{\"fillmode\":\"overlay\",\"size\":10,\"solidity\":0.2}},\"type\":\"histogram\"}],\"histogram2d\":[{\"colorbar\":{\"outlinewidth\":0,\"ticks\":\"\"},\"colorscale\":[[0.0,\"#0d0887\"],[0.1111111111111111,\"#46039f\"],[0.2222222222222222,\"#7201a8\"],[0.3333333333333333,\"#9c179e\"],[0.4444444444444444,\"#bd3786\"],[0.5555555555555556,\"#d8576b\"],[0.6666666666666666,\"#ed7953\"],[0.7777777777777778,\"#fb9f3a\"],[0.8888888888888888,\"#fdca26\"],[1.0,\"#f0f921\"]],\"type\":\"histogram2d\"}],\"histogram2dcontour\":[{\"colorbar\":{\"outlinewidth\":0,\"ticks\":\"\"},\"colorscale\":[[0.0,\"#0d0887\"],[0.1111111111111111,\"#46039f\"],[0.2222222222222222,\"#7201a8\"],[0.3333333333333333,\"#9c179e\"],[0.4444444444444444,\"#bd3786\"],[0.5555555555555556,\"#d8576b\"],[0.6666666666666666,\"#ed7953\"],[0.7777777777777778,\"#fb9f3a\"],[0.8888888888888888,\"#fdca26\"],[1.0,\"#f0f921\"]],\"type\":\"histogram2dcontour\"}],\"mesh3d\":[{\"colorbar\":{\"outlinewidth\":0,\"ticks\":\"\"},\"type\":\"mesh3d\"}],\"parcoords\":[{\"line\":{\"colorbar\":{\"outlinewidth\":0,\"ticks\":\"\"}},\"type\":\"parcoords\"}],\"pie\":[{\"automargin\":true,\"type\":\"pie\"}],\"scatter\":[{\"marker\":{\"colorbar\":{\"outlinewidth\":0,\"ticks\":\"\"}},\"type\":\"scatter\"}],\"scatter3d\":[{\"line\":{\"colorbar\":{\"outlinewidth\":0,\"ticks\":\"\"}},\"marker\":{\"colorbar\":{\"outlinewidth\":0,\"ticks\":\"\"}},\"type\":\"scatter3d\"}],\"scattercarpet\":[{\"marker\":{\"colorbar\":{\"outlinewidth\":0,\"ticks\":\"\"}},\"type\":\"scattercarpet\"}],\"scattergeo\":[{\"marker\":{\"colorbar\":{\"outlinewidth\":0,\"ticks\":\"\"}},\"type\":\"scattergeo\"}],\"scattergl\":[{\"marker\":{\"colorbar\":{\"outlinewidth\":0,\"ticks\":\"\"}},\"type\":\"scattergl\"}],\"scattermapbox\":[{\"marker\":{\"colorbar\":{\"outlinewidth\":0,\"ticks\":\"\"}},\"type\":\"scattermapbox\"}],\"scatterpolar\":[{\"marker\":{\"colorbar\":{\"outlinewidth\":0,\"ticks\":\"\"}},\"type\":\"scatterpolar\"}],\"scatterpolargl\":[{\"marker\":{\"colorbar\":{\"outlinewidth\":0,\"ticks\":\"\"}},\"type\":\"scatterpolargl\"}],\"scatterternary\":[{\"marker\":{\"colorbar\":{\"outlinewidth\":0,\"ticks\":\"\"}},\"type\":\"scatterternary\"}],\"surface\":[{\"colorbar\":{\"outlinewidth\":0,\"ticks\":\"\"},\"colorscale\":[[0.0,\"#0d0887\"],[0.1111111111111111,\"#46039f\"],[0.2222222222222222,\"#7201a8\"],[0.3333333333333333,\"#9c179e\"],[0.4444444444444444,\"#bd3786\"],[0.5555555555555556,\"#d8576b\"],[0.6666666666666666,\"#ed7953\"],[0.7777777777777778,\"#fb9f3a\"],[0.8888888888888888,\"#fdca26\"],[1.0,\"#f0f921\"]],\"type\":\"surface\"}],\"table\":[{\"cells\":{\"fill\":{\"color\":\"#EBF0F8\"},\"line\":{\"color\":\"white\"}},\"header\":{\"fill\":{\"color\":\"#C8D4E3\"},\"line\":{\"color\":\"white\"}},\"type\":\"table\"}]},\"layout\":{\"annotationdefaults\":{\"arrowcolor\":\"#2a3f5f\",\"arrowhead\":0,\"arrowwidth\":1},\"autotypenumbers\":\"strict\",\"coloraxis\":{\"colorbar\":{\"outlinewidth\":0,\"ticks\":\"\"}},\"colorscale\":{\"diverging\":[[0,\"#8e0152\"],[0.1,\"#c51b7d\"],[0.2,\"#de77ae\"],[0.3,\"#f1b6da\"],[0.4,\"#fde0ef\"],[0.5,\"#f7f7f7\"],[0.6,\"#e6f5d0\"],[0.7,\"#b8e186\"],[0.8,\"#7fbc41\"],[0.9,\"#4d9221\"],[1,\"#276419\"]],\"sequential\":[[0.0,\"#0d0887\"],[0.1111111111111111,\"#46039f\"],[0.2222222222222222,\"#7201a8\"],[0.3333333333333333,\"#9c179e\"],[0.4444444444444444,\"#bd3786\"],[0.5555555555555556,\"#d8576b\"],[0.6666666666666666,\"#ed7953\"],[0.7777777777777778,\"#fb9f3a\"],[0.8888888888888888,\"#fdca26\"],[1.0,\"#f0f921\"]],\"sequentialminus\":[[0.0,\"#0d0887\"],[0.1111111111111111,\"#46039f\"],[0.2222222222222222,\"#7201a8\"],[0.3333333333333333,\"#9c179e\"],[0.4444444444444444,\"#bd3786\"],[0.5555555555555556,\"#d8576b\"],[0.6666666666666666,\"#ed7953\"],[0.7777777777777778,\"#fb9f3a\"],[0.8888888888888888,\"#fdca26\"],[1.0,\"#f0f921\"]]},\"colorway\":[\"#636efa\",\"#EF553B\",\"#00cc96\",\"#ab63fa\",\"#FFA15A\",\"#19d3f3\",\"#FF6692\",\"#B6E880\",\"#FF97FF\",\"#FECB52\"],\"font\":{\"color\":\"#2a3f5f\"},\"geo\":{\"bgcolor\":\"white\",\"lakecolor\":\"white\",\"landcolor\":\"#E5ECF6\",\"showlakes\":true,\"showland\":true,\"subunitcolor\":\"white\"},\"hoverlabel\":{\"align\":\"left\"},\"hovermode\":\"closest\",\"mapbox\":{\"style\":\"light\"},\"paper_bgcolor\":\"white\",\"plot_bgcolor\":\"#E5ECF6\",\"polar\":{\"angularaxis\":{\"gridcolor\":\"white\",\"linecolor\":\"white\",\"ticks\":\"\"},\"bgcolor\":\"#E5ECF6\",\"radialaxis\":{\"gridcolor\":\"white\",\"linecolor\":\"white\",\"ticks\":\"\"}},\"scene\":{\"xaxis\":{\"backgroundcolor\":\"#E5ECF6\",\"gridcolor\":\"white\",\"gridwidth\":2,\"linecolor\":\"white\",\"showbackground\":true,\"ticks\":\"\",\"zerolinecolor\":\"white\"},\"yaxis\":{\"backgroundcolor\":\"#E5ECF6\",\"gridcolor\":\"white\",\"gridwidth\":2,\"linecolor\":\"white\",\"showbackground\":true,\"ticks\":\"\",\"zerolinecolor\":\"white\"},\"zaxis\":{\"backgroundcolor\":\"#E5ECF6\",\"gridcolor\":\"white\",\"gridwidth\":2,\"linecolor\":\"white\",\"showbackground\":true,\"ticks\":\"\",\"zerolinecolor\":\"white\"}},\"shapedefaults\":{\"line\":{\"color\":\"#2a3f5f\"}},\"ternary\":{\"aaxis\":{\"gridcolor\":\"white\",\"linecolor\":\"white\",\"ticks\":\"\"},\"baxis\":{\"gridcolor\":\"white\",\"linecolor\":\"white\",\"ticks\":\"\"},\"bgcolor\":\"#E5ECF6\",\"caxis\":{\"gridcolor\":\"white\",\"linecolor\":\"white\",\"ticks\":\"\"}},\"title\":{\"x\":0.05},\"xaxis\":{\"automargin\":true,\"gridcolor\":\"white\",\"linecolor\":\"white\",\"ticks\":\"\",\"title\":{\"standoff\":15},\"zerolinecolor\":\"white\",\"zerolinewidth\":2},\"yaxis\":{\"automargin\":true,\"gridcolor\":\"white\",\"linecolor\":\"white\",\"ticks\":\"\",\"title\":{\"standoff\":15},\"zerolinecolor\":\"white\",\"zerolinewidth\":2}}},\"title\":{\"text\":\"Sentiment Of /content/FOMC_Press_Conference_Call_March_15_2020-qhspIpGMaX4.\"},\"yaxis\":{\"title\":{\"text\":\"Sentiment\"}},\"xaxis\":{\"title\":{\"text\":\"Paragraph\"}}},                        {\"responsive\": true}                    ).then(function(){\n",
              "                            \n",
              "var gd = document.getElementById('c642316c-61f2-4108-9c96-9dc406267c53');\n",
              "var x = new MutationObserver(function (mutations, observer) {{\n",
              "        var display = window.getComputedStyle(gd).display;\n",
              "        if (!display || display === 'none') {{\n",
              "            console.log([gd, 'removed!']);\n",
              "            Plotly.purge(gd);\n",
              "            observer.disconnect();\n",
              "        }}\n",
              "}});\n",
              "\n",
              "// Listen for the removal of the full notebook cells\n",
              "var notebookContainer = gd.closest('#notebook-container');\n",
              "if (notebookContainer) {{\n",
              "    x.observe(notebookContainer, {childList: true});\n",
              "}}\n",
              "\n",
              "// Listen for the clearing of the current output cell\n",
              "var outputEl = gd.closest('.output');\n",
              "if (outputEl) {{\n",
              "    x.observe(outputEl, {childList: true});\n",
              "}}\n",
              "\n",
              "                        })                };                            </script>        </div>\n",
              "</body>\n",
              "</html>"
            ]
          },
          "metadata": {}
        }
      ]
    },
    {
      "cell_type": "code",
      "source": [
        "import pandas as pd\n",
        "import plotly.graph_objects as go\n",
        "import numpy as np\n",
        "\n",
        "\n",
        "df[\"Color\"] = np.where(df['smooth_compound']<0, 'red', 'green')\n",
        "# Plot\n",
        "\n",
        "fig = go.Figure()\n",
        "fig.add_trace(\n",
        "    go.Bar(name='text',\n",
        "           x=df.index,\n",
        "           y=df['smooth_compound'],\n",
        "           marker_color=df['Color']))\n",
        "fig.add_trace(go.Scatter(x=df.index, y=df['mean_mask'],\n",
        "                    name='Mean Sentiment'))\n",
        "fig.update_layout(title='Sentiment Of '+filename,\n",
        "                   yaxis_title='Sentiment',\n",
        "                   xaxis_title='Paragraph')\n",
        "fig.show()"
      ],
      "metadata": {
        "colab": {
          "base_uri": "https://localhost:8080/",
          "height": 542
        },
        "id": "uz6B31OAFVZW",
        "outputId": "c0f392f2-ac46-4e5a-894a-5f718f60cbdc"
      },
      "execution_count": 25,
      "outputs": [
        {
          "output_type": "display_data",
          "data": {
            "text/html": [
              "<html>\n",
              "<head><meta charset=\"utf-8\" /></head>\n",
              "<body>\n",
              "    <div>            <script src=\"https://cdnjs.cloudflare.com/ajax/libs/mathjax/2.7.5/MathJax.js?config=TeX-AMS-MML_SVG\"></script><script type=\"text/javascript\">if (window.MathJax) {MathJax.Hub.Config({SVG: {font: \"STIX-Web\"}});}</script>                <script type=\"text/javascript\">window.PlotlyConfig = {MathJaxConfig: 'local'};</script>\n",
              "        <script src=\"https://cdn.plot.ly/plotly-2.8.3.min.js\"></script>                <div id=\"fa80ce03-0754-4c7c-97c7-c149c720641d\" class=\"plotly-graph-div\" style=\"height:525px; width:100%;\"></div>            <script type=\"text/javascript\">                                    window.PLOTLYENV=window.PLOTLYENV || {};                                    if (document.getElementById(\"fa80ce03-0754-4c7c-97c7-c149c720641d\")) {                    Plotly.newPlot(                        \"fa80ce03-0754-4c7c-97c7-c149c720641d\",                        [{\"marker\":{\"color\":[\"green\",\"green\",\"green\",\"green\",\"green\",\"green\",\"green\",\"green\",\"green\",\"green\",\"green\",\"green\",\"green\",\"green\",\"green\",\"green\",\"green\",\"green\",\"green\",\"green\",\"green\",\"green\",\"green\",\"green\",\"green\",\"green\",\"green\",\"green\",\"green\",\"green\",\"green\",\"green\",\"red\",\"red\",\"red\",\"red\",\"red\",\"red\",\"red\",\"red\",\"green\",\"green\",\"green\",\"green\",\"green\",\"green\",\"green\",\"green\",\"green\",\"green\",\"green\",\"green\",\"green\",\"green\",\"green\",\"green\",\"green\",\"green\",\"green\",\"green\",\"green\",\"green\",\"green\",\"green\",\"green\",\"green\",\"green\",\"green\",\"green\",\"green\",\"green\",\"green\",\"green\",\"red\",\"red\",\"red\",\"red\",\"red\",\"red\",\"red\",\"green\",\"green\",\"red\",\"red\",\"green\",\"green\",\"green\",\"green\",\"green\",\"green\",\"green\",\"green\",\"green\",\"green\",\"green\",\"green\",\"green\",\"green\",\"green\",\"red\",\"red\",\"green\",\"green\",\"green\",\"green\",\"green\",\"green\",\"green\",\"green\",\"green\",\"red\",\"red\",\"red\",\"red\",\"green\",\"green\",\"green\",\"green\",\"green\",\"green\",\"green\",\"green\",\"green\",\"green\",\"green\",\"red\",\"red\",\"green\",\"green\",\"green\",\"green\",\"green\",\"green\",\"green\",\"green\",\"green\",\"green\",\"green\",\"green\",\"green\",\"green\",\"green\",\"green\",\"green\",\"green\",\"green\",\"green\",\"green\",\"green\",\"green\",\"green\",\"green\",\"green\",\"green\",\"green\",\"green\",\"green\",\"green\",\"green\",\"green\",\"green\",\"green\",\"green\",\"green\",\"green\",\"green\",\"green\",\"green\",\"green\",\"green\",\"green\",\"green\",\"green\",\"green\",\"green\",\"red\",\"green\",\"green\",\"green\",\"green\",\"green\",\"green\",\"green\",\"green\",\"green\",\"green\",\"green\",\"green\",\"green\",\"green\",\"green\",\"green\",\"green\",\"green\",\"green\",\"green\",\"red\",\"red\",\"red\",\"green\",\"green\",\"green\",\"green\",\"red\",\"red\",\"red\",\"red\",\"red\",\"green\",\"green\",\"green\",\"green\",\"green\",\"green\",\"green\",\"green\",\"green\",\"green\",\"green\",\"green\",\"green\",\"green\",\"green\",\"green\",\"green\",\"green\",\"green\",\"green\",\"green\",\"green\",\"green\",\"green\",\"green\",\"green\",\"green\",\"green\",\"green\",\"green\",\"green\",\"red\",\"red\",\"red\",\"green\",\"green\",\"green\",\"green\",\"green\",\"green\",\"green\",\"green\",\"green\",\"green\",\"green\",\"green\",\"green\",\"green\",\"green\",\"green\",\"green\",\"green\",\"green\",\"green\",\"green\",\"green\",\"green\",\"green\",\"green\",\"green\",\"green\",\"green\",\"green\",\"green\",\"green\",\"green\",\"green\",\"green\",\"green\",\"green\",\"green\",\"green\",\"green\",\"green\",\"green\",\"green\",\"green\",\"red\",\"red\",\"red\",\"red\",\"red\",\"red\",\"red\",\"green\",\"green\",\"red\",\"red\",\"green\",\"green\",\"green\",\"green\",\"green\",\"green\",\"green\",\"green\",\"green\",\"green\",\"green\",\"green\",\"green\",\"green\",\"green\",\"green\",\"green\",\"green\",\"green\",\"green\",\"green\",\"green\",\"green\",\"green\",\"green\",\"green\",\"green\",\"green\",\"green\",\"green\",\"green\",\"green\",\"green\",\"green\",\"green\",\"green\",\"green\",\"green\",\"green\",\"green\",\"green\",\"green\",\"green\",\"red\",\"red\",\"red\",\"green\",\"green\",\"green\",\"red\",\"red\",\"red\",\"green\",\"green\",\"green\",\"green\",\"green\",\"green\",\"green\",\"green\",\"green\",\"green\",\"green\",\"green\",\"red\",\"red\",\"green\",\"green\",\"green\",\"green\",\"green\",\"green\",\"green\",\"green\",\"green\",\"green\",\"green\",\"red\",\"red\",\"red\",\"red\",\"red\",\"green\",\"green\",\"green\",\"red\",\"red\",\"red\",\"red\",\"red\",\"red\",\"red\",\"red\",\"red\",\"red\",\"green\",\"green\",\"green\",\"green\",\"green\",\"green\",\"green\",\"green\",\"green\",\"green\",\"green\",\"green\",\"green\",\"green\",\"green\",\"green\",\"green\",\"green\",\"green\",\"red\",\"red\",\"green\",\"green\",\"green\",\"green\",\"green\",\"green\",\"green\",\"green\",\"green\",\"green\",\"green\",\"green\",\"green\",\"green\",\"green\",\"green\",\"green\",\"green\",\"green\",\"green\",\"green\",\"green\",\"green\",\"red\",\"red\",\"red\",\"red\",\"red\",\"red\",\"green\",\"green\",\"green\",\"green\",\"green\",\"red\",\"red\",\"red\",\"green\",\"green\",\"green\",\"green\",\"green\",\"green\",\"red\",\"red\",\"red\",\"red\",\"red\",\"red\",\"red\",\"red\",\"green\",\"green\",\"green\",\"green\",\"green\",\"green\",\"green\",\"green\",\"green\",\"green\",\"green\",\"green\",\"green\",\"green\",\"green\",\"green\",\"green\",\"green\",\"green\",\"green\",\"green\",\"green\",\"green\",\"green\",\"green\",\"green\",\"green\",\"green\",\"green\",\"green\",\"green\",\"green\",\"green\",\"green\",\"green\",\"green\",\"green\",\"green\",\"green\",\"green\",\"green\",\"green\",\"green\"]},\"name\":\"text\",\"x\":[0,1,2,3,4,5,6,7,8,9,10,11,12,13,14,15,16,17,18,19,20,21,22,23,24,25,26,27,28,29,30,31,32,33,34,35,36,37,38,39,40,41,42,43,44,45,46,47,48,49,50,51,52,53,54,55,56,57,58,59,60,61,62,63,64,65,66,67,68,69,70,71,72,73,74,75,76,77,78,79,80,81,82,83,84,85,86,87,88,89,90,91,92,93,94,95,96,97,98,99,100,101,102,103,104,105,106,107,108,109,110,111,112,113,114,115,116,117,118,119,120,121,122,123,124,125,126,127,128,129,130,131,132,133,134,135,136,137,138,139,140,141,142,143,144,145,146,147,148,149,150,151,152,153,154,155,156,157,158,159,160,161,162,163,164,165,166,167,168,169,170,171,172,173,174,175,176,177,178,179,180,181,182,183,184,185,186,187,188,189,190,191,192,193,194,195,196,197,198,199,200,201,202,203,204,205,206,207,208,209,210,211,212,213,214,215,216,217,218,219,220,221,222,223,224,225,226,227,228,229,230,231,232,233,234,235,236,237,238,239,240,241,242,243,244,245,246,247,248,249,250,251,252,253,254,255,256,257,258,259,260,261,262,263,264,265,266,267,268,269,270,271,272,273,274,275,276,277,278,279,280,281,282,283,284,285,286,287,288,289,290,291,292,293,294,295,296,297,298,299,300,301,302,303,304,305,306,307,308,309,310,311,312,313,314,315,316,317,318,319,320,321,322,323,324,325,326,327,328,329,330,331,332,333,334,335,336,337,338,339,340,341,342,343,344,345,346,347,348,349,350,351,352,353,354,355,356,357,358,359,360,361,362,363,364,365,366,367,368,369,370,371,372,373,374,375,376,377,378,379,380,381,382,383,384,385,386,387,388,389,390,391,392,393,394,395,396,397,398,399,400,401,402,403,404,405,406,407,408,409,410,411,412,413,414,415,416,417,418,419,420,421,422,423,424,425,426,427,428,429,430,431,432,433,434,435,436,437,438,439,440,441,442,443,444,445,446,447,448,449,450,451,452,453,454,455,456,457,458,459,460,461,462,463,464,465,466,467,468,469,470,471,472,473,474,475,476,477,478,479,480,481,482,483,484,485,486,487,488,489,490,491,492,493,494,495,496,497,498,499,500,501,502,503,504,505],\"y\":[null,null,0.28315555555555555,0.25127777777777777,0.1257333333333333,0.19664444444444443,0.17025555555555552,0.1578111111111111,0.057966666666666666,0.09528888888888887,0.2408111111111111,0.38754444444444447,0.40407777777777776,0.30287777777777775,0.19925555555555552,0.1607333333333333,0.2367,0.2994666666666666,0.37223333333333336,0.3703,0.3320888888888888,0.2738777777777778,0.14886666666666667,0.06085555555555555,0.03957777777777779,0.1512777777777778,0.3331,0.4318111111111111,0.39769999999999994,0.27155555555555555,0.14143333333333333,0.05596666666666667,-0.02148888888888888,-0.10147777777777778,-0.12648888888888887,-0.1487888888888889,-0.13566666666666663,-0.15289999999999998,-0.1306,-0.08047777777777777,0.04584444444444444,0.15239999999999998,0.2286,0.15239999999999998,0.14129999999999998,0.08336666666666666,0.12140000000000001,0.02923333333333332,0.030733333333333335,0.05463333333333333,0.20556666666666668,0.2767777777777778,0.3288888888888889,0.2319888888888889,0.22334444444444446,0.1717333333333333,0.23234444444444444,0.21511111111111111,0.24406666666666665,0.28076666666666666,0.37283333333333335,0.4373888888888889,0.43616666666666665,0.46963333333333335,0.46513333333333334,0.49352222222222225,0.4472222222222222,0.45423333333333327,0.5196444444444445,0.5073888888888888,0.4627444444444444,0.2635222222222222,0.10514444444444442,-0.11715555555555557,-0.16084444444444443,-0.1887888888888889,-0.09918888888888888,-0.13667777777777776,-0.08243333333333333,-0.06354444444444445,0.0,0.0,-0.05673333333333334,-0.037822222222222236,0.023511111111111076,0.24296666666666664,0.3557888888888889,0.3459888888888889,0.19014444444444442,0.10231111111111107,0.18918888888888888,0.36314444444444444,0.41839999999999994,0.36483333333333334,0.25156666666666666,0.2601111111111111,0.24054444444444445,0.2131111111111111,0.03464444444444446,-0.10139999999999999,-0.13247777777777778,0.08615555555555555,0.3047888888888889,0.3991333333333334,0.3653555555555555,0.39512222222222215,0.434,0.45422222222222225,0.2963777777777777,0.12510000000000002,-0.10897777777777777,-0.2175222222222222,-0.22848888888888888,-0.09662222222222223,0.06419999999999998,0.17623333333333333,0.1441333333333333,0.07082222222222222,0.046444444444444434,0.1879333333333333,0.39701111111111115,0.5082222222222222,0.41206666666666675,0.19304444444444444,0.022955555555555545,-0.013799999999999998,-0.0026111111111111105,0.07662222222222222,0.1360888888888889,0.20413333333333336,0.1360888888888889,0.09318888888888888,0.09042222222222222,0.06330000000000001,0.07777777777777777,0.011988888888888863,0.1799333333333333,0.1892444444444444,0.23868888888888887,0.14028888888888888,0.13377777777777775,0.1674,0.20046666666666665,0.23353333333333334,0.18633333333333332,0.11084444444444445,0.12177777777777776,0.1953222222222222,0.3627444444444445,0.3797999999999999,0.40651111111111105,0.3161777777777778,0.2673111111111111,0.1804888888888889,0.15218888888888887,0.17654444444444442,0.16079999999999997,0.14505555555555555,0.11361111111111111,0.1252222222222222,0.16972222222222222,0.17756666666666665,0.2156888888888889,0.1880333333333333,0.20249999999999999,0.16214444444444442,0.11691111111111112,0.08913333333333333,0.11124444444444444,0.2088888888888889,0.23824444444444448,0.18037777777777775,0.13572222222222222,0.02836666666666664,0.028022222222222226,-0.04410000000000001,0.02202222222222222,0.04587777777777779,0.06035555555555555,0.030177777777777776,0.0,0.03535555555555555,0.09047777777777777,0.17595555555555553,0.2285,0.24151111111111112,0.27363333333333334,0.26555555555555554,0.3173777777777778,0.2399111111111111,0.1698666666666667,0.09162222222222223,0.1421333333333333,0.29892222222222226,0.27094444444444443,0.14509999999999998,-0.10223333333333334,-0.07818888888888888,-0.005211111111111101,0.11333333333333334,0.07555555555555556,0.03777777777777778,0.0,-0.017011111111111112,-0.11077777777777777,-0.17342222222222217,-0.2084,-0.08837777777777776,0.002288888888888891,0.08865555555555554,0.09528888888888888,0.12214444444444443,0.14264444444444443,0.19241111111111112,0.1930888888888889,0.22154444444444443,0.23457777777777777,0.33793333333333336,0.45516666666666666,0.5199111111111111,0.45291111111111104,0.27482222222222225,0.21942222222222219,0.21006666666666665,0.31495555555555554,0.3035222222222222,0.31456666666666666,0.28492222222222224,0.32007777777777774,0.35523333333333335,0.4151444444444445,0.38934444444444444,0.36354444444444445,0.23963333333333336,0.18061111111111108,0.1215888888888889,0.14836666666666665,0.09267777777777775,0.04576666666666666,-0.04285555555555556,-0.05267777777777777,-0.06304444444444444,0.00846666666666667,0.1366777777777778,0.23964444444444447,0.2669222222222222,0.1980666666666667,0.14622222222222223,0.15336666666666668,0.19340000000000002,0.23343333333333335,0.1885111111111111,0.16606666666666667,0.1436222222222222,0.18994444444444444,0.19131111111111113,0.1926777777777778,0.1902222222222222,0.21024444444444446,0.23026666666666665,0.1535111111111111,0.11453333333333333,0.10070000000000001,0.16362222222222222,0.1509888888888889,0.08806666666666667,0.04762222222222221,0.044955555555555554,0.06743333333333333,0.09777777777777778,0.12812222222222222,0.15846666666666667,0.13599999999999998,0.18157777777777775,0.28567777777777775,0.3904666666666667,0.3591666666666667,0.2886333333333333,0.23129999999999998,0.24201111111111115,0.19340000000000002,0.15336666666666668,0.11333333333333334,0.08696666666666668,0.06060000000000001,-0.03381111111111111,-0.06433333333333334,-0.1515888888888889,-0.10275555555555556,-0.12198888888888892,-0.02775555555555557,-0.00156666666666667,0.028200000000000003,0.001233333333333334,-0.025733333333333334,-0.017155555555555556,0.026777777777777775,0.1005111111111111,0.1632222222222222,0.20415555555555553,0.1854888888888889,0.17171111111111112,0.16478888888888887,0.18766666666666665,0.2409888888888889,0.2513444444444444,0.2617,0.24641111111111114,0.2068222222222222,0.16723333333333334,0.06154444444444445,0.02783333333333333,0.0674222222222222,0.21994444444444441,0.32217777777777773,0.27781111111111106,0.1440111111111111,0.07548888888888888,0.09167777777777779,0.14322222222222222,0.16746666666666665,0.16888888888888887,0.21924444444444444,0.20197777777777778,0.1961222222222222,0.09239999999999998,0.045288888888888885,0.08317777777777778,0.17,0.3289111111111111,0.30641111111111113,0.3572111111111111,0.2853333333333333,0.3212777777777778,0.21062222222222218,0.12358888888888887,0.04762222222222221,0.01206666666666667,0.0016555555555555674,-0.053711111111111105,-0.043299999999999984,-0.032888888888888884,0.0,0.0,0.0,-0.030355555555555552,-0.03823333333333333,-0.04611111111111111,0.006722222222222231,0.014600000000000002,0.10084444444444444,0.18962222222222222,0.3008777777777778,0.2882888888888889,0.24027777777777773,0.19226666666666667,0.1793222222222222,0.13855555555555554,0.09778888888888888,0.044955555555555554,-0.022177777777777772,-0.06416666666666666,0.004166666666666652,0.1618111111111111,0.26916666666666667,0.2008333333333333,0.08784444444444443,0.032888888888888884,0.06577777777777777,0.14108888888888887,0.14637777777777775,0.15166666666666664,0.07211111111111108,-0.029611111111111116,-0.1642222222222222,-0.2564111111111111,-0.19074444444444447,-0.05929999999999999,0.07214444444444444,0.05861111111111111,0.012188888888888888,-0.03423333333333333,-0.11366666666666665,-0.19309999999999997,-0.2371777777777778,-0.16585555555555553,-0.08595555555555555,-0.07676666666666669,-0.04866666666666667,-0.054733333333333335,-0.025444444444444447,0.0038444444444444372,0.07573333333333333,0.14762222222222224,0.13993333333333333,0.18466666666666667,0.20537777777777774,0.25096666666666667,0.15768888888888888,0.15913333333333332,0.09715555555555555,0.10461111111111111,0.032466666666666665,0.056455555555555564,0.08044444444444446,0.10591111111111111,0.09848888888888889,0.09106666666666667,0.060711111111111105,0.0,-0.060711111111111105,-0.08248888888888889,0.025877777777777777,0.15672222222222223,0.2968777777777778,0.26781111111111106,0.19378888888888887,0.07541111111111111,0.026466666666666666,0.04683333333333333,0.09366666666666666,0.14049999999999999,0.09366666666666666,0.04683333333333333,0.05673333333333334,0.13594444444444445,0.2267666666666667,0.20412222222222223,0.13652222222222224,0.0457,0.04938888888888889,0.14065555555555556,0.2435333333333333,0.27085555555555557,0.13262222222222222,-0.0025444444444444464,-0.1375333333333333,-0.1367111111111111,-0.1645,-0.11708888888888887,-0.09645555555555556,0.04296666666666666,0.14478888888888888,0.22945555555555555,0.17258888888888888,0.06888888888888887,-0.02623333333333332,-0.09554444444444443,-0.03105555555555554,0.02202222222222223,0.09757777777777778,0.07117777777777777,0.0676,0.06402222222222222,0.006744444444444442,-0.08442222222222222,-0.1755888888888889,-0.1923,-0.16405555555555554,-0.13581111111111113,-0.10147777777777778,-0.08962222222222223,-0.03093333333333334,0.08865555555555554,0.20824444444444445,0.23416666666666663,0.1784111111111111,0.12265555555555556,0.13887777777777777,0.1261111111111111,0.11334444444444443,0.08317777777777777,0.08234444444444443,0.13447777777777778,0.14597777777777776,0.17463333333333333,0.09735555555555554,0.13278888888888887,0.2023222222222222,0.3445888888888889,0.2977888888888889,0.16563333333333333,0.019088888888888888,0.06014444444444444,0.17923333333333333,0.2678,0.25943333333333335,0.23708888888888888,0.2398888888888889,0.2710444444444445,0.2240888888888889,0.17713333333333336,0.08026666666666667,0.08906666666666667,0.09786666666666666,0.19573333333333331,0.19573333333333331,0.19573333333333331,0.15638888888888888,0.2106333333333333,0.26487777777777777,0.32307777777777774,0.35048888888888885,0.37789999999999996,null,null],\"type\":\"bar\"},{\"name\":\"Mean Sentiment\",\"x\":[0,1,2,3,4,5,6,7,8,9,10,11,12,13,14,15,16,17,18,19,20,21,22,23,24,25,26,27,28,29,30,31,32,33,34,35,36,37,38,39,40,41,42,43,44,45,46,47,48,49,50,51,52,53,54,55,56,57,58,59,60,61,62,63,64,65,66,67,68,69,70,71,72,73,74,75,76,77,78,79,80,81,82,83,84,85,86,87,88,89,90,91,92,93,94,95,96,97,98,99,100,101,102,103,104,105,106,107,108,109,110,111,112,113,114,115,116,117,118,119,120,121,122,123,124,125,126,127,128,129,130,131,132,133,134,135,136,137,138,139,140,141,142,143,144,145,146,147,148,149,150,151,152,153,154,155,156,157,158,159,160,161,162,163,164,165,166,167,168,169,170,171,172,173,174,175,176,177,178,179,180,181,182,183,184,185,186,187,188,189,190,191,192,193,194,195,196,197,198,199,200,201,202,203,204,205,206,207,208,209,210,211,212,213,214,215,216,217,218,219,220,221,222,223,224,225,226,227,228,229,230,231,232,233,234,235,236,237,238,239,240,241,242,243,244,245,246,247,248,249,250,251,252,253,254,255,256,257,258,259,260,261,262,263,264,265,266,267,268,269,270,271,272,273,274,275,276,277,278,279,280,281,282,283,284,285,286,287,288,289,290,291,292,293,294,295,296,297,298,299,300,301,302,303,304,305,306,307,308,309,310,311,312,313,314,315,316,317,318,319,320,321,322,323,324,325,326,327,328,329,330,331,332,333,334,335,336,337,338,339,340,341,342,343,344,345,346,347,348,349,350,351,352,353,354,355,356,357,358,359,360,361,362,363,364,365,366,367,368,369,370,371,372,373,374,375,376,377,378,379,380,381,382,383,384,385,386,387,388,389,390,391,392,393,394,395,396,397,398,399,400,401,402,403,404,405,406,407,408,409,410,411,412,413,414,415,416,417,418,419,420,421,422,423,424,425,426,427,428,429,430,431,432,433,434,435,436,437,438,439,440,441,442,443,444,445,446,447,448,449,450,451,452,453,454,455,456,457,458,459,460,461,462,463,464,465,466,467,468,469,470,471,472,473,474,475,476,477,478,479,480,481,482,483,484,485,486,487,488,489,490,491,492,493,494,495,496,497,498,499,500,501,502,503,504,505],\"y\":[0.133379614873838,0.133379614873838,0.133379614873838,0.133379614873838,0.133379614873838,0.133379614873838,0.133379614873838,0.133379614873838,0.133379614873838,0.133379614873838,0.133379614873838,0.133379614873838,0.133379614873838,0.133379614873838,0.133379614873838,0.133379614873838,0.133379614873838,0.133379614873838,0.133379614873838,0.133379614873838,0.133379614873838,0.133379614873838,0.133379614873838,0.133379614873838,0.133379614873838,0.133379614873838,0.133379614873838,0.133379614873838,0.133379614873838,0.133379614873838,0.133379614873838,0.133379614873838,0.133379614873838,0.133379614873838,0.133379614873838,0.133379614873838,0.133379614873838,0.133379614873838,0.133379614873838,0.133379614873838,0.133379614873838,0.133379614873838,0.133379614873838,0.133379614873838,0.133379614873838,0.133379614873838,0.133379614873838,0.133379614873838,0.133379614873838,0.133379614873838,0.133379614873838,0.133379614873838,0.133379614873838,0.133379614873838,0.133379614873838,0.133379614873838,0.133379614873838,0.133379614873838,0.133379614873838,0.133379614873838,0.133379614873838,0.133379614873838,0.133379614873838,0.133379614873838,0.133379614873838,0.133379614873838,0.133379614873838,0.133379614873838,0.133379614873838,0.133379614873838,0.133379614873838,0.133379614873838,0.133379614873838,0.133379614873838,0.133379614873838,0.133379614873838,0.133379614873838,0.133379614873838,0.133379614873838,0.133379614873838,0.133379614873838,0.133379614873838,0.133379614873838,0.133379614873838,0.133379614873838,0.133379614873838,0.133379614873838,0.133379614873838,0.133379614873838,0.133379614873838,0.133379614873838,0.133379614873838,0.133379614873838,0.133379614873838,0.133379614873838,0.133379614873838,0.133379614873838,0.133379614873838,0.133379614873838,0.133379614873838,0.133379614873838,0.133379614873838,0.133379614873838,0.133379614873838,0.133379614873838,0.133379614873838,0.133379614873838,0.133379614873838,0.133379614873838,0.133379614873838,0.133379614873838,0.133379614873838,0.133379614873838,0.133379614873838,0.133379614873838,0.133379614873838,0.133379614873838,0.133379614873838,0.133379614873838,0.133379614873838,0.133379614873838,0.133379614873838,0.133379614873838,0.133379614873838,0.133379614873838,0.133379614873838,0.133379614873838,0.133379614873838,0.133379614873838,0.133379614873838,0.133379614873838,0.133379614873838,0.133379614873838,0.133379614873838,0.133379614873838,0.133379614873838,0.133379614873838,0.133379614873838,0.133379614873838,0.133379614873838,0.133379614873838,0.133379614873838,0.133379614873838,0.133379614873838,0.133379614873838,0.133379614873838,0.133379614873838,0.133379614873838,0.133379614873838,0.133379614873838,0.133379614873838,0.133379614873838,0.133379614873838,0.133379614873838,0.133379614873838,0.133379614873838,0.133379614873838,0.133379614873838,0.133379614873838,0.133379614873838,0.133379614873838,0.133379614873838,0.133379614873838,0.133379614873838,0.133379614873838,0.133379614873838,0.133379614873838,0.133379614873838,0.133379614873838,0.133379614873838,0.133379614873838,0.133379614873838,0.133379614873838,0.133379614873838,0.133379614873838,0.133379614873838,0.133379614873838,0.133379614873838,0.133379614873838,0.133379614873838,0.133379614873838,0.133379614873838,0.133379614873838,0.133379614873838,0.133379614873838,0.133379614873838,0.133379614873838,0.133379614873838,0.133379614873838,0.133379614873838,0.133379614873838,0.133379614873838,0.133379614873838,0.133379614873838,0.133379614873838,0.133379614873838,0.133379614873838,0.133379614873838,0.133379614873838,0.133379614873838,0.133379614873838,0.133379614873838,0.133379614873838,0.133379614873838,0.133379614873838,0.133379614873838,0.133379614873838,0.133379614873838,0.133379614873838,0.133379614873838,0.133379614873838,0.133379614873838,0.133379614873838,0.133379614873838,0.133379614873838,0.133379614873838,0.133379614873838,0.133379614873838,0.133379614873838,0.133379614873838,0.133379614873838,0.133379614873838,0.133379614873838,0.133379614873838,0.133379614873838,0.133379614873838,0.133379614873838,0.133379614873838,0.133379614873838,0.133379614873838,0.133379614873838,0.133379614873838,0.133379614873838,0.133379614873838,0.133379614873838,0.133379614873838,0.133379614873838,0.133379614873838,0.133379614873838,0.133379614873838,0.133379614873838,0.133379614873838,0.133379614873838,0.133379614873838,0.133379614873838,0.133379614873838,0.133379614873838,0.133379614873838,0.133379614873838,0.133379614873838,0.133379614873838,0.133379614873838,0.133379614873838,0.133379614873838,0.133379614873838,0.133379614873838,0.133379614873838,0.133379614873838,0.133379614873838,0.133379614873838,0.133379614873838,0.133379614873838,0.133379614873838,0.133379614873838,0.133379614873838,0.133379614873838,0.133379614873838,0.133379614873838,0.133379614873838,0.133379614873838,0.133379614873838,0.133379614873838,0.133379614873838,0.133379614873838,0.133379614873838,0.133379614873838,0.133379614873838,0.133379614873838,0.133379614873838,0.133379614873838,0.133379614873838,0.133379614873838,0.133379614873838,0.133379614873838,0.133379614873838,0.133379614873838,0.133379614873838,0.133379614873838,0.133379614873838,0.133379614873838,0.133379614873838,0.133379614873838,0.133379614873838,0.133379614873838,0.133379614873838,0.133379614873838,0.133379614873838,0.133379614873838,0.133379614873838,0.133379614873838,0.133379614873838,0.133379614873838,0.133379614873838,0.133379614873838,0.133379614873838,0.133379614873838,0.133379614873838,0.133379614873838,0.133379614873838,0.133379614873838,0.133379614873838,0.133379614873838,0.133379614873838,0.133379614873838,0.133379614873838,0.133379614873838,0.133379614873838,0.133379614873838,0.133379614873838,0.133379614873838,0.133379614873838,0.133379614873838,0.133379614873838,0.133379614873838,0.133379614873838,0.133379614873838,0.133379614873838,0.133379614873838,0.133379614873838,0.133379614873838,0.133379614873838,0.133379614873838,0.133379614873838,0.133379614873838,0.133379614873838,0.133379614873838,0.133379614873838,0.133379614873838,0.133379614873838,0.133379614873838,0.133379614873838,0.133379614873838,0.133379614873838,0.133379614873838,0.133379614873838,0.133379614873838,0.133379614873838,0.133379614873838,0.133379614873838,0.133379614873838,0.133379614873838,0.133379614873838,0.133379614873838,0.133379614873838,0.133379614873838,0.133379614873838,0.133379614873838,0.133379614873838,0.133379614873838,0.133379614873838,0.133379614873838,0.133379614873838,0.133379614873838,0.133379614873838,0.133379614873838,0.133379614873838,0.133379614873838,0.133379614873838,0.133379614873838,0.133379614873838,0.133379614873838,0.133379614873838,0.133379614873838,0.133379614873838,0.133379614873838,0.133379614873838,0.133379614873838,0.133379614873838,0.133379614873838,0.133379614873838,0.133379614873838,0.133379614873838,0.133379614873838,0.133379614873838,0.133379614873838,0.133379614873838,0.133379614873838,0.133379614873838,0.133379614873838,0.133379614873838,0.133379614873838,0.133379614873838,0.133379614873838,0.133379614873838,0.133379614873838,0.133379614873838,0.133379614873838,0.133379614873838,0.133379614873838,0.133379614873838,0.133379614873838,0.133379614873838,0.133379614873838,0.133379614873838,0.133379614873838,0.133379614873838,0.133379614873838,0.133379614873838,0.133379614873838,0.133379614873838,0.133379614873838,0.133379614873838,0.133379614873838,0.133379614873838,0.133379614873838,0.133379614873838,0.133379614873838,0.133379614873838,0.133379614873838,0.133379614873838,0.133379614873838,0.133379614873838,0.133379614873838,0.133379614873838,0.133379614873838,0.133379614873838,0.133379614873838,0.133379614873838,0.133379614873838,0.133379614873838,0.133379614873838,0.133379614873838,0.133379614873838,0.133379614873838,0.133379614873838,0.133379614873838,0.133379614873838,0.133379614873838,0.133379614873838,0.133379614873838,0.133379614873838,0.133379614873838,0.133379614873838,0.133379614873838,0.133379614873838,0.133379614873838,0.133379614873838,0.133379614873838,0.133379614873838,0.133379614873838,0.133379614873838,0.133379614873838,0.133379614873838,0.133379614873838,0.133379614873838,0.133379614873838,0.133379614873838,0.133379614873838,0.133379614873838,0.133379614873838,0.133379614873838,0.133379614873838,0.133379614873838,0.133379614873838,0.133379614873838,0.133379614873838,0.133379614873838,0.133379614873838,0.133379614873838,0.133379614873838,0.133379614873838,0.133379614873838,0.133379614873838,0.133379614873838,0.133379614873838,0.133379614873838,0.133379614873838,0.133379614873838,0.133379614873838,0.133379614873838,0.133379614873838,0.133379614873838,0.133379614873838,0.133379614873838,0.133379614873838,0.133379614873838,0.133379614873838,0.133379614873838,0.133379614873838,0.133379614873838,0.133379614873838,0.133379614873838,0.133379614873838,0.133379614873838,0.133379614873838,0.133379614873838,0.133379614873838,0.133379614873838,0.133379614873838,0.133379614873838,0.133379614873838,0.133379614873838,0.133379614873838,0.133379614873838,0.133379614873838,0.133379614873838],\"type\":\"scatter\"}],                        {\"template\":{\"data\":{\"bar\":[{\"error_x\":{\"color\":\"#2a3f5f\"},\"error_y\":{\"color\":\"#2a3f5f\"},\"marker\":{\"line\":{\"color\":\"#E5ECF6\",\"width\":0.5},\"pattern\":{\"fillmode\":\"overlay\",\"size\":10,\"solidity\":0.2}},\"type\":\"bar\"}],\"barpolar\":[{\"marker\":{\"line\":{\"color\":\"#E5ECF6\",\"width\":0.5},\"pattern\":{\"fillmode\":\"overlay\",\"size\":10,\"solidity\":0.2}},\"type\":\"barpolar\"}],\"carpet\":[{\"aaxis\":{\"endlinecolor\":\"#2a3f5f\",\"gridcolor\":\"white\",\"linecolor\":\"white\",\"minorgridcolor\":\"white\",\"startlinecolor\":\"#2a3f5f\"},\"baxis\":{\"endlinecolor\":\"#2a3f5f\",\"gridcolor\":\"white\",\"linecolor\":\"white\",\"minorgridcolor\":\"white\",\"startlinecolor\":\"#2a3f5f\"},\"type\":\"carpet\"}],\"choropleth\":[{\"colorbar\":{\"outlinewidth\":0,\"ticks\":\"\"},\"type\":\"choropleth\"}],\"contour\":[{\"colorbar\":{\"outlinewidth\":0,\"ticks\":\"\"},\"colorscale\":[[0.0,\"#0d0887\"],[0.1111111111111111,\"#46039f\"],[0.2222222222222222,\"#7201a8\"],[0.3333333333333333,\"#9c179e\"],[0.4444444444444444,\"#bd3786\"],[0.5555555555555556,\"#d8576b\"],[0.6666666666666666,\"#ed7953\"],[0.7777777777777778,\"#fb9f3a\"],[0.8888888888888888,\"#fdca26\"],[1.0,\"#f0f921\"]],\"type\":\"contour\"}],\"contourcarpet\":[{\"colorbar\":{\"outlinewidth\":0,\"ticks\":\"\"},\"type\":\"contourcarpet\"}],\"heatmap\":[{\"colorbar\":{\"outlinewidth\":0,\"ticks\":\"\"},\"colorscale\":[[0.0,\"#0d0887\"],[0.1111111111111111,\"#46039f\"],[0.2222222222222222,\"#7201a8\"],[0.3333333333333333,\"#9c179e\"],[0.4444444444444444,\"#bd3786\"],[0.5555555555555556,\"#d8576b\"],[0.6666666666666666,\"#ed7953\"],[0.7777777777777778,\"#fb9f3a\"],[0.8888888888888888,\"#fdca26\"],[1.0,\"#f0f921\"]],\"type\":\"heatmap\"}],\"heatmapgl\":[{\"colorbar\":{\"outlinewidth\":0,\"ticks\":\"\"},\"colorscale\":[[0.0,\"#0d0887\"],[0.1111111111111111,\"#46039f\"],[0.2222222222222222,\"#7201a8\"],[0.3333333333333333,\"#9c179e\"],[0.4444444444444444,\"#bd3786\"],[0.5555555555555556,\"#d8576b\"],[0.6666666666666666,\"#ed7953\"],[0.7777777777777778,\"#fb9f3a\"],[0.8888888888888888,\"#fdca26\"],[1.0,\"#f0f921\"]],\"type\":\"heatmapgl\"}],\"histogram\":[{\"marker\":{\"pattern\":{\"fillmode\":\"overlay\",\"size\":10,\"solidity\":0.2}},\"type\":\"histogram\"}],\"histogram2d\":[{\"colorbar\":{\"outlinewidth\":0,\"ticks\":\"\"},\"colorscale\":[[0.0,\"#0d0887\"],[0.1111111111111111,\"#46039f\"],[0.2222222222222222,\"#7201a8\"],[0.3333333333333333,\"#9c179e\"],[0.4444444444444444,\"#bd3786\"],[0.5555555555555556,\"#d8576b\"],[0.6666666666666666,\"#ed7953\"],[0.7777777777777778,\"#fb9f3a\"],[0.8888888888888888,\"#fdca26\"],[1.0,\"#f0f921\"]],\"type\":\"histogram2d\"}],\"histogram2dcontour\":[{\"colorbar\":{\"outlinewidth\":0,\"ticks\":\"\"},\"colorscale\":[[0.0,\"#0d0887\"],[0.1111111111111111,\"#46039f\"],[0.2222222222222222,\"#7201a8\"],[0.3333333333333333,\"#9c179e\"],[0.4444444444444444,\"#bd3786\"],[0.5555555555555556,\"#d8576b\"],[0.6666666666666666,\"#ed7953\"],[0.7777777777777778,\"#fb9f3a\"],[0.8888888888888888,\"#fdca26\"],[1.0,\"#f0f921\"]],\"type\":\"histogram2dcontour\"}],\"mesh3d\":[{\"colorbar\":{\"outlinewidth\":0,\"ticks\":\"\"},\"type\":\"mesh3d\"}],\"parcoords\":[{\"line\":{\"colorbar\":{\"outlinewidth\":0,\"ticks\":\"\"}},\"type\":\"parcoords\"}],\"pie\":[{\"automargin\":true,\"type\":\"pie\"}],\"scatter\":[{\"marker\":{\"colorbar\":{\"outlinewidth\":0,\"ticks\":\"\"}},\"type\":\"scatter\"}],\"scatter3d\":[{\"line\":{\"colorbar\":{\"outlinewidth\":0,\"ticks\":\"\"}},\"marker\":{\"colorbar\":{\"outlinewidth\":0,\"ticks\":\"\"}},\"type\":\"scatter3d\"}],\"scattercarpet\":[{\"marker\":{\"colorbar\":{\"outlinewidth\":0,\"ticks\":\"\"}},\"type\":\"scattercarpet\"}],\"scattergeo\":[{\"marker\":{\"colorbar\":{\"outlinewidth\":0,\"ticks\":\"\"}},\"type\":\"scattergeo\"}],\"scattergl\":[{\"marker\":{\"colorbar\":{\"outlinewidth\":0,\"ticks\":\"\"}},\"type\":\"scattergl\"}],\"scattermapbox\":[{\"marker\":{\"colorbar\":{\"outlinewidth\":0,\"ticks\":\"\"}},\"type\":\"scattermapbox\"}],\"scatterpolar\":[{\"marker\":{\"colorbar\":{\"outlinewidth\":0,\"ticks\":\"\"}},\"type\":\"scatterpolar\"}],\"scatterpolargl\":[{\"marker\":{\"colorbar\":{\"outlinewidth\":0,\"ticks\":\"\"}},\"type\":\"scatterpolargl\"}],\"scatterternary\":[{\"marker\":{\"colorbar\":{\"outlinewidth\":0,\"ticks\":\"\"}},\"type\":\"scatterternary\"}],\"surface\":[{\"colorbar\":{\"outlinewidth\":0,\"ticks\":\"\"},\"colorscale\":[[0.0,\"#0d0887\"],[0.1111111111111111,\"#46039f\"],[0.2222222222222222,\"#7201a8\"],[0.3333333333333333,\"#9c179e\"],[0.4444444444444444,\"#bd3786\"],[0.5555555555555556,\"#d8576b\"],[0.6666666666666666,\"#ed7953\"],[0.7777777777777778,\"#fb9f3a\"],[0.8888888888888888,\"#fdca26\"],[1.0,\"#f0f921\"]],\"type\":\"surface\"}],\"table\":[{\"cells\":{\"fill\":{\"color\":\"#EBF0F8\"},\"line\":{\"color\":\"white\"}},\"header\":{\"fill\":{\"color\":\"#C8D4E3\"},\"line\":{\"color\":\"white\"}},\"type\":\"table\"}]},\"layout\":{\"annotationdefaults\":{\"arrowcolor\":\"#2a3f5f\",\"arrowhead\":0,\"arrowwidth\":1},\"autotypenumbers\":\"strict\",\"coloraxis\":{\"colorbar\":{\"outlinewidth\":0,\"ticks\":\"\"}},\"colorscale\":{\"diverging\":[[0,\"#8e0152\"],[0.1,\"#c51b7d\"],[0.2,\"#de77ae\"],[0.3,\"#f1b6da\"],[0.4,\"#fde0ef\"],[0.5,\"#f7f7f7\"],[0.6,\"#e6f5d0\"],[0.7,\"#b8e186\"],[0.8,\"#7fbc41\"],[0.9,\"#4d9221\"],[1,\"#276419\"]],\"sequential\":[[0.0,\"#0d0887\"],[0.1111111111111111,\"#46039f\"],[0.2222222222222222,\"#7201a8\"],[0.3333333333333333,\"#9c179e\"],[0.4444444444444444,\"#bd3786\"],[0.5555555555555556,\"#d8576b\"],[0.6666666666666666,\"#ed7953\"],[0.7777777777777778,\"#fb9f3a\"],[0.8888888888888888,\"#fdca26\"],[1.0,\"#f0f921\"]],\"sequentialminus\":[[0.0,\"#0d0887\"],[0.1111111111111111,\"#46039f\"],[0.2222222222222222,\"#7201a8\"],[0.3333333333333333,\"#9c179e\"],[0.4444444444444444,\"#bd3786\"],[0.5555555555555556,\"#d8576b\"],[0.6666666666666666,\"#ed7953\"],[0.7777777777777778,\"#fb9f3a\"],[0.8888888888888888,\"#fdca26\"],[1.0,\"#f0f921\"]]},\"colorway\":[\"#636efa\",\"#EF553B\",\"#00cc96\",\"#ab63fa\",\"#FFA15A\",\"#19d3f3\",\"#FF6692\",\"#B6E880\",\"#FF97FF\",\"#FECB52\"],\"font\":{\"color\":\"#2a3f5f\"},\"geo\":{\"bgcolor\":\"white\",\"lakecolor\":\"white\",\"landcolor\":\"#E5ECF6\",\"showlakes\":true,\"showland\":true,\"subunitcolor\":\"white\"},\"hoverlabel\":{\"align\":\"left\"},\"hovermode\":\"closest\",\"mapbox\":{\"style\":\"light\"},\"paper_bgcolor\":\"white\",\"plot_bgcolor\":\"#E5ECF6\",\"polar\":{\"angularaxis\":{\"gridcolor\":\"white\",\"linecolor\":\"white\",\"ticks\":\"\"},\"bgcolor\":\"#E5ECF6\",\"radialaxis\":{\"gridcolor\":\"white\",\"linecolor\":\"white\",\"ticks\":\"\"}},\"scene\":{\"xaxis\":{\"backgroundcolor\":\"#E5ECF6\",\"gridcolor\":\"white\",\"gridwidth\":2,\"linecolor\":\"white\",\"showbackground\":true,\"ticks\":\"\",\"zerolinecolor\":\"white\"},\"yaxis\":{\"backgroundcolor\":\"#E5ECF6\",\"gridcolor\":\"white\",\"gridwidth\":2,\"linecolor\":\"white\",\"showbackground\":true,\"ticks\":\"\",\"zerolinecolor\":\"white\"},\"zaxis\":{\"backgroundcolor\":\"#E5ECF6\",\"gridcolor\":\"white\",\"gridwidth\":2,\"linecolor\":\"white\",\"showbackground\":true,\"ticks\":\"\",\"zerolinecolor\":\"white\"}},\"shapedefaults\":{\"line\":{\"color\":\"#2a3f5f\"}},\"ternary\":{\"aaxis\":{\"gridcolor\":\"white\",\"linecolor\":\"white\",\"ticks\":\"\"},\"baxis\":{\"gridcolor\":\"white\",\"linecolor\":\"white\",\"ticks\":\"\"},\"bgcolor\":\"#E5ECF6\",\"caxis\":{\"gridcolor\":\"white\",\"linecolor\":\"white\",\"ticks\":\"\"}},\"title\":{\"x\":0.05},\"xaxis\":{\"automargin\":true,\"gridcolor\":\"white\",\"linecolor\":\"white\",\"ticks\":\"\",\"title\":{\"standoff\":15},\"zerolinecolor\":\"white\",\"zerolinewidth\":2},\"yaxis\":{\"automargin\":true,\"gridcolor\":\"white\",\"linecolor\":\"white\",\"ticks\":\"\",\"title\":{\"standoff\":15},\"zerolinecolor\":\"white\",\"zerolinewidth\":2}}},\"title\":{\"text\":\"Sentiment Of /content/FOMC_Press_Conference_Call_March_15_2020-qhspIpGMaX4.\"},\"yaxis\":{\"title\":{\"text\":\"Sentiment\"}},\"xaxis\":{\"title\":{\"text\":\"Paragraph\"}}},                        {\"responsive\": true}                    ).then(function(){\n",
              "                            \n",
              "var gd = document.getElementById('fa80ce03-0754-4c7c-97c7-c149c720641d');\n",
              "var x = new MutationObserver(function (mutations, observer) {{\n",
              "        var display = window.getComputedStyle(gd).display;\n",
              "        if (!display || display === 'none') {{\n",
              "            console.log([gd, 'removed!']);\n",
              "            Plotly.purge(gd);\n",
              "            observer.disconnect();\n",
              "        }}\n",
              "}});\n",
              "\n",
              "// Listen for the removal of the full notebook cells\n",
              "var notebookContainer = gd.closest('#notebook-container');\n",
              "if (notebookContainer) {{\n",
              "    x.observe(notebookContainer, {childList: true});\n",
              "}}\n",
              "\n",
              "// Listen for the clearing of the current output cell\n",
              "var outputEl = gd.closest('.output');\n",
              "if (outputEl) {{\n",
              "    x.observe(outputEl, {childList: true});\n",
              "}}\n",
              "\n",
              "                        })                };                            </script>        </div>\n",
              "</body>\n",
              "</html>"
            ]
          },
          "metadata": {}
        }
      ]
    }
  ]
}